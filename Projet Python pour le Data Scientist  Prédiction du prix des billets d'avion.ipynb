{
 "cells": [
  {
   "cell_type": "code",
   "execution_count": 194,
   "metadata": {},
   "outputs": [
    {
     "name": "stdout",
     "output_type": "stream",
     "text": [
      "Requirement already satisfied: selenium in c:\\programdata\\anaconda3\\lib\\site-packages (3.141.0)\n",
      "Requirement already satisfied: urllib3 in c:\\programdata\\anaconda3\\lib\\site-packages (from selenium) (1.25.9)\n",
      "Requirement already satisfied: webdriver-manager in c:\\programdata\\anaconda3\\lib\\site-packages (3.5.2)\n",
      "Requirement already satisfied: configparser in c:\\programdata\\anaconda3\\lib\\site-packages (from webdriver-manager) (5.2.0)\n",
      "Requirement already satisfied: crayons in c:\\programdata\\anaconda3\\lib\\site-packages (from webdriver-manager) (0.4.0)\n",
      "Requirement already satisfied: requests in c:\\programdata\\anaconda3\\lib\\site-packages (from webdriver-manager) (2.24.0)\n",
      "Requirement already satisfied: colorama in c:\\programdata\\anaconda3\\lib\\site-packages (from crayons->webdriver-manager) (0.4.3)\n",
      "Requirement already satisfied: chardet<4,>=3.0.2 in c:\\programdata\\anaconda3\\lib\\site-packages (from requests->webdriver-manager) (3.0.4)\n",
      "Requirement already satisfied: urllib3!=1.25.0,!=1.25.1,<1.26,>=1.21.1 in c:\\programdata\\anaconda3\\lib\\site-packages (from requests->webdriver-manager) (1.25.9)\n",
      "Requirement already satisfied: certifi>=2017.4.17 in c:\\programdata\\anaconda3\\lib\\site-packages (from requests->webdriver-manager) (2020.6.20)\n",
      "Requirement already satisfied: idna<3,>=2.5 in c:\\programdata\\anaconda3\\lib\\site-packages (from requests->webdriver-manager) (2.10)\n"
     ]
    }
   ],
   "source": [
    "!pip install selenium\n",
    "!pip install webdriver-manager\n",
    "\n",
    "from time import sleep\n",
    "import pandas as pd\n",
    "from selenium import webdriver\n",
    "from selenium.webdriver.common.keys import Keys\n",
    "from bs4 import BeautifulSoup\n",
    "import re\n",
    "import numpy as np\n",
    "from tqdm import tqdm\n",
    "import datetime\n"
   ]
  },
  {
   "cell_type": "code",
   "execution_count": 195,
   "metadata": {},
   "outputs": [],
   "source": [
    "#chromedriver_path = \"C:/Users/elisa/Projet Python/chromedriver_win32/chromedriver.exe\"\n",
    "chromedriver_path = 'C:/Users/José/Documents/ENSAE Paris/2A/Python Pour le Data Scientist/chromedriver_win32/chromedriver.exe'"
   ]
  },
  {
   "cell_type": "code",
   "execution_count": 196,
   "metadata": {},
   "outputs": [],
   "source": [
    "driver = webdriver.Chrome(chromedriver_path)\n"
   ]
  },
  {
   "cell_type": "code",
   "execution_count": 163,
   "metadata": {},
   "outputs": [],
   "source": [
    "#depart = [\"PAR\", \"PAR\"]\n",
    "#destination = [\"SVO\",\"ATH\"]\n",
    "#date_aller = [\"2021-12-27\"]\n",
    "#date_retour = [\"2022-01-03\"]"
   ]
  },
  {
   "cell_type": "code",
   "execution_count": 197,
   "metadata": {},
   "outputs": [],
   "source": [
    "def get_airlines(soup):\n",
    "    airline = []\n",
    "    airlines = soup.find_all('span',class_='codeshares-airline-names',text=True)\n",
    "    for i in airlines:\n",
    "        airline.append(i.text)\n",
    "    return airline\n",
    "    \n",
    "def get_total_stops(soup):\n",
    "    stops_list = []\n",
    "    stops = soup.find_all('div',class_='section stops')\n",
    "\n",
    "    for i in stops:\n",
    "        for j in i.find_all('span',class_='stops-text'):\n",
    "               stops_list.append(j.text)\n",
    "    return stops_list\n",
    "\n",
    "def get_price(soup):\n",
    "    prices = []\n",
    "    price = soup.find_all('div',class_='Flights-Results-FlightPriceSection right-alignment sleek')\n",
    "\n",
    "    for i in price:\n",
    "        for j in i.find_all('span', class_='price-text'):\n",
    "            prices.append(j.text)\n",
    "    return prices\n",
    "\n",
    "def get_duration(soup):\n",
    "    duration_list = []\n",
    "    duration = soup.find_all('div' , class_='section duration allow-multi-modal-icons')\n",
    "    for i in duration:\n",
    "        for j in i.find_all('div',class_='top'):\n",
    "            duration_list.append(j.text)\n",
    "    return duration_list"
   ]
  },
  {
   "cell_type": "code",
   "execution_count": 198,
   "metadata": {},
   "outputs": [],
   "source": [
    "def remanier(compagnie):\n",
    "    liste = []\n",
    "    for i in range(len(compagnie)):\n",
    "        if  ',' in compagnie[i] : \n",
    "            j= 0\n",
    "            while compagnie[i][j]!=',' :\n",
    "                j+=1\n",
    "            liste.append(compagnie[i][:j])\n",
    "            liste.append(compagnie[i][j+1:])\n",
    "        else :\n",
    "            liste.append(compagnie[i])\n",
    "            liste.append(compagnie[i])\n",
    "    return liste"
   ]
  },
  {
   "cell_type": "code",
   "execution_count": 199,
   "metadata": {},
   "outputs": [],
   "source": [
    "def remanier_2(prix):\n",
    "    liste = []\n",
    "    for i in range(len(prix)):\n",
    "        liste.append(prix[i])\n",
    "        liste.append(prix[i])\n",
    "    return liste"
   ]
  },
  {
   "cell_type": "code",
   "execution_count": 200,
   "metadata": {},
   "outputs": [],
   "source": [
    "depart = [\"PAR\"]\n",
    "Destinations = [\"MAD\", \"SVO\", \"ATH\", \"OSL\", \"LON\"]\n",
    "date_aller = [\"04/01/2022\"]\n",
    "date_retour = [\"04/08/2022\"]\n",
    "date_a = pd.to_datetime(date_aller)\n",
    "date_r = pd.to_datetime(date_retour)\n",
    "result = pd.DataFrame([])\n",
    "\n",
    "for k in range(26): \n",
    "    new_date_a = date_a + datetime.timedelta(days = 7*k)\n",
    "    new_date_r = date_r + datetime.timedelta(days = 7*k)\n",
    "    date_time_a = new_date_a.astype(str)\n",
    "    date_time_r = new_date_r.astype(str)\n",
    "    destination = [\"SVO\"]\n",
    "    date_aller = [date_time_a]        \n",
    "    date_retour = [date_time_r]\n",
    "    url = f\"https://www.kayak.fr/flights/{depart[0]}-{destination[0]}/{date_aller[0]}/{date_retour[0]}\"\n",
    "    driver.get(url)\n",
    "    try:\n",
    "        show_more_button = driver.find_element_by_xpath('//a[@class = \"moreButton\"]')\n",
    "    except:\n",
    "        input(\"Please solve the captcha then enter anything here to resume scraping.\")      \n",
    "    soup = BeautifulSoup(driver.page_source, 'html.parser')\n",
    "    compagnie = remanier(get_airlines(soup))\n",
    "    total_escales = get_total_stops(soup)\n",
    "    prix = remanier_2(get_price(soup))\n",
    "    duree = get_duration(soup)\n",
    "    df = pd.DataFrame({'Compagnie':compagnie, \"Total d'escales\":total_escales , 'Prix': prix, 'Duree': duree}, \n",
    "        columns = ['Compagnie', \"Total d'escales\", 'Prix', 'Duree'])\n",
    "    df[\"Destination\"] = \"Moscou\"\n",
    "    df[\"Distance\"] = 2486,34\n",
    "    df[\"Date_aller\"] = 20220401\n",
    "    df[\"Date_retour\"] = 20220408\n",
    "    df[\"Date_aller\"] = pd.to_datetime(df[\"Date_aller\"], format = '%Y%m%d') + datetime.timedelta(days = 7*k)\n",
    "    df[\"Date_retour\"] = pd.to_datetime(df[\"Date_retour\"], format = '%Y%m%d') + datetime.timedelta(days = 7*k)\n",
    "    result = pd.concat([result, df], axis = 0)"
   ]
  },
  {
   "cell_type": "code",
   "execution_count": null,
   "metadata": {},
   "outputs": [],
   "source": [
    "df['distance_entre_villes'] = df.append({\"df['destination']=='LON'\" : '342,76km' ,\"df['destination']=='MAD'\" : '1054km', \"df['destination']=='OSL'\" : '1344km', \"df['destination']=='SVO'\" : '2486,34km', \"df['destination']=='ATH'\" : '2095,52km' } , ignore_index=True)\n"
   ]
  },
  {
   "cell_type": "code",
   "execution_count": null,
   "metadata": {},
   "outputs": [],
   "source": [
    "#result.to_csv('moscou.csv', index = False) \n",
    "result.head(50)"
   ]
  },
  {
   "cell_type": "code",
   "execution_count": 117,
   "metadata": {},
   "outputs": [
    {
     "name": "stdout",
     "output_type": "stream",
     "text": [
      "<class 'pandas._libs.tslibs.timestamps.Timestamp'>\n"
     ]
    }
   ],
   "source": [
    "def escale(base):\n",
    "    \n",
    "\n"
   ]
  }
 ],
 "metadata": {
  "kernelspec": {
   "display_name": "Python 3",
   "language": "python",
   "name": "python3"
  },
  "language_info": {
   "codemirror_mode": {
    "name": "ipython",
    "version": 3
   },
   "file_extension": ".py",
   "mimetype": "text/x-python",
   "name": "python",
   "nbconvert_exporter": "python",
   "pygments_lexer": "ipython3",
   "version": "3.8.3"
  }
 },
 "nbformat": 4,
 "nbformat_minor": 4
}
