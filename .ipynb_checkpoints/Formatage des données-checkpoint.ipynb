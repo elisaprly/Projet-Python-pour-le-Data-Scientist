{
 "cells": [
  {
   "cell_type": "code",
   "execution_count": 1,
   "id": "4fc1cf37",
   "metadata": {},
   "outputs": [],
   "source": [
    "import pandas as pd\n",
    "import numpy as np"
   ]
  },
  {
   "cell_type": "code",
   "execution_count": 2,
   "id": "a7f718f5",
   "metadata": {},
   "outputs": [],
   "source": [
    "df = pd.read_excel('data-combined.xlsx')"
   ]
  },
  {
   "cell_type": "code",
   "execution_count": 3,
   "id": "01ab3cc7",
   "metadata": {},
   "outputs": [
    {
     "data": {
      "text/html": [
       "<div>\n",
       "<style scoped>\n",
       "    .dataframe tbody tr th:only-of-type {\n",
       "        vertical-align: middle;\n",
       "    }\n",
       "\n",
       "    .dataframe tbody tr th {\n",
       "        vertical-align: top;\n",
       "    }\n",
       "\n",
       "    .dataframe thead th {\n",
       "        text-align: right;\n",
       "    }\n",
       "</style>\n",
       "<table border=\"1\" class=\"dataframe\">\n",
       "  <thead>\n",
       "    <tr style=\"text-align: right;\">\n",
       "      <th></th>\n",
       "      <th>Unnamed: 0</th>\n",
       "      <th>Compagnie</th>\n",
       "      <th>Total d'escales</th>\n",
       "      <th>Prix</th>\n",
       "      <th>Duree</th>\n",
       "      <th>Destination</th>\n",
       "      <th>Distance</th>\n",
       "      <th>Date_aller</th>\n",
       "      <th>Date_retour</th>\n",
       "    </tr>\n",
       "  </thead>\n",
       "  <tbody>\n",
       "    <tr>\n",
       "      <th>0</th>\n",
       "      <td>0</td>\n",
       "      <td>Air France</td>\n",
       "      <td>\\ndirect</td>\n",
       "      <td>\\n204 €</td>\n",
       "      <td>\\n2h 20min</td>\n",
       "      <td>Oslo</td>\n",
       "      <td>1344.0</td>\n",
       "      <td>2022-04-01</td>\n",
       "      <td>2022-04-08</td>\n",
       "    </tr>\n",
       "    <tr>\n",
       "      <th>1</th>\n",
       "      <td>1</td>\n",
       "      <td>Air France</td>\n",
       "      <td>\\ndirect</td>\n",
       "      <td>\\n204 €</td>\n",
       "      <td>\\n2h 30min</td>\n",
       "      <td>Oslo</td>\n",
       "      <td>1344.0</td>\n",
       "      <td>2022-04-01</td>\n",
       "      <td>2022-04-08</td>\n",
       "    </tr>\n",
       "    <tr>\n",
       "      <th>2</th>\n",
       "      <td>2</td>\n",
       "      <td>Flyr AS</td>\n",
       "      <td>\\ndirect</td>\n",
       "      <td>\\n195 €</td>\n",
       "      <td>\\n2h 25min</td>\n",
       "      <td>Oslo</td>\n",
       "      <td>1344.0</td>\n",
       "      <td>2022-04-01</td>\n",
       "      <td>2022-04-08</td>\n",
       "    </tr>\n",
       "    <tr>\n",
       "      <th>3</th>\n",
       "      <td>3</td>\n",
       "      <td>Flyr AS</td>\n",
       "      <td>\\ndirect</td>\n",
       "      <td>\\n195 €</td>\n",
       "      <td>\\n2h 25min</td>\n",
       "      <td>Oslo</td>\n",
       "      <td>1344.0</td>\n",
       "      <td>2022-04-01</td>\n",
       "      <td>2022-04-08</td>\n",
       "    </tr>\n",
       "    <tr>\n",
       "      <th>4</th>\n",
       "      <td>4</td>\n",
       "      <td>Norwegian</td>\n",
       "      <td>\\ndirect</td>\n",
       "      <td>\\n186 €</td>\n",
       "      <td>\\n2h 20min</td>\n",
       "      <td>Oslo</td>\n",
       "      <td>1344.0</td>\n",
       "      <td>2022-04-01</td>\n",
       "      <td>2022-04-08</td>\n",
       "    </tr>\n",
       "  </tbody>\n",
       "</table>\n",
       "</div>"
      ],
      "text/plain": [
       "   Unnamed: 0   Compagnie Total d'escales      Prix        Duree Destination  \\\n",
       "0           0  Air France       \\ndirect   \\n204 €   \\n2h 20min         Oslo   \n",
       "1           1  Air France       \\ndirect   \\n204 €   \\n2h 30min         Oslo   \n",
       "2           2     Flyr AS       \\ndirect   \\n195 €   \\n2h 25min         Oslo   \n",
       "3           3     Flyr AS       \\ndirect   \\n195 €   \\n2h 25min         Oslo   \n",
       "4           4   Norwegian       \\ndirect   \\n186 €   \\n2h 20min         Oslo   \n",
       "\n",
       "   Distance Date_aller Date_retour  \n",
       "0    1344.0 2022-04-01  2022-04-08  \n",
       "1    1344.0 2022-04-01  2022-04-08  \n",
       "2    1344.0 2022-04-01  2022-04-08  \n",
       "3    1344.0 2022-04-01  2022-04-08  \n",
       "4    1344.0 2022-04-01  2022-04-08  "
      ]
     },
     "execution_count": 3,
     "metadata": {},
     "output_type": "execute_result"
    }
   ],
   "source": [
    "df.head()"
   ]
  },
  {
   "cell_type": "code",
   "execution_count": 12,
   "id": "dd85af7a",
   "metadata": {},
   "outputs": [
    {
     "ename": "SyntaxError",
     "evalue": "(unicode error) 'unicodeescape' codec can't decode bytes in position 0-2: truncated \\xXX escape (<ipython-input-12-d30392e83fbd>, line 2)",
     "output_type": "error",
     "traceback": [
      "\u001b[1;36m  File \u001b[1;32m\"<ipython-input-12-d30392e83fbd>\"\u001b[1;36m, line \u001b[1;32m2\u001b[0m\n\u001b[1;33m    df = df.replace('\\xa','', regex=True)\u001b[0m\n\u001b[1;37m                    ^\u001b[0m\n\u001b[1;31mSyntaxError\u001b[0m\u001b[1;31m:\u001b[0m (unicode error) 'unicodeescape' codec can't decode bytes in position 0-2: truncated \\xXX escape\n"
     ]
    }
   ],
   "source": [
    "df = df.replace('\\n','', regex=True)"
   ]
  },
  {
   "cell_type": "code",
   "execution_count": 3,
   "id": "3accd7fd",
   "metadata": {},
   "outputs": [
    {
     "data": {
      "text/plain": [
       "Index(['Unnamed: 0', 'Compagnie', 'Total d'escales', 'Prix', 'Duree',\n",
       "       'Destination', 'Distance', 'Date_aller', 'Date_retour'],\n",
       "      dtype='object')"
      ]
     },
     "execution_count": 3,
     "metadata": {},
     "output_type": "execute_result"
    }
   ],
   "source": [
    "df.columns"
   ]
  },
  {
   "cell_type": "code",
   "execution_count": 8,
   "id": "a2fedd49",
   "metadata": {},
   "outputs": [],
   "source": [
    "total_stops= list(df[\"Total d'escales\"])\n",
    "price = list(df['Prix'])\n",
    "duration = list(df ['Duree'])"
   ]
  },
  {
   "cell_type": "code",
   "execution_count": 62,
   "id": "e96b7c2e",
   "metadata": {},
   "outputs": [],
   "source": [
    "def formatage_prix(liste):\n",
    "    l=[]\n",
    "    for i in range (len(liste)):\n",
    "        c=''\n",
    "        if len(liste[i]) == 6 :\n",
    "            c = float(liste[i][0]+liste[i][1]+price[i][2])\n",
    "        elif len(liste[i]) == 5 : \n",
    "            c = float(liste[i][0]+liste[i][1])\n",
    "        elif len(liste[i]) == 8:\n",
    "            c = float(liste[i][0]+liste[i][2]+liste[i][3]+ liste[i][4])\n",
    "        else:\n",
    "            c = 'NaN'\n",
    "        l.append(c)\n",
    "    return l"
   ]
  },
  {
   "cell_type": "code",
   "execution_count": 65,
   "id": "5e915720",
   "metadata": {},
   "outputs": [],
   "source": [
    "prix = formatage_prix(price)"
   ]
  },
  {
   "cell_type": "code",
   "execution_count": 82,
   "id": "1a205a02",
   "metadata": {},
   "outputs": [],
   "source": [
    "def formatage_duree(liste):\n",
    "    l=[]\n",
    "    for i in range (len(liste)):\n",
    "        l.append(float(duration[i].split('h')[0])+float(duration[i].split('h')[1][1:3])/60)\n",
    "    return l   "
   ]
  },
  {
   "cell_type": "code",
   "execution_count": 83,
   "id": "557c799c",
   "metadata": {},
   "outputs": [],
   "source": [
    "duree = formatage_duree(duration)"
   ]
  },
  {
   "cell_type": "code",
   "execution_count": 85,
   "id": "486cebf8",
   "metadata": {},
   "outputs": [],
   "source": [
    "del df['Prix']"
   ]
  },
  {
   "cell_type": "code",
   "execution_count": 86,
   "id": "1bfafe69",
   "metadata": {},
   "outputs": [],
   "source": [
    "del df['Duree']"
   ]
  },
  {
   "cell_type": "code",
   "execution_count": 87,
   "id": "3beded9d",
   "metadata": {},
   "outputs": [],
   "source": [
    "df['Prix'] = prix"
   ]
  },
  {
   "cell_type": "code",
   "execution_count": 88,
   "id": "9c51d780",
   "metadata": {},
   "outputs": [],
   "source": [
    "df['Duree de vol'] = duree"
   ]
  },
  {
   "cell_type": "code",
   "execution_count": 89,
   "id": "ca972383",
   "metadata": {},
   "outputs": [
    {
     "data": {
      "text/html": [
       "<div>\n",
       "<style scoped>\n",
       "    .dataframe tbody tr th:only-of-type {\n",
       "        vertical-align: middle;\n",
       "    }\n",
       "\n",
       "    .dataframe tbody tr th {\n",
       "        vertical-align: top;\n",
       "    }\n",
       "\n",
       "    .dataframe thead th {\n",
       "        text-align: right;\n",
       "    }\n",
       "</style>\n",
       "<table border=\"1\" class=\"dataframe\">\n",
       "  <thead>\n",
       "    <tr style=\"text-align: right;\">\n",
       "      <th></th>\n",
       "      <th>Unnamed: 0</th>\n",
       "      <th>Compagnie</th>\n",
       "      <th>Total d'escales</th>\n",
       "      <th>Destination</th>\n",
       "      <th>Distance</th>\n",
       "      <th>Date_aller</th>\n",
       "      <th>Date_retour</th>\n",
       "      <th>Prix</th>\n",
       "      <th>Duree de vol</th>\n",
       "    </tr>\n",
       "  </thead>\n",
       "  <tbody>\n",
       "    <tr>\n",
       "      <th>0</th>\n",
       "      <td>0</td>\n",
       "      <td>Air France</td>\n",
       "      <td>direct</td>\n",
       "      <td>Oslo</td>\n",
       "      <td>1344.00</td>\n",
       "      <td>2022-04-01</td>\n",
       "      <td>2022-04-08</td>\n",
       "      <td>204.0</td>\n",
       "      <td>2.333333</td>\n",
       "    </tr>\n",
       "    <tr>\n",
       "      <th>1</th>\n",
       "      <td>1</td>\n",
       "      <td>Air France</td>\n",
       "      <td>direct</td>\n",
       "      <td>Oslo</td>\n",
       "      <td>1344.00</td>\n",
       "      <td>2022-04-01</td>\n",
       "      <td>2022-04-08</td>\n",
       "      <td>204.0</td>\n",
       "      <td>2.500000</td>\n",
       "    </tr>\n",
       "    <tr>\n",
       "      <th>2</th>\n",
       "      <td>2</td>\n",
       "      <td>Flyr AS</td>\n",
       "      <td>direct</td>\n",
       "      <td>Oslo</td>\n",
       "      <td>1344.00</td>\n",
       "      <td>2022-04-01</td>\n",
       "      <td>2022-04-08</td>\n",
       "      <td>195.0</td>\n",
       "      <td>2.416667</td>\n",
       "    </tr>\n",
       "    <tr>\n",
       "      <th>3</th>\n",
       "      <td>3</td>\n",
       "      <td>Flyr AS</td>\n",
       "      <td>direct</td>\n",
       "      <td>Oslo</td>\n",
       "      <td>1344.00</td>\n",
       "      <td>2022-04-01</td>\n",
       "      <td>2022-04-08</td>\n",
       "      <td>195.0</td>\n",
       "      <td>2.416667</td>\n",
       "    </tr>\n",
       "    <tr>\n",
       "      <th>4</th>\n",
       "      <td>4</td>\n",
       "      <td>Norwegian</td>\n",
       "      <td>direct</td>\n",
       "      <td>Oslo</td>\n",
       "      <td>1344.00</td>\n",
       "      <td>2022-04-01</td>\n",
       "      <td>2022-04-08</td>\n",
       "      <td>186.0</td>\n",
       "      <td>2.333333</td>\n",
       "    </tr>\n",
       "    <tr>\n",
       "      <th>...</th>\n",
       "      <td>...</td>\n",
       "      <td>...</td>\n",
       "      <td>...</td>\n",
       "      <td>...</td>\n",
       "      <td>...</td>\n",
       "      <td>...</td>\n",
       "      <td>...</td>\n",
       "      <td>...</td>\n",
       "      <td>...</td>\n",
       "    </tr>\n",
       "    <tr>\n",
       "      <th>61343</th>\n",
       "      <td>61343</td>\n",
       "      <td>Turkish Airlines</td>\n",
       "      <td>1 escale</td>\n",
       "      <td>Athenes</td>\n",
       "      <td>2095.52</td>\n",
       "      <td>2022-06-10</td>\n",
       "      <td>2022-06-17</td>\n",
       "      <td>294.0</td>\n",
       "      <td>7.333333</td>\n",
       "    </tr>\n",
       "    <tr>\n",
       "      <th>61344</th>\n",
       "      <td>61344</td>\n",
       "      <td>Sky Express</td>\n",
       "      <td>direct</td>\n",
       "      <td>Athenes</td>\n",
       "      <td>2095.52</td>\n",
       "      <td>2022-06-10</td>\n",
       "      <td>2022-06-17</td>\n",
       "      <td>1874.0</td>\n",
       "      <td>3.000000</td>\n",
       "    </tr>\n",
       "    <tr>\n",
       "      <th>61345</th>\n",
       "      <td>61345</td>\n",
       "      <td>SWISS</td>\n",
       "      <td>1 escale</td>\n",
       "      <td>Athenes</td>\n",
       "      <td>2095.52</td>\n",
       "      <td>2022-06-10</td>\n",
       "      <td>2022-06-17</td>\n",
       "      <td>1874.0</td>\n",
       "      <td>5.500000</td>\n",
       "    </tr>\n",
       "    <tr>\n",
       "      <th>61346</th>\n",
       "      <td>61346</td>\n",
       "      <td>Sky Express</td>\n",
       "      <td>direct</td>\n",
       "      <td>Athenes</td>\n",
       "      <td>2095.52</td>\n",
       "      <td>2022-06-10</td>\n",
       "      <td>2022-06-17</td>\n",
       "      <td>1879.0</td>\n",
       "      <td>3.000000</td>\n",
       "    </tr>\n",
       "    <tr>\n",
       "      <th>61347</th>\n",
       "      <td>61347</td>\n",
       "      <td>Lufthansa</td>\n",
       "      <td>1 escale</td>\n",
       "      <td>Athenes</td>\n",
       "      <td>2095.52</td>\n",
       "      <td>2022-06-10</td>\n",
       "      <td>2022-06-17</td>\n",
       "      <td>1879.0</td>\n",
       "      <td>4.916667</td>\n",
       "    </tr>\n",
       "  </tbody>\n",
       "</table>\n",
       "<p>61348 rows × 9 columns</p>\n",
       "</div>"
      ],
      "text/plain": [
       "       Unnamed: 0          Compagnie Total d'escales Destination  Distance  \\\n",
       "0               0         Air France         direct         Oslo   1344.00   \n",
       "1               1         Air France         direct         Oslo   1344.00   \n",
       "2               2            Flyr AS         direct         Oslo   1344.00   \n",
       "3               3            Flyr AS         direct         Oslo   1344.00   \n",
       "4               4          Norwegian         direct         Oslo   1344.00   \n",
       "...           ...                ...             ...         ...       ...   \n",
       "61343       61343   Turkish Airlines       1 escale      Athenes   2095.52   \n",
       "61344       61344        Sky Express         direct      Athenes   2095.52   \n",
       "61345       61345              SWISS       1 escale      Athenes   2095.52   \n",
       "61346       61346        Sky Express         direct      Athenes   2095.52   \n",
       "61347       61347          Lufthansa       1 escale      Athenes   2095.52   \n",
       "\n",
       "      Date_aller Date_retour    Prix  Duree de vol  \n",
       "0     2022-04-01  2022-04-08   204.0      2.333333  \n",
       "1     2022-04-01  2022-04-08   204.0      2.500000  \n",
       "2     2022-04-01  2022-04-08   195.0      2.416667  \n",
       "3     2022-04-01  2022-04-08   195.0      2.416667  \n",
       "4     2022-04-01  2022-04-08   186.0      2.333333  \n",
       "...          ...         ...     ...           ...  \n",
       "61343 2022-06-10  2022-06-17   294.0      7.333333  \n",
       "61344 2022-06-10  2022-06-17  1874.0      3.000000  \n",
       "61345 2022-06-10  2022-06-17  1874.0      5.500000  \n",
       "61346 2022-06-10  2022-06-17  1879.0      3.000000  \n",
       "61347 2022-06-10  2022-06-17  1879.0      4.916667  \n",
       "\n",
       "[61348 rows x 9 columns]"
      ]
     },
     "execution_count": 89,
     "metadata": {},
     "output_type": "execute_result"
    }
   ],
   "source": [
    "df"
   ]
  },
  {
   "cell_type": "code",
   "execution_count": null,
   "id": "228c4d0e",
   "metadata": {},
   "outputs": [],
   "source": []
  }
 ],
 "metadata": {
  "kernelspec": {
   "display_name": "Python 3",
   "language": "python",
   "name": "python3"
  },
  "language_info": {
   "codemirror_mode": {
    "name": "ipython",
    "version": 3
   },
   "file_extension": ".py",
   "mimetype": "text/x-python",
   "name": "python",
   "nbconvert_exporter": "python",
   "pygments_lexer": "ipython3",
   "version": "3.8.8"
  }
 },
 "nbformat": 4,
 "nbformat_minor": 5
}
