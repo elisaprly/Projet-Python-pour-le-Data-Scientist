{
 "cells": [
  {
   "cell_type": "code",
   "execution_count": 9,
   "metadata": {},
   "outputs": [],
   "source": [
    "import pandas as pd\n",
    "from selenium import webdriver\n",
    "from selenium.webdriver.common.keys import Keys\n",
    "from bs4 import BeautifulSoup\n",
    "import numpy as np\n",
    "import datetime\n",
    "from time import sleep"
   ]
  },
  {
   "cell_type": "code",
   "execution_count": 2,
   "metadata": {},
   "outputs": [],
   "source": [
    "chromedriver_path = \"C:/Users/elisa/Projet Python/chromedriver_win32/chromedriver.exe\"\n",
    "#chromedriver_path = 'C:/Users/José/Documents/ENSAE Paris/2A/Python Pour le Data Scientist/chromedriver_win32/chromedriver.exe'"
   ]
  },
  {
   "cell_type": "code",
   "execution_count": 3,
   "metadata": {},
   "outputs": [],
   "source": [
    "driver = webdriver.Chrome(chromedriver_path)"
   ]
  },
  {
   "cell_type": "code",
   "execution_count": 4,
   "metadata": {},
   "outputs": [],
   "source": [
    "def get_airlines(soup):\n",
    "    airline = []\n",
    "    airlines = soup.find_all('span',class_='codeshares-airline-names',text=True)\n",
    "    for i in airlines:\n",
    "        airline.append(i.text)\n",
    "    return airline\n",
    "    \n",
    "def get_total_stops(soup):\n",
    "    stops_list = []\n",
    "    stops = soup.find_all('div',class_='section stops')\n",
    "\n",
    "    for i in stops:\n",
    "        for j in i.find_all('span',class_='stops-text'):\n",
    "               stops_list.append(j.text)\n",
    "    return stops_list\n",
    "\n",
    "def get_price(soup):\n",
    "    prices = []\n",
    "    price = soup.find_all('div',class_='Flights-Results-FlightPriceSection right-alignment sleek')\n",
    "\n",
    "    for i in price:\n",
    "        for j in i.find_all('span', class_='price-text'):\n",
    "            prices.append(j.text)\n",
    "    return prices\n",
    "\n",
    "def get_duration(soup):\n",
    "    duration_list = []\n",
    "    duration = soup.find_all('div' , class_='section duration allow-multi-modal-icons')\n",
    "    for i in duration:\n",
    "        for j in i.find_all('div',class_='top'):\n",
    "            duration_list.append(j.text)\n",
    "    return duration_list"
   ]
  },
  {
   "cell_type": "code",
   "execution_count": 5,
   "metadata": {},
   "outputs": [],
   "source": [
    "def remanier(compagnie):\n",
    "    liste = []\n",
    "    for i in range(len(compagnie)):\n",
    "        if  ',' in compagnie[i] : \n",
    "            j= 0\n",
    "            while compagnie[i][j]!=',' :\n",
    "                j+=1\n",
    "            liste.append(compagnie[i][:j])\n",
    "            liste.append(compagnie[i][j+1:])\n",
    "        else :\n",
    "            liste.append(compagnie[i])\n",
    "            liste.append(compagnie[i])\n",
    "    return liste"
   ]
  },
  {
   "cell_type": "code",
   "execution_count": 6,
   "metadata": {},
   "outputs": [],
   "source": [
    "def remanier_2(prix):\n",
    "    liste = []\n",
    "    for i in range(len(prix)):\n",
    "        liste.append(prix[i])\n",
    "        liste.append(prix[i])\n",
    "    return liste"
   ]
  },
  {
   "cell_type": "code",
   "execution_count": null,
   "metadata": {},
   "outputs": [],
   "source": [
    "depart = [\"PAR\"]\n",
    "Destinations = [\"MAD\", \"SVO\", \"ATH\", \"OSL\", \"LON\"]\n",
    "date_aller = [\"04/01/2022\"]\n",
    "date_retour = [\"04/08/2022\"]\n",
    "date_a = pd.to_datetime(date_aller)\n",
    "date_r = pd.to_datetime(date_retour)\n",
    "result = pd.DataFrame([])\n",
    "\n",
    "for k in range(26): \n",
    "    new_date_a = date_a + datetime.timedelta(days = 7*k)\n",
    "    new_date_r = date_r + datetime.timedelta(days = 7*k)\n",
    "    date_time_a = new_date_a.astype(str)\n",
    "    date_time_r = new_date_r.astype(str)\n",
    "    destination = [\"OSL\"]\n",
    "    date_aller = [date_time_a]        \n",
    "    date_retour = [date_time_r]\n",
    "    url = f\"https://www.kayak.fr/flights/{depart[0]}-{destination[0]}/{date_aller[0]}/{date_retour[0]}\"\n",
    "    driver.get(url)\n",
    "    sleep(15)\n",
    "    try:\n",
    "        show_more_button = driver.find_element_by_xpath('//a[@class = \"moreButton\"]')\n",
    "    except:\n",
    "        input(\"Please solve the captcha then enter anything here to resume scraping.\")\n",
    "\n",
    "    while True:\n",
    "        try:\n",
    "            show_more_button.click()\n",
    "            driver.implicitly_wait(10)\n",
    "        except:\n",
    "            break\n",
    "\n",
    "\n",
    "    soup = BeautifulSoup(driver.page_source, 'html.parser')\n",
    "    compagnie = remanier(get_airlines(soup))\n",
    "    total_escales = get_total_stops(soup)\n",
    "    prix = remanier_2(get_price(soup))\n",
    "    duree = get_duration(soup)\n",
    "    df = pd.DataFrame({'Compagnie':compagnie, \"Total d'escales\":total_escales , 'Prix': prix, 'Duree': duree}, \n",
    "                        columns = ['Compagnie', \"Total d'escales\", 'Prix', 'Duree'])\n",
    "    df[\"Destination\"] = \"Oslo\"\n",
    "    df[\"Distance\"] = 1344\n",
    "    df[\"Date_aller\"] = 20220401\n",
    "    df[\"Date_retour\"] = 20220408\n",
    "    df[\"Date_aller\"] = pd.to_datetime(df[\"Date_aller\"], format = '%Y%m%d') + datetime.timedelta(days = 7*k)\n",
    "    df[\"Date_retour\"] = pd.to_datetime(df[\"Date_retour\"], format = '%Y%m%d') + datetime.timedelta(days = 7*k)\n",
    "    result = pd.concat([result, df], axis = 0)"
   ]
  },
  {
   "cell_type": "code",
   "execution_count": null,
   "metadata": {},
   "outputs": [],
   "source": [
    "df['distance_entre_villes'] = df.append({\"df['destination']=='LON'\" : '342,76km' ,\"df['destination']=='MAD'\" : '1054km', \"df['destination']=='OSL'\" : '1344km', \"df['destination']=='SVO'\" : '2486,34km', \"df['destination']=='ATH'\" : '2095,52km' } , ignore_index=True)\n"
   ]
  },
  {
   "cell_type": "code",
   "execution_count": null,
   "metadata": {},
   "outputs": [],
   "source": [
    "#result.to_excel('oslo.xlsx', index = False) \n",
    "result.head(50)"
   ]
  }
 ],
 "metadata": {
  "kernelspec": {
   "display_name": "Python 3",
   "language": "python",
   "name": "python3"
  },
  "language_info": {
   "codemirror_mode": {
    "name": "ipython",
    "version": 3
   },
   "file_extension": ".py",
   "mimetype": "text/x-python",
   "name": "python",
   "nbconvert_exporter": "python",
   "pygments_lexer": "ipython3",
   "version": "3.8.8"
  }
 },
 "nbformat": 4,
 "nbformat_minor": 4
}
