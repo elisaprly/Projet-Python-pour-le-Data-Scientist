{
  "cells": [
    {
      "cell_type": "markdown",
      "source": [
        "# Analyse exploratoire de données"
      ],
      "metadata": {
        "id": "yjwTKumX_tTT"
      },
      "id": "yjwTKumX_tTT"
    },
    {
      "cell_type": "markdown",
      "source": [
        "Il s'agit de données de prix de billets d'avions entre Paris et 5 destinations (Londres, Moscou, Oslo, Madrid et Athènes) pour des allers-retours entre début avril et fin septembre 2022 pour lesquelles nous avons relévé 8 caractéristiques à savoir:\n",
        "\n",
        "• Le nom de la compagnie  \n",
        "• Le nombre d'escales\n",
        "\n",
        "• Le prix du billet d'avion\n",
        "\n",
        "• La durée du trajet\n",
        "\n",
        "• La destination\n",
        "\n",
        "• La distance entre Paris et la ville de destination\n",
        "\n",
        "• La date d'aller\n",
        "\n",
        "• Et enfin la date de retour"
      ],
      "metadata": {
        "id": "PbfwrLIYBmma"
      },
      "id": "PbfwrLIYBmma"
    },
    {
      "cell_type": "code",
      "source": [
        "import pandas as pd\n",
        "import numpy as np\n",
        "import matplotlib.pyplot as plt\n",
        "import seaborn as sns\n",
        "import statsmodels.api as sm\n"
      ],
      "metadata": {
        "id": "gvaerBhVGZDk"
      },
      "id": "gvaerBhVGZDk",
      "execution_count": 177,
      "outputs": []
    },
    {
      "cell_type": "code",
      "source": [
        "df = pd.read_excel('/content/base_a_traiter.xlsx')"
      ],
      "metadata": {
        "id": "rNM1NKEfksla"
      },
      "id": "rNM1NKEfksla",
      "execution_count": 179,
      "outputs": []
    },
    {
      "cell_type": "code",
      "source": [
        "df"
      ],
      "metadata": {
        "colab": {
          "base_uri": "https://localhost:8080/",
          "height": 502
        },
        "id": "f0V2ic3XkvVH",
        "outputId": "e43a90e8-36c7-444a-b59f-5c4986b03a06"
      },
      "id": "f0V2ic3XkvVH",
      "execution_count": 180,
      "outputs": [
        {
          "output_type": "execute_result",
          "data": {
            "text/html": [
              "\n",
              "  <div id=\"df-362ee637-832e-41be-ac00-a7117b9cf7bd\">\n",
              "    <div class=\"colab-df-container\">\n",
              "      <div>\n",
              "<style scoped>\n",
              "    .dataframe tbody tr th:only-of-type {\n",
              "        vertical-align: middle;\n",
              "    }\n",
              "\n",
              "    .dataframe tbody tr th {\n",
              "        vertical-align: top;\n",
              "    }\n",
              "\n",
              "    .dataframe thead th {\n",
              "        text-align: right;\n",
              "    }\n",
              "</style>\n",
              "<table border=\"1\" class=\"dataframe\">\n",
              "  <thead>\n",
              "    <tr style=\"text-align: right;\">\n",
              "      <th></th>\n",
              "      <th>Unnamed: 0</th>\n",
              "      <th>Compagnie</th>\n",
              "      <th>Total d'escales</th>\n",
              "      <th>Destination</th>\n",
              "      <th>Distance</th>\n",
              "      <th>Date_aller</th>\n",
              "      <th>Date_retour</th>\n",
              "      <th>Prix</th>\n",
              "      <th>Duree de vol</th>\n",
              "    </tr>\n",
              "  </thead>\n",
              "  <tbody>\n",
              "    <tr>\n",
              "      <th>0</th>\n",
              "      <td>0</td>\n",
              "      <td>Air France</td>\n",
              "      <td>0</td>\n",
              "      <td>Oslo</td>\n",
              "      <td>1344.00</td>\n",
              "      <td>2022-04-01</td>\n",
              "      <td>2022-04-08</td>\n",
              "      <td>204</td>\n",
              "      <td>2.333333</td>\n",
              "    </tr>\n",
              "    <tr>\n",
              "      <th>1</th>\n",
              "      <td>1</td>\n",
              "      <td>Air France</td>\n",
              "      <td>0</td>\n",
              "      <td>Oslo</td>\n",
              "      <td>1344.00</td>\n",
              "      <td>2022-04-01</td>\n",
              "      <td>2022-04-08</td>\n",
              "      <td>204</td>\n",
              "      <td>2.500000</td>\n",
              "    </tr>\n",
              "    <tr>\n",
              "      <th>2</th>\n",
              "      <td>2</td>\n",
              "      <td>Flyr AS</td>\n",
              "      <td>0</td>\n",
              "      <td>Oslo</td>\n",
              "      <td>1344.00</td>\n",
              "      <td>2022-04-01</td>\n",
              "      <td>2022-04-08</td>\n",
              "      <td>195</td>\n",
              "      <td>2.416667</td>\n",
              "    </tr>\n",
              "    <tr>\n",
              "      <th>3</th>\n",
              "      <td>3</td>\n",
              "      <td>Flyr AS</td>\n",
              "      <td>0</td>\n",
              "      <td>Oslo</td>\n",
              "      <td>1344.00</td>\n",
              "      <td>2022-04-01</td>\n",
              "      <td>2022-04-08</td>\n",
              "      <td>195</td>\n",
              "      <td>2.416667</td>\n",
              "    </tr>\n",
              "    <tr>\n",
              "      <th>4</th>\n",
              "      <td>4</td>\n",
              "      <td>Norwegian</td>\n",
              "      <td>0</td>\n",
              "      <td>Oslo</td>\n",
              "      <td>1344.00</td>\n",
              "      <td>2022-04-01</td>\n",
              "      <td>2022-04-08</td>\n",
              "      <td>186</td>\n",
              "      <td>2.333333</td>\n",
              "    </tr>\n",
              "    <tr>\n",
              "      <th>...</th>\n",
              "      <td>...</td>\n",
              "      <td>...</td>\n",
              "      <td>...</td>\n",
              "      <td>...</td>\n",
              "      <td>...</td>\n",
              "      <td>...</td>\n",
              "      <td>...</td>\n",
              "      <td>...</td>\n",
              "      <td>...</td>\n",
              "    </tr>\n",
              "    <tr>\n",
              "      <th>61329</th>\n",
              "      <td>61343</td>\n",
              "      <td>Turkish Airlines</td>\n",
              "      <td>1</td>\n",
              "      <td>Athenes</td>\n",
              "      <td>2095.52</td>\n",
              "      <td>2022-06-10</td>\n",
              "      <td>2022-06-17</td>\n",
              "      <td>294</td>\n",
              "      <td>7.333333</td>\n",
              "    </tr>\n",
              "    <tr>\n",
              "      <th>61330</th>\n",
              "      <td>61344</td>\n",
              "      <td>Sky Express</td>\n",
              "      <td>0</td>\n",
              "      <td>Athenes</td>\n",
              "      <td>2095.52</td>\n",
              "      <td>2022-06-10</td>\n",
              "      <td>2022-06-17</td>\n",
              "      <td>1874</td>\n",
              "      <td>3.000000</td>\n",
              "    </tr>\n",
              "    <tr>\n",
              "      <th>61331</th>\n",
              "      <td>61345</td>\n",
              "      <td>SWISS</td>\n",
              "      <td>1</td>\n",
              "      <td>Athenes</td>\n",
              "      <td>2095.52</td>\n",
              "      <td>2022-06-10</td>\n",
              "      <td>2022-06-17</td>\n",
              "      <td>1874</td>\n",
              "      <td>5.500000</td>\n",
              "    </tr>\n",
              "    <tr>\n",
              "      <th>61332</th>\n",
              "      <td>61346</td>\n",
              "      <td>Sky Express</td>\n",
              "      <td>0</td>\n",
              "      <td>Athenes</td>\n",
              "      <td>2095.52</td>\n",
              "      <td>2022-06-10</td>\n",
              "      <td>2022-06-17</td>\n",
              "      <td>1879</td>\n",
              "      <td>3.000000</td>\n",
              "    </tr>\n",
              "    <tr>\n",
              "      <th>61333</th>\n",
              "      <td>61347</td>\n",
              "      <td>Lufthansa</td>\n",
              "      <td>1</td>\n",
              "      <td>Athenes</td>\n",
              "      <td>2095.52</td>\n",
              "      <td>2022-06-10</td>\n",
              "      <td>2022-06-17</td>\n",
              "      <td>1879</td>\n",
              "      <td>4.916667</td>\n",
              "    </tr>\n",
              "  </tbody>\n",
              "</table>\n",
              "<p>61334 rows × 9 columns</p>\n",
              "</div>\n",
              "      <button class=\"colab-df-convert\" onclick=\"convertToInteractive('df-362ee637-832e-41be-ac00-a7117b9cf7bd')\"\n",
              "              title=\"Convert this dataframe to an interactive table.\"\n",
              "              style=\"display:none;\">\n",
              "        \n",
              "  <svg xmlns=\"http://www.w3.org/2000/svg\" height=\"24px\"viewBox=\"0 0 24 24\"\n",
              "       width=\"24px\">\n",
              "    <path d=\"M0 0h24v24H0V0z\" fill=\"none\"/>\n",
              "    <path d=\"M18.56 5.44l.94 2.06.94-2.06 2.06-.94-2.06-.94-.94-2.06-.94 2.06-2.06.94zm-11 1L8.5 8.5l.94-2.06 2.06-.94-2.06-.94L8.5 2.5l-.94 2.06-2.06.94zm10 10l.94 2.06.94-2.06 2.06-.94-2.06-.94-.94-2.06-.94 2.06-2.06.94z\"/><path d=\"M17.41 7.96l-1.37-1.37c-.4-.4-.92-.59-1.43-.59-.52 0-1.04.2-1.43.59L10.3 9.45l-7.72 7.72c-.78.78-.78 2.05 0 2.83L4 21.41c.39.39.9.59 1.41.59.51 0 1.02-.2 1.41-.59l7.78-7.78 2.81-2.81c.8-.78.8-2.07 0-2.86zM5.41 20L4 18.59l7.72-7.72 1.47 1.35L5.41 20z\"/>\n",
              "  </svg>\n",
              "      </button>\n",
              "      \n",
              "  <style>\n",
              "    .colab-df-container {\n",
              "      display:flex;\n",
              "      flex-wrap:wrap;\n",
              "      gap: 12px;\n",
              "    }\n",
              "\n",
              "    .colab-df-convert {\n",
              "      background-color: #E8F0FE;\n",
              "      border: none;\n",
              "      border-radius: 50%;\n",
              "      cursor: pointer;\n",
              "      display: none;\n",
              "      fill: #1967D2;\n",
              "      height: 32px;\n",
              "      padding: 0 0 0 0;\n",
              "      width: 32px;\n",
              "    }\n",
              "\n",
              "    .colab-df-convert:hover {\n",
              "      background-color: #E2EBFA;\n",
              "      box-shadow: 0px 1px 2px rgba(60, 64, 67, 0.3), 0px 1px 3px 1px rgba(60, 64, 67, 0.15);\n",
              "      fill: #174EA6;\n",
              "    }\n",
              "\n",
              "    [theme=dark] .colab-df-convert {\n",
              "      background-color: #3B4455;\n",
              "      fill: #D2E3FC;\n",
              "    }\n",
              "\n",
              "    [theme=dark] .colab-df-convert:hover {\n",
              "      background-color: #434B5C;\n",
              "      box-shadow: 0px 1px 3px 1px rgba(0, 0, 0, 0.15);\n",
              "      filter: drop-shadow(0px 1px 2px rgba(0, 0, 0, 0.3));\n",
              "      fill: #FFFFFF;\n",
              "    }\n",
              "  </style>\n",
              "\n",
              "      <script>\n",
              "        const buttonEl =\n",
              "          document.querySelector('#df-362ee637-832e-41be-ac00-a7117b9cf7bd button.colab-df-convert');\n",
              "        buttonEl.style.display =\n",
              "          google.colab.kernel.accessAllowed ? 'block' : 'none';\n",
              "\n",
              "        async function convertToInteractive(key) {\n",
              "          const element = document.querySelector('#df-362ee637-832e-41be-ac00-a7117b9cf7bd');\n",
              "          const dataTable =\n",
              "            await google.colab.kernel.invokeFunction('convertToInteractive',\n",
              "                                                     [key], {});\n",
              "          if (!dataTable) return;\n",
              "\n",
              "          const docLinkHtml = 'Like what you see? Visit the ' +\n",
              "            '<a target=\"_blank\" href=https://colab.research.google.com/notebooks/data_table.ipynb>data table notebook</a>'\n",
              "            + ' to learn more about interactive tables.';\n",
              "          element.innerHTML = '';\n",
              "          dataTable['output_type'] = 'display_data';\n",
              "          await google.colab.output.renderOutput(dataTable, element);\n",
              "          const docLink = document.createElement('div');\n",
              "          docLink.innerHTML = docLinkHtml;\n",
              "          element.appendChild(docLink);\n",
              "        }\n",
              "      </script>\n",
              "    </div>\n",
              "  </div>\n",
              "  "
            ],
            "text/plain": [
              "       Unnamed: 0         Compagnie  ...  Prix Duree de vol\n",
              "0               0        Air France  ...   204     2.333333\n",
              "1               1        Air France  ...   204     2.500000\n",
              "2               2           Flyr AS  ...   195     2.416667\n",
              "3               3           Flyr AS  ...   195     2.416667\n",
              "4               4         Norwegian  ...   186     2.333333\n",
              "...           ...               ...  ...   ...          ...\n",
              "61329       61343  Turkish Airlines  ...   294     7.333333\n",
              "61330       61344       Sky Express  ...  1874     3.000000\n",
              "61331       61345             SWISS  ...  1874     5.500000\n",
              "61332       61346       Sky Express  ...  1879     3.000000\n",
              "61333       61347         Lufthansa  ...  1879     4.916667\n",
              "\n",
              "[61334 rows x 9 columns]"
            ]
          },
          "metadata": {},
          "execution_count": 180
        }
      ]
    },
    {
      "cell_type": "code",
      "source": [
        "df = df.drop('Unnamed: 0',axis=1)"
      ],
      "metadata": {
        "id": "7HGn3vcNAThW"
      },
      "id": "7HGn3vcNAThW",
      "execution_count": 181,
      "outputs": []
    },
    {
      "cell_type": "code",
      "source": [
        "df"
      ],
      "metadata": {
        "colab": {
          "base_uri": "https://localhost:8080/",
          "height": 423
        },
        "id": "FcHS0Yq8AM8V",
        "outputId": "687066b8-7b2f-4023-c6bf-3b6114828280"
      },
      "id": "FcHS0Yq8AM8V",
      "execution_count": 182,
      "outputs": [
        {
          "output_type": "execute_result",
          "data": {
            "text/html": [
              "\n",
              "  <div id=\"df-a85db361-813d-4571-88d5-b507602327af\">\n",
              "    <div class=\"colab-df-container\">\n",
              "      <div>\n",
              "<style scoped>\n",
              "    .dataframe tbody tr th:only-of-type {\n",
              "        vertical-align: middle;\n",
              "    }\n",
              "\n",
              "    .dataframe tbody tr th {\n",
              "        vertical-align: top;\n",
              "    }\n",
              "\n",
              "    .dataframe thead th {\n",
              "        text-align: right;\n",
              "    }\n",
              "</style>\n",
              "<table border=\"1\" class=\"dataframe\">\n",
              "  <thead>\n",
              "    <tr style=\"text-align: right;\">\n",
              "      <th></th>\n",
              "      <th>Compagnie</th>\n",
              "      <th>Total d'escales</th>\n",
              "      <th>Destination</th>\n",
              "      <th>Distance</th>\n",
              "      <th>Date_aller</th>\n",
              "      <th>Date_retour</th>\n",
              "      <th>Prix</th>\n",
              "      <th>Duree de vol</th>\n",
              "    </tr>\n",
              "  </thead>\n",
              "  <tbody>\n",
              "    <tr>\n",
              "      <th>0</th>\n",
              "      <td>Air France</td>\n",
              "      <td>0</td>\n",
              "      <td>Oslo</td>\n",
              "      <td>1344.00</td>\n",
              "      <td>2022-04-01</td>\n",
              "      <td>2022-04-08</td>\n",
              "      <td>204</td>\n",
              "      <td>2.333333</td>\n",
              "    </tr>\n",
              "    <tr>\n",
              "      <th>1</th>\n",
              "      <td>Air France</td>\n",
              "      <td>0</td>\n",
              "      <td>Oslo</td>\n",
              "      <td>1344.00</td>\n",
              "      <td>2022-04-01</td>\n",
              "      <td>2022-04-08</td>\n",
              "      <td>204</td>\n",
              "      <td>2.500000</td>\n",
              "    </tr>\n",
              "    <tr>\n",
              "      <th>2</th>\n",
              "      <td>Flyr AS</td>\n",
              "      <td>0</td>\n",
              "      <td>Oslo</td>\n",
              "      <td>1344.00</td>\n",
              "      <td>2022-04-01</td>\n",
              "      <td>2022-04-08</td>\n",
              "      <td>195</td>\n",
              "      <td>2.416667</td>\n",
              "    </tr>\n",
              "    <tr>\n",
              "      <th>3</th>\n",
              "      <td>Flyr AS</td>\n",
              "      <td>0</td>\n",
              "      <td>Oslo</td>\n",
              "      <td>1344.00</td>\n",
              "      <td>2022-04-01</td>\n",
              "      <td>2022-04-08</td>\n",
              "      <td>195</td>\n",
              "      <td>2.416667</td>\n",
              "    </tr>\n",
              "    <tr>\n",
              "      <th>4</th>\n",
              "      <td>Norwegian</td>\n",
              "      <td>0</td>\n",
              "      <td>Oslo</td>\n",
              "      <td>1344.00</td>\n",
              "      <td>2022-04-01</td>\n",
              "      <td>2022-04-08</td>\n",
              "      <td>186</td>\n",
              "      <td>2.333333</td>\n",
              "    </tr>\n",
              "    <tr>\n",
              "      <th>...</th>\n",
              "      <td>...</td>\n",
              "      <td>...</td>\n",
              "      <td>...</td>\n",
              "      <td>...</td>\n",
              "      <td>...</td>\n",
              "      <td>...</td>\n",
              "      <td>...</td>\n",
              "      <td>...</td>\n",
              "    </tr>\n",
              "    <tr>\n",
              "      <th>61329</th>\n",
              "      <td>Turkish Airlines</td>\n",
              "      <td>1</td>\n",
              "      <td>Athenes</td>\n",
              "      <td>2095.52</td>\n",
              "      <td>2022-06-10</td>\n",
              "      <td>2022-06-17</td>\n",
              "      <td>294</td>\n",
              "      <td>7.333333</td>\n",
              "    </tr>\n",
              "    <tr>\n",
              "      <th>61330</th>\n",
              "      <td>Sky Express</td>\n",
              "      <td>0</td>\n",
              "      <td>Athenes</td>\n",
              "      <td>2095.52</td>\n",
              "      <td>2022-06-10</td>\n",
              "      <td>2022-06-17</td>\n",
              "      <td>1874</td>\n",
              "      <td>3.000000</td>\n",
              "    </tr>\n",
              "    <tr>\n",
              "      <th>61331</th>\n",
              "      <td>SWISS</td>\n",
              "      <td>1</td>\n",
              "      <td>Athenes</td>\n",
              "      <td>2095.52</td>\n",
              "      <td>2022-06-10</td>\n",
              "      <td>2022-06-17</td>\n",
              "      <td>1874</td>\n",
              "      <td>5.500000</td>\n",
              "    </tr>\n",
              "    <tr>\n",
              "      <th>61332</th>\n",
              "      <td>Sky Express</td>\n",
              "      <td>0</td>\n",
              "      <td>Athenes</td>\n",
              "      <td>2095.52</td>\n",
              "      <td>2022-06-10</td>\n",
              "      <td>2022-06-17</td>\n",
              "      <td>1879</td>\n",
              "      <td>3.000000</td>\n",
              "    </tr>\n",
              "    <tr>\n",
              "      <th>61333</th>\n",
              "      <td>Lufthansa</td>\n",
              "      <td>1</td>\n",
              "      <td>Athenes</td>\n",
              "      <td>2095.52</td>\n",
              "      <td>2022-06-10</td>\n",
              "      <td>2022-06-17</td>\n",
              "      <td>1879</td>\n",
              "      <td>4.916667</td>\n",
              "    </tr>\n",
              "  </tbody>\n",
              "</table>\n",
              "<p>61334 rows × 8 columns</p>\n",
              "</div>\n",
              "      <button class=\"colab-df-convert\" onclick=\"convertToInteractive('df-a85db361-813d-4571-88d5-b507602327af')\"\n",
              "              title=\"Convert this dataframe to an interactive table.\"\n",
              "              style=\"display:none;\">\n",
              "        \n",
              "  <svg xmlns=\"http://www.w3.org/2000/svg\" height=\"24px\"viewBox=\"0 0 24 24\"\n",
              "       width=\"24px\">\n",
              "    <path d=\"M0 0h24v24H0V0z\" fill=\"none\"/>\n",
              "    <path d=\"M18.56 5.44l.94 2.06.94-2.06 2.06-.94-2.06-.94-.94-2.06-.94 2.06-2.06.94zm-11 1L8.5 8.5l.94-2.06 2.06-.94-2.06-.94L8.5 2.5l-.94 2.06-2.06.94zm10 10l.94 2.06.94-2.06 2.06-.94-2.06-.94-.94-2.06-.94 2.06-2.06.94z\"/><path d=\"M17.41 7.96l-1.37-1.37c-.4-.4-.92-.59-1.43-.59-.52 0-1.04.2-1.43.59L10.3 9.45l-7.72 7.72c-.78.78-.78 2.05 0 2.83L4 21.41c.39.39.9.59 1.41.59.51 0 1.02-.2 1.41-.59l7.78-7.78 2.81-2.81c.8-.78.8-2.07 0-2.86zM5.41 20L4 18.59l7.72-7.72 1.47 1.35L5.41 20z\"/>\n",
              "  </svg>\n",
              "      </button>\n",
              "      \n",
              "  <style>\n",
              "    .colab-df-container {\n",
              "      display:flex;\n",
              "      flex-wrap:wrap;\n",
              "      gap: 12px;\n",
              "    }\n",
              "\n",
              "    .colab-df-convert {\n",
              "      background-color: #E8F0FE;\n",
              "      border: none;\n",
              "      border-radius: 50%;\n",
              "      cursor: pointer;\n",
              "      display: none;\n",
              "      fill: #1967D2;\n",
              "      height: 32px;\n",
              "      padding: 0 0 0 0;\n",
              "      width: 32px;\n",
              "    }\n",
              "\n",
              "    .colab-df-convert:hover {\n",
              "      background-color: #E2EBFA;\n",
              "      box-shadow: 0px 1px 2px rgba(60, 64, 67, 0.3), 0px 1px 3px 1px rgba(60, 64, 67, 0.15);\n",
              "      fill: #174EA6;\n",
              "    }\n",
              "\n",
              "    [theme=dark] .colab-df-convert {\n",
              "      background-color: #3B4455;\n",
              "      fill: #D2E3FC;\n",
              "    }\n",
              "\n",
              "    [theme=dark] .colab-df-convert:hover {\n",
              "      background-color: #434B5C;\n",
              "      box-shadow: 0px 1px 3px 1px rgba(0, 0, 0, 0.15);\n",
              "      filter: drop-shadow(0px 1px 2px rgba(0, 0, 0, 0.3));\n",
              "      fill: #FFFFFF;\n",
              "    }\n",
              "  </style>\n",
              "\n",
              "      <script>\n",
              "        const buttonEl =\n",
              "          document.querySelector('#df-a85db361-813d-4571-88d5-b507602327af button.colab-df-convert');\n",
              "        buttonEl.style.display =\n",
              "          google.colab.kernel.accessAllowed ? 'block' : 'none';\n",
              "\n",
              "        async function convertToInteractive(key) {\n",
              "          const element = document.querySelector('#df-a85db361-813d-4571-88d5-b507602327af');\n",
              "          const dataTable =\n",
              "            await google.colab.kernel.invokeFunction('convertToInteractive',\n",
              "                                                     [key], {});\n",
              "          if (!dataTable) return;\n",
              "\n",
              "          const docLinkHtml = 'Like what you see? Visit the ' +\n",
              "            '<a target=\"_blank\" href=https://colab.research.google.com/notebooks/data_table.ipynb>data table notebook</a>'\n",
              "            + ' to learn more about interactive tables.';\n",
              "          element.innerHTML = '';\n",
              "          dataTable['output_type'] = 'display_data';\n",
              "          await google.colab.output.renderOutput(dataTable, element);\n",
              "          const docLink = document.createElement('div');\n",
              "          docLink.innerHTML = docLinkHtml;\n",
              "          element.appendChild(docLink);\n",
              "        }\n",
              "      </script>\n",
              "    </div>\n",
              "  </div>\n",
              "  "
            ],
            "text/plain": [
              "              Compagnie  Total d'escales  ...  Prix  Duree de vol\n",
              "0            Air France                0  ...   204      2.333333\n",
              "1            Air France                0  ...   204      2.500000\n",
              "2               Flyr AS                0  ...   195      2.416667\n",
              "3               Flyr AS                0  ...   195      2.416667\n",
              "4             Norwegian                0  ...   186      2.333333\n",
              "...                 ...              ...  ...   ...           ...\n",
              "61329  Turkish Airlines                1  ...   294      7.333333\n",
              "61330       Sky Express                0  ...  1874      3.000000\n",
              "61331             SWISS                1  ...  1874      5.500000\n",
              "61332       Sky Express                0  ...  1879      3.000000\n",
              "61333         Lufthansa                1  ...  1879      4.916667\n",
              "\n",
              "[61334 rows x 8 columns]"
            ]
          },
          "metadata": {},
          "execution_count": 182
        }
      ]
    },
    {
      "cell_type": "code",
      "source": [
        "#variables et types des données\n",
        "df.dtypes"
      ],
      "metadata": {
        "colab": {
          "base_uri": "https://localhost:8080/"
        },
        "id": "3P5f2foVJSJx",
        "outputId": "81b29dfb-dcb9-47bc-bfe9-32dd3921a5fd"
      },
      "id": "3P5f2foVJSJx",
      "execution_count": 127,
      "outputs": [
        {
          "output_type": "execute_result",
          "data": {
            "text/plain": [
              "Compagnie                  object\n",
              "Total d'escales             int64\n",
              "Destination                object\n",
              "Distance                  float64\n",
              "Date_aller         datetime64[ns]\n",
              "Date_retour        datetime64[ns]\n",
              "Prix                        int64\n",
              "Duree de vol              float64\n",
              "dtype: object"
            ]
          },
          "metadata": {},
          "execution_count": 127
        }
      ]
    },
    {
      "cell_type": "code",
      "source": [
        "df.isnull().sum()"
      ],
      "metadata": {
        "colab": {
          "base_uri": "https://localhost:8080/"
        },
        "id": "QxNrJBWU_62M",
        "outputId": "062d9772-80b6-4af5-ad49-ee11b36fea62"
      },
      "id": "QxNrJBWU_62M",
      "execution_count": 128,
      "outputs": [
        {
          "output_type": "execute_result",
          "data": {
            "text/plain": [
              "Compagnie          15\n",
              "Total d'escales     0\n",
              "Destination         0\n",
              "Distance            0\n",
              "Date_aller          0\n",
              "Date_retour         0\n",
              "Prix                0\n",
              "Duree de vol        0\n",
              "dtype: int64"
            ]
          },
          "metadata": {},
          "execution_count": 128
        }
      ]
    },
    {
      "cell_type": "markdown",
      "source": [
        "Il est normal qu'il n'y ait pas de données manquantes pour ce dataset particulier puisque ce dernier est constitué d'un ensemble de données de ventes de prix de billets d'avion. "
      ],
      "metadata": {
        "id": "_cwHNIA9ABkR"
      },
      "id": "_cwHNIA9ABkR"
    },
    {
      "cell_type": "code",
      "source": [
        "df.describe().transpose()"
      ],
      "metadata": {
        "colab": {
          "base_uri": "https://localhost:8080/",
          "height": 175
        },
        "id": "uamzmuohAphq",
        "outputId": "a362e8c2-139b-45a8-bd70-b17ca2b7e850"
      },
      "id": "uamzmuohAphq",
      "execution_count": 129,
      "outputs": [
        {
          "output_type": "execute_result",
          "data": {
            "text/html": [
              "\n",
              "  <div id=\"df-f56ee448-5300-4a2c-b0d8-2a119f141f87\">\n",
              "    <div class=\"colab-df-container\">\n",
              "      <div>\n",
              "<style scoped>\n",
              "    .dataframe tbody tr th:only-of-type {\n",
              "        vertical-align: middle;\n",
              "    }\n",
              "\n",
              "    .dataframe tbody tr th {\n",
              "        vertical-align: top;\n",
              "    }\n",
              "\n",
              "    .dataframe thead th {\n",
              "        text-align: right;\n",
              "    }\n",
              "</style>\n",
              "<table border=\"1\" class=\"dataframe\">\n",
              "  <thead>\n",
              "    <tr style=\"text-align: right;\">\n",
              "      <th></th>\n",
              "      <th>count</th>\n",
              "      <th>mean</th>\n",
              "      <th>std</th>\n",
              "      <th>min</th>\n",
              "      <th>25%</th>\n",
              "      <th>50%</th>\n",
              "      <th>75%</th>\n",
              "      <th>max</th>\n",
              "    </tr>\n",
              "  </thead>\n",
              "  <tbody>\n",
              "    <tr>\n",
              "      <th>Total d'escales</th>\n",
              "      <td>61334.0</td>\n",
              "      <td>0.543516</td>\n",
              "      <td>0.523390</td>\n",
              "      <td>0.000000</td>\n",
              "      <td>0.000000</td>\n",
              "      <td>1.0</td>\n",
              "      <td>1.000000</td>\n",
              "      <td>2.00</td>\n",
              "    </tr>\n",
              "    <tr>\n",
              "      <th>Distance</th>\n",
              "      <td>61334.0</td>\n",
              "      <td>1464.821966</td>\n",
              "      <td>572.185078</td>\n",
              "      <td>342.760000</td>\n",
              "      <td>1054.000000</td>\n",
              "      <td>1054.0</td>\n",
              "      <td>2095.520000</td>\n",
              "      <td>2486.34</td>\n",
              "    </tr>\n",
              "    <tr>\n",
              "      <th>Prix</th>\n",
              "      <td>61334.0</td>\n",
              "      <td>297.329507</td>\n",
              "      <td>321.283995</td>\n",
              "      <td>33.000000</td>\n",
              "      <td>153.000000</td>\n",
              "      <td>219.0</td>\n",
              "      <td>333.000000</td>\n",
              "      <td>3768.00</td>\n",
              "    </tr>\n",
              "    <tr>\n",
              "      <th>Duree de vol</th>\n",
              "      <td>61334.0</td>\n",
              "      <td>4.840866</td>\n",
              "      <td>3.004285</td>\n",
              "      <td>1.083333</td>\n",
              "      <td>2.083333</td>\n",
              "      <td>4.5</td>\n",
              "      <td>6.416667</td>\n",
              "      <td>28.25</td>\n",
              "    </tr>\n",
              "  </tbody>\n",
              "</table>\n",
              "</div>\n",
              "      <button class=\"colab-df-convert\" onclick=\"convertToInteractive('df-f56ee448-5300-4a2c-b0d8-2a119f141f87')\"\n",
              "              title=\"Convert this dataframe to an interactive table.\"\n",
              "              style=\"display:none;\">\n",
              "        \n",
              "  <svg xmlns=\"http://www.w3.org/2000/svg\" height=\"24px\"viewBox=\"0 0 24 24\"\n",
              "       width=\"24px\">\n",
              "    <path d=\"M0 0h24v24H0V0z\" fill=\"none\"/>\n",
              "    <path d=\"M18.56 5.44l.94 2.06.94-2.06 2.06-.94-2.06-.94-.94-2.06-.94 2.06-2.06.94zm-11 1L8.5 8.5l.94-2.06 2.06-.94-2.06-.94L8.5 2.5l-.94 2.06-2.06.94zm10 10l.94 2.06.94-2.06 2.06-.94-2.06-.94-.94-2.06-.94 2.06-2.06.94z\"/><path d=\"M17.41 7.96l-1.37-1.37c-.4-.4-.92-.59-1.43-.59-.52 0-1.04.2-1.43.59L10.3 9.45l-7.72 7.72c-.78.78-.78 2.05 0 2.83L4 21.41c.39.39.9.59 1.41.59.51 0 1.02-.2 1.41-.59l7.78-7.78 2.81-2.81c.8-.78.8-2.07 0-2.86zM5.41 20L4 18.59l7.72-7.72 1.47 1.35L5.41 20z\"/>\n",
              "  </svg>\n",
              "      </button>\n",
              "      \n",
              "  <style>\n",
              "    .colab-df-container {\n",
              "      display:flex;\n",
              "      flex-wrap:wrap;\n",
              "      gap: 12px;\n",
              "    }\n",
              "\n",
              "    .colab-df-convert {\n",
              "      background-color: #E8F0FE;\n",
              "      border: none;\n",
              "      border-radius: 50%;\n",
              "      cursor: pointer;\n",
              "      display: none;\n",
              "      fill: #1967D2;\n",
              "      height: 32px;\n",
              "      padding: 0 0 0 0;\n",
              "      width: 32px;\n",
              "    }\n",
              "\n",
              "    .colab-df-convert:hover {\n",
              "      background-color: #E2EBFA;\n",
              "      box-shadow: 0px 1px 2px rgba(60, 64, 67, 0.3), 0px 1px 3px 1px rgba(60, 64, 67, 0.15);\n",
              "      fill: #174EA6;\n",
              "    }\n",
              "\n",
              "    [theme=dark] .colab-df-convert {\n",
              "      background-color: #3B4455;\n",
              "      fill: #D2E3FC;\n",
              "    }\n",
              "\n",
              "    [theme=dark] .colab-df-convert:hover {\n",
              "      background-color: #434B5C;\n",
              "      box-shadow: 0px 1px 3px 1px rgba(0, 0, 0, 0.15);\n",
              "      filter: drop-shadow(0px 1px 2px rgba(0, 0, 0, 0.3));\n",
              "      fill: #FFFFFF;\n",
              "    }\n",
              "  </style>\n",
              "\n",
              "      <script>\n",
              "        const buttonEl =\n",
              "          document.querySelector('#df-f56ee448-5300-4a2c-b0d8-2a119f141f87 button.colab-df-convert');\n",
              "        buttonEl.style.display =\n",
              "          google.colab.kernel.accessAllowed ? 'block' : 'none';\n",
              "\n",
              "        async function convertToInteractive(key) {\n",
              "          const element = document.querySelector('#df-f56ee448-5300-4a2c-b0d8-2a119f141f87');\n",
              "          const dataTable =\n",
              "            await google.colab.kernel.invokeFunction('convertToInteractive',\n",
              "                                                     [key], {});\n",
              "          if (!dataTable) return;\n",
              "\n",
              "          const docLinkHtml = 'Like what you see? Visit the ' +\n",
              "            '<a target=\"_blank\" href=https://colab.research.google.com/notebooks/data_table.ipynb>data table notebook</a>'\n",
              "            + ' to learn more about interactive tables.';\n",
              "          element.innerHTML = '';\n",
              "          dataTable['output_type'] = 'display_data';\n",
              "          await google.colab.output.renderOutput(dataTable, element);\n",
              "          const docLink = document.createElement('div');\n",
              "          docLink.innerHTML = docLinkHtml;\n",
              "          element.appendChild(docLink);\n",
              "        }\n",
              "      </script>\n",
              "    </div>\n",
              "  </div>\n",
              "  "
            ],
            "text/plain": [
              "                   count         mean         std  ...     50%          75%      max\n",
              "Total d'escales  61334.0     0.543516    0.523390  ...     1.0     1.000000     2.00\n",
              "Distance         61334.0  1464.821966  572.185078  ...  1054.0  2095.520000  2486.34\n",
              "Prix             61334.0   297.329507  321.283995  ...   219.0   333.000000  3768.00\n",
              "Duree de vol     61334.0     4.840866    3.004285  ...     4.5     6.416667    28.25\n",
              "\n",
              "[4 rows x 8 columns]"
            ]
          },
          "metadata": {},
          "execution_count": 129
        }
      ]
    },
    {
      "cell_type": "markdown",
      "source": [
        "On obtient des éléments statistques (moyenne, écart-type, quartile, ...) pour la distance, le prix, la durée du vol et le nombre d'escales.  "
      ],
      "metadata": {
        "id": "tkHnU6IJCpWb"
      },
      "id": "tkHnU6IJCpWb"
    },
    {
      "cell_type": "markdown",
      "source": [
        "Commençons par tracer une distribution de notre variable cible (le prix):"
      ],
      "metadata": {
        "id": "MAEsHOY_FOCo"
      },
      "id": "MAEsHOY_FOCo"
    },
    {
      "cell_type": "code",
      "source": [
        "plt.figure(figsize=(12,8))\n",
        "sns.distplot(df['Prix']);"
      ],
      "metadata": {
        "colab": {
          "base_uri": "https://localhost:8080/",
          "height": 552
        },
        "id": "lUYmfpzMFNG4",
        "outputId": "85e63264-9d4a-49bb-c6d4-68abe1fe2c3d"
      },
      "id": "lUYmfpzMFNG4",
      "execution_count": 130,
      "outputs": [
        {
          "output_type": "stream",
          "name": "stderr",
          "text": [
            "/usr/local/lib/python3.7/dist-packages/seaborn/distributions.py:2619: FutureWarning: `distplot` is a deprecated function and will be removed in a future version. Please adapt your code to use either `displot` (a figure-level function with similar flexibility) or `histplot` (an axes-level function for histograms).\n",
            "  warnings.warn(msg, FutureWarning)\n"
          ]
        },
        {
          "output_type": "display_data",
          "data": {
            "image/png": "[encoded data removed]",
            "text/plain": [
              "<Figure size 864x576 with 1 Axes>"
            ]
          },
          "metadata": {
            "needs_background": "light"
          }
        }
      ]
    },
    {
      "cell_type": "markdown",
      "source": [
        "Les prix de billets d'avion sont en très grande majorité entre 0 et 1000 €.\n"
      ],
      "metadata": {
        "id": "qq2RX5EssReZ"
      },
      "id": "qq2RX5EssReZ"
    },
    {
      "cell_type": "code",
      "source": [
        "#Regardons les variables qui sont le plus corrélés au Prix\n",
        "\n",
        "df.corr()['Prix'].sort_values()"
      ],
      "metadata": {
        "colab": {
          "base_uri": "https://localhost:8080/"
        },
        "id": "fFLuTicAr5RK",
        "outputId": "460e85bd-c114-4a5b-a19a-377f62adda8b"
      },
      "id": "fFLuTicAr5RK",
      "execution_count": 131,
      "outputs": [
        {
          "output_type": "execute_result",
          "data": {
            "text/plain": [
              "Total d'escales    0.093786\n",
              "Duree de vol       0.145178\n",
              "Distance           0.303020\n",
              "Prix               1.000000\n",
              "Name: Prix, dtype: float64"
            ]
          },
          "metadata": {},
          "execution_count": 131
        }
      ]
    },
    {
      "cell_type": "markdown",
      "source": [
        "Dans cette partie, nous proposons de regarder la relation affine entre le prix du billet d'avion et nos variables numériques:"
      ],
      "metadata": {
        "id": "QygMymGxJEKg"
      },
      "id": "QygMymGxJEKg"
    },
    {
      "cell_type": "code",
      "source": [
        "fig, axs = plt.subplots(3, 1, figsize=(10,15))\n",
        "fig.suptitle(\"Relation entre nos variables quantitatives et le Prix du billet d'avion\")\n",
        "\n",
        "test00=df.groupby('Distance',as_index=False).mean()\n",
        "axs[0].scatter(test00['Distance'], test00['Prix'])\n",
        "axs[0].set(xlabel='distance entre Paris et la ville de destination', ylabel='Prix selon la distance parcouru')\n",
        "\n",
        "test01=df.groupby('Duree de vol',as_index=False).mean()\n",
        "axs[1].scatter(test01['Duree de vol'], test01['Prix'])\n",
        "axs[1].set(xlabel='Duree du trajet', ylabel='Prix selon la duree du vol')\n",
        "\n",
        "test02=df.groupby(\"Total d'escales\",as_index=False).mean()\n",
        "axs[2].scatter(test02[\"Total d'escales\"], test02['Prix'])\n",
        "axs[2].set(xlabel=\"Nombre d'escales\", ylabel=\"Prix selon le nombre d'escales durant le trajet\")\n",
        "\n"
      ],
      "metadata": {
        "colab": {
          "base_uri": "https://localhost:8080/",
          "height": 1000
        },
        "id": "XaP1L_qxxDZe",
        "outputId": "e641d366-cd24-45bc-c574-6f1772da0574"
      },
      "id": "XaP1L_qxxDZe",
      "execution_count": 132,
      "outputs": [
        {
          "output_type": "execute_result",
          "data": {
            "text/plain": [
              "[Text(0, 0.5, \"Prix selon le nombre d'escales durant le trajet\"),\n",
              " Text(0.5, 0, \"Nombre d'escales\")]"
            ]
          },
          "metadata": {},
          "execution_count": 132
        },
        {
          "output_type": "display_data",
          "data": {
            "image/png": "[encoded data removed]",
            "text/plain": [
              "<Figure size 720x1080 with 3 Axes>"
            ]
          },
          "metadata": {
            "needs_background": "light"
          }
        }
      ]
    },
    {
      "cell_type": "markdown",
      "source": [
        "Selon ces graphiques, nous pouvons constater que :\n",
        "\n",
        "• il semblerait que la distance qui sépare Paris et la ville de destination ait une influence sur le prix;\n",
        "\n",
        "• La durée du trajet et le nombre d'escales ne semblent pas beaucoup influencer le prix;\n"
      ],
      "metadata": {
        "id": "FU3JnMVD-WpW"
      },
      "id": "FU3JnMVD-WpW"
    },
    {
      "cell_type": "markdown",
      "source": [
        "Dans les prochaines sections nous poussons notre analyse avec la matrice de corrélation et l'analyse en composante principale (PCA)"
      ],
      "metadata": {
        "id": "457XaQpFH8Ul"
      },
      "id": "457XaQpFH8Ul"
    },
    {
      "cell_type": "markdown",
      "source": [
        "# Tableau de corrélation"
      ],
      "metadata": {
        "id": "bKkKVDLbJldD"
      },
      "id": "bKkKVDLbJldD"
    },
    {
      "cell_type": "code",
      "source": [
        "sns.heatmap(data=df.iloc[:, 1:10].corr(), cmap = 'viridis', annot=True)\n",
        "plt.show()\n",
        "sns.heatmap"
      ],
      "metadata": {
        "colab": {
          "base_uri": "https://localhost:8080/",
          "height": 287
        },
        "id": "w-CH41fvJsED",
        "outputId": "b7c26823-750d-4f39-804e-8b19b9c627da"
      },
      "id": "w-CH41fvJsED",
      "execution_count": 133,
      "outputs": [
        {
          "output_type": "display_data",
          "data": {
            "image/png": "[encoded data removed]",
            "text/plain": [
              "<Figure size 432x288 with 2 Axes>"
            ]
          },
          "metadata": {
            "needs_background": "light"
          }
        },
        {
          "output_type": "execute_result",
          "data": {
            "text/plain": [
              "<function seaborn.matrix.heatmap>"
            ]
          },
          "metadata": {},
          "execution_count": 133
        }
      ]
    },
    {
      "cell_type": "markdown",
      "source": [
        "Cette matrice des corrélations linéaires entre les différentes variables quantitatives de notre jeu de données nous montre l'existence:\n",
        "\n",
        "• d'une très grande corrélation positive entre le nombre total d'escales et la durée du vol.\n",
        "\n",
        "• d'une corrélation positive entre le prix du billet d'avion et la distance du trajet.\n",
        "\n",
        "• d'une faible corrélation entre le prix du billet d'avion et la durée du vol.\n",
        "\n",
        "• d'une corrélation positive entre la distance et la durée du vol. \n",
        "\n"
      ],
      "metadata": {
        "id": "98cdTIFFpYOg"
      },
      "id": "98cdTIFFpYOg"
    },
    {
      "cell_type": "markdown",
      "source": [
        "Ensuite, nous reprenons la matrice de corrélation précédente en ayant supprimer au préalable les valeurs extrêmes du prix que nous avons fixé arbitrairement au top 1% des prix de billets d'avion les plus élévés. "
      ],
      "metadata": {
        "id": "xP0WUojdogOO"
      },
      "id": "xP0WUojdogOO"
    },
    {
      "cell_type": "code",
      "source": [
        "# Le top 10% des billets d'avion les plus chers\n",
        "len(df)*0.1"
      ],
      "metadata": {
        "colab": {
          "base_uri": "https://localhost:8080/"
        },
        "id": "9OHHEeL8od0K",
        "outputId": "b8e889d4-aefc-4c8a-8446-df461909ed5a"
      },
      "id": "9OHHEeL8od0K",
      "execution_count": 188,
      "outputs": [
        {
          "output_type": "execute_result",
          "data": {
            "text/plain": [
              "6133.400000000001"
            ]
          },
          "metadata": {},
          "execution_count": 188
        }
      ]
    },
    {
      "cell_type": "code",
      "source": [
        "# on élimine de notre jeu de données les prix extrêmes \n",
        "non_top_10_perc= df.sort_values('Prix', ascending= False).iloc[6133:]\n"
      ],
      "metadata": {
        "id": "4NB9Ge2HpRCx"
      },
      "id": "4NB9Ge2HpRCx",
      "execution_count": 191,
      "outputs": []
    },
    {
      "cell_type": "code",
      "source": [
        "\n",
        "sns.heatmap(data=non_top_1_perc.iloc[:, 1:10].corr(), cmap = 'viridis', annot=True)\n",
        "plt.show()"
      ],
      "metadata": {
        "colab": {
          "base_uri": "https://localhost:8080/",
          "height": 269
        },
        "id": "hG-mdbcw3Qg3",
        "outputId": "fa078e9a-81dd-4942-8f25-1d5dc653a55d"
      },
      "id": "hG-mdbcw3Qg3",
      "execution_count": 192,
      "outputs": [
        {
          "output_type": "display_data",
          "data": {
            "image/png": "[encoded data removed]",
            "text/plain": [
              "<Figure size 432x288 with 2 Axes>"
            ]
          },
          "metadata": {
            "needs_background": "light"
          }
        }
      ]
    },
    {
      "cell_type": "markdown",
      "source": [
        "En éliminant ces valeurs extrêmes on obtient:\n",
        "\n",
        "• toujours une grande corrélation entre le nombre total d'escales et la durée du vol\n",
        "\n",
        "• une plus grande corrélation entre la distance et le prix du billet d'avion ce qui est assez intuitif!;\n",
        "\n",
        "• une corrélation positive mais certes faible entre la distance et le nombre total d'escales ;\n",
        "\n",
        "• d'une corrélation positive entre la durée du vol et la distance du trajet ce qui est normal;\n",
        "\n",
        "•d'une faible corrélation positive entre la durée du vol et le prix\n",
        "\n",
        "•d'une faible corrélation positive entre le nombre total d'escales et le prix\n"
      ],
      "metadata": {
        "id": "JoUyYkAEqLde"
      },
      "id": "JoUyYkAEqLde"
    },
    {
      "cell_type": "markdown",
      "source": [
        "#ACP"
      ],
      "metadata": {
        "id": "R4Uw1c9Nsfk5"
      },
      "id": "R4Uw1c9Nsfk5"
    },
    {
      "cell_type": "markdown",
      "source": [
        "Afin de visualiser en même temps tous nos variables quantitatives( Total d'escales, Duree de vol, Prix, Distance) sur un plan, la solution est d’effectuer une projection orthogonale. Malheureusement, quand on projette des points, on perd de l’information. \n",
        "\n",
        "C’est ici la clé de l’ACP : rechercher la projection pour laquelle l’inertie des points est maximale.\n",
        "\n",
        "Nous proposons d'afficher les cercles de corrélation pour regarder quels sont les variables qui sont le plus corrélés avec le prix du billet d'avion."
      ],
      "metadata": {
        "id": "x2GyqrAuFS4X"
      },
      "id": "x2GyqrAuFS4X"
    },
    {
      "cell_type": "code",
      "source": [
        "#Fonctions pour la représentation du cercle de corrélation\n",
        "\n",
        "def display_circles(pcs, n_comp, pca, axis_ranks, labels=None, label_rotation=0, varsup=None, lims=None):\n",
        "    for d1, d2 in axis_ranks: # On affiche les 2 premières composantes\n",
        "        if d2 < n_comp:\n",
        "\n",
        "            # initialisation de la figure\n",
        "            fig, ax = plt.subplots(figsize=(7,6))\n",
        "\n",
        "            # détermination des limites du graphique\n",
        "            if lims is not None :\n",
        "                xmin, xmax, ymin, ymax = lims\n",
        "            elif pcs.shape[1] < 30 :\n",
        "                xmin, xmax, ymin, ymax = -1, 1, -1, 1\n",
        "            else :\n",
        "                xmin, xmax, ymin, ymax = min(pcs[d1,:]), max(pcs[d1,:]), min(pcs[d2,:]), max(pcs[d2,:])\n",
        "\n",
        "            # affichage des flèches\n",
        "            # s'il y a plus de 30 flèches, on n'affiche pas le triangle à leur extrémité\n",
        "            if pcs.shape[1] < 30 :\n",
        "                plt.quiver(np.zeros(pcs.shape[1]), np.zeros(pcs.shape[1]),\n",
        "                   pcs[d1,:], pcs[d2,:], \n",
        "                   angles='xy', scale_units='xy', scale=1, color=\"grey\")\n",
        "                # (voir la doc : https://matplotlib.org/api/_as_gen/matplotlib.pyplot.quiver.html)\n",
        "            else:\n",
        "                lines = [[[0,0],[x,y]] for x,y in pcs[[d1,d2]].T]\n",
        "                ax.add_collection(LineCollection(lines, axes=ax, alpha=.1, color='black'))\n",
        "            \n",
        "            # affichage des noms des variables  \n",
        "            if labels is not None:  \n",
        "                for i,(x, y) in enumerate(pcs[[d1,d2]].T):\n",
        "                    if x >= xmin and x <= xmax and y >= ymin and y <= ymax :\n",
        "                        plt.text(x, y, labels[i], fontsize='14', ha='center', va='center', rotation=label_rotation, color=\"blue\", alpha=0.5)\n",
        "            \n",
        "            # affichage du cercle\n",
        "            circle = plt.Circle((0,0), 1, facecolor='none', edgecolor='b')\n",
        "            plt.gca().add_artist(circle)\n",
        "\n",
        "            #variables illustratives\n",
        "            if varsup is not None:\n",
        "               corsup = np.zeros(n_comp)\n",
        "               for j in range(n_comp):\n",
        "                  corsup[j] = np.corrcoef(varsup,X_projected[:,j])[0,1]\n",
        "               plt.annotate(varsup.name,(corsup[d1-1],corsup[d2-1]),color='g')\n",
        "  \n",
        "\n",
        "            # définition des limites du graphique\n",
        "            plt.xlim(xmin, xmax)\n",
        "            plt.ylim(ymin, ymax)\n",
        "        \n",
        "            # affichage des lignes horizontales et verticales\n",
        "            plt.plot([-1, 1], [0, 0], color='grey', ls='--')\n",
        "            plt.plot([0, 0], [-1, 1], color='grey', ls='--')\n",
        "\n",
        "            # nom des axes, avec le pourcentage d'inertie expliqué\n",
        "            plt.xlabel('F{} ({}%)'.format(d1+1, round(100*pca.explained_variance_ratio_[d1],1)))\n",
        "            plt.ylabel('F{} ({}%)'.format(d2+1, round(100*pca.explained_variance_ratio_[d2],1)))\n",
        "\n",
        "            plt.title(\"Cercle des corrélations (F{} et F{})\".format(d1+1, d2+1))\n",
        "            plt.show(block=False)"
      ],
      "metadata": {
        "id": "dMg7_GhXsjt3"
      },
      "id": "dMg7_GhXsjt3",
      "execution_count": 137,
      "outputs": []
    },
    {
      "cell_type": "code",
      "source": [
        "from sklearn.decomposition import PCA\n",
        "from sklearn import decomposition\n",
        "from sklearn.preprocessing import StandardScaler\n",
        "from sklearn import preprocessing\n",
        "# choix du nombre de composantes à calculer\n",
        "n_comp = 2\n",
        "\n",
        "mycolumns = [\"Total d'escales\" , 'Duree de vol', 'Distance']\n",
        "\n",
        "df_pca = df[mycolumns]\n",
        "\n",
        "# préparation des données pour l'ACP\n",
        "df_pca = df_pca.fillna(df_pca.mean()) # Il est fréquent de remplacer les valeurs inconnues par la moyenne de la variable\n",
        "X = df_pca.values\n",
        "names = df.index #pour avoir les intitulés\n",
        "\n",
        "# Centrage et Réduction\n",
        "std_scale = preprocessing.StandardScaler().fit(X)\n",
        "X_scaled = std_scale.transform(X)\n",
        "\n",
        "# Calcul des composantes principales\n",
        "pca = decomposition.PCA(n_components=n_comp)\n",
        "pca.fit(X_scaled)\n"
      ],
      "metadata": {
        "colab": {
          "base_uri": "https://localhost:8080/"
        },
        "id": "dYFfQa9QNBh4",
        "outputId": "5a520509-2ed5-40fe-cf8f-d27d280e153b"
      },
      "id": "dYFfQa9QNBh4",
      "execution_count": 138,
      "outputs": [
        {
          "output_type": "execute_result",
          "data": {
            "text/plain": [
              "PCA(n_components=2)"
            ]
          },
          "metadata": {},
          "execution_count": 138
        }
      ]
    },
    {
      "cell_type": "code",
      "source": [
        "# Cercle des corrélations\n",
        "pcs = pca.components_\n",
        "\n",
        "display_circles(pcs, X.shape[1], acp, [(0,1)],labels = np.array(mycolumns),varsup=df['Prix'])"
      ],
      "metadata": {
        "colab": {
          "base_uri": "https://localhost:8080/",
          "height": 404
        },
        "id": "6_TI0yBbO1HP",
        "outputId": "8c1606be-afe1-40e8-d52f-01ff806902d7"
      },
      "id": "6_TI0yBbO1HP",
      "execution_count": 139,
      "outputs": [
        {
          "output_type": "display_data",
          "data": {
            "image/png": "[encoded data removed]",
            "text/plain": [
              "<Figure size 504x432 with 1 Axes>"
            ]
          },
          "metadata": {
            "needs_background": "light"
          }
        }
      ]
    },
    {
      "cell_type": "markdown",
      "source": [
        "Les variables les mieux représentées en deux dimensions sont ceux dont les flèches sont\n",
        "les plus longues. On en déduit donc que la varibable Distance est la mieux corrélée avec la variable Prix, ce qui confirme nos précédents résultats.\n",
        "\n",
        "Les variables Total d'escales et Duree de vol sont moins bien présentées dans les axes, elles sont moins corrélées avec le Prix.\n",
        "\n",
        "L'autre point à soulever ici est que les 2 premières dimension contiennent 93% de l'inertie totale (l’inertie est la variance totale du tableau de données, i.e. la trace de la matrice des corrélations)"
      ],
      "metadata": {
        "id": "_3crgDIYf1pQ"
      },
      "id": "_3crgDIYf1pQ"
    },
    {
      "cell_type": "code",
      "source": [
        "plt.figure(figsize=(10,6))\n",
        "sns.boxplot(x='Distance', y='Prix', data=df)"
      ],
      "metadata": {
        "colab": {
          "base_uri": "https://localhost:8080/",
          "height": 405
        },
        "id": "7sT4pTDAZzsz",
        "outputId": "ce3c7674-e666-4303-8fa0-8aadeaa3a821"
      },
      "id": "7sT4pTDAZzsz",
      "execution_count": 140,
      "outputs": [
        {
          "output_type": "execute_result",
          "data": {
            "text/plain": [
              "<matplotlib.axes._subplots.AxesSubplot at 0x7f76aae7b910>"
            ]
          },
          "metadata": {},
          "execution_count": 140
        },
        {
          "output_type": "display_data",
          "data": {
            "image/png": "[encoded data removed]",
            "text/plain": [
              "<Figure size 720x432 with 1 Axes>"
            ]
          },
          "metadata": {
            "needs_background": "light"
          }
        }
      ]
    },
    {
      "cell_type": "markdown",
      "source": [
        "Les prix augmentent beaucoup à partir d'une distance supérieure à 1344 km."
      ],
      "metadata": {
        "id": "nAseGWHlboU-"
      },
      "id": "nAseGWHlboU-"
    },
    {
      "cell_type": "code",
      "source": [
        "\n",
        "# Regardons la distribution des prix par nombre d'escales \n",
        "\n",
        "plt.figure(figsize=(10,6))\n",
        "sns.boxplot(x=\"Total d'escales\", y='Prix', data=df)"
      ],
      "metadata": {
        "colab": {
          "base_uri": "https://localhost:8080/",
          "height": 405
        },
        "id": "6F0roOLtb7Pi",
        "outputId": "21b825f4-c80e-444f-ae37-d978fe166b67"
      },
      "id": "6F0roOLtb7Pi",
      "execution_count": 141,
      "outputs": [
        {
          "output_type": "execute_result",
          "data": {
            "text/plain": [
              "<matplotlib.axes._subplots.AxesSubplot at 0x7f76a5fbe150>"
            ]
          },
          "metadata": {},
          "execution_count": 141
        },
        {
          "output_type": "display_data",
          "data": {
            "image/png": "[encoded data removed]",
            "text/plain": [
              "<Figure size 720x432 with 1 Axes>"
            ]
          },
          "metadata": {
            "needs_background": "light"
          }
        }
      ]
    },
    {
      "cell_type": "markdown",
      "source": [
        "# Ingiénérie des caractéristiques"
      ],
      "metadata": {
        "id": "ts6xROHy_FcN"
      },
      "id": "ts6xROHy_FcN"
    },
    {
      "cell_type": "markdown",
      "source": [
        "Nous allons extraire les mois de vente des billets afin de voir après s'il y une tendance de vente des billets d'avion qui se dégage (par exemple une montée des prix pendant la période estivale). \n",
        "\n",
        "Etant donné qu'une personne achète en même temps son billet(aller-retour), nous décidons de nous concentrer ici seulement sur la date aller"
      ],
      "metadata": {
        "id": "xIGLD_yCCjU5"
      },
      "id": "xIGLD_yCCjU5"
    },
    {
      "cell_type": "code",
      "source": [
        "#Dans la suite :\n",
        "\n",
        "df= non_top_10_perc"
      ],
      "metadata": {
        "id": "Tkf73yg0Rb7u"
      },
      "id": "Tkf73yg0Rb7u",
      "execution_count": 193,
      "outputs": []
    },
    {
      "cell_type": "code",
      "source": [
        "df['month'] = df['Date_aller'].apply(lambda date:date.month)"
      ],
      "metadata": {
        "id": "bc9Syimw-535"
      },
      "id": "bc9Syimw-535",
      "execution_count": 194,
      "outputs": []
    },
    {
      "cell_type": "code",
      "source": [
        "df['year'] = df['Date_aller'].apply(lambda date:date.year)"
      ],
      "metadata": {
        "id": "LiWMpxsWORbC"
      },
      "id": "LiWMpxsWORbC",
      "execution_count": 195,
      "outputs": []
    },
    {
      "cell_type": "code",
      "source": [
        "df.shape"
      ],
      "metadata": {
        "colab": {
          "base_uri": "https://localhost:8080/"
        },
        "id": "-xN1WQY5UKv_",
        "outputId": "fde20d7b-cdcd-46e1-80fd-bfa304ab03d0"
      },
      "id": "-xN1WQY5UKv_",
      "execution_count": 196,
      "outputs": [
        {
          "output_type": "execute_result",
          "data": {
            "text/plain": [
              "(55201, 10)"
            ]
          },
          "metadata": {},
          "execution_count": 196
        }
      ]
    },
    {
      "cell_type": "code",
      "source": [
        "df.head()"
      ],
      "metadata": {
        "colab": {
          "base_uri": "https://localhost:8080/",
          "height": 267
        },
        "id": "lFJ5AUIJESwM",
        "outputId": "d01c6e83-b44b-4d3f-8fcc-2dbfdc743862"
      },
      "id": "lFJ5AUIJESwM",
      "execution_count": 197,
      "outputs": [
        {
          "output_type": "execute_result",
          "data": {
            "text/html": [
              "\n",
              "  <div id=\"df-a239d40d-e47e-4699-96cc-c457f8b7d653\">\n",
              "    <div class=\"colab-df-container\">\n",
              "      <div>\n",
              "<style scoped>\n",
              "    .dataframe tbody tr th:only-of-type {\n",
              "        vertical-align: middle;\n",
              "    }\n",
              "\n",
              "    .dataframe tbody tr th {\n",
              "        vertical-align: top;\n",
              "    }\n",
              "\n",
              "    .dataframe thead th {\n",
              "        text-align: right;\n",
              "    }\n",
              "</style>\n",
              "<table border=\"1\" class=\"dataframe\">\n",
              "  <thead>\n",
              "    <tr style=\"text-align: right;\">\n",
              "      <th></th>\n",
              "      <th>Compagnie</th>\n",
              "      <th>Total d'escales</th>\n",
              "      <th>Destination</th>\n",
              "      <th>Distance</th>\n",
              "      <th>Date_aller</th>\n",
              "      <th>Date_retour</th>\n",
              "      <th>Prix</th>\n",
              "      <th>Duree de vol</th>\n",
              "      <th>month</th>\n",
              "      <th>year</th>\n",
              "    </tr>\n",
              "  </thead>\n",
              "  <tbody>\n",
              "    <tr>\n",
              "      <th>18007</th>\n",
              "      <td>Air France</td>\n",
              "      <td>0</td>\n",
              "      <td>Moscou</td>\n",
              "      <td>2486.34</td>\n",
              "      <td>2022-09-16</td>\n",
              "      <td>2022-09-23</td>\n",
              "      <td>504</td>\n",
              "      <td>4.083333</td>\n",
              "      <td>9</td>\n",
              "      <td>2022</td>\n",
              "    </tr>\n",
              "    <tr>\n",
              "      <th>61130</th>\n",
              "      <td>Iberia</td>\n",
              "      <td>1</td>\n",
              "      <td>Athenes</td>\n",
              "      <td>2095.52</td>\n",
              "      <td>2022-06-10</td>\n",
              "      <td>2022-06-17</td>\n",
              "      <td>504</td>\n",
              "      <td>6.750000</td>\n",
              "      <td>6</td>\n",
              "      <td>2022</td>\n",
              "    </tr>\n",
              "    <tr>\n",
              "      <th>61131</th>\n",
              "      <td>Iberia</td>\n",
              "      <td>1</td>\n",
              "      <td>Athenes</td>\n",
              "      <td>2095.52</td>\n",
              "      <td>2022-06-10</td>\n",
              "      <td>2022-06-17</td>\n",
              "      <td>504</td>\n",
              "      <td>8.166667</td>\n",
              "      <td>6</td>\n",
              "      <td>2022</td>\n",
              "    </tr>\n",
              "    <tr>\n",
              "      <th>12974</th>\n",
              "      <td>Aeroflot</td>\n",
              "      <td>0</td>\n",
              "      <td>Moscou</td>\n",
              "      <td>2486.34</td>\n",
              "      <td>2022-06-10</td>\n",
              "      <td>2022-06-17</td>\n",
              "      <td>504</td>\n",
              "      <td>4.000000</td>\n",
              "      <td>6</td>\n",
              "      <td>2022</td>\n",
              "    </tr>\n",
              "    <tr>\n",
              "      <th>11520</th>\n",
              "      <td>Air France</td>\n",
              "      <td>1</td>\n",
              "      <td>Moscou</td>\n",
              "      <td>2486.34</td>\n",
              "      <td>2022-05-06</td>\n",
              "      <td>2022-05-13</td>\n",
              "      <td>504</td>\n",
              "      <td>7.333333</td>\n",
              "      <td>5</td>\n",
              "      <td>2022</td>\n",
              "    </tr>\n",
              "  </tbody>\n",
              "</table>\n",
              "</div>\n",
              "      <button class=\"colab-df-convert\" onclick=\"convertToInteractive('df-a239d40d-e47e-4699-96cc-c457f8b7d653')\"\n",
              "              title=\"Convert this dataframe to an interactive table.\"\n",
              "              style=\"display:none;\">\n",
              "        \n",
              "  <svg xmlns=\"http://www.w3.org/2000/svg\" height=\"24px\"viewBox=\"0 0 24 24\"\n",
              "       width=\"24px\">\n",
              "    <path d=\"M0 0h24v24H0V0z\" fill=\"none\"/>\n",
              "    <path d=\"M18.56 5.44l.94 2.06.94-2.06 2.06-.94-2.06-.94-.94-2.06-.94 2.06-2.06.94zm-11 1L8.5 8.5l.94-2.06 2.06-.94-2.06-.94L8.5 2.5l-.94 2.06-2.06.94zm10 10l.94 2.06.94-2.06 2.06-.94-2.06-.94-.94-2.06-.94 2.06-2.06.94z\"/><path d=\"M17.41 7.96l-1.37-1.37c-.4-.4-.92-.59-1.43-.59-.52 0-1.04.2-1.43.59L10.3 9.45l-7.72 7.72c-.78.78-.78 2.05 0 2.83L4 21.41c.39.39.9.59 1.41.59.51 0 1.02-.2 1.41-.59l7.78-7.78 2.81-2.81c.8-.78.8-2.07 0-2.86zM5.41 20L4 18.59l7.72-7.72 1.47 1.35L5.41 20z\"/>\n",
              "  </svg>\n",
              "      </button>\n",
              "      \n",
              "  <style>\n",
              "    .colab-df-container {\n",
              "      display:flex;\n",
              "      flex-wrap:wrap;\n",
              "      gap: 12px;\n",
              "    }\n",
              "\n",
              "    .colab-df-convert {\n",
              "      background-color: #E8F0FE;\n",
              "      border: none;\n",
              "      border-radius: 50%;\n",
              "      cursor: pointer;\n",
              "      display: none;\n",
              "      fill: #1967D2;\n",
              "      height: 32px;\n",
              "      padding: 0 0 0 0;\n",
              "      width: 32px;\n",
              "    }\n",
              "\n",
              "    .colab-df-convert:hover {\n",
              "      background-color: #E2EBFA;\n",
              "      box-shadow: 0px 1px 2px rgba(60, 64, 67, 0.3), 0px 1px 3px 1px rgba(60, 64, 67, 0.15);\n",
              "      fill: #174EA6;\n",
              "    }\n",
              "\n",
              "    [theme=dark] .colab-df-convert {\n",
              "      background-color: #3B4455;\n",
              "      fill: #D2E3FC;\n",
              "    }\n",
              "\n",
              "    [theme=dark] .colab-df-convert:hover {\n",
              "      background-color: #434B5C;\n",
              "      box-shadow: 0px 1px 3px 1px rgba(0, 0, 0, 0.15);\n",
              "      filter: drop-shadow(0px 1px 2px rgba(0, 0, 0, 0.3));\n",
              "      fill: #FFFFFF;\n",
              "    }\n",
              "  </style>\n",
              "\n",
              "      <script>\n",
              "        const buttonEl =\n",
              "          document.querySelector('#df-a239d40d-e47e-4699-96cc-c457f8b7d653 button.colab-df-convert');\n",
              "        buttonEl.style.display =\n",
              "          google.colab.kernel.accessAllowed ? 'block' : 'none';\n",
              "\n",
              "        async function convertToInteractive(key) {\n",
              "          const element = document.querySelector('#df-a239d40d-e47e-4699-96cc-c457f8b7d653');\n",
              "          const dataTable =\n",
              "            await google.colab.kernel.invokeFunction('convertToInteractive',\n",
              "                                                     [key], {});\n",
              "          if (!dataTable) return;\n",
              "\n",
              "          const docLinkHtml = 'Like what you see? Visit the ' +\n",
              "            '<a target=\"_blank\" href=https://colab.research.google.com/notebooks/data_table.ipynb>data table notebook</a>'\n",
              "            + ' to learn more about interactive tables.';\n",
              "          element.innerHTML = '';\n",
              "          dataTable['output_type'] = 'display_data';\n",
              "          await google.colab.output.renderOutput(dataTable, element);\n",
              "          const docLink = document.createElement('div');\n",
              "          docLink.innerHTML = docLinkHtml;\n",
              "          element.appendChild(docLink);\n",
              "        }\n",
              "      </script>\n",
              "    </div>\n",
              "  </div>\n",
              "  "
            ],
            "text/plain": [
              "        Compagnie  Total d'escales Destination  ...  Duree de vol month  year\n",
              "18007  Air France                0      Moscou  ...      4.083333     9  2022\n",
              "61130      Iberia                1     Athenes  ...      6.750000     6  2022\n",
              "61131      Iberia                1     Athenes  ...      8.166667     6  2022\n",
              "12974    Aeroflot                0      Moscou  ...      4.000000     6  2022\n",
              "11520  Air France                1      Moscou  ...      7.333333     5  2022\n",
              "\n",
              "[5 rows x 10 columns]"
            ]
          },
          "metadata": {},
          "execution_count": 197
        }
      ]
    },
    {
      "cell_type": "code",
      "source": [
        "plt.figure(figsize=(12,8))\n",
        "sns.boxplot(x='month',y='Prix',data=df);"
      ],
      "metadata": {
        "colab": {
          "base_uri": "https://localhost:8080/",
          "height": 497
        },
        "id": "33pfPcMtEb6h",
        "outputId": "a3706d34-57af-4f15-fe75-6d672225b3d7"
      },
      "id": "33pfPcMtEb6h",
      "execution_count": 198,
      "outputs": [
        {
          "output_type": "display_data",
          "data": {
            "image/png": "[encoded data removed]",
            "text/plain": [
              "<Figure size 864x576 with 1 Axes>"
            ]
          },
          "metadata": {
            "needs_background": "light"
          }
        }
      ]
    },
    {
      "cell_type": "markdown",
      "source": [
        "Il est difficile de dire clairement s'il y a une tendance qui se dégage. "
      ],
      "metadata": {
        "id": "EnHgVmiUFHZH"
      },
      "id": "EnHgVmiUFHZH"
    },
    {
      "cell_type": "code",
      "source": [
        "df.groupby('month').mean()['Prix'].plot();"
      ],
      "metadata": {
        "colab": {
          "base_uri": "https://localhost:8080/",
          "height": 279
        },
        "id": "wxXx-S-XFOb3",
        "outputId": "bb9e646e-ab27-46a6-825a-8cf7aa0540b0"
      },
      "id": "wxXx-S-XFOb3",
      "execution_count": 199,
      "outputs": [
        {
          "output_type": "display_data",
          "data": {
            "image/png": "[encoded data removed]",
            "text/plain": [
              "<Figure size 432x288 with 1 Axes>"
            ]
          },
          "metadata": {
            "needs_background": "light"
          }
        }
      ]
    },
    {
      "cell_type": "markdown",
      "source": [
        "Il semble y avoir des différences de prix de ventes de billets d'avion entre les mois:\n",
        "\n",
        "• Les prix valent en moyenne environ 210€ au mois de mai alors qu'ils sont à 260€ au mois d'avril\n",
        "\n",
        "• Les prix des billets d'avion baissent drastiquement au mois de septembre."
      ],
      "metadata": {
        "id": "WJTRCCG7HSbc"
      },
      "id": "WJTRCCG7HSbc"
    },
    {
      "cell_type": "markdown",
      "source": [
        "Nous avons extrait de la variable \"Date_aller\" (\"Date_retour\") l'information qui nous intéressait, nous pouvons donc la supprimer."
      ],
      "metadata": {
        "id": "hZJ3PX6FNcke"
      },
      "id": "hZJ3PX6FNcke"
    },
    {
      "cell_type": "code",
      "source": [
        "df = df.drop('Date_aller',axis=1)\n",
        "df= df.drop('Date_retour', axis=1)"
      ],
      "metadata": {
        "id": "EJkMGS5iNWvZ"
      },
      "id": "EJkMGS5iNWvZ",
      "execution_count": 200,
      "outputs": []
    },
    {
      "cell_type": "code",
      "source": [
        "df.dtypes"
      ],
      "metadata": {
        "colab": {
          "base_uri": "https://localhost:8080/"
        },
        "id": "BL9pvAOTb4iE",
        "outputId": "110b510f-b15d-4dbc-cdb3-372ace299dbe"
      },
      "id": "BL9pvAOTb4iE",
      "execution_count": 201,
      "outputs": [
        {
          "output_type": "execute_result",
          "data": {
            "text/plain": [
              "Compagnie           object\n",
              "Total d'escales      int64\n",
              "Destination         object\n",
              "Distance           float64\n",
              "Prix                 int64\n",
              "Duree de vol       float64\n",
              "month                int64\n",
              "year                 int64\n",
              "dtype: object"
            ]
          },
          "metadata": {},
          "execution_count": 201
        }
      ]
    },
    {
      "cell_type": "code",
      "source": [
        "df= df.drop('Compagnie', axis=1)"
      ],
      "metadata": {
        "id": "g6UECPwEOMk5"
      },
      "id": "g6UECPwEOMk5",
      "execution_count": 202,
      "outputs": []
    },
    {
      "cell_type": "code",
      "source": [
        "#\n",
        "df= df.drop('Destination', axis=1)"
      ],
      "metadata": {
        "id": "r6U9IGM0c82y"
      },
      "id": "r6U9IGM0c82y",
      "execution_count": 203,
      "outputs": []
    },
    {
      "cell_type": "markdown",
      "source": [
        "## Mise à l'échelle et Répartition Entraînement / Test"
      ],
      "metadata": {
        "id": "7TUHyJPHTSdA"
      },
      "id": "7TUHyJPHTSdA"
    },
    {
      "cell_type": "code",
      "source": [
        "X = df.drop('Prix',axis=1)\n",
        "y = df['Prix']"
      ],
      "metadata": {
        "id": "yKL6yc92TRYB"
      },
      "id": "yKL6yc92TRYB",
      "execution_count": 204,
      "outputs": []
    },
    {
      "cell_type": "code",
      "source": [
        "from sklearn.model_selection import train_test_split"
      ],
      "metadata": {
        "id": "0iPJMMQJVY6R"
      },
      "id": "0iPJMMQJVY6R",
      "execution_count": 205,
      "outputs": []
    },
    {
      "cell_type": "code",
      "source": [
        "#Répartition entraînement/test\n",
        "X_train, X_test, y_train, y_test = train_test_split(X,y,test_size=0.3,random_state=101)"
      ],
      "metadata": {
        "id": "7oUoxdxRVeGr"
      },
      "id": "7oUoxdxRVeGr",
      "execution_count": 206,
      "outputs": []
    },
    {
      "cell_type": "markdown",
      "source": [
        "Après avoir fait la répartition de nos données, nous pouvons faire la mise à l'échelle ou scaling. Pour rappel, cette mise à l'échelle est uniquement adaptée à nos données d'entraînement pour éviter toute fuite de données depuis le set de test."
      ],
      "metadata": {
        "id": "ITijVKikWEUL"
      },
      "id": "ITijVKikWEUL"
    },
    {
      "cell_type": "markdown",
      "source": [
        "### Mise à l'échelle (Scaling)"
      ],
      "metadata": {
        "id": "adiscfi0Yh1I"
      },
      "id": "adiscfi0Yh1I"
    },
    {
      "cell_type": "code",
      "source": [
        "from sklearn.preprocessing import MinMaxScaler"
      ],
      "metadata": {
        "id": "yVavrYm0YmO2"
      },
      "id": "yVavrYm0YmO2",
      "execution_count": 207,
      "outputs": []
    },
    {
      "cell_type": "code",
      "source": [
        "# On crée une instance de ce MinMaxScaler\n",
        "scaler = MinMaxScaler()"
      ],
      "metadata": {
        "id": "uAvQBugVYyIt"
      },
      "id": "uAvQBugVYyIt",
      "execution_count": 208,
      "outputs": []
    },
    {
      "cell_type": "code",
      "source": [
        "# On rédefinit notre set d'entraînement à échelle \n",
        "X_train= scaler.fit_transform(X_train) # adapter le set d'entraînement et le transformer en même temps"
      ],
      "metadata": {
        "id": "YFARwUOQZCBx"
      },
      "id": "YFARwUOQZCBx",
      "execution_count": 209,
      "outputs": []
    },
    {
      "cell_type": "code",
      "source": [
        "X_test = scaler.transform(X_test) # On adapte à partir de données de test donc pas de .fit qui ferait fuiter des informations"
      ],
      "metadata": {
        "id": "wUeP-jlrapDX"
      },
      "id": "wUeP-jlrapDX",
      "execution_count": 210,
      "outputs": []
    },
    {
      "cell_type": "code",
      "source": [
        "X_train.shape"
      ],
      "metadata": {
        "colab": {
          "base_uri": "https://localhost:8080/"
        },
        "id": "eYjZF_ukbUdZ",
        "outputId": "98022027-c973-44a4-c543-a7b7470e48a2"
      },
      "id": "eYjZF_ukbUdZ",
      "execution_count": 211,
      "outputs": [
        {
          "output_type": "execute_result",
          "data": {
            "text/plain": [
              "(38640, 5)"
            ]
          },
          "metadata": {},
          "execution_count": 211
        }
      ]
    },
    {
      "cell_type": "markdown",
      "source": [
        "On a 5 features d'entrée, ça serait donc une bonne chose d'avoir 5 neurones dans notre couche"
      ],
      "metadata": {
        "id": "aJZG2ezUnqFf"
      },
      "id": "aJZG2ezUnqFf"
    },
    {
      "cell_type": "code",
      "source": [
        "X_test.shape"
      ],
      "metadata": {
        "colab": {
          "base_uri": "https://localhost:8080/"
        },
        "id": "J0dX9a-WbVV-",
        "outputId": "e8795029-3670-4dab-a5ba-6ecdab6cda31"
      },
      "id": "J0dX9a-WbVV-",
      "execution_count": 212,
      "outputs": [
        {
          "output_type": "execute_result",
          "data": {
            "text/plain": [
              "(16561, 5)"
            ]
          },
          "metadata": {},
          "execution_count": 212
        }
      ]
    },
    {
      "cell_type": "markdown",
      "source": [
        "## Création du modèle"
      ],
      "metadata": {
        "id": "BJv09S4xlhV5"
      },
      "id": "BJv09S4xlhV5"
    },
    {
      "cell_type": "code",
      "source": [
        "from tensorflow.keras.models import Sequential   #on importe le modèle séquentiel\n",
        "from tensorflow.keras.layers import Dense, Activation  #on importe la couche dense\n",
        "from tensorflow.keras.optimizers import Adam"
      ],
      "metadata": {
        "id": "ZiXbAiT5ldwg"
      },
      "id": "ZiXbAiT5ldwg",
      "execution_count": 213,
      "outputs": []
    },
    {
      "cell_type": "code",
      "source": [
        "model = Sequential()\n",
        "\n",
        "model.add(Dense(5,activation='relu')) #On copie-colle ce code plusieurs fois pour avoir des couches cachées\n",
        "model.add(Dense(5,activation='relu')) # et obtenir un réseau de neurone de deep learning\n",
        "model.add(Dense(5,activation='relu'))\n",
        "model.add(Dense(5,activation='relu'))\n",
        "\n",
        "\n",
        "model.add(Dense(1)) # Couche final avec un seul neurone\n",
        "\n",
        "model.compile(optimizer='adam',loss='mse') #On utilise l'optimizer adam\n"
      ],
      "metadata": {
        "id": "OUCcFMCsoAOB"
      },
      "id": "OUCcFMCsoAOB",
      "execution_count": 214,
      "outputs": []
    },
    {
      "cell_type": "markdown",
      "source": [
        "## Entraînement du modèle"
      ],
      "metadata": {
        "id": "gF_lxi9LqFBb"
      },
      "id": "gF_lxi9LqFBb"
    },
    {
      "cell_type": "code",
      "source": [
        "model.fit(x=X_train,y=y_train.values,\n",
        "          validation_data=(X_test,y_test.values),\n",
        "          batch_size=128,epochs=400) #On nourrit notre data_set par batch de données d'entraînements\n",
        "                                     # On fixe les epochs à 400\n",
        "                                     #epoch=temps d'entraînement"
      ],
      "metadata": {
        "colab": {
          "base_uri": "https://localhost:8080/"
        },
        "id": "bTOjDlZYqGQ4",
        "outputId": "ed7bd2eb-c4c6-4b37-e202-4ece68bc2184"
      },
      "id": "bTOjDlZYqGQ4",
      "execution_count": 215,
      "outputs": [
        {
          "output_type": "stream",
          "name": "stdout",
          "text": [
            "Epoch 1/400\n",
            "302/302 [==============================] - 2s 3ms/step - loss: 60343.0820 - val_loss: 52084.7148\n",
            "Epoch 2/400\n",
            "302/302 [==============================] - 2s 6ms/step - loss: 23598.8262 - val_loss: 9240.2871\n",
            "Epoch 3/400\n",
            "302/302 [==============================] - 1s 5ms/step - loss: 9071.9541 - val_loss: 8649.3789\n",
            "Epoch 4/400\n",
            "302/302 [==============================] - 1s 5ms/step - loss: 8358.5264 - val_loss: 7939.4468\n",
            "Epoch 5/400\n",
            "302/302 [==============================] - 1s 5ms/step - loss: 7830.1069 - val_loss: 7557.0259\n",
            "Epoch 6/400\n",
            "302/302 [==============================] - 1s 4ms/step - loss: 7570.1953 - val_loss: 7390.5498\n",
            "Epoch 7/400\n",
            "302/302 [==============================] - 1s 5ms/step - loss: 7463.4565 - val_loss: 7323.8579\n",
            "Epoch 8/400\n",
            "302/302 [==============================] - 2s 6ms/step - loss: 7417.7695 - val_loss: 7291.5132\n",
            "Epoch 9/400\n",
            "302/302 [==============================] - 1s 2ms/step - loss: 7389.6289 - val_loss: 7272.3770\n",
            "Epoch 10/400\n",
            "302/302 [==============================] - 1s 3ms/step - loss: 7374.8135 - val_loss: 7260.8398\n",
            "Epoch 11/400\n",
            "302/302 [==============================] - 1s 2ms/step - loss: 7364.7861 - val_loss: 7257.1064\n",
            "Epoch 12/400\n",
            "302/302 [==============================] - 1s 2ms/step - loss: 7358.3257 - val_loss: 7251.5479\n",
            "Epoch 13/400\n",
            "302/302 [==============================] - 1s 2ms/step - loss: 7354.2544 - val_loss: 7246.9468\n",
            "Epoch 14/400\n",
            "302/302 [==============================] - 1s 2ms/step - loss: 7350.1143 - val_loss: 7256.1450\n",
            "Epoch 15/400\n",
            "302/302 [==============================] - 1s 2ms/step - loss: 7348.8945 - val_loss: 7258.2915\n",
            "Epoch 16/400\n",
            "302/302 [==============================] - 1s 2ms/step - loss: 7346.7744 - val_loss: 7241.4673\n",
            "Epoch 17/400\n",
            "302/302 [==============================] - 1s 2ms/step - loss: 7347.3301 - val_loss: 7238.6528\n",
            "Epoch 18/400\n",
            "302/302 [==============================] - 1s 2ms/step - loss: 7344.4512 - val_loss: 7237.4009\n",
            "Epoch 19/400\n",
            "302/302 [==============================] - 1s 2ms/step - loss: 7342.1299 - val_loss: 7236.3345\n",
            "Epoch 20/400\n",
            "302/302 [==============================] - 1s 2ms/step - loss: 7340.5630 - val_loss: 7236.1807\n",
            "Epoch 21/400\n",
            "302/302 [==============================] - 1s 2ms/step - loss: 7340.9897 - val_loss: 7243.0630\n",
            "Epoch 22/400\n",
            "302/302 [==============================] - 1s 3ms/step - loss: 7333.1279 - val_loss: 7228.6948\n",
            "Epoch 23/400\n",
            "302/302 [==============================] - 1s 2ms/step - loss: 7330.5688 - val_loss: 7233.7266\n",
            "Epoch 24/400\n",
            "302/302 [==============================] - 1s 2ms/step - loss: 7331.6357 - val_loss: 7231.1191\n",
            "Epoch 25/400\n",
            "302/302 [==============================] - 1s 2ms/step - loss: 7328.9209 - val_loss: 7233.0835\n",
            "Epoch 26/400\n",
            "302/302 [==============================] - 1s 2ms/step - loss: 7326.7329 - val_loss: 7223.6499\n",
            "Epoch 27/400\n",
            "302/302 [==============================] - 1s 3ms/step - loss: 7325.2778 - val_loss: 7225.1890\n",
            "Epoch 28/400\n",
            "302/302 [==============================] - 1s 2ms/step - loss: 7325.7217 - val_loss: 7220.2310\n",
            "Epoch 29/400\n",
            "302/302 [==============================] - 1s 2ms/step - loss: 7322.7471 - val_loss: 7220.3491\n",
            "Epoch 30/400\n",
            "302/302 [==============================] - 1s 2ms/step - loss: 7318.3882 - val_loss: 7239.2007\n",
            "Epoch 31/400\n",
            "302/302 [==============================] - 1s 2ms/step - loss: 7321.8047 - val_loss: 7218.0322\n",
            "Epoch 32/400\n",
            "302/302 [==============================] - 1s 2ms/step - loss: 7320.1216 - val_loss: 7216.0537\n",
            "Epoch 33/400\n",
            "302/302 [==============================] - 1s 2ms/step - loss: 7320.6309 - val_loss: 7216.6826\n",
            "Epoch 34/400\n",
            "302/302 [==============================] - 1s 2ms/step - loss: 7316.0308 - val_loss: 7232.9517\n",
            "Epoch 35/400\n",
            "302/302 [==============================] - 1s 2ms/step - loss: 7315.8237 - val_loss: 7216.6733\n",
            "Epoch 36/400\n",
            "302/302 [==============================] - 1s 2ms/step - loss: 7315.8896 - val_loss: 7219.8877\n",
            "Epoch 37/400\n",
            "302/302 [==============================] - 1s 2ms/step - loss: 7312.7344 - val_loss: 7230.4624\n",
            "Epoch 38/400\n",
            "302/302 [==============================] - 1s 2ms/step - loss: 7313.9990 - val_loss: 7215.9683\n",
            "Epoch 39/400\n",
            "302/302 [==============================] - 1s 2ms/step - loss: 7307.5444 - val_loss: 7208.0190\n",
            "Epoch 40/400\n",
            "302/302 [==============================] - 1s 2ms/step - loss: 7310.0547 - val_loss: 7215.2402\n",
            "Epoch 41/400\n",
            "302/302 [==============================] - 1s 2ms/step - loss: 7311.4619 - val_loss: 7211.9297\n",
            "Epoch 42/400\n",
            "302/302 [==============================] - 1s 2ms/step - loss: 7309.3599 - val_loss: 7203.2129\n",
            "Epoch 43/400\n",
            "302/302 [==============================] - 1s 2ms/step - loss: 7305.3257 - val_loss: 7204.2017\n",
            "Epoch 44/400\n",
            "302/302 [==============================] - 1s 2ms/step - loss: 7308.2109 - val_loss: 7202.8506\n",
            "Epoch 45/400\n",
            "302/302 [==============================] - 1s 2ms/step - loss: 7306.2964 - val_loss: 7201.2036\n",
            "Epoch 46/400\n",
            "302/302 [==============================] - 1s 2ms/step - loss: 7301.8848 - val_loss: 7202.9482\n",
            "Epoch 47/400\n",
            "302/302 [==============================] - 1s 2ms/step - loss: 7298.4199 - val_loss: 7206.4463\n",
            "Epoch 48/400\n",
            "302/302 [==============================] - 1s 2ms/step - loss: 7298.7041 - val_loss: 7199.4136\n",
            "Epoch 49/400\n",
            "302/302 [==============================] - 1s 2ms/step - loss: 7298.7915 - val_loss: 7214.7456\n",
            "Epoch 50/400\n",
            "302/302 [==============================] - 1s 2ms/step - loss: 7298.4126 - val_loss: 7197.5776\n",
            "Epoch 51/400\n",
            "302/302 [==============================] - 1s 2ms/step - loss: 7297.4824 - val_loss: 7194.9741\n",
            "Epoch 52/400\n",
            "302/302 [==============================] - 1s 2ms/step - loss: 7297.2207 - val_loss: 7203.5967\n",
            "Epoch 53/400\n",
            "302/302 [==============================] - 1s 2ms/step - loss: 7295.2383 - val_loss: 7196.2383\n",
            "Epoch 54/400\n",
            "302/302 [==============================] - 1s 3ms/step - loss: 7294.4985 - val_loss: 7193.9111\n",
            "Epoch 55/400\n",
            "302/302 [==============================] - 1s 2ms/step - loss: 7294.3340 - val_loss: 7192.5762\n",
            "Epoch 56/400\n",
            "302/302 [==============================] - 1s 2ms/step - loss: 7292.8198 - val_loss: 7190.2246\n",
            "Epoch 57/400\n",
            "302/302 [==============================] - 1s 2ms/step - loss: 7291.5479 - val_loss: 7195.4102\n",
            "Epoch 58/400\n",
            "302/302 [==============================] - 1s 2ms/step - loss: 7291.8086 - val_loss: 7187.5444\n",
            "Epoch 59/400\n",
            "302/302 [==============================] - 1s 2ms/step - loss: 7291.6392 - val_loss: 7190.3740\n",
            "Epoch 60/400\n",
            "302/302 [==============================] - 1s 2ms/step - loss: 7286.4316 - val_loss: 7192.6846\n",
            "Epoch 61/400\n",
            "302/302 [==============================] - 1s 2ms/step - loss: 7289.6265 - val_loss: 7191.0605\n",
            "Epoch 62/400\n",
            "302/302 [==============================] - 1s 2ms/step - loss: 7291.9902 - val_loss: 7193.5020\n",
            "Epoch 63/400\n",
            "302/302 [==============================] - 1s 2ms/step - loss: 7290.9980 - val_loss: 7196.1655\n",
            "Epoch 64/400\n",
            "302/302 [==============================] - 1s 2ms/step - loss: 7285.6099 - val_loss: 7185.3872\n",
            "Epoch 65/400\n",
            "302/302 [==============================] - 1s 2ms/step - loss: 7286.2119 - val_loss: 7186.3076\n",
            "Epoch 66/400\n",
            "302/302 [==============================] - 1s 2ms/step - loss: 7283.9702 - val_loss: 7186.7422\n",
            "Epoch 67/400\n",
            "302/302 [==============================] - 1s 2ms/step - loss: 7284.9673 - val_loss: 7188.1460\n",
            "Epoch 68/400\n",
            "302/302 [==============================] - 1s 2ms/step - loss: 7288.5542 - val_loss: 7186.0483\n",
            "Epoch 69/400\n",
            "302/302 [==============================] - 1s 2ms/step - loss: 7285.8823 - val_loss: 7192.2871\n",
            "Epoch 70/400\n",
            "302/302 [==============================] - 1s 2ms/step - loss: 7282.5566 - val_loss: 7187.4888\n",
            "Epoch 71/400\n",
            "302/302 [==============================] - 1s 2ms/step - loss: 7284.6958 - val_loss: 7184.3740\n",
            "Epoch 72/400\n",
            "302/302 [==============================] - 1s 2ms/step - loss: 7283.5835 - val_loss: 7181.8467\n",
            "Epoch 73/400\n",
            "302/302 [==============================] - 1s 2ms/step - loss: 7283.1660 - val_loss: 7180.7026\n",
            "Epoch 74/400\n",
            "302/302 [==============================] - 1s 2ms/step - loss: 7282.0703 - val_loss: 7180.2876\n",
            "Epoch 75/400\n",
            "302/302 [==============================] - 1s 2ms/step - loss: 7282.2925 - val_loss: 7188.9297\n",
            "Epoch 76/400\n",
            "302/302 [==============================] - 1s 2ms/step - loss: 7284.2412 - val_loss: 7189.3242\n",
            "Epoch 77/400\n",
            "302/302 [==============================] - 1s 2ms/step - loss: 7282.2642 - val_loss: 7186.7280\n",
            "Epoch 78/400\n",
            "302/302 [==============================] - 1s 2ms/step - loss: 7283.4800 - val_loss: 7182.4941\n",
            "Epoch 79/400\n",
            "302/302 [==============================] - 1s 2ms/step - loss: 7281.1577 - val_loss: 7180.4995\n",
            "Epoch 80/400\n",
            "302/302 [==============================] - 1s 2ms/step - loss: 7284.6045 - val_loss: 7185.4629\n",
            "Epoch 81/400\n",
            "302/302 [==============================] - 1s 2ms/step - loss: 7280.1143 - val_loss: 7184.3691\n",
            "Epoch 82/400\n",
            "302/302 [==============================] - 1s 3ms/step - loss: 7285.2041 - val_loss: 7179.1592\n",
            "Epoch 83/400\n",
            "302/302 [==============================] - 1s 2ms/step - loss: 7280.4663 - val_loss: 7182.6626\n",
            "Epoch 84/400\n",
            "302/302 [==============================] - 1s 2ms/step - loss: 7281.1729 - val_loss: 7182.0518\n",
            "Epoch 85/400\n",
            "302/302 [==============================] - 1s 2ms/step - loss: 7281.6191 - val_loss: 7186.6167\n",
            "Epoch 86/400\n",
            "302/302 [==============================] - 1s 2ms/step - loss: 7280.3750 - val_loss: 7185.2056\n",
            "Epoch 87/400\n",
            "302/302 [==============================] - 1s 2ms/step - loss: 7281.4170 - val_loss: 7178.0342\n",
            "Epoch 88/400\n",
            "302/302 [==============================] - 1s 2ms/step - loss: 7282.1226 - val_loss: 7184.7168\n",
            "Epoch 89/400\n",
            "302/302 [==============================] - 1s 2ms/step - loss: 7280.8208 - val_loss: 7179.3354\n",
            "Epoch 90/400\n",
            "302/302 [==============================] - 1s 2ms/step - loss: 7282.9194 - val_loss: 7178.2432\n",
            "Epoch 91/400\n",
            "302/302 [==============================] - 1s 2ms/step - loss: 7280.8877 - val_loss: 7182.1182\n",
            "Epoch 92/400\n",
            "302/302 [==============================] - 1s 2ms/step - loss: 7278.6880 - val_loss: 7185.1323\n",
            "Epoch 93/400\n",
            "302/302 [==============================] - 1s 2ms/step - loss: 7280.1509 - val_loss: 7178.2949\n",
            "Epoch 94/400\n",
            "302/302 [==============================] - 1s 2ms/step - loss: 7280.9492 - val_loss: 7180.7153\n",
            "Epoch 95/400\n",
            "302/302 [==============================] - 1s 2ms/step - loss: 7280.4570 - val_loss: 7180.6318\n",
            "Epoch 96/400\n",
            "302/302 [==============================] - 1s 2ms/step - loss: 7281.4316 - val_loss: 7180.2114\n",
            "Epoch 97/400\n",
            "302/302 [==============================] - 1s 3ms/step - loss: 7280.8457 - val_loss: 7177.9312\n",
            "Epoch 98/400\n",
            "302/302 [==============================] - 1s 2ms/step - loss: 7279.1899 - val_loss: 7180.8130\n",
            "Epoch 99/400\n",
            "302/302 [==============================] - 1s 2ms/step - loss: 7280.3140 - val_loss: 7179.0703\n",
            "Epoch 100/400\n",
            "302/302 [==============================] - 1s 2ms/step - loss: 7281.8047 - val_loss: 7176.6592\n",
            "Epoch 101/400\n",
            "302/302 [==============================] - 1s 2ms/step - loss: 7279.4209 - val_loss: 7179.1177\n",
            "Epoch 102/400\n",
            "302/302 [==============================] - 1s 2ms/step - loss: 7282.8945 - val_loss: 7179.9443\n",
            "Epoch 103/400\n",
            "302/302 [==============================] - 1s 2ms/step - loss: 7283.0884 - val_loss: 7181.8081\n",
            "Epoch 104/400\n",
            "302/302 [==============================] - 1s 2ms/step - loss: 7279.6680 - val_loss: 7176.8848\n",
            "Epoch 105/400\n",
            "302/302 [==============================] - 1s 2ms/step - loss: 7279.6206 - val_loss: 7179.0044\n",
            "Epoch 106/400\n",
            "302/302 [==============================] - 1s 3ms/step - loss: 7280.3926 - val_loss: 7206.2378\n",
            "Epoch 107/400\n",
            "302/302 [==============================] - 1s 2ms/step - loss: 7279.5337 - val_loss: 7179.6362\n",
            "Epoch 108/400\n",
            "302/302 [==============================] - 1s 2ms/step - loss: 7280.1963 - val_loss: 7189.2749\n",
            "Epoch 109/400\n",
            "302/302 [==============================] - 1s 2ms/step - loss: 7279.0791 - val_loss: 7176.9424\n",
            "Epoch 110/400\n",
            "302/302 [==============================] - 1s 2ms/step - loss: 7278.1035 - val_loss: 7176.3164\n",
            "Epoch 111/400\n",
            "302/302 [==============================] - 1s 2ms/step - loss: 7280.0342 - val_loss: 7180.6440\n",
            "Epoch 112/400\n",
            "302/302 [==============================] - 1s 2ms/step - loss: 7278.3164 - val_loss: 7190.5034\n",
            "Epoch 113/400\n",
            "302/302 [==============================] - 1s 2ms/step - loss: 7281.6035 - val_loss: 7177.8506\n",
            "Epoch 114/400\n",
            "302/302 [==============================] - 1s 2ms/step - loss: 7279.4727 - val_loss: 7176.1143\n",
            "Epoch 115/400\n",
            "302/302 [==============================] - 1s 2ms/step - loss: 7278.5029 - val_loss: 7178.8569\n",
            "Epoch 116/400\n",
            "302/302 [==============================] - 1s 2ms/step - loss: 7277.1816 - val_loss: 7189.6250\n",
            "Epoch 117/400\n",
            "302/302 [==============================] - 1s 2ms/step - loss: 7277.8965 - val_loss: 7180.0195\n",
            "Epoch 118/400\n",
            "302/302 [==============================] - 1s 2ms/step - loss: 7276.9790 - val_loss: 7178.9214\n",
            "Epoch 119/400\n",
            "302/302 [==============================] - 1s 2ms/step - loss: 7280.2783 - val_loss: 7176.4775\n",
            "Epoch 120/400\n",
            "302/302 [==============================] - 1s 2ms/step - loss: 7278.8818 - val_loss: 7176.0537\n",
            "Epoch 121/400\n",
            "302/302 [==============================] - 1s 2ms/step - loss: 7279.0840 - val_loss: 7179.5298\n",
            "Epoch 122/400\n",
            "302/302 [==============================] - 1s 2ms/step - loss: 7281.8525 - val_loss: 7195.5581\n",
            "Epoch 123/400\n",
            "302/302 [==============================] - 1s 2ms/step - loss: 7278.9199 - val_loss: 7182.8701\n",
            "Epoch 124/400\n",
            "302/302 [==============================] - 1s 2ms/step - loss: 7281.9878 - val_loss: 7180.8423\n",
            "Epoch 125/400\n",
            "302/302 [==============================] - 1s 2ms/step - loss: 7280.3911 - val_loss: 7180.2188\n",
            "Epoch 126/400\n",
            "302/302 [==============================] - 1s 2ms/step - loss: 7281.4971 - val_loss: 7176.1763\n",
            "Epoch 127/400\n",
            "302/302 [==============================] - 1s 2ms/step - loss: 7278.9863 - val_loss: 7178.7749\n",
            "Epoch 128/400\n",
            "302/302 [==============================] - 1s 2ms/step - loss: 7280.2461 - val_loss: 7176.6147\n",
            "Epoch 129/400\n",
            "302/302 [==============================] - 1s 2ms/step - loss: 7277.8652 - val_loss: 7180.4565\n",
            "Epoch 130/400\n",
            "302/302 [==============================] - 1s 2ms/step - loss: 7279.3965 - val_loss: 7184.7144\n",
            "Epoch 131/400\n",
            "302/302 [==============================] - 1s 2ms/step - loss: 7277.2515 - val_loss: 7186.9292\n",
            "Epoch 132/400\n",
            "302/302 [==============================] - 1s 2ms/step - loss: 7280.9077 - val_loss: 7189.0366\n",
            "Epoch 133/400\n",
            "302/302 [==============================] - 1s 2ms/step - loss: 7278.1367 - val_loss: 7199.5010\n",
            "Epoch 134/400\n",
            "302/302 [==============================] - 1s 3ms/step - loss: 7280.4463 - val_loss: 7177.6152\n",
            "Epoch 135/400\n",
            "302/302 [==============================] - 1s 2ms/step - loss: 7279.9917 - val_loss: 7177.5762\n",
            "Epoch 136/400\n",
            "302/302 [==============================] - 1s 2ms/step - loss: 7276.4644 - val_loss: 7176.9551\n",
            "Epoch 137/400\n",
            "302/302 [==============================] - 1s 2ms/step - loss: 7277.3994 - val_loss: 7176.3955\n",
            "Epoch 138/400\n",
            "302/302 [==============================] - 1s 2ms/step - loss: 7277.9868 - val_loss: 7182.5342\n",
            "Epoch 139/400\n",
            "302/302 [==============================] - 1s 2ms/step - loss: 7279.6323 - val_loss: 7180.3345\n",
            "Epoch 140/400\n",
            "302/302 [==============================] - 1s 2ms/step - loss: 7276.8652 - val_loss: 7177.0220\n",
            "Epoch 141/400\n",
            "302/302 [==============================] - 1s 2ms/step - loss: 7277.6895 - val_loss: 7191.4067\n",
            "Epoch 142/400\n",
            "302/302 [==============================] - 1s 2ms/step - loss: 7278.8184 - val_loss: 7176.2637\n",
            "Epoch 143/400\n",
            "302/302 [==============================] - 1s 2ms/step - loss: 7277.4155 - val_loss: 7178.0991\n",
            "Epoch 144/400\n",
            "302/302 [==============================] - 1s 2ms/step - loss: 7280.6436 - val_loss: 7184.1221\n",
            "Epoch 145/400\n",
            "302/302 [==============================] - 1s 2ms/step - loss: 7281.3872 - val_loss: 7177.5098\n",
            "Epoch 146/400\n",
            "302/302 [==============================] - 1s 3ms/step - loss: 7279.9438 - val_loss: 7181.3599\n",
            "Epoch 147/400\n",
            "302/302 [==============================] - 1s 3ms/step - loss: 7278.7451 - val_loss: 7187.1934\n",
            "Epoch 148/400\n",
            "302/302 [==============================] - 1s 2ms/step - loss: 7278.3560 - val_loss: 7178.6431\n",
            "Epoch 149/400\n",
            "302/302 [==============================] - 1s 2ms/step - loss: 7281.0542 - val_loss: 7184.9414\n",
            "Epoch 150/400\n",
            "302/302 [==============================] - 1s 3ms/step - loss: 7278.0098 - val_loss: 7186.6221\n",
            "Epoch 151/400\n",
            "302/302 [==============================] - 1s 2ms/step - loss: 7278.0288 - val_loss: 7177.3389\n",
            "Epoch 152/400\n",
            "302/302 [==============================] - 1s 2ms/step - loss: 7279.6074 - val_loss: 7178.0439\n",
            "Epoch 153/400\n",
            "302/302 [==============================] - 1s 3ms/step - loss: 7277.6445 - val_loss: 7177.1191\n",
            "Epoch 154/400\n",
            "302/302 [==============================] - 1s 2ms/step - loss: 7278.8760 - val_loss: 7176.1938\n",
            "Epoch 155/400\n",
            "302/302 [==============================] - 1s 3ms/step - loss: 7280.5947 - val_loss: 7175.9385\n",
            "Epoch 156/400\n",
            "302/302 [==============================] - 1s 3ms/step - loss: 7280.2734 - val_loss: 7177.6040\n",
            "Epoch 157/400\n",
            "302/302 [==============================] - 1s 3ms/step - loss: 7279.9204 - val_loss: 7175.5835\n",
            "Epoch 158/400\n",
            "302/302 [==============================] - 1s 3ms/step - loss: 7280.7676 - val_loss: 7182.8218\n",
            "Epoch 159/400\n",
            "302/302 [==============================] - 1s 3ms/step - loss: 7279.8345 - val_loss: 7194.5044\n",
            "Epoch 160/400\n",
            "302/302 [==============================] - 1s 2ms/step - loss: 7280.1392 - val_loss: 7177.2227\n",
            "Epoch 161/400\n",
            "302/302 [==============================] - 1s 3ms/step - loss: 7282.8677 - val_loss: 7176.0386\n",
            "Epoch 162/400\n",
            "302/302 [==============================] - 1s 2ms/step - loss: 7279.2769 - val_loss: 7176.6299\n",
            "Epoch 163/400\n",
            "302/302 [==============================] - 1s 2ms/step - loss: 7277.9170 - val_loss: 7178.5298\n",
            "Epoch 164/400\n",
            "302/302 [==============================] - 1s 3ms/step - loss: 7278.1484 - val_loss: 7177.0234\n",
            "Epoch 165/400\n",
            "302/302 [==============================] - 1s 2ms/step - loss: 7276.4917 - val_loss: 7182.5757\n",
            "Epoch 166/400\n",
            "302/302 [==============================] - 1s 2ms/step - loss: 7279.5654 - val_loss: 7176.5479\n",
            "Epoch 167/400\n",
            "302/302 [==============================] - 1s 2ms/step - loss: 7280.7173 - val_loss: 7179.6440\n",
            "Epoch 168/400\n",
            "302/302 [==============================] - 1s 2ms/step - loss: 7280.1797 - val_loss: 7180.0000\n",
            "Epoch 169/400\n",
            "302/302 [==============================] - 1s 2ms/step - loss: 7282.8647 - val_loss: 7188.5479\n",
            "Epoch 170/400\n",
            "302/302 [==============================] - 1s 2ms/step - loss: 7280.3369 - val_loss: 7176.4087\n",
            "Epoch 171/400\n",
            "302/302 [==============================] - 1s 3ms/step - loss: 7278.8398 - val_loss: 7181.2251\n",
            "Epoch 172/400\n",
            "302/302 [==============================] - 1s 3ms/step - loss: 7278.3916 - val_loss: 7184.4517\n",
            "Epoch 173/400\n",
            "302/302 [==============================] - 1s 2ms/step - loss: 7278.3926 - val_loss: 7180.1909\n",
            "Epoch 174/400\n",
            "302/302 [==============================] - 1s 2ms/step - loss: 7281.8262 - val_loss: 7180.0317\n",
            "Epoch 175/400\n",
            "302/302 [==============================] - 1s 2ms/step - loss: 7277.3350 - val_loss: 7176.2388\n",
            "Epoch 176/400\n",
            "302/302 [==============================] - 1s 2ms/step - loss: 7279.6729 - val_loss: 7176.5898\n",
            "Epoch 177/400\n",
            "302/302 [==============================] - 1s 2ms/step - loss: 7281.7749 - val_loss: 7193.9736\n",
            "Epoch 178/400\n",
            "302/302 [==============================] - 1s 2ms/step - loss: 7279.1445 - val_loss: 7183.0024\n",
            "Epoch 179/400\n",
            "302/302 [==============================] - 1s 3ms/step - loss: 7280.0381 - val_loss: 7180.6733\n",
            "Epoch 180/400\n",
            "302/302 [==============================] - 1s 3ms/step - loss: 7280.5176 - val_loss: 7186.9150\n",
            "Epoch 181/400\n",
            "302/302 [==============================] - 1s 2ms/step - loss: 7278.3149 - val_loss: 7186.1084\n",
            "Epoch 182/400\n",
            "302/302 [==============================] - 1s 3ms/step - loss: 7278.1416 - val_loss: 7178.2861\n",
            "Epoch 183/400\n",
            "302/302 [==============================] - 1s 2ms/step - loss: 7278.8843 - val_loss: 7176.0195\n",
            "Epoch 184/400\n",
            "302/302 [==============================] - 1s 2ms/step - loss: 7274.6499 - val_loss: 7175.3643\n",
            "Epoch 185/400\n",
            "302/302 [==============================] - 1s 2ms/step - loss: 7279.6201 - val_loss: 7181.9312\n",
            "Epoch 186/400\n",
            "302/302 [==============================] - 1s 2ms/step - loss: 7277.2358 - val_loss: 7185.4062\n",
            "Epoch 187/400\n",
            "302/302 [==============================] - 1s 2ms/step - loss: 7282.6055 - val_loss: 7177.2651\n",
            "Epoch 188/400\n",
            "302/302 [==============================] - 1s 2ms/step - loss: 7282.1548 - val_loss: 7178.2036\n",
            "Epoch 189/400\n",
            "302/302 [==============================] - 1s 2ms/step - loss: 7278.2998 - val_loss: 7176.9087\n",
            "Epoch 190/400\n",
            "302/302 [==============================] - 1s 3ms/step - loss: 7279.4658 - val_loss: 7179.9927\n",
            "Epoch 191/400\n",
            "302/302 [==============================] - 1s 2ms/step - loss: 7278.1025 - val_loss: 7182.2466\n",
            "Epoch 192/400\n",
            "302/302 [==============================] - 1s 2ms/step - loss: 7280.7944 - val_loss: 7177.9634\n",
            "Epoch 193/400\n",
            "302/302 [==============================] - 1s 2ms/step - loss: 7278.8174 - val_loss: 7178.6929\n",
            "Epoch 194/400\n",
            "302/302 [==============================] - 1s 2ms/step - loss: 7278.3081 - val_loss: 7176.5791\n",
            "Epoch 195/400\n",
            "302/302 [==============================] - 1s 2ms/step - loss: 7277.5610 - val_loss: 7176.5820\n",
            "Epoch 196/400\n",
            "302/302 [==============================] - 1s 2ms/step - loss: 7278.7793 - val_loss: 7187.5557\n",
            "Epoch 197/400\n",
            "302/302 [==============================] - 1s 3ms/step - loss: 7276.7949 - val_loss: 7181.7749\n",
            "Epoch 198/400\n",
            "302/302 [==============================] - 1s 2ms/step - loss: 7278.4463 - val_loss: 7176.6992\n",
            "Epoch 199/400\n",
            "302/302 [==============================] - 1s 3ms/step - loss: 7278.5938 - val_loss: 7179.1548\n",
            "Epoch 200/400\n",
            "302/302 [==============================] - 1s 2ms/step - loss: 7279.9478 - val_loss: 7176.5073\n",
            "Epoch 201/400\n",
            "302/302 [==============================] - 1s 2ms/step - loss: 7278.4688 - val_loss: 7181.1367\n",
            "Epoch 202/400\n",
            "302/302 [==============================] - 1s 2ms/step - loss: 7278.4058 - val_loss: 7177.4517\n",
            "Epoch 203/400\n",
            "302/302 [==============================] - 1s 2ms/step - loss: 7279.7026 - val_loss: 7175.8682\n",
            "Epoch 204/400\n",
            "302/302 [==============================] - 1s 2ms/step - loss: 7278.3032 - val_loss: 7179.6802\n",
            "Epoch 205/400\n",
            "302/302 [==============================] - 1s 2ms/step - loss: 7282.1011 - val_loss: 7186.2236\n",
            "Epoch 206/400\n",
            "302/302 [==============================] - 1s 3ms/step - loss: 7281.9692 - val_loss: 7180.1558\n",
            "Epoch 207/400\n",
            "302/302 [==============================] - 1s 2ms/step - loss: 7278.7236 - val_loss: 7175.3237\n",
            "Epoch 208/400\n",
            "302/302 [==============================] - 1s 2ms/step - loss: 7278.4868 - val_loss: 7187.4658\n",
            "Epoch 209/400\n",
            "302/302 [==============================] - 1s 2ms/step - loss: 7279.9438 - val_loss: 7175.7495\n",
            "Epoch 210/400\n",
            "302/302 [==============================] - 1s 2ms/step - loss: 7282.8950 - val_loss: 7187.9326\n",
            "Epoch 211/400\n",
            "302/302 [==============================] - 1s 2ms/step - loss: 7280.9805 - val_loss: 7177.5791\n",
            "Epoch 212/400\n",
            "302/302 [==============================] - 1s 3ms/step - loss: 7279.3657 - val_loss: 7178.8242\n",
            "Epoch 213/400\n",
            "302/302 [==============================] - 1s 3ms/step - loss: 7278.6543 - val_loss: 7182.0996\n",
            "Epoch 214/400\n",
            "302/302 [==============================] - 1s 2ms/step - loss: 7280.2227 - val_loss: 7188.0552\n",
            "Epoch 215/400\n",
            "302/302 [==============================] - 1s 2ms/step - loss: 7282.4258 - val_loss: 7177.6401\n",
            "Epoch 216/400\n",
            "302/302 [==============================] - 1s 2ms/step - loss: 7278.5293 - val_loss: 7181.1191\n",
            "Epoch 217/400\n",
            "302/302 [==============================] - 1s 2ms/step - loss: 7280.2285 - val_loss: 7178.4717\n",
            "Epoch 218/400\n",
            "302/302 [==============================] - 1s 3ms/step - loss: 7277.5288 - val_loss: 7178.6426\n",
            "Epoch 219/400\n",
            "302/302 [==============================] - 1s 2ms/step - loss: 7279.1104 - val_loss: 7175.7993\n",
            "Epoch 220/400\n",
            "302/302 [==============================] - 1s 2ms/step - loss: 7278.6279 - val_loss: 7178.6528\n",
            "Epoch 221/400\n",
            "302/302 [==============================] - 1s 2ms/step - loss: 7278.6528 - val_loss: 7189.6333\n",
            "Epoch 222/400\n",
            "302/302 [==============================] - 1s 2ms/step - loss: 7277.8252 - val_loss: 7177.7651\n",
            "Epoch 223/400\n",
            "302/302 [==============================] - 1s 2ms/step - loss: 7278.6475 - val_loss: 7176.1074\n",
            "Epoch 224/400\n",
            "302/302 [==============================] - 1s 3ms/step - loss: 7278.4556 - val_loss: 7180.0361\n",
            "Epoch 225/400\n",
            "302/302 [==============================] - 1s 2ms/step - loss: 7279.1685 - val_loss: 7178.6460\n",
            "Epoch 226/400\n",
            "302/302 [==============================] - 1s 2ms/step - loss: 7276.8687 - val_loss: 7177.6934\n",
            "Epoch 227/400\n",
            "302/302 [==============================] - 1s 2ms/step - loss: 7278.9863 - val_loss: 7178.9766\n",
            "Epoch 228/400\n",
            "302/302 [==============================] - 1s 3ms/step - loss: 7277.9858 - val_loss: 7176.5376\n",
            "Epoch 229/400\n",
            "302/302 [==============================] - 1s 2ms/step - loss: 7277.3101 - val_loss: 7183.1128\n",
            "Epoch 230/400\n",
            "302/302 [==============================] - 1s 3ms/step - loss: 7278.7412 - val_loss: 7183.9941\n",
            "Epoch 231/400\n",
            "302/302 [==============================] - 1s 2ms/step - loss: 7278.4106 - val_loss: 7180.9360\n",
            "Epoch 232/400\n",
            "302/302 [==============================] - 1s 2ms/step - loss: 7279.5137 - val_loss: 7180.6357\n",
            "Epoch 233/400\n",
            "302/302 [==============================] - 1s 2ms/step - loss: 7279.5859 - val_loss: 7176.5195\n",
            "Epoch 234/400\n",
            "302/302 [==============================] - 1s 2ms/step - loss: 7277.5054 - val_loss: 7176.7642\n",
            "Epoch 235/400\n",
            "302/302 [==============================] - 1s 3ms/step - loss: 7280.0596 - val_loss: 7180.7021\n",
            "Epoch 236/400\n",
            "302/302 [==============================] - 1s 3ms/step - loss: 7277.9961 - val_loss: 7175.6455\n",
            "Epoch 237/400\n",
            "302/302 [==============================] - 1s 2ms/step - loss: 7278.7290 - val_loss: 7176.4146\n",
            "Epoch 238/400\n",
            "302/302 [==============================] - 1s 2ms/step - loss: 7277.9272 - val_loss: 7178.8237\n",
            "Epoch 239/400\n",
            "302/302 [==============================] - 1s 2ms/step - loss: 7283.0557 - val_loss: 7178.3110\n",
            "Epoch 240/400\n",
            "302/302 [==============================] - 1s 2ms/step - loss: 7278.7754 - val_loss: 7178.1899\n",
            "Epoch 241/400\n",
            "302/302 [==============================] - 1s 2ms/step - loss: 7280.0288 - val_loss: 7177.1406\n",
            "Epoch 242/400\n",
            "302/302 [==============================] - 1s 2ms/step - loss: 7278.2085 - val_loss: 7175.3403\n",
            "Epoch 243/400\n",
            "302/302 [==============================] - 1s 3ms/step - loss: 7279.2051 - val_loss: 7179.7456\n",
            "Epoch 244/400\n",
            "302/302 [==============================] - 1s 3ms/step - loss: 7280.2476 - val_loss: 7181.3555\n",
            "Epoch 245/400\n",
            "302/302 [==============================] - 1s 2ms/step - loss: 7277.6729 - val_loss: 7176.2979\n",
            "Epoch 246/400\n",
            "302/302 [==============================] - 1s 2ms/step - loss: 7278.9351 - val_loss: 7175.0586\n",
            "Epoch 247/400\n",
            "302/302 [==============================] - 1s 3ms/step - loss: 7278.2783 - val_loss: 7175.4321\n",
            "Epoch 248/400\n",
            "302/302 [==============================] - 1s 3ms/step - loss: 7281.6157 - val_loss: 7189.3633\n",
            "Epoch 249/400\n",
            "302/302 [==============================] - 1s 3ms/step - loss: 7280.1406 - val_loss: 7183.7681\n",
            "Epoch 250/400\n",
            "302/302 [==============================] - 1s 2ms/step - loss: 7278.1514 - val_loss: 7184.8535\n",
            "Epoch 251/400\n",
            "302/302 [==============================] - 1s 2ms/step - loss: 7280.1357 - val_loss: 7181.8809\n",
            "Epoch 252/400\n",
            "302/302 [==============================] - 1s 2ms/step - loss: 7278.0205 - val_loss: 7177.8530\n",
            "Epoch 253/400\n",
            "302/302 [==============================] - 1s 3ms/step - loss: 7278.2104 - val_loss: 7189.5986\n",
            "Epoch 254/400\n",
            "302/302 [==============================] - 1s 2ms/step - loss: 7280.1880 - val_loss: 7175.5498\n",
            "Epoch 255/400\n",
            "302/302 [==============================] - 1s 3ms/step - loss: 7279.9487 - val_loss: 7187.3511\n",
            "Epoch 256/400\n",
            "302/302 [==============================] - 1s 2ms/step - loss: 7280.4961 - val_loss: 7177.5127\n",
            "Epoch 257/400\n",
            "302/302 [==============================] - 1s 3ms/step - loss: 7278.7861 - val_loss: 7178.1387\n",
            "Epoch 258/400\n",
            "302/302 [==============================] - 1s 2ms/step - loss: 7281.1704 - val_loss: 7180.4644\n",
            "Epoch 259/400\n",
            "302/302 [==============================] - 1s 2ms/step - loss: 7278.7471 - val_loss: 7180.8892\n",
            "Epoch 260/400\n",
            "302/302 [==============================] - 1s 2ms/step - loss: 7277.4883 - val_loss: 7179.9316\n",
            "Epoch 261/400\n",
            "302/302 [==============================] - 1s 3ms/step - loss: 7279.2632 - val_loss: 7176.2134\n",
            "Epoch 262/400\n",
            "302/302 [==============================] - 1s 3ms/step - loss: 7278.4614 - val_loss: 7175.5815\n",
            "Epoch 263/400\n",
            "302/302 [==============================] - 1s 2ms/step - loss: 7279.0635 - val_loss: 7182.7246\n",
            "Epoch 264/400\n",
            "302/302 [==============================] - 1s 2ms/step - loss: 7278.0073 - val_loss: 7176.2905\n",
            "Epoch 265/400\n",
            "302/302 [==============================] - 1s 2ms/step - loss: 7278.7944 - val_loss: 7178.3403\n",
            "Epoch 266/400\n",
            "302/302 [==============================] - 1s 2ms/step - loss: 7278.2954 - val_loss: 7183.3818\n",
            "Epoch 267/400\n",
            "302/302 [==============================] - 1s 2ms/step - loss: 7277.2935 - val_loss: 7175.9023\n",
            "Epoch 268/400\n",
            "302/302 [==============================] - 1s 2ms/step - loss: 7277.2803 - val_loss: 7178.8291\n",
            "Epoch 269/400\n",
            "302/302 [==============================] - 1s 3ms/step - loss: 7278.9136 - val_loss: 7187.0464\n",
            "Epoch 270/400\n",
            "302/302 [==============================] - 1s 2ms/step - loss: 7279.4277 - val_loss: 7176.3809\n",
            "Epoch 271/400\n",
            "302/302 [==============================] - 1s 2ms/step - loss: 7278.4536 - val_loss: 7217.3374\n",
            "Epoch 272/400\n",
            "302/302 [==============================] - 1s 2ms/step - loss: 7279.2017 - val_loss: 7176.4194\n",
            "Epoch 273/400\n",
            "302/302 [==============================] - 1s 3ms/step - loss: 7277.1519 - val_loss: 7180.6685\n",
            "Epoch 274/400\n",
            "302/302 [==============================] - 1s 2ms/step - loss: 7276.3071 - val_loss: 7183.8657\n",
            "Epoch 275/400\n",
            "302/302 [==============================] - 1s 2ms/step - loss: 7283.6250 - val_loss: 7188.6226\n",
            "Epoch 276/400\n",
            "302/302 [==============================] - 1s 2ms/step - loss: 7278.2793 - val_loss: 7184.0908\n",
            "Epoch 277/400\n",
            "302/302 [==============================] - 1s 3ms/step - loss: 7278.4272 - val_loss: 7196.7837\n",
            "Epoch 278/400\n",
            "302/302 [==============================] - 1s 2ms/step - loss: 7280.0479 - val_loss: 7176.3105\n",
            "Epoch 279/400\n",
            "302/302 [==============================] - 1s 2ms/step - loss: 7280.5723 - val_loss: 7176.9614\n",
            "Epoch 280/400\n",
            "302/302 [==============================] - 1s 2ms/step - loss: 7277.4609 - val_loss: 7195.3257\n",
            "Epoch 281/400\n",
            "302/302 [==============================] - 1s 3ms/step - loss: 7277.7656 - val_loss: 7175.7769\n",
            "Epoch 282/400\n",
            "302/302 [==============================] - 1s 2ms/step - loss: 7279.8560 - val_loss: 7175.3613\n",
            "Epoch 283/400\n",
            "302/302 [==============================] - 1s 2ms/step - loss: 7277.7930 - val_loss: 7176.0674\n",
            "Epoch 284/400\n",
            "302/302 [==============================] - 1s 2ms/step - loss: 7279.1133 - val_loss: 7193.2959\n",
            "Epoch 285/400\n",
            "302/302 [==============================] - 1s 2ms/step - loss: 7278.6138 - val_loss: 7176.4795\n",
            "Epoch 286/400\n",
            "302/302 [==============================] - 1s 3ms/step - loss: 7278.6401 - val_loss: 7179.3667\n",
            "Epoch 287/400\n",
            "302/302 [==============================] - 1s 2ms/step - loss: 7279.1553 - val_loss: 7178.1948\n",
            "Epoch 288/400\n",
            "302/302 [==============================] - 1s 2ms/step - loss: 7276.5757 - val_loss: 7187.4155\n",
            "Epoch 289/400\n",
            "302/302 [==============================] - 1s 2ms/step - loss: 7282.3774 - val_loss: 7177.5557\n",
            "Epoch 290/400\n",
            "302/302 [==============================] - 1s 2ms/step - loss: 7276.5952 - val_loss: 7176.6846\n",
            "Epoch 291/400\n",
            "302/302 [==============================] - 1s 2ms/step - loss: 7279.0693 - val_loss: 7189.8589\n",
            "Epoch 292/400\n",
            "302/302 [==============================] - 1s 2ms/step - loss: 7278.9551 - val_loss: 7176.1606\n",
            "Epoch 293/400\n",
            "302/302 [==============================] - 1s 2ms/step - loss: 7280.9409 - val_loss: 7179.6382\n",
            "Epoch 294/400\n",
            "302/302 [==============================] - 1s 2ms/step - loss: 7277.3716 - val_loss: 7178.1123\n",
            "Epoch 295/400\n",
            "302/302 [==============================] - 1s 2ms/step - loss: 7277.2266 - val_loss: 7180.7212\n",
            "Epoch 296/400\n",
            "302/302 [==============================] - 1s 2ms/step - loss: 7280.2129 - val_loss: 7178.9629\n",
            "Epoch 297/400\n",
            "302/302 [==============================] - 1s 2ms/step - loss: 7277.8965 - val_loss: 7174.8657\n",
            "Epoch 298/400\n",
            "302/302 [==============================] - 1s 2ms/step - loss: 7278.8438 - val_loss: 7175.7686\n",
            "Epoch 299/400\n",
            "302/302 [==============================] - 1s 2ms/step - loss: 7277.2056 - val_loss: 7176.2256\n",
            "Epoch 300/400\n",
            "302/302 [==============================] - 1s 2ms/step - loss: 7278.1538 - val_loss: 7178.8062\n",
            "Epoch 301/400\n",
            "302/302 [==============================] - 1s 2ms/step - loss: 7282.9663 - val_loss: 7177.3687\n",
            "Epoch 302/400\n",
            "302/302 [==============================] - 1s 2ms/step - loss: 7279.3721 - val_loss: 7180.9414\n",
            "Epoch 303/400\n",
            "302/302 [==============================] - 1s 2ms/step - loss: 7278.5674 - val_loss: 7193.5029\n",
            "Epoch 304/400\n",
            "302/302 [==============================] - 1s 2ms/step - loss: 7279.3491 - val_loss: 7175.2217\n",
            "Epoch 305/400\n",
            "302/302 [==============================] - 1s 2ms/step - loss: 7275.9824 - val_loss: 7175.6309\n",
            "Epoch 306/400\n",
            "302/302 [==============================] - 1s 2ms/step - loss: 7276.8896 - val_loss: 7181.5791\n",
            "Epoch 307/400\n",
            "302/302 [==============================] - 1s 2ms/step - loss: 7278.2739 - val_loss: 7181.8643\n",
            "Epoch 308/400\n",
            "302/302 [==============================] - 1s 2ms/step - loss: 7280.3394 - val_loss: 7187.0806\n",
            "Epoch 309/400\n",
            "302/302 [==============================] - 1s 2ms/step - loss: 7279.8345 - val_loss: 7177.3145\n",
            "Epoch 310/400\n",
            "302/302 [==============================] - 1s 2ms/step - loss: 7278.1025 - val_loss: 7186.5894\n",
            "Epoch 311/400\n",
            "302/302 [==============================] - 1s 2ms/step - loss: 7278.8970 - val_loss: 7177.2881\n",
            "Epoch 312/400\n",
            "302/302 [==============================] - 1s 2ms/step - loss: 7278.7959 - val_loss: 7175.2783\n",
            "Epoch 313/400\n",
            "302/302 [==============================] - 1s 2ms/step - loss: 7281.7930 - val_loss: 7176.8726\n",
            "Epoch 314/400\n",
            "302/302 [==============================] - 1s 2ms/step - loss: 7279.8096 - val_loss: 7181.0005\n",
            "Epoch 315/400\n",
            "302/302 [==============================] - 1s 3ms/step - loss: 7279.4585 - val_loss: 7175.9126\n",
            "Epoch 316/400\n",
            "302/302 [==============================] - 1s 3ms/step - loss: 7279.7778 - val_loss: 7175.3301\n",
            "Epoch 317/400\n",
            "302/302 [==============================] - 1s 2ms/step - loss: 7280.1323 - val_loss: 7184.2207\n",
            "Epoch 318/400\n",
            "302/302 [==============================] - 1s 3ms/step - loss: 7277.7939 - val_loss: 7176.2983\n",
            "Epoch 319/400\n",
            "302/302 [==============================] - 1s 3ms/step - loss: 7278.0249 - val_loss: 7179.6689\n",
            "Epoch 320/400\n",
            "302/302 [==============================] - 1s 3ms/step - loss: 7279.3110 - val_loss: 7183.4980\n",
            "Epoch 321/400\n",
            "302/302 [==============================] - 1s 2ms/step - loss: 7276.2617 - val_loss: 7204.9478\n",
            "Epoch 322/400\n",
            "302/302 [==============================] - 1s 2ms/step - loss: 7275.9604 - val_loss: 7181.4268\n",
            "Epoch 323/400\n",
            "302/302 [==============================] - 1s 2ms/step - loss: 7279.2812 - val_loss: 7176.4326\n",
            "Epoch 324/400\n",
            "302/302 [==============================] - 1s 3ms/step - loss: 7278.3311 - val_loss: 7184.4209\n",
            "Epoch 325/400\n",
            "302/302 [==============================] - 1s 2ms/step - loss: 7279.6216 - val_loss: 7176.1973\n",
            "Epoch 326/400\n",
            "302/302 [==============================] - 1s 3ms/step - loss: 7278.8330 - val_loss: 7175.1694\n",
            "Epoch 327/400\n",
            "302/302 [==============================] - 1s 3ms/step - loss: 7278.3403 - val_loss: 7184.1421\n",
            "Epoch 328/400\n",
            "302/302 [==============================] - 1s 2ms/step - loss: 7280.5054 - val_loss: 7177.5884\n",
            "Epoch 329/400\n",
            "302/302 [==============================] - 1s 2ms/step - loss: 7278.7544 - val_loss: 7198.8901\n",
            "Epoch 330/400\n",
            "302/302 [==============================] - 1s 3ms/step - loss: 7279.6445 - val_loss: 7180.6694\n",
            "Epoch 331/400\n",
            "302/302 [==============================] - 1s 3ms/step - loss: 7279.0493 - val_loss: 7181.3857\n",
            "Epoch 332/400\n",
            "302/302 [==============================] - 1s 3ms/step - loss: 7277.3623 - val_loss: 7176.6636\n",
            "Epoch 333/400\n",
            "302/302 [==============================] - 1s 3ms/step - loss: 7279.3027 - val_loss: 7180.0693\n",
            "Epoch 334/400\n",
            "302/302 [==============================] - 1s 3ms/step - loss: 7278.4175 - val_loss: 7174.9185\n",
            "Epoch 335/400\n",
            "302/302 [==============================] - 1s 3ms/step - loss: 7278.7949 - val_loss: 7175.8701\n",
            "Epoch 336/400\n",
            "302/302 [==============================] - 1s 2ms/step - loss: 7279.4717 - val_loss: 7175.8711\n",
            "Epoch 337/400\n",
            "302/302 [==============================] - 1s 2ms/step - loss: 7276.5820 - val_loss: 7182.4883\n",
            "Epoch 338/400\n",
            "302/302 [==============================] - 1s 2ms/step - loss: 7280.8008 - val_loss: 7184.4546\n",
            "Epoch 339/400\n",
            "302/302 [==============================] - 1s 2ms/step - loss: 7278.7710 - val_loss: 7181.6934\n",
            "Epoch 340/400\n",
            "302/302 [==============================] - 1s 2ms/step - loss: 7278.5840 - val_loss: 7174.9253\n",
            "Epoch 341/400\n",
            "302/302 [==============================] - 1s 2ms/step - loss: 7278.6636 - val_loss: 7177.3779\n",
            "Epoch 342/400\n",
            "302/302 [==============================] - 1s 2ms/step - loss: 7278.0239 - val_loss: 7175.8813\n",
            "Epoch 343/400\n",
            "302/302 [==============================] - 1s 3ms/step - loss: 7276.5947 - val_loss: 7175.1128\n",
            "Epoch 344/400\n",
            "302/302 [==============================] - 1s 2ms/step - loss: 7277.3540 - val_loss: 7179.1768\n",
            "Epoch 345/400\n",
            "302/302 [==============================] - 1s 2ms/step - loss: 7276.9160 - val_loss: 7178.0215\n",
            "Epoch 346/400\n",
            "302/302 [==============================] - 1s 2ms/step - loss: 7276.5415 - val_loss: 7178.8550\n",
            "Epoch 347/400\n",
            "302/302 [==============================] - 1s 2ms/step - loss: 7277.9692 - val_loss: 7179.3179\n",
            "Epoch 348/400\n",
            "302/302 [==============================] - 1s 2ms/step - loss: 7277.9106 - val_loss: 7175.0483\n",
            "Epoch 349/400\n",
            "302/302 [==============================] - 1s 3ms/step - loss: 7277.8760 - val_loss: 7177.7104\n",
            "Epoch 350/400\n",
            "302/302 [==============================] - 1s 2ms/step - loss: 7279.6372 - val_loss: 7200.4839\n",
            "Epoch 351/400\n",
            "302/302 [==============================] - 1s 3ms/step - loss: 7280.0298 - val_loss: 7175.5029\n",
            "Epoch 352/400\n",
            "302/302 [==============================] - 1s 2ms/step - loss: 7280.0098 - val_loss: 7176.5405\n",
            "Epoch 353/400\n",
            "302/302 [==============================] - 1s 2ms/step - loss: 7279.1836 - val_loss: 7179.5537\n",
            "Epoch 354/400\n",
            "302/302 [==============================] - 1s 3ms/step - loss: 7278.3579 - val_loss: 7175.3340\n",
            "Epoch 355/400\n",
            "302/302 [==============================] - 1s 2ms/step - loss: 7277.4375 - val_loss: 7175.3184\n",
            "Epoch 356/400\n",
            "302/302 [==============================] - 1s 3ms/step - loss: 7281.8618 - val_loss: 7175.9102\n",
            "Epoch 357/400\n",
            "302/302 [==============================] - 1s 3ms/step - loss: 7277.2769 - val_loss: 7178.3657\n",
            "Epoch 358/400\n",
            "302/302 [==============================] - 1s 2ms/step - loss: 7276.5352 - val_loss: 7187.5254\n",
            "Epoch 359/400\n",
            "302/302 [==============================] - 1s 2ms/step - loss: 7278.7114 - val_loss: 7180.4004\n",
            "Epoch 360/400\n",
            "302/302 [==============================] - 1s 2ms/step - loss: 7275.7598 - val_loss: 7175.5273\n",
            "Epoch 361/400\n",
            "302/302 [==============================] - 1s 2ms/step - loss: 7277.1758 - val_loss: 7186.6431\n",
            "Epoch 362/400\n",
            "302/302 [==============================] - 1s 2ms/step - loss: 7280.1284 - val_loss: 7178.8613\n",
            "Epoch 363/400\n",
            "302/302 [==============================] - 1s 2ms/step - loss: 7277.7046 - val_loss: 7179.0923\n",
            "Epoch 364/400\n",
            "302/302 [==============================] - 1s 2ms/step - loss: 7277.0122 - val_loss: 7193.4058\n",
            "Epoch 365/400\n",
            "302/302 [==============================] - 1s 2ms/step - loss: 7279.4731 - val_loss: 7175.7085\n",
            "Epoch 366/400\n",
            "302/302 [==============================] - 1s 2ms/step - loss: 7278.9360 - val_loss: 7179.0137\n",
            "Epoch 367/400\n",
            "302/302 [==============================] - 1s 2ms/step - loss: 7276.1045 - val_loss: 7178.0015\n",
            "Epoch 368/400\n",
            "302/302 [==============================] - 1s 2ms/step - loss: 7278.9194 - val_loss: 7177.3154\n",
            "Epoch 369/400\n",
            "302/302 [==============================] - 1s 3ms/step - loss: 7277.5347 - val_loss: 7175.7129\n",
            "Epoch 370/400\n",
            "302/302 [==============================] - 1s 3ms/step - loss: 7280.8604 - val_loss: 7176.7803\n",
            "Epoch 371/400\n",
            "302/302 [==============================] - 1s 3ms/step - loss: 7278.3320 - val_loss: 7185.0454\n",
            "Epoch 372/400\n",
            "302/302 [==============================] - 1s 2ms/step - loss: 7278.7651 - val_loss: 7177.5791\n",
            "Epoch 373/400\n",
            "302/302 [==============================] - 1s 3ms/step - loss: 7276.0977 - val_loss: 7175.7949\n",
            "Epoch 374/400\n",
            "302/302 [==============================] - 1s 3ms/step - loss: 7277.8965 - val_loss: 7175.3018\n",
            "Epoch 375/400\n",
            "302/302 [==============================] - 1s 3ms/step - loss: 7279.2173 - val_loss: 7175.6240\n",
            "Epoch 376/400\n",
            "302/302 [==============================] - 1s 2ms/step - loss: 7276.9292 - val_loss: 7178.6123\n",
            "Epoch 377/400\n",
            "302/302 [==============================] - 1s 2ms/step - loss: 7279.5801 - val_loss: 7175.3896\n",
            "Epoch 378/400\n",
            "302/302 [==============================] - 1s 2ms/step - loss: 7278.9897 - val_loss: 7185.9985\n",
            "Epoch 379/400\n",
            "302/302 [==============================] - 1s 3ms/step - loss: 7278.8032 - val_loss: 7175.7393\n",
            "Epoch 380/400\n",
            "302/302 [==============================] - 1s 2ms/step - loss: 7279.3447 - val_loss: 7177.6494\n",
            "Epoch 381/400\n",
            "302/302 [==============================] - 1s 2ms/step - loss: 7280.2983 - val_loss: 7178.8882\n",
            "Epoch 382/400\n",
            "302/302 [==============================] - 1s 3ms/step - loss: 7275.7178 - val_loss: 7176.1323\n",
            "Epoch 383/400\n",
            "302/302 [==============================] - 1s 3ms/step - loss: 7278.2549 - val_loss: 7174.8716\n",
            "Epoch 384/400\n",
            "302/302 [==============================] - 1s 3ms/step - loss: 7278.9980 - val_loss: 7176.5669\n",
            "Epoch 385/400\n",
            "302/302 [==============================] - 1s 2ms/step - loss: 7278.0356 - val_loss: 7183.2744\n",
            "Epoch 386/400\n",
            "302/302 [==============================] - 1s 3ms/step - loss: 7276.1167 - val_loss: 7175.7998\n",
            "Epoch 387/400\n",
            "302/302 [==============================] - 1s 2ms/step - loss: 7277.1704 - val_loss: 7174.9531\n",
            "Epoch 388/400\n",
            "302/302 [==============================] - 1s 2ms/step - loss: 7279.6846 - val_loss: 7176.6812\n",
            "Epoch 389/400\n",
            "302/302 [==============================] - 1s 3ms/step - loss: 7278.1294 - val_loss: 7194.9082\n",
            "Epoch 390/400\n",
            "302/302 [==============================] - 1s 2ms/step - loss: 7279.0742 - val_loss: 7175.5020\n",
            "Epoch 391/400\n",
            "302/302 [==============================] - 1s 2ms/step - loss: 7277.1362 - val_loss: 7178.8159\n",
            "Epoch 392/400\n",
            "302/302 [==============================] - 1s 2ms/step - loss: 7278.0977 - val_loss: 7175.5562\n",
            "Epoch 393/400\n",
            "302/302 [==============================] - 1s 3ms/step - loss: 7279.9468 - val_loss: 7176.5835\n",
            "Epoch 394/400\n",
            "302/302 [==============================] - 1s 2ms/step - loss: 7276.4995 - val_loss: 7175.6030\n",
            "Epoch 395/400\n",
            "302/302 [==============================] - 1s 3ms/step - loss: 7278.5425 - val_loss: 7181.4878\n",
            "Epoch 396/400\n",
            "302/302 [==============================] - 1s 3ms/step - loss: 7280.9365 - val_loss: 7181.2319\n",
            "Epoch 397/400\n",
            "302/302 [==============================] - 1s 3ms/step - loss: 7278.9497 - val_loss: 7175.2090\n",
            "Epoch 398/400\n",
            "302/302 [==============================] - 1s 3ms/step - loss: 7280.0083 - val_loss: 7181.3472\n",
            "Epoch 399/400\n",
            "302/302 [==============================] - 1s 2ms/step - loss: 7276.7104 - val_loss: 7184.9331\n",
            "Epoch 400/400\n",
            "302/302 [==============================] - 1s 2ms/step - loss: 7281.3394 - val_loss: 7186.1821\n"
          ]
        },
        {
          "output_type": "execute_result",
          "data": {
            "text/plain": [
              "<keras.callbacks.History at 0x7f2b41a72d10>"
            ]
          },
          "metadata": {},
          "execution_count": 215
        }
      ]
    },
    {
      "cell_type": "code",
      "source": [
        "#Nous explorons l'historique de notre model\n",
        "model.history.history"
      ],
      "metadata": {
        "colab": {
          "base_uri": "https://localhost:8080/"
        },
        "id": "Jl0x86CnumpT",
        "outputId": "2d67de1a-80d6-49a7-a842-db1b37acffc6"
      },
      "id": "Jl0x86CnumpT",
      "execution_count": 216,
      "outputs": [
        {
          "output_type": "execute_result",
          "data": {
            "text/plain": [
              "{'loss': [60343.08203125,\n",
              "  23598.826171875,\n",
              "  9071.9541015625,\n",
              "  8358.5263671875,\n",
              "  7830.10693359375,\n",
              "  7570.1953125,\n",
              "  7463.45654296875,\n",
              "  7417.76953125,\n",
              "  7389.62890625,\n",
              "  7374.8134765625,\n",
              "  7364.7861328125,\n",
              "  7358.32568359375,\n",
              "  7354.25439453125,\n",
              "  7350.1142578125,\n",
              "  7348.89453125,\n",
              "  7346.7744140625,\n",
              "  7347.330078125,\n",
              "  7344.451171875,\n",
              "  7342.1298828125,\n",
              "  7340.56298828125,\n",
              "  7340.98974609375,\n",
              "  7333.1279296875,\n",
              "  7330.56884765625,\n",
              "  7331.6357421875,\n",
              "  7328.9208984375,\n",
              "  7326.73291015625,\n",
              "  7325.27783203125,\n",
              "  7325.7216796875,\n",
              "  7322.7470703125,\n",
              "  7318.38818359375,\n",
              "  7321.8046875,\n",
              "  7320.12158203125,\n",
              "  7320.630859375,\n",
              "  7316.03076171875,\n",
              "  7315.82373046875,\n",
              "  7315.8896484375,\n",
              "  7312.734375,\n",
              "  7313.9990234375,\n",
              "  7307.54443359375,\n",
              "  7310.0546875,\n",
              "  7311.4619140625,\n",
              "  7309.35986328125,\n",
              "  7305.32568359375,\n",
              "  7308.2109375,\n",
              "  7306.29638671875,\n",
              "  7301.884765625,\n",
              "  7298.419921875,\n",
              "  7298.7041015625,\n",
              "  7298.79150390625,\n",
              "  7298.41259765625,\n",
              "  7297.482421875,\n",
              "  7297.220703125,\n",
              "  7295.23828125,\n",
              "  7294.49853515625,\n",
              "  7294.333984375,\n",
              "  7292.81982421875,\n",
              "  7291.5478515625,\n",
              "  7291.80859375,\n",
              "  7291.63916015625,\n",
              "  7286.431640625,\n",
              "  7289.62646484375,\n",
              "  7291.990234375,\n",
              "  7290.998046875,\n",
              "  7285.60986328125,\n",
              "  7286.2119140625,\n",
              "  7283.97021484375,\n",
              "  7284.96728515625,\n",
              "  7288.55419921875,\n",
              "  7285.88232421875,\n",
              "  7282.556640625,\n",
              "  7284.69580078125,\n",
              "  7283.58349609375,\n",
              "  7283.166015625,\n",
              "  7282.0703125,\n",
              "  7282.29248046875,\n",
              "  7284.2412109375,\n",
              "  7282.26416015625,\n",
              "  7283.47998046875,\n",
              "  7281.15771484375,\n",
              "  7284.6044921875,\n",
              "  7280.1142578125,\n",
              "  7285.2041015625,\n",
              "  7280.46630859375,\n",
              "  7281.1728515625,\n",
              "  7281.619140625,\n",
              "  7280.375,\n",
              "  7281.4169921875,\n",
              "  7282.12255859375,\n",
              "  7280.82080078125,\n",
              "  7282.91943359375,\n",
              "  7280.8876953125,\n",
              "  7278.68798828125,\n",
              "  7280.15087890625,\n",
              "  7280.94921875,\n",
              "  7280.45703125,\n",
              "  7281.431640625,\n",
              "  7280.845703125,\n",
              "  7279.18994140625,\n",
              "  7280.31396484375,\n",
              "  7281.8046875,\n",
              "  7279.4208984375,\n",
              "  7282.89453125,\n",
              "  7283.08837890625,\n",
              "  7279.66796875,\n",
              "  7279.62060546875,\n",
              "  7280.392578125,\n",
              "  7279.53369140625,\n",
              "  7280.1962890625,\n",
              "  7279.0791015625,\n",
              "  7278.103515625,\n",
              "  7280.0341796875,\n",
              "  7278.31640625,\n",
              "  7281.603515625,\n",
              "  7279.47265625,\n",
              "  7278.5029296875,\n",
              "  7277.181640625,\n",
              "  7277.896484375,\n",
              "  7276.97900390625,\n",
              "  7280.2783203125,\n",
              "  7278.8818359375,\n",
              "  7279.083984375,\n",
              "  7281.8525390625,\n",
              "  7278.919921875,\n",
              "  7281.98779296875,\n",
              "  7280.39111328125,\n",
              "  7281.4970703125,\n",
              "  7278.986328125,\n",
              "  7280.24609375,\n",
              "  7277.865234375,\n",
              "  7279.396484375,\n",
              "  7277.25146484375,\n",
              "  7280.90771484375,\n",
              "  7278.13671875,\n",
              "  7280.4462890625,\n",
              "  7279.99169921875,\n",
              "  7276.46435546875,\n",
              "  7277.3994140625,\n",
              "  7277.98681640625,\n",
              "  7279.63232421875,\n",
              "  7276.865234375,\n",
              "  7277.689453125,\n",
              "  7278.818359375,\n",
              "  7277.41552734375,\n",
              "  7280.6435546875,\n",
              "  7281.38720703125,\n",
              "  7279.94384765625,\n",
              "  7278.7451171875,\n",
              "  7278.35595703125,\n",
              "  7281.05419921875,\n",
              "  7278.009765625,\n",
              "  7278.02880859375,\n",
              "  7279.607421875,\n",
              "  7277.64453125,\n",
              "  7278.8759765625,\n",
              "  7280.5947265625,\n",
              "  7280.2734375,\n",
              "  7279.92041015625,\n",
              "  7280.767578125,\n",
              "  7279.83447265625,\n",
              "  7280.13916015625,\n",
              "  7282.86767578125,\n",
              "  7279.27685546875,\n",
              "  7277.9169921875,\n",
              "  7278.1484375,\n",
              "  7276.49169921875,\n",
              "  7279.5654296875,\n",
              "  7280.71728515625,\n",
              "  7280.1796875,\n",
              "  7282.86474609375,\n",
              "  7280.3369140625,\n",
              "  7278.83984375,\n",
              "  7278.3916015625,\n",
              "  7278.392578125,\n",
              "  7281.826171875,\n",
              "  7277.3349609375,\n",
              "  7279.6728515625,\n",
              "  7281.77490234375,\n",
              "  7279.14453125,\n",
              "  7280.0380859375,\n",
              "  7280.517578125,\n",
              "  7278.31494140625,\n",
              "  7278.1416015625,\n",
              "  7278.88427734375,\n",
              "  7274.64990234375,\n",
              "  7279.6201171875,\n",
              "  7277.23583984375,\n",
              "  7282.60546875,\n",
              "  7282.15478515625,\n",
              "  7278.2998046875,\n",
              "  7279.4658203125,\n",
              "  7278.1025390625,\n",
              "  7280.79443359375,\n",
              "  7278.8173828125,\n",
              "  7278.30810546875,\n",
              "  7277.56103515625,\n",
              "  7278.779296875,\n",
              "  7276.794921875,\n",
              "  7278.4462890625,\n",
              "  7278.59375,\n",
              "  7279.94775390625,\n",
              "  7278.46875,\n",
              "  7278.40576171875,\n",
              "  7279.70263671875,\n",
              "  7278.30322265625,\n",
              "  7282.10107421875,\n",
              "  7281.96923828125,\n",
              "  7278.7236328125,\n",
              "  7278.48681640625,\n",
              "  7279.94384765625,\n",
              "  7282.89501953125,\n",
              "  7280.98046875,\n",
              "  7279.36572265625,\n",
              "  7278.654296875,\n",
              "  7280.22265625,\n",
              "  7282.42578125,\n",
              "  7278.529296875,\n",
              "  7280.228515625,\n",
              "  7277.52880859375,\n",
              "  7279.1103515625,\n",
              "  7278.6279296875,\n",
              "  7278.65283203125,\n",
              "  7277.8251953125,\n",
              "  7278.6474609375,\n",
              "  7278.45556640625,\n",
              "  7279.16845703125,\n",
              "  7276.86865234375,\n",
              "  7278.986328125,\n",
              "  7277.98583984375,\n",
              "  7277.31005859375,\n",
              "  7278.7412109375,\n",
              "  7278.41064453125,\n",
              "  7279.513671875,\n",
              "  7279.5859375,\n",
              "  7277.50537109375,\n",
              "  7280.0595703125,\n",
              "  7277.99609375,\n",
              "  7278.72900390625,\n",
              "  7277.92724609375,\n",
              "  7283.0556640625,\n",
              "  7278.775390625,\n",
              "  7280.02880859375,\n",
              "  7278.20849609375,\n",
              "  7279.205078125,\n",
              "  7280.24755859375,\n",
              "  7277.6728515625,\n",
              "  7278.93505859375,\n",
              "  7278.2783203125,\n",
              "  7281.61572265625,\n",
              "  7280.140625,\n",
              "  7278.1513671875,\n",
              "  7280.1357421875,\n",
              "  7278.0205078125,\n",
              "  7278.21044921875,\n",
              "  7280.18798828125,\n",
              "  7279.94873046875,\n",
              "  7280.49609375,\n",
              "  7278.7861328125,\n",
              "  7281.17041015625,\n",
              "  7278.7470703125,\n",
              "  7277.48828125,\n",
              "  7279.26318359375,\n",
              "  7278.46142578125,\n",
              "  7279.0634765625,\n",
              "  7278.00732421875,\n",
              "  7278.79443359375,\n",
              "  7278.29541015625,\n",
              "  7277.29345703125,\n",
              "  7277.2802734375,\n",
              "  7278.91357421875,\n",
              "  7279.427734375,\n",
              "  7278.45361328125,\n",
              "  7279.20166015625,\n",
              "  7277.15185546875,\n",
              "  7276.30712890625,\n",
              "  7283.625,\n",
              "  7278.279296875,\n",
              "  7278.42724609375,\n",
              "  7280.0478515625,\n",
              "  7280.572265625,\n",
              "  7277.4609375,\n",
              "  7277.765625,\n",
              "  7279.85595703125,\n",
              "  7277.79296875,\n",
              "  7279.11328125,\n",
              "  7278.61376953125,\n",
              "  7278.64013671875,\n",
              "  7279.1552734375,\n",
              "  7276.57568359375,\n",
              "  7282.37744140625,\n",
              "  7276.59521484375,\n",
              "  7279.0693359375,\n",
              "  7278.955078125,\n",
              "  7280.94091796875,\n",
              "  7277.37158203125,\n",
              "  7277.2265625,\n",
              "  7280.212890625,\n",
              "  7277.896484375,\n",
              "  7278.84375,\n",
              "  7277.20556640625,\n",
              "  7278.15380859375,\n",
              "  7282.96630859375,\n",
              "  7279.3720703125,\n",
              "  7278.5673828125,\n",
              "  7279.34912109375,\n",
              "  7275.982421875,\n",
              "  7276.8896484375,\n",
              "  7278.27392578125,\n",
              "  7280.33935546875,\n",
              "  7279.83447265625,\n",
              "  7278.1025390625,\n",
              "  7278.89697265625,\n",
              "  7278.7958984375,\n",
              "  7281.79296875,\n",
              "  7279.8095703125,\n",
              "  7279.45849609375,\n",
              "  7279.77783203125,\n",
              "  7280.13232421875,\n",
              "  7277.7939453125,\n",
              "  7278.02490234375,\n",
              "  7279.31103515625,\n",
              "  7276.26171875,\n",
              "  7275.96044921875,\n",
              "  7279.28125,\n",
              "  7278.3310546875,\n",
              "  7279.62158203125,\n",
              "  7278.8330078125,\n",
              "  7278.34033203125,\n",
              "  7280.50537109375,\n",
              "  7278.75439453125,\n",
              "  7279.64453125,\n",
              "  7279.04931640625,\n",
              "  7277.3623046875,\n",
              "  7279.302734375,\n",
              "  7278.41748046875,\n",
              "  7278.794921875,\n",
              "  7279.4716796875,\n",
              "  7276.58203125,\n",
              "  7280.80078125,\n",
              "  7278.77099609375,\n",
              "  7278.583984375,\n",
              "  7278.66357421875,\n",
              "  7278.02392578125,\n",
              "  7276.5947265625,\n",
              "  7277.35400390625,\n",
              "  7276.916015625,\n",
              "  7276.54150390625,\n",
              "  7277.96923828125,\n",
              "  7277.91064453125,\n",
              "  7277.8759765625,\n",
              "  7279.63720703125,\n",
              "  7280.02978515625,\n",
              "  7280.009765625,\n",
              "  7279.18359375,\n",
              "  7278.35791015625,\n",
              "  7277.4375,\n",
              "  7281.86181640625,\n",
              "  7277.27685546875,\n",
              "  7276.53515625,\n",
              "  7278.71142578125,\n",
              "  7275.759765625,\n",
              "  7277.17578125,\n",
              "  7280.12841796875,\n",
              "  7277.70458984375,\n",
              "  7277.01220703125,\n",
              "  7279.47314453125,\n",
              "  7278.93603515625,\n",
              "  7276.1044921875,\n",
              "  7278.91943359375,\n",
              "  7277.53466796875,\n",
              "  7280.8603515625,\n",
              "  7278.33203125,\n",
              "  7278.76513671875,\n",
              "  7276.09765625,\n",
              "  7277.896484375,\n",
              "  7279.21728515625,\n",
              "  7276.92919921875,\n",
              "  7279.580078125,\n",
              "  7278.98974609375,\n",
              "  7278.80322265625,\n",
              "  7279.3447265625,\n",
              "  7280.29833984375,\n",
              "  7275.7177734375,\n",
              "  7278.2548828125,\n",
              "  7278.998046875,\n",
              "  7278.03564453125,\n",
              "  7276.11669921875,\n",
              "  7277.17041015625,\n",
              "  7279.6845703125,\n",
              "  7278.12939453125,\n",
              "  7279.07421875,\n",
              "  7277.13623046875,\n",
              "  7278.09765625,\n",
              "  7279.94677734375,\n",
              "  7276.49951171875,\n",
              "  7278.54248046875,\n",
              "  7280.9365234375,\n",
              "  7278.94970703125,\n",
              "  7280.00830078125,\n",
              "  7276.71044921875,\n",
              "  7281.33935546875],\n",
              " 'val_loss': [52084.71484375,\n",
              "  9240.287109375,\n",
              "  8649.37890625,\n",
              "  7939.44677734375,\n",
              "  7557.02587890625,\n",
              "  7390.5498046875,\n",
              "  7323.85791015625,\n",
              "  7291.51318359375,\n",
              "  7272.376953125,\n",
              "  7260.83984375,\n",
              "  7257.1064453125,\n",
              "  7251.5478515625,\n",
              "  7246.94677734375,\n",
              "  7256.14501953125,\n",
              "  7258.29150390625,\n",
              "  7241.46728515625,\n",
              "  7238.65283203125,\n",
              "  7237.40087890625,\n",
              "  7236.33447265625,\n",
              "  7236.1806640625,\n",
              "  7243.06298828125,\n",
              "  7228.69482421875,\n",
              "  7233.7265625,\n",
              "  7231.119140625,\n",
              "  7233.08349609375,\n",
              "  7223.64990234375,\n",
              "  7225.18896484375,\n",
              "  7220.23095703125,\n",
              "  7220.34912109375,\n",
              "  7239.20068359375,\n",
              "  7218.0322265625,\n",
              "  7216.0537109375,\n",
              "  7216.6826171875,\n",
              "  7232.95166015625,\n",
              "  7216.67333984375,\n",
              "  7219.8876953125,\n",
              "  7230.46240234375,\n",
              "  7215.96826171875,\n",
              "  7208.01904296875,\n",
              "  7215.240234375,\n",
              "  7211.9296875,\n",
              "  7203.212890625,\n",
              "  7204.20166015625,\n",
              "  7202.8505859375,\n",
              "  7201.20361328125,\n",
              "  7202.9482421875,\n",
              "  7206.4462890625,\n",
              "  7199.41357421875,\n",
              "  7214.74560546875,\n",
              "  7197.57763671875,\n",
              "  7194.97412109375,\n",
              "  7203.5966796875,\n",
              "  7196.23828125,\n",
              "  7193.9111328125,\n",
              "  7192.576171875,\n",
              "  7190.224609375,\n",
              "  7195.41015625,\n",
              "  7187.54443359375,\n",
              "  7190.3740234375,\n",
              "  7192.6845703125,\n",
              "  7191.060546875,\n",
              "  7193.501953125,\n",
              "  7196.16552734375,\n",
              "  7185.38720703125,\n",
              "  7186.3076171875,\n",
              "  7186.7421875,\n",
              "  7188.14599609375,\n",
              "  7186.04833984375,\n",
              "  7192.287109375,\n",
              "  7187.48876953125,\n",
              "  7184.3740234375,\n",
              "  7181.8466796875,\n",
              "  7180.70263671875,\n",
              "  7180.28759765625,\n",
              "  7188.9296875,\n",
              "  7189.32421875,\n",
              "  7186.72802734375,\n",
              "  7182.494140625,\n",
              "  7180.49951171875,\n",
              "  7185.462890625,\n",
              "  7184.369140625,\n",
              "  7179.1591796875,\n",
              "  7182.66259765625,\n",
              "  7182.0517578125,\n",
              "  7186.61669921875,\n",
              "  7185.20556640625,\n",
              "  7178.0341796875,\n",
              "  7184.716796875,\n",
              "  7179.33544921875,\n",
              "  7178.2431640625,\n",
              "  7182.1181640625,\n",
              "  7185.13232421875,\n",
              "  7178.294921875,\n",
              "  7180.71533203125,\n",
              "  7180.6318359375,\n",
              "  7180.21142578125,\n",
              "  7177.93115234375,\n",
              "  7180.81298828125,\n",
              "  7179.0703125,\n",
              "  7176.6591796875,\n",
              "  7179.11767578125,\n",
              "  7179.9443359375,\n",
              "  7181.80810546875,\n",
              "  7176.884765625,\n",
              "  7179.00439453125,\n",
              "  7206.23779296875,\n",
              "  7179.63623046875,\n",
              "  7189.27490234375,\n",
              "  7176.9423828125,\n",
              "  7176.31640625,\n",
              "  7180.64404296875,\n",
              "  7190.50341796875,\n",
              "  7177.8505859375,\n",
              "  7176.1142578125,\n",
              "  7178.85693359375,\n",
              "  7189.625,\n",
              "  7180.01953125,\n",
              "  7178.92138671875,\n",
              "  7176.4775390625,\n",
              "  7176.0537109375,\n",
              "  7179.52978515625,\n",
              "  7195.55810546875,\n",
              "  7182.8701171875,\n",
              "  7180.84228515625,\n",
              "  7180.21875,\n",
              "  7176.17626953125,\n",
              "  7178.77490234375,\n",
              "  7176.61474609375,\n",
              "  7180.45654296875,\n",
              "  7184.71435546875,\n",
              "  7186.92919921875,\n",
              "  7189.03662109375,\n",
              "  7199.5009765625,\n",
              "  7177.615234375,\n",
              "  7177.576171875,\n",
              "  7176.955078125,\n",
              "  7176.3955078125,\n",
              "  7182.5341796875,\n",
              "  7180.33447265625,\n",
              "  7177.02197265625,\n",
              "  7191.40673828125,\n",
              "  7176.263671875,\n",
              "  7178.09912109375,\n",
              "  7184.1220703125,\n",
              "  7177.509765625,\n",
              "  7181.35986328125,\n",
              "  7187.193359375,\n",
              "  7178.64306640625,\n",
              "  7184.94140625,\n",
              "  7186.6220703125,\n",
              "  7177.3388671875,\n",
              "  7178.0439453125,\n",
              "  7177.119140625,\n",
              "  7176.19384765625,\n",
              "  7175.9384765625,\n",
              "  7177.60400390625,\n",
              "  7175.58349609375,\n",
              "  7182.82177734375,\n",
              "  7194.50439453125,\n",
              "  7177.22265625,\n",
              "  7176.03857421875,\n",
              "  7176.6298828125,\n",
              "  7178.52978515625,\n",
              "  7177.0234375,\n",
              "  7182.57568359375,\n",
              "  7176.5478515625,\n",
              "  7179.64404296875,\n",
              "  7180.0,\n",
              "  7188.5478515625,\n",
              "  7176.40869140625,\n",
              "  7181.22509765625,\n",
              "  7184.45166015625,\n",
              "  7180.19091796875,\n",
              "  7180.03173828125,\n",
              "  7176.23876953125,\n",
              "  7176.58984375,\n",
              "  7193.9736328125,\n",
              "  7183.00244140625,\n",
              "  7180.67333984375,\n",
              "  7186.9150390625,\n",
              "  7186.1083984375,\n",
              "  7178.2861328125,\n",
              "  7176.01953125,\n",
              "  7175.3642578125,\n",
              "  7181.93115234375,\n",
              "  7185.40625,\n",
              "  7177.26513671875,\n",
              "  7178.20361328125,\n",
              "  7176.90869140625,\n",
              "  7179.99267578125,\n",
              "  7182.24658203125,\n",
              "  7177.96337890625,\n",
              "  7178.69287109375,\n",
              "  7176.5791015625,\n",
              "  7176.58203125,\n",
              "  7187.5556640625,\n",
              "  7181.77490234375,\n",
              "  7176.69921875,\n",
              "  7179.15478515625,\n",
              "  7176.50732421875,\n",
              "  7181.13671875,\n",
              "  7177.45166015625,\n",
              "  7175.8681640625,\n",
              "  7179.68017578125,\n",
              "  7186.2236328125,\n",
              "  7180.15576171875,\n",
              "  7175.32373046875,\n",
              "  7187.4658203125,\n",
              "  7175.74951171875,\n",
              "  7187.9326171875,\n",
              "  7177.5791015625,\n",
              "  7178.82421875,\n",
              "  7182.099609375,\n",
              "  7188.05517578125,\n",
              "  7177.64013671875,\n",
              "  7181.119140625,\n",
              "  7178.4716796875,\n",
              "  7178.642578125,\n",
              "  7175.79931640625,\n",
              "  7178.65283203125,\n",
              "  7189.63330078125,\n",
              "  7177.76513671875,\n",
              "  7176.107421875,\n",
              "  7180.0361328125,\n",
              "  7178.64599609375,\n",
              "  7177.693359375,\n",
              "  7178.9765625,\n",
              "  7176.53759765625,\n",
              "  7183.11279296875,\n",
              "  7183.994140625,\n",
              "  7180.93603515625,\n",
              "  7180.6357421875,\n",
              "  7176.51953125,\n",
              "  7176.76416015625,\n",
              "  7180.7021484375,\n",
              "  7175.6455078125,\n",
              "  7176.41455078125,\n",
              "  7178.82373046875,\n",
              "  7178.31103515625,\n",
              "  7178.18994140625,\n",
              "  7177.140625,\n",
              "  7175.34033203125,\n",
              "  7179.74560546875,\n",
              "  7181.35546875,\n",
              "  7176.2978515625,\n",
              "  7175.05859375,\n",
              "  7175.43212890625,\n",
              "  7189.36328125,\n",
              "  7183.76806640625,\n",
              "  7184.853515625,\n",
              "  7181.880859375,\n",
              "  7177.85302734375,\n",
              "  7189.5986328125,\n",
              "  7175.5498046875,\n",
              "  7187.35107421875,\n",
              "  7177.5126953125,\n",
              "  7178.138671875,\n",
              "  7180.46435546875,\n",
              "  7180.88916015625,\n",
              "  7179.931640625,\n",
              "  7176.21337890625,\n",
              "  7175.58154296875,\n",
              "  7182.724609375,\n",
              "  7176.29052734375,\n",
              "  7178.34033203125,\n",
              "  7183.3818359375,\n",
              "  7175.90234375,\n",
              "  7178.8291015625,\n",
              "  7187.04638671875,\n",
              "  7176.380859375,\n",
              "  7217.33740234375,\n",
              "  7176.41943359375,\n",
              "  7180.66845703125,\n",
              "  7183.86572265625,\n",
              "  7188.62255859375,\n",
              "  7184.0908203125,\n",
              "  7196.78369140625,\n",
              "  7176.310546875,\n",
              "  7176.96142578125,\n",
              "  7195.32568359375,\n",
              "  7175.77685546875,\n",
              "  7175.361328125,\n",
              "  7176.0673828125,\n",
              "  7193.2958984375,\n",
              "  7176.4794921875,\n",
              "  7179.36669921875,\n",
              "  7178.19482421875,\n",
              "  7187.41552734375,\n",
              "  7177.5556640625,\n",
              "  7176.6845703125,\n",
              "  7189.85888671875,\n",
              "  7176.16064453125,\n",
              "  7179.63818359375,\n",
              "  7178.1123046875,\n",
              "  7180.72119140625,\n",
              "  7178.962890625,\n",
              "  7174.86572265625,\n",
              "  7175.7685546875,\n",
              "  7176.2255859375,\n",
              "  7178.80615234375,\n",
              "  7177.36865234375,\n",
              "  7180.94140625,\n",
              "  7193.5029296875,\n",
              "  7175.2216796875,\n",
              "  7175.630859375,\n",
              "  7181.5791015625,\n",
              "  7181.8642578125,\n",
              "  7187.08056640625,\n",
              "  7177.314453125,\n",
              "  7186.58935546875,\n",
              "  7177.2880859375,\n",
              "  7175.2783203125,\n",
              "  7176.87255859375,\n",
              "  7181.00048828125,\n",
              "  7175.91259765625,\n",
              "  7175.330078125,\n",
              "  7184.220703125,\n",
              "  7176.29833984375,\n",
              "  7179.6689453125,\n",
              "  7183.498046875,\n",
              "  7204.94775390625,\n",
              "  7181.4267578125,\n",
              "  7176.4326171875,\n",
              "  7184.4208984375,\n",
              "  7176.197265625,\n",
              "  7175.16943359375,\n",
              "  7184.14208984375,\n",
              "  7177.58837890625,\n",
              "  7198.89013671875,\n",
              "  7180.66943359375,\n",
              "  7181.3857421875,\n",
              "  7176.66357421875,\n",
              "  7180.0693359375,\n",
              "  7174.91845703125,\n",
              "  7175.8701171875,\n",
              "  7175.87109375,\n",
              "  7182.48828125,\n",
              "  7184.45458984375,\n",
              "  7181.693359375,\n",
              "  7174.92529296875,\n",
              "  7177.3779296875,\n",
              "  7175.88134765625,\n",
              "  7175.11279296875,\n",
              "  7179.1767578125,\n",
              "  7178.021484375,\n",
              "  7178.85498046875,\n",
              "  7179.31787109375,\n",
              "  7175.04833984375,\n",
              "  7177.71044921875,\n",
              "  7200.48388671875,\n",
              "  7175.5029296875,\n",
              "  7176.54052734375,\n",
              "  7179.5537109375,\n",
              "  7175.333984375,\n",
              "  7175.318359375,\n",
              "  7175.91015625,\n",
              "  7178.36572265625,\n",
              "  7187.525390625,\n",
              "  7180.400390625,\n",
              "  7175.52734375,\n",
              "  7186.64306640625,\n",
              "  7178.861328125,\n",
              "  7179.09228515625,\n",
              "  7193.40576171875,\n",
              "  7175.70849609375,\n",
              "  7179.013671875,\n",
              "  7178.00146484375,\n",
              "  7177.3154296875,\n",
              "  7175.712890625,\n",
              "  7176.7802734375,\n",
              "  7185.04541015625,\n",
              "  7177.5791015625,\n",
              "  7175.794921875,\n",
              "  7175.3017578125,\n",
              "  7175.6240234375,\n",
              "  7178.6123046875,\n",
              "  7175.3896484375,\n",
              "  7185.99853515625,\n",
              "  7175.7392578125,\n",
              "  7177.6494140625,\n",
              "  7178.88818359375,\n",
              "  7176.13232421875,\n",
              "  7174.87158203125,\n",
              "  7176.56689453125,\n",
              "  7183.2744140625,\n",
              "  7175.7998046875,\n",
              "  7174.953125,\n",
              "  7176.68115234375,\n",
              "  7194.908203125,\n",
              "  7175.501953125,\n",
              "  7178.81591796875,\n",
              "  7175.55615234375,\n",
              "  7176.58349609375,\n",
              "  7175.60302734375,\n",
              "  7181.48779296875,\n",
              "  7181.23193359375,\n",
              "  7175.208984375,\n",
              "  7181.34716796875,\n",
              "  7184.93310546875,\n",
              "  7186.18212890625]}"
            ]
          },
          "metadata": {},
          "execution_count": 216
        }
      ]
    },
    {
      "cell_type": "code",
      "source": [
        "losses = pd.DataFrame(model.history.history)"
      ],
      "metadata": {
        "id": "_plOnQnqvQEL"
      },
      "id": "_plOnQnqvQEL",
      "execution_count": 217,
      "outputs": []
    },
    {
      "cell_type": "code",
      "source": [
        "losses\n",
        "#donne en même temps ma perte sur mes données d'entraînements et mes données de test"
      ],
      "metadata": {
        "colab": {
          "base_uri": "https://localhost:8080/",
          "height": 423
        },
        "id": "ksx7M8MZvbOP",
        "outputId": "7043d770-844b-49fc-d55b-3f731ba3b21b"
      },
      "id": "ksx7M8MZvbOP",
      "execution_count": 218,
      "outputs": [
        {
          "output_type": "execute_result",
          "data": {
            "text/html": [
              "\n",
              "  <div id=\"df-09971c60-57e6-446e-b51e-e84c374d3937\">\n",
              "    <div class=\"colab-df-container\">\n",
              "      <div>\n",
              "<style scoped>\n",
              "    .dataframe tbody tr th:only-of-type {\n",
              "        vertical-align: middle;\n",
              "    }\n",
              "\n",
              "    .dataframe tbody tr th {\n",
              "        vertical-align: top;\n",
              "    }\n",
              "\n",
              "    .dataframe thead th {\n",
              "        text-align: right;\n",
              "    }\n",
              "</style>\n",
              "<table border=\"1\" class=\"dataframe\">\n",
              "  <thead>\n",
              "    <tr style=\"text-align: right;\">\n",
              "      <th></th>\n",
              "      <th>loss</th>\n",
              "      <th>val_loss</th>\n",
              "    </tr>\n",
              "  </thead>\n",
              "  <tbody>\n",
              "    <tr>\n",
              "      <th>0</th>\n",
              "      <td>60343.082031</td>\n",
              "      <td>52084.714844</td>\n",
              "    </tr>\n",
              "    <tr>\n",
              "      <th>1</th>\n",
              "      <td>23598.826172</td>\n",
              "      <td>9240.287109</td>\n",
              "    </tr>\n",
              "    <tr>\n",
              "      <th>2</th>\n",
              "      <td>9071.954102</td>\n",
              "      <td>8649.378906</td>\n",
              "    </tr>\n",
              "    <tr>\n",
              "      <th>3</th>\n",
              "      <td>8358.526367</td>\n",
              "      <td>7939.446777</td>\n",
              "    </tr>\n",
              "    <tr>\n",
              "      <th>4</th>\n",
              "      <td>7830.106934</td>\n",
              "      <td>7557.025879</td>\n",
              "    </tr>\n",
              "    <tr>\n",
              "      <th>...</th>\n",
              "      <td>...</td>\n",
              "      <td>...</td>\n",
              "    </tr>\n",
              "    <tr>\n",
              "      <th>395</th>\n",
              "      <td>7280.936523</td>\n",
              "      <td>7181.231934</td>\n",
              "    </tr>\n",
              "    <tr>\n",
              "      <th>396</th>\n",
              "      <td>7278.949707</td>\n",
              "      <td>7175.208984</td>\n",
              "    </tr>\n",
              "    <tr>\n",
              "      <th>397</th>\n",
              "      <td>7280.008301</td>\n",
              "      <td>7181.347168</td>\n",
              "    </tr>\n",
              "    <tr>\n",
              "      <th>398</th>\n",
              "      <td>7276.710449</td>\n",
              "      <td>7184.933105</td>\n",
              "    </tr>\n",
              "    <tr>\n",
              "      <th>399</th>\n",
              "      <td>7281.339355</td>\n",
              "      <td>7186.182129</td>\n",
              "    </tr>\n",
              "  </tbody>\n",
              "</table>\n",
              "<p>400 rows × 2 columns</p>\n",
              "</div>\n",
              "      <button class=\"colab-df-convert\" onclick=\"convertToInteractive('df-09971c60-57e6-446e-b51e-e84c374d3937')\"\n",
              "              title=\"Convert this dataframe to an interactive table.\"\n",
              "              style=\"display:none;\">\n",
              "        \n",
              "  <svg xmlns=\"http://www.w3.org/2000/svg\" height=\"24px\"viewBox=\"0 0 24 24\"\n",
              "       width=\"24px\">\n",
              "    <path d=\"M0 0h24v24H0V0z\" fill=\"none\"/>\n",
              "    <path d=\"M18.56 5.44l.94 2.06.94-2.06 2.06-.94-2.06-.94-.94-2.06-.94 2.06-2.06.94zm-11 1L8.5 8.5l.94-2.06 2.06-.94-2.06-.94L8.5 2.5l-.94 2.06-2.06.94zm10 10l.94 2.06.94-2.06 2.06-.94-2.06-.94-.94-2.06-.94 2.06-2.06.94z\"/><path d=\"M17.41 7.96l-1.37-1.37c-.4-.4-.92-.59-1.43-.59-.52 0-1.04.2-1.43.59L10.3 9.45l-7.72 7.72c-.78.78-.78 2.05 0 2.83L4 21.41c.39.39.9.59 1.41.59.51 0 1.02-.2 1.41-.59l7.78-7.78 2.81-2.81c.8-.78.8-2.07 0-2.86zM5.41 20L4 18.59l7.72-7.72 1.47 1.35L5.41 20z\"/>\n",
              "  </svg>\n",
              "      </button>\n",
              "      \n",
              "  <style>\n",
              "    .colab-df-container {\n",
              "      display:flex;\n",
              "      flex-wrap:wrap;\n",
              "      gap: 12px;\n",
              "    }\n",
              "\n",
              "    .colab-df-convert {\n",
              "      background-color: #E8F0FE;\n",
              "      border: none;\n",
              "      border-radius: 50%;\n",
              "      cursor: pointer;\n",
              "      display: none;\n",
              "      fill: #1967D2;\n",
              "      height: 32px;\n",
              "      padding: 0 0 0 0;\n",
              "      width: 32px;\n",
              "    }\n",
              "\n",
              "    .colab-df-convert:hover {\n",
              "      background-color: #E2EBFA;\n",
              "      box-shadow: 0px 1px 2px rgba(60, 64, 67, 0.3), 0px 1px 3px 1px rgba(60, 64, 67, 0.15);\n",
              "      fill: #174EA6;\n",
              "    }\n",
              "\n",
              "    [theme=dark] .colab-df-convert {\n",
              "      background-color: #3B4455;\n",
              "      fill: #D2E3FC;\n",
              "    }\n",
              "\n",
              "    [theme=dark] .colab-df-convert:hover {\n",
              "      background-color: #434B5C;\n",
              "      box-shadow: 0px 1px 3px 1px rgba(0, 0, 0, 0.15);\n",
              "      filter: drop-shadow(0px 1px 2px rgba(0, 0, 0, 0.3));\n",
              "      fill: #FFFFFF;\n",
              "    }\n",
              "  </style>\n",
              "\n",
              "      <script>\n",
              "        const buttonEl =\n",
              "          document.querySelector('#df-09971c60-57e6-446e-b51e-e84c374d3937 button.colab-df-convert');\n",
              "        buttonEl.style.display =\n",
              "          google.colab.kernel.accessAllowed ? 'block' : 'none';\n",
              "\n",
              "        async function convertToInteractive(key) {\n",
              "          const element = document.querySelector('#df-09971c60-57e6-446e-b51e-e84c374d3937');\n",
              "          const dataTable =\n",
              "            await google.colab.kernel.invokeFunction('convertToInteractive',\n",
              "                                                     [key], {});\n",
              "          if (!dataTable) return;\n",
              "\n",
              "          const docLinkHtml = 'Like what you see? Visit the ' +\n",
              "            '<a target=\"_blank\" href=https://colab.research.google.com/notebooks/data_table.ipynb>data table notebook</a>'\n",
              "            + ' to learn more about interactive tables.';\n",
              "          element.innerHTML = '';\n",
              "          dataTable['output_type'] = 'display_data';\n",
              "          await google.colab.output.renderOutput(dataTable, element);\n",
              "          const docLink = document.createElement('div');\n",
              "          docLink.innerHTML = docLinkHtml;\n",
              "          element.appendChild(docLink);\n",
              "        }\n",
              "      </script>\n",
              "    </div>\n",
              "  </div>\n",
              "  "
            ],
            "text/plain": [
              "             loss      val_loss\n",
              "0    60343.082031  52084.714844\n",
              "1    23598.826172   9240.287109\n",
              "2     9071.954102   8649.378906\n",
              "3     8358.526367   7939.446777\n",
              "4     7830.106934   7557.025879\n",
              "..            ...           ...\n",
              "395   7280.936523   7181.231934\n",
              "396   7278.949707   7175.208984\n",
              "397   7280.008301   7181.347168\n",
              "398   7276.710449   7184.933105\n",
              "399   7281.339355   7186.182129\n",
              "\n",
              "[400 rows x 2 columns]"
            ]
          },
          "metadata": {},
          "execution_count": 218
        }
      ]
    },
    {
      "cell_type": "code",
      "source": [
        "losses.plot()\n",
        "\n",
        "#On peut comparer directement le comportement de ma fonction de perte d'entraînement et de test"
      ],
      "metadata": {
        "colab": {
          "base_uri": "https://localhost:8080/",
          "height": 283
        },
        "id": "0WUAq6yLvzR4",
        "outputId": "f800ecb4-c80b-4d95-e6d2-17260d72424f"
      },
      "id": "0WUAq6yLvzR4",
      "execution_count": 219,
      "outputs": [
        {
          "output_type": "execute_result",
          "data": {
            "text/plain": [
              "<matplotlib.axes._subplots.AxesSubplot at 0x7f2b3f629990>"
            ]
          },
          "metadata": {},
          "execution_count": 219
        },
        {
          "output_type": "display_data",
          "data": {
            "image/png": "[encoded data removed]",
            "text/plain": [
              "<Figure size 432x288 with 1 Axes>"
            ]
          },
          "metadata": {
            "needs_background": "light"
          }
        }
      ]
    },
    {
      "cell_type": "markdown",
      "source": [
        "Nous observons un même comportement du set de test (d'entraînement) et du set de validation, donc on est pas en surapprentissage( overfitting)"
      ],
      "metadata": {
        "id": "_niMiDPd_Rh2"
      },
      "id": "_niMiDPd_Rh2"
    },
    {
      "cell_type": "markdown",
      "source": [
        "## Évaluation sur les données Test"
      ],
      "metadata": {
        "id": "IEBx2jy3BkYy"
      },
      "id": "IEBx2jy3BkYy"
    },
    {
      "cell_type": "code",
      "source": [
        "from sklearn.metrics import mean_squared_error,mean_absolute_error,explained_variance_score"
      ],
      "metadata": {
        "id": "lZp4GOOOBjxV"
      },
      "id": "lZp4GOOOBjxV",
      "execution_count": 220,
      "outputs": []
    },
    {
      "cell_type": "markdown",
      "source": [
        "### Prédiction sur de toutes nouvelles données"
      ],
      "metadata": {
        "id": "FM7UM_-CB91c"
      },
      "id": "FM7UM_-CB91c"
    },
    {
      "cell_type": "code",
      "source": [
        "X_test"
      ],
      "metadata": {
        "colab": {
          "base_uri": "https://localhost:8080/"
        },
        "id": "X4J0nnlaB-3O",
        "outputId": "4c8e9faf-0451-4945-d9a9-6ed2fcb22f75"
      },
      "id": "X4J0nnlaB-3O",
      "execution_count": 221,
      "outputs": [
        {
          "output_type": "execute_result",
          "data": {
            "text/plain": [
              "array([[0.5       , 0.46708777, 0.17791411, 0.        , 0.        ],\n",
              "       [0.5       , 0.33180007, 0.24233129, 1.        , 0.        ],\n",
              "       [0.5       , 0.46708777, 0.12269939, 1.        , 0.        ],\n",
              "       ...,\n",
              "       [0.5       , 0.46708777, 0.21779141, 0.        , 0.        ],\n",
              "       [0.        , 0.33180007, 0.03680982, 0.4       , 0.        ],\n",
              "       [0.        , 0.33180007, 0.03680982, 0.6       , 0.        ]])"
            ]
          },
          "metadata": {},
          "execution_count": 221
        }
      ]
    },
    {
      "cell_type": "code",
      "source": [
        "# On prédit sur le set de test\n",
        "predictions = model.predict(X_test)"
      ],
      "metadata": {
        "id": "wSoFE37pCCms"
      },
      "id": "wSoFE37pCCms",
      "execution_count": 222,
      "outputs": []
    },
    {
      "cell_type": "code",
      "source": [
        "predictions"
      ],
      "metadata": {
        "colab": {
          "base_uri": "https://localhost:8080/"
        },
        "id": "YJcnfeQuCVbm",
        "outputId": "b8bfed2f-72d3-4018-eb13-406ec3c276b8"
      },
      "id": "YJcnfeQuCVbm",
      "execution_count": 223,
      "outputs": [
        {
          "output_type": "execute_result",
          "data": {
            "text/plain": [
              "array([[211.81772],\n",
              "       [211.7093 ],\n",
              "       [243.47313],\n",
              "       ...,\n",
              "       [211.07385],\n",
              "       [178.212  ],\n",
              "       [185.22511]], dtype=float32)"
            ]
          },
          "metadata": {},
          "execution_count": 223
        }
      ]
    },
    {
      "cell_type": "markdown",
      "source": [
        "On a une liste de prédictions et nous allons maintenant comparer cette liste avec une liste de prix réels."
      ],
      "metadata": {
        "id": "HIsTu0WOCkTt"
      },
      "id": "HIsTu0WOCkTt"
    },
    {
      "cell_type": "code",
      "source": [
        "mean_absolute_error(y_test,predictions)"
      ],
      "metadata": {
        "colab": {
          "base_uri": "https://localhost:8080/"
        },
        "id": "b8V4YY-FC7Pc",
        "outputId": "10d39303-0936-44cc-a39e-71bcfdce9939"
      },
      "id": "b8V4YY-FC7Pc",
      "execution_count": 224,
      "outputs": [
        {
          "output_type": "execute_result",
          "data": {
            "text/plain": [
              "67.07792684397154"
            ]
          },
          "metadata": {},
          "execution_count": 224
        }
      ]
    },
    {
      "cell_type": "code",
      "source": [
        "np.sqrt(mean_squared_error(y_test,predictions))"
      ],
      "metadata": {
        "colab": {
          "base_uri": "https://localhost:8080/"
        },
        "id": "t9Gn8-zIDEzk",
        "outputId": "a9c2d6f7-49a8-41f2-cf4e-4225a57be869"
      },
      "id": "t9Gn8-zIDEzk",
      "execution_count": 225,
      "outputs": [
        {
          "output_type": "execute_result",
          "data": {
            "text/plain": [
              "84.77135240792467"
            ]
          },
          "metadata": {},
          "execution_count": 225
        }
      ]
    },
    {
      "cell_type": "markdown",
      "source": [
        "Il semble qu'en moyenne on a un écart de 300€ sur tous les prix de billets d'avion. Pour savoir s'il s'agit d'une bonne ou mauvaise erreur,nous devons prendre en compte de notre dataframe."
      ],
      "metadata": {
        "id": "Y1HeAD8sDl_O"
      },
      "id": "Y1HeAD8sDl_O"
    },
    {
      "cell_type": "code",
      "source": [
        "df['Prix'].describe()"
      ],
      "metadata": {
        "colab": {
          "base_uri": "https://localhost:8080/"
        },
        "id": "9LKV2LLfEOKl",
        "outputId": "ee7eeea5-9488-405e-ebf5-babc86664a54"
      },
      "id": "9LKV2LLfEOKl",
      "execution_count": 226,
      "outputs": [
        {
          "output_type": "execute_result",
          "data": {
            "text/plain": [
              "count    55201.000000\n",
              "mean       226.877665\n",
              "std        104.565840\n",
              "min         33.000000\n",
              "25%        148.000000\n",
              "50%        203.000000\n",
              "75%        290.000000\n",
              "max        504.000000\n",
              "Name: Prix, dtype: float64"
            ]
          },
          "metadata": {},
          "execution_count": 226
        }
      ]
    },
    {
      "cell_type": "code",
      "source": [
        "# Part de la variance expliquée par le modèle\n",
        "explained_variance_score(y_test,predictions)"
      ],
      "metadata": {
        "colab": {
          "base_uri": "https://localhost:8080/"
        },
        "id": "DBNN0TUPErkL",
        "outputId": "bd10ab11-a1a5-48f5-fd82-33394c14e0d2"
      },
      "id": "DBNN0TUPErkL",
      "execution_count": 227,
      "outputs": [
        {
          "output_type": "execute_result",
          "data": {
            "text/plain": [
              "0.34025486113892156"
            ]
          },
          "metadata": {},
          "execution_count": 227
        }
      ]
    },
    {
      "cell_type": "code",
      "source": [
        "# Nos prédictions\n",
        "plt.scatter(y_test,predictions)\n",
        "\n",
        "# Prédictions parfaites\n",
        "plt.plot(y_test,y_test,'r');"
      ],
      "metadata": {
        "colab": {
          "base_uri": "https://localhost:8080/",
          "height": 265
        },
        "id": "0M4HKbVpXAQO",
        "outputId": "2182397d-b4d0-475f-fa18-714b7fe0e60d"
      },
      "id": "0M4HKbVpXAQO",
      "execution_count": 228,
      "outputs": [
        {
          "output_type": "display_data",
          "data": {
            "image/png": "[encoded data removed]",
            "text/plain": [
              "<Figure size 432x288 with 1 Axes>"
            ]
          },
          "metadata": {
            "needs_background": "light"
          }
        }
      ]
    },
    {
      "cell_type": "markdown",
      "source": [
        "Cette ligne rouge représente une prédiction parfaite.\n",
        "\n",
        "Notre modèle est pénalisé par des valeurs abérantes"
      ],
      "metadata": {
        "id": "g_HaF2JaXWO6"
      },
      "id": "g_HaF2JaXWO6"
    }
  ],
  "metadata": {
    "kernelspec": {
      "display_name": "Python 3",
      "language": "python",
      "name": "python3"
    },
    "language_info": {
      "codemirror_mode": {
        "name": "ipython",
        "version": 3
      },
      "file_extension": ".py",
      "mimetype": "text/x-python",
      "name": "python",
      "nbconvert_exporter": "python",
      "pygments_lexer": "ipython3",
      "version": "3.8.3"
    },
    "colab": {
      "name": "Projet_python_Datascience.ipynb",
      "provenance": [],
      "collapsed_sections": []
    }
  },
  "nbformat": 4,
  "nbformat_minor": 5
}