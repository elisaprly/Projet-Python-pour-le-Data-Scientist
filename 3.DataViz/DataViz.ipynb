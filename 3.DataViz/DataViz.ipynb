{
 "cells": [
  {
   "cell_type": "code",
   "execution_count": 1,
   "id": "c9abeaa4",
   "metadata": {},
   "outputs": [],
   "source": [
    "import pandas as pd\n",
    "import numpy as np\n",
    "import seaborn as sns\n",
    "import matplotlib.pyplot as plt"
   ]
  },
  {
   "cell_type": "code",
   "execution_count": 2,
   "id": "7a96b241",
   "metadata": {},
   "outputs": [],
   "source": [
    "import plotly.express as px"
   ]
  },
  {
   "cell_type": "code",
   "execution_count": 130,
   "id": "4c77ded8",
   "metadata": {},
   "outputs": [],
   "source": [
    "df = pd.read_excel('C:\\\\Users\\\\elisa\\\\OneDrive - GENES\\\\Documents\\\\GitHub\\\\Projet-Python-pour-le-Data-Scientist\\\\base_a_traiter.xlsx')"
   ]
  },
  {
   "cell_type": "code",
   "execution_count": 6,
   "id": "3e08031b",
   "metadata": {},
   "outputs": [
    {
     "data": {
      "text/html": [
       "<div>\n",
       "<style scoped>\n",
       "    .dataframe tbody tr th:only-of-type {\n",
       "        vertical-align: middle;\n",
       "    }\n",
       "\n",
       "    .dataframe tbody tr th {\n",
       "        vertical-align: top;\n",
       "    }\n",
       "\n",
       "    .dataframe thead th {\n",
       "        text-align: right;\n",
       "    }\n",
       "</style>\n",
       "<table border=\"1\" class=\"dataframe\">\n",
       "  <thead>\n",
       "    <tr style=\"text-align: right;\">\n",
       "      <th></th>\n",
       "      <th>Compagnie</th>\n",
       "      <th>Total d'escales</th>\n",
       "      <th>Destination</th>\n",
       "      <th>Distance</th>\n",
       "      <th>Date_aller</th>\n",
       "      <th>Date_retour</th>\n",
       "      <th>Prix</th>\n",
       "      <th>Duree de vol</th>\n",
       "    </tr>\n",
       "  </thead>\n",
       "  <tbody>\n",
       "    <tr>\n",
       "      <th>0</th>\n",
       "      <td>Air France</td>\n",
       "      <td>0</td>\n",
       "      <td>Oslo</td>\n",
       "      <td>1344.0</td>\n",
       "      <td>2022-04-01</td>\n",
       "      <td>2022-04-08</td>\n",
       "      <td>204</td>\n",
       "      <td>2.333333</td>\n",
       "    </tr>\n",
       "    <tr>\n",
       "      <th>1</th>\n",
       "      <td>Air France</td>\n",
       "      <td>0</td>\n",
       "      <td>Oslo</td>\n",
       "      <td>1344.0</td>\n",
       "      <td>2022-04-01</td>\n",
       "      <td>2022-04-08</td>\n",
       "      <td>204</td>\n",
       "      <td>2.500000</td>\n",
       "    </tr>\n",
       "    <tr>\n",
       "      <th>2</th>\n",
       "      <td>Flyr AS</td>\n",
       "      <td>0</td>\n",
       "      <td>Oslo</td>\n",
       "      <td>1344.0</td>\n",
       "      <td>2022-04-01</td>\n",
       "      <td>2022-04-08</td>\n",
       "      <td>195</td>\n",
       "      <td>2.416667</td>\n",
       "    </tr>\n",
       "    <tr>\n",
       "      <th>3</th>\n",
       "      <td>Flyr AS</td>\n",
       "      <td>0</td>\n",
       "      <td>Oslo</td>\n",
       "      <td>1344.0</td>\n",
       "      <td>2022-04-01</td>\n",
       "      <td>2022-04-08</td>\n",
       "      <td>195</td>\n",
       "      <td>2.416667</td>\n",
       "    </tr>\n",
       "    <tr>\n",
       "      <th>4</th>\n",
       "      <td>Norwegian</td>\n",
       "      <td>0</td>\n",
       "      <td>Oslo</td>\n",
       "      <td>1344.0</td>\n",
       "      <td>2022-04-01</td>\n",
       "      <td>2022-04-08</td>\n",
       "      <td>186</td>\n",
       "      <td>2.333333</td>\n",
       "    </tr>\n",
       "  </tbody>\n",
       "</table>\n",
       "</div>"
      ],
      "text/plain": [
       "    Compagnie  Total d'escales Destination  Distance Date_aller Date_retour  \\\n",
       "0  Air France                0        Oslo    1344.0 2022-04-01  2022-04-08   \n",
       "1  Air France                0        Oslo    1344.0 2022-04-01  2022-04-08   \n",
       "2     Flyr AS                0        Oslo    1344.0 2022-04-01  2022-04-08   \n",
       "3     Flyr AS                0        Oslo    1344.0 2022-04-01  2022-04-08   \n",
       "4   Norwegian                0        Oslo    1344.0 2022-04-01  2022-04-08   \n",
       "\n",
       "   Prix  Duree de vol  \n",
       "0   204      2.333333  \n",
       "1   204      2.500000  \n",
       "2   195      2.416667  \n",
       "3   195      2.416667  \n",
       "4   186      2.333333  "
      ]
     },
     "execution_count": 6,
     "metadata": {},
     "output_type": "execute_result"
    }
   ],
   "source": [
    "df.head()"
   ]
  },
  {
   "cell_type": "code",
   "execution_count": 8,
   "id": "0c31b144",
   "metadata": {},
   "outputs": [
    {
     "name": "stdout",
     "output_type": "stream",
     "text": [
      "<class 'pandas.core.frame.DataFrame'>\n",
      "RangeIndex: 61334 entries, 0 to 61333\n",
      "Data columns (total 8 columns):\n",
      " #   Column           Non-Null Count  Dtype         \n",
      "---  ------           --------------  -----         \n",
      " 0   Compagnie        61319 non-null  object        \n",
      " 1   Total d'escales  61334 non-null  int64         \n",
      " 2   Destination      61334 non-null  object        \n",
      " 3   Distance         61334 non-null  float64       \n",
      " 4   Date_aller       61334 non-null  datetime64[ns]\n",
      " 5   Date_retour      61334 non-null  datetime64[ns]\n",
      " 6   Prix             61334 non-null  int64         \n",
      " 7   Duree de vol     61334 non-null  float64       \n",
      "dtypes: datetime64[ns](2), float64(2), int64(2), object(2)\n",
      "memory usage: 3.7+ MB\n"
     ]
    }
   ],
   "source": [
    "df.info()"
   ]
  },
  {
   "cell_type": "code",
   "execution_count": 7,
   "id": "4089df95",
   "metadata": {},
   "outputs": [
    {
     "data": {
      "text/html": [
       "<div>\n",
       "<style scoped>\n",
       "    .dataframe tbody tr th:only-of-type {\n",
       "        vertical-align: middle;\n",
       "    }\n",
       "\n",
       "    .dataframe tbody tr th {\n",
       "        vertical-align: top;\n",
       "    }\n",
       "\n",
       "    .dataframe thead th {\n",
       "        text-align: right;\n",
       "    }\n",
       "</style>\n",
       "<table border=\"1\" class=\"dataframe\">\n",
       "  <thead>\n",
       "    <tr style=\"text-align: right;\">\n",
       "      <th></th>\n",
       "      <th>Total d'escales</th>\n",
       "      <th>Distance</th>\n",
       "      <th>Prix</th>\n",
       "      <th>Duree de vol</th>\n",
       "    </tr>\n",
       "  </thead>\n",
       "  <tbody>\n",
       "    <tr>\n",
       "      <th>count</th>\n",
       "      <td>73278.000000</td>\n",
       "      <td>73278.000000</td>\n",
       "      <td>73278.000000</td>\n",
       "      <td>73278.000000</td>\n",
       "    </tr>\n",
       "    <tr>\n",
       "      <th>mean</th>\n",
       "      <td>0.516076</td>\n",
       "      <td>1281.930674</td>\n",
       "      <td>278.167663</td>\n",
       "      <td>4.469546</td>\n",
       "    </tr>\n",
       "    <tr>\n",
       "      <th>std</th>\n",
       "      <td>0.520924</td>\n",
       "      <td>667.682119</td>\n",
       "      <td>312.885063</td>\n",
       "      <td>2.962306</td>\n",
       "    </tr>\n",
       "    <tr>\n",
       "      <th>min</th>\n",
       "      <td>0.000000</td>\n",
       "      <td>342.760000</td>\n",
       "      <td>33.000000</td>\n",
       "      <td>1.083333</td>\n",
       "    </tr>\n",
       "    <tr>\n",
       "      <th>25%</th>\n",
       "      <td>0.000000</td>\n",
       "      <td>1054.000000</td>\n",
       "      <td>148.000000</td>\n",
       "      <td>2.083333</td>\n",
       "    </tr>\n",
       "    <tr>\n",
       "      <th>50%</th>\n",
       "      <td>1.000000</td>\n",
       "      <td>1054.000000</td>\n",
       "      <td>203.000000</td>\n",
       "      <td>4.000000</td>\n",
       "    </tr>\n",
       "    <tr>\n",
       "      <th>75%</th>\n",
       "      <td>1.000000</td>\n",
       "      <td>2095.520000</td>\n",
       "      <td>308.000000</td>\n",
       "      <td>6.000000</td>\n",
       "    </tr>\n",
       "    <tr>\n",
       "      <th>max</th>\n",
       "      <td>2.000000</td>\n",
       "      <td>2486.340000</td>\n",
       "      <td>5355.000000</td>\n",
       "      <td>28.250000</td>\n",
       "    </tr>\n",
       "  </tbody>\n",
       "</table>\n",
       "</div>"
      ],
      "text/plain": [
       "       Total d'escales      Distance          Prix  Duree de vol\n",
       "count     73278.000000  73278.000000  73278.000000  73278.000000\n",
       "mean          0.516076   1281.930674    278.167663      4.469546\n",
       "std           0.520924    667.682119    312.885063      2.962306\n",
       "min           0.000000    342.760000     33.000000      1.083333\n",
       "25%           0.000000   1054.000000    148.000000      2.083333\n",
       "50%           1.000000   1054.000000    203.000000      4.000000\n",
       "75%           1.000000   2095.520000    308.000000      6.000000\n",
       "max           2.000000   2486.340000   5355.000000     28.250000"
      ]
     },
     "execution_count": 7,
     "metadata": {},
     "output_type": "execute_result"
    }
   ],
   "source": [
    "df.describe()"
   ]
  },
  {
   "cell_type": "code",
   "execution_count": 8,
   "id": "d26d0dcb",
   "metadata": {},
   "outputs": [
    {
     "data": {
      "text/plain": [
       "<AxesSubplot:>"
      ]
     },
     "execution_count": 8,
     "metadata": {},
     "output_type": "execute_result"
    },
    {
     "data": {
      "image/png": "[encoded data removed]",
      "text/plain": [
       "<Figure size 432x288 with 2 Axes>"
      ]
     },
     "metadata": {
      "needs_background": "light"
     },
     "output_type": "display_data"
    }
   ],
   "source": [
    "sns.heatmap(df.corr(), cmap= sns.color_palette(\"viridis\", as_cmap=True), annot = True)"
   ]
  },
  {
   "cell_type": "code",
   "execution_count": 9,
   "id": "f7fe9cc6",
   "metadata": {},
   "outputs": [],
   "source": [
    "df_moyen= df.groupby(['Destination']).mean()"
   ]
  },
  {
   "cell_type": "code",
   "execution_count": 10,
   "id": "52fd78aa",
   "metadata": {},
   "outputs": [
    {
     "data": {
      "text/html": [
       "<div>\n",
       "<style scoped>\n",
       "    .dataframe tbody tr th:only-of-type {\n",
       "        vertical-align: middle;\n",
       "    }\n",
       "\n",
       "    .dataframe tbody tr th {\n",
       "        vertical-align: top;\n",
       "    }\n",
       "\n",
       "    .dataframe thead th {\n",
       "        text-align: right;\n",
       "    }\n",
       "</style>\n",
       "<table border=\"1\" class=\"dataframe\">\n",
       "  <thead>\n",
       "    <tr style=\"text-align: right;\">\n",
       "      <th></th>\n",
       "      <th>Total d'escales</th>\n",
       "      <th>Distance</th>\n",
       "      <th>Prix</th>\n",
       "      <th>Duree de vol</th>\n",
       "    </tr>\n",
       "    <tr>\n",
       "      <th>Destination</th>\n",
       "      <th></th>\n",
       "      <th></th>\n",
       "      <th></th>\n",
       "      <th></th>\n",
       "    </tr>\n",
       "  </thead>\n",
       "  <tbody>\n",
       "    <tr>\n",
       "      <th>Athenes</th>\n",
       "      <td>0.742656</td>\n",
       "      <td>2095.52</td>\n",
       "      <td>287.960344</td>\n",
       "      <td>6.443462</td>\n",
       "    </tr>\n",
       "    <tr>\n",
       "      <th>Londres</th>\n",
       "      <td>0.350297</td>\n",
       "      <td>342.76</td>\n",
       "      <td>173.448249</td>\n",
       "      <td>2.475336</td>\n",
       "    </tr>\n",
       "    <tr>\n",
       "      <th>Madrid</th>\n",
       "      <td>0.400604</td>\n",
       "      <td>1054.00</td>\n",
       "      <td>252.368457</td>\n",
       "      <td>3.729129</td>\n",
       "    </tr>\n",
       "    <tr>\n",
       "      <th>Moscou</th>\n",
       "      <td>0.665254</td>\n",
       "      <td>2486.34</td>\n",
       "      <td>571.197088</td>\n",
       "      <td>7.051030</td>\n",
       "    </tr>\n",
       "    <tr>\n",
       "      <th>Oslo</th>\n",
       "      <td>0.768169</td>\n",
       "      <td>1344.00</td>\n",
       "      <td>212.073108</td>\n",
       "      <td>5.222225</td>\n",
       "    </tr>\n",
       "  </tbody>\n",
       "</table>\n",
       "</div>"
      ],
      "text/plain": [
       "             Total d'escales  Distance        Prix  Duree de vol\n",
       "Destination                                                     \n",
       "Athenes             0.742656   2095.52  287.960344      6.443462\n",
       "Londres             0.350297    342.76  173.448249      2.475336\n",
       "Madrid              0.400604   1054.00  252.368457      3.729129\n",
       "Moscou              0.665254   2486.34  571.197088      7.051030\n",
       "Oslo                0.768169   1344.00  212.073108      5.222225"
      ]
     },
     "execution_count": 10,
     "metadata": {},
     "output_type": "execute_result"
    }
   ],
   "source": [
    "df_moyen"
   ]
  },
  {
   "cell_type": "code",
   "execution_count": 12,
   "id": "110a646b",
   "metadata": {},
   "outputs": [],
   "source": [
    "df_moyen['Destination']=['Athenes','Londres','Madrid','Moscou','Oslo']"
   ]
  },
  {
   "cell_type": "code",
   "execution_count": 13,
   "id": "3230d949",
   "metadata": {},
   "outputs": [
    {
     "data": {
      "text/plain": [
       "<AxesSubplot:xlabel='Destination', ylabel='Prix'>"
      ]
     },
     "execution_count": 13,
     "metadata": {},
     "output_type": "execute_result"
    },
    {
     "data": {
      "image/png": "[encoded data removed]",
      "text/plain": [
       "<Figure size 432x288 with 1 Axes>"
      ]
     },
     "metadata": {
      "needs_background": "light"
     },
     "output_type": "display_data"
    }
   ],
   "source": [
    "sns.barplot(x=\"Destination\", y=\"Prix\", data=df_moyen)"
   ]
  },
  {
   "cell_type": "code",
   "execution_count": 47,
   "id": "f380cc5e",
   "metadata": {},
   "outputs": [],
   "source": [
    "df_moyen.drop(columns = [\"Destination\"], inplace = True)"
   ]
  },
  {
   "cell_type": "code",
   "execution_count": 19,
   "id": "a54e717a",
   "metadata": {},
   "outputs": [],
   "source": [
    "from sklearn import preprocessing\n",
    "\n",
    "x = df_moyen.values #returns a numpy array\n",
    "min_max_scaler = preprocessing.MinMaxScaler()\n",
    "x_scaled = min_max_scaler.fit_transform(x)\n",
    "df_moyen= pd.DataFrame(x_scaled)"
   ]
  },
  {
   "cell_type": "code",
   "execution_count": 20,
   "id": "f0e8dba9",
   "metadata": {},
   "outputs": [],
   "source": [
    "df_moyen.columns = [\"Total d'escales\",\"Distance\",\"Prix\",\"Duree de vol\"]"
   ]
  },
  {
   "cell_type": "code",
   "execution_count": 21,
   "id": "44b09372",
   "metadata": {},
   "outputs": [],
   "source": [
    "df_moyen['Destination']=['Athenes','Londres','Madrid','Moscou','Oslo']"
   ]
  },
  {
   "cell_type": "code",
   "execution_count": 22,
   "id": "ffd716c6",
   "metadata": {},
   "outputs": [
    {
     "data": {
      "text/html": [
       "<div>\n",
       "<style scoped>\n",
       "    .dataframe tbody tr th:only-of-type {\n",
       "        vertical-align: middle;\n",
       "    }\n",
       "\n",
       "    .dataframe tbody tr th {\n",
       "        vertical-align: top;\n",
       "    }\n",
       "\n",
       "    .dataframe thead th {\n",
       "        text-align: right;\n",
       "    }\n",
       "</style>\n",
       "<table border=\"1\" class=\"dataframe\">\n",
       "  <thead>\n",
       "    <tr style=\"text-align: right;\">\n",
       "      <th></th>\n",
       "      <th>Total d'escales</th>\n",
       "      <th>Distance</th>\n",
       "      <th>Prix</th>\n",
       "      <th>Duree de vol</th>\n",
       "      <th>Destination</th>\n",
       "    </tr>\n",
       "  </thead>\n",
       "  <tbody>\n",
       "    <tr>\n",
       "      <th>0</th>\n",
       "      <td>0.938946</td>\n",
       "      <td>0.817679</td>\n",
       "      <td>0.287901</td>\n",
       "      <td>0.867218</td>\n",
       "      <td>Athenes</td>\n",
       "    </tr>\n",
       "    <tr>\n",
       "      <th>1</th>\n",
       "      <td>0.000000</td>\n",
       "      <td>0.000000</td>\n",
       "      <td>0.000000</td>\n",
       "      <td>0.000000</td>\n",
       "      <td>Londres</td>\n",
       "    </tr>\n",
       "    <tr>\n",
       "      <th>2</th>\n",
       "      <td>0.120387</td>\n",
       "      <td>0.331800</td>\n",
       "      <td>0.198417</td>\n",
       "      <td>0.274011</td>\n",
       "      <td>Madrid</td>\n",
       "    </tr>\n",
       "    <tr>\n",
       "      <th>3</th>\n",
       "      <td>0.753717</td>\n",
       "      <td>1.000000</td>\n",
       "      <td>1.000000</td>\n",
       "      <td>1.000000</td>\n",
       "      <td>Moscou</td>\n",
       "    </tr>\n",
       "    <tr>\n",
       "      <th>4</th>\n",
       "      <td>1.000000</td>\n",
       "      <td>0.467088</td>\n",
       "      <td>0.097109</td>\n",
       "      <td>0.600322</td>\n",
       "      <td>Oslo</td>\n",
       "    </tr>\n",
       "  </tbody>\n",
       "</table>\n",
       "</div>"
      ],
      "text/plain": [
       "   Total d'escales  Distance      Prix  Duree de vol Destination\n",
       "0         0.938946  0.817679  0.287901      0.867218     Athenes\n",
       "1         0.000000  0.000000  0.000000      0.000000     Londres\n",
       "2         0.120387  0.331800  0.198417      0.274011      Madrid\n",
       "3         0.753717  1.000000  1.000000      1.000000      Moscou\n",
       "4         1.000000  0.467088  0.097109      0.600322        Oslo"
      ]
     },
     "execution_count": 22,
     "metadata": {},
     "output_type": "execute_result"
    }
   ],
   "source": [
    "df_moyen"
   ]
  },
  {
   "cell_type": "code",
   "execution_count": 48,
   "id": "27f17a8f",
   "metadata": {},
   "outputs": [],
   "source": [
    "tableau = df_moyen.to_numpy()"
   ]
  },
  {
   "cell_type": "code",
   "execution_count": 50,
   "id": "6786b2e3",
   "metadata": {},
   "outputs": [],
   "source": [
    "tableau2= tableau.T"
   ]
  },
  {
   "cell_type": "code",
   "execution_count": 52,
   "id": "9128301c",
   "metadata": {},
   "outputs": [],
   "source": [
    "df_normalized = pd.DataFrame(tableau2)"
   ]
  },
  {
   "cell_type": "code",
   "execution_count": 54,
   "id": "ffb9f9a5",
   "metadata": {},
   "outputs": [],
   "source": [
    "df_normalized.columns=['Athènes','Londres','Madrid','Moscou','Oslo']"
   ]
  },
  {
   "cell_type": "code",
   "execution_count": 56,
   "id": "12df5f11",
   "metadata": {},
   "outputs": [],
   "source": [
    "df_normalized['Caracteristiques']=[\"Total d'escales\",\"Distance\",\"Prix\",\"Duree de vol\"]"
   ]
  },
  {
   "cell_type": "code",
   "execution_count": 57,
   "id": "8d0e6da6",
   "metadata": {},
   "outputs": [
    {
     "data": {
      "text/html": [
       "<div>\n",
       "<style scoped>\n",
       "    .dataframe tbody tr th:only-of-type {\n",
       "        vertical-align: middle;\n",
       "    }\n",
       "\n",
       "    .dataframe tbody tr th {\n",
       "        vertical-align: top;\n",
       "    }\n",
       "\n",
       "    .dataframe thead th {\n",
       "        text-align: right;\n",
       "    }\n",
       "</style>\n",
       "<table border=\"1\" class=\"dataframe\">\n",
       "  <thead>\n",
       "    <tr style=\"text-align: right;\">\n",
       "      <th></th>\n",
       "      <th>Athènes</th>\n",
       "      <th>Londres</th>\n",
       "      <th>Madrid</th>\n",
       "      <th>Moscou</th>\n",
       "      <th>Oslo</th>\n",
       "      <th>Caracteristiques</th>\n",
       "    </tr>\n",
       "  </thead>\n",
       "  <tbody>\n",
       "    <tr>\n",
       "      <th>0</th>\n",
       "      <td>0.938946</td>\n",
       "      <td>0.0</td>\n",
       "      <td>0.120387</td>\n",
       "      <td>0.753717</td>\n",
       "      <td>1.000000</td>\n",
       "      <td>Total d'escales</td>\n",
       "    </tr>\n",
       "    <tr>\n",
       "      <th>1</th>\n",
       "      <td>0.817679</td>\n",
       "      <td>0.0</td>\n",
       "      <td>0.331800</td>\n",
       "      <td>1.000000</td>\n",
       "      <td>0.467088</td>\n",
       "      <td>Distance</td>\n",
       "    </tr>\n",
       "    <tr>\n",
       "      <th>2</th>\n",
       "      <td>0.287901</td>\n",
       "      <td>0.0</td>\n",
       "      <td>0.198417</td>\n",
       "      <td>1.000000</td>\n",
       "      <td>0.097109</td>\n",
       "      <td>Prix</td>\n",
       "    </tr>\n",
       "    <tr>\n",
       "      <th>3</th>\n",
       "      <td>0.867218</td>\n",
       "      <td>0.0</td>\n",
       "      <td>0.274011</td>\n",
       "      <td>1.000000</td>\n",
       "      <td>0.600322</td>\n",
       "      <td>Duree de vol</td>\n",
       "    </tr>\n",
       "  </tbody>\n",
       "</table>\n",
       "</div>"
      ],
      "text/plain": [
       "    Athènes  Londres    Madrid    Moscou      Oslo Caracteristiques\n",
       "0  0.938946      0.0  0.120387  0.753717  1.000000  Total d'escales\n",
       "1  0.817679      0.0  0.331800  1.000000  0.467088         Distance\n",
       "2  0.287901      0.0  0.198417  1.000000  0.097109             Prix\n",
       "3  0.867218      0.0  0.274011  1.000000  0.600322     Duree de vol"
      ]
     },
     "execution_count": 57,
     "metadata": {},
     "output_type": "execute_result"
    }
   ],
   "source": [
    "df_normalized"
   ]
  },
  {
   "cell_type": "code",
   "execution_count": 129,
   "id": "075c0b78",
   "metadata": {},
   "outputs": [
    {
     "data": {
      "application/vnd.plotly.v1+json": {
       "config": {
        "plotlyServerURL": "https://plot.ly"
       },
       "data": [
        {
         "name": "Athènes",
         "r": [
          0.9389459968623816,
          0.8176788363391052,
          0.28790051378944587,
          0.8672184044640788,
          0.9389459968623816
         ],
         "subplot": "polar",
         "theta": [
          "Total d'escales",
          "Distance",
          "Prix",
          "Duree de vol",
          "Total d'escales"
         ],
         "type": "scatterpolar"
        },
        {
         "name": "Londres",
         "r": [
          0,
          0,
          0,
          0,
          0
         ],
         "subplot": "polar",
         "theta": [
          "Total d'escales",
          "Distance",
          "Prix",
          "Duree de vol",
          "Total d'escales"
         ],
         "type": "scatterpolar"
        },
        {
         "name": "Madrid",
         "r": [
          0.12038724832606584,
          0.33180007277550594,
          0.1984171919557443,
          0.2740114367547327,
          0.12038724832606584
         ],
         "subplot": "polar",
         "theta": [
          "Total d'escales",
          "Distance",
          "Prix",
          "Duree de vol",
          "Total d'escales"
         ],
         "type": "scatterpolar"
        },
        {
         "name": "Moscou",
         "r": [
          0.7537168461755989,
          1,
          1,
          1,
          0.7537168461755989
         ],
         "subplot": "polar",
         "theta": [
          "Total d'escales",
          "Distance",
          "Prix",
          "Duree de vol",
          "Total d'escales"
         ],
         "type": "scatterpolar"
        },
        {
         "name": "Oslo",
         "r": [
          0.9999999999999999,
          0.46708776905929406,
          0.09710866478817409,
          0.6003218197890695,
          0.9999999999999999
         ],
         "subplot": "polar",
         "theta": [
          "Total d'escales",
          "Distance",
          "Prix",
          "Duree de vol",
          "Total d'escales"
         ],
         "type": "scatterpolar"
        }
       ],
       "layout": {
        "polar": {
         "domain": {
          "x": [
           0,
           1
          ],
          "y": [
           0,
           1
          ]
         }
        },
        "template": {
         "data": {
          "bar": [
           {
            "error_x": {
             "color": "#2a3f5f"
            },
            "error_y": {
             "color": "#2a3f5f"
            },
            "marker": {
             "line": {
              "color": "#E5ECF6",
              "width": 0.5
             },
             "pattern": {
              "fillmode": "overlay",
              "size": 10,
              "solidity": 0.2
             }
            },
            "type": "bar"
           }
          ],
          "barpolar": [
           {
            "marker": {
             "line": {
              "color": "#E5ECF6",
              "width": 0.5
             },
             "pattern": {
              "fillmode": "overlay",
              "size": 10,
              "solidity": 0.2
             }
            },
            "type": "barpolar"
           }
          ],
          "carpet": [
           {
            "aaxis": {
             "endlinecolor": "#2a3f5f",
             "gridcolor": "white",
             "linecolor": "white",
             "minorgridcolor": "white",
             "startlinecolor": "#2a3f5f"
            },
            "baxis": {
             "endlinecolor": "#2a3f5f",
             "gridcolor": "white",
             "linecolor": "white",
             "minorgridcolor": "white",
             "startlinecolor": "#2a3f5f"
            },
            "type": "carpet"
           }
          ],
          "choropleth": [
           {
            "colorbar": {
             "outlinewidth": 0,
             "ticks": ""
            },
            "type": "choropleth"
           }
          ],
          "contour": [
           {
            "colorbar": {
             "outlinewidth": 0,
             "ticks": ""
            },
            "colorscale": [
             [
              0,
              "#0d0887"
             ],
             [
              0.1111111111111111,
              "#46039f"
             ],
             [
              0.2222222222222222,
              "#7201a8"
             ],
             [
              0.3333333333333333,
              "#9c179e"
             ],
             [
              0.4444444444444444,
              "#bd3786"
             ],
             [
              0.5555555555555556,
              "#d8576b"
             ],
             [
              0.6666666666666666,
              "#ed7953"
             ],
             [
              0.7777777777777778,
              "#fb9f3a"
             ],
             [
              0.8888888888888888,
              "#fdca26"
             ],
             [
              1,
              "#f0f921"
             ]
            ],
            "type": "contour"
           }
          ],
          "contourcarpet": [
           {
            "colorbar": {
             "outlinewidth": 0,
             "ticks": ""
            },
            "type": "contourcarpet"
           }
          ],
          "heatmap": [
           {
            "colorbar": {
             "outlinewidth": 0,
             "ticks": ""
            },
            "colorscale": [
             [
              0,
              "#0d0887"
             ],
             [
              0.1111111111111111,
              "#46039f"
             ],
             [
              0.2222222222222222,
              "#7201a8"
             ],
             [
              0.3333333333333333,
              "#9c179e"
             ],
             [
              0.4444444444444444,
              "#bd3786"
             ],
             [
              0.5555555555555556,
              "#d8576b"
             ],
             [
              0.6666666666666666,
              "#ed7953"
             ],
             [
              0.7777777777777778,
              "#fb9f3a"
             ],
             [
              0.8888888888888888,
              "#fdca26"
             ],
             [
              1,
              "#f0f921"
             ]
            ],
            "type": "heatmap"
           }
          ],
          "heatmapgl": [
           {
            "colorbar": {
             "outlinewidth": 0,
             "ticks": ""
            },
            "colorscale": [
             [
              0,
              "#0d0887"
             ],
             [
              0.1111111111111111,
              "#46039f"
             ],
             [
              0.2222222222222222,
              "#7201a8"
             ],
             [
              0.3333333333333333,
              "#9c179e"
             ],
             [
              0.4444444444444444,
              "#bd3786"
             ],
             [
              0.5555555555555556,
              "#d8576b"
             ],
             [
              0.6666666666666666,
              "#ed7953"
             ],
             [
              0.7777777777777778,
              "#fb9f3a"
             ],
             [
              0.8888888888888888,
              "#fdca26"
             ],
             [
              1,
              "#f0f921"
             ]
            ],
            "type": "heatmapgl"
           }
          ],
          "histogram": [
           {
            "marker": {
             "pattern": {
              "fillmode": "overlay",
              "size": 10,
              "solidity": 0.2
             }
            },
            "type": "histogram"
           }
          ],
          "histogram2d": [
           {
            "colorbar": {
             "outlinewidth": 0,
             "ticks": ""
            },
            "colorscale": [
             [
              0,
              "#0d0887"
             ],
             [
              0.1111111111111111,
              "#46039f"
             ],
             [
              0.2222222222222222,
              "#7201a8"
             ],
             [
              0.3333333333333333,
              "#9c179e"
             ],
             [
              0.4444444444444444,
              "#bd3786"
             ],
             [
              0.5555555555555556,
              "#d8576b"
             ],
             [
              0.6666666666666666,
              "#ed7953"
             ],
             [
              0.7777777777777778,
              "#fb9f3a"
             ],
             [
              0.8888888888888888,
              "#fdca26"
             ],
             [
              1,
              "#f0f921"
             ]
            ],
            "type": "histogram2d"
           }
          ],
          "histogram2dcontour": [
           {
            "colorbar": {
             "outlinewidth": 0,
             "ticks": ""
            },
            "colorscale": [
             [
              0,
              "#0d0887"
             ],
             [
              0.1111111111111111,
              "#46039f"
             ],
             [
              0.2222222222222222,
              "#7201a8"
             ],
             [
              0.3333333333333333,
              "#9c179e"
             ],
             [
              0.4444444444444444,
              "#bd3786"
             ],
             [
              0.5555555555555556,
              "#d8576b"
             ],
             [
              0.6666666666666666,
              "#ed7953"
             ],
             [
              0.7777777777777778,
              "#fb9f3a"
             ],
             [
              0.8888888888888888,
              "#fdca26"
             ],
             [
              1,
              "#f0f921"
             ]
            ],
            "type": "histogram2dcontour"
           }
          ],
          "mesh3d": [
           {
            "colorbar": {
             "outlinewidth": 0,
             "ticks": ""
            },
            "type": "mesh3d"
           }
          ],
          "parcoords": [
           {
            "line": {
             "colorbar": {
              "outlinewidth": 0,
              "ticks": ""
             }
            },
            "type": "parcoords"
           }
          ],
          "pie": [
           {
            "automargin": true,
            "type": "pie"
           }
          ],
          "scatter": [
           {
            "marker": {
             "colorbar": {
              "outlinewidth": 0,
              "ticks": ""
             }
            },
            "type": "scatter"
           }
          ],
          "scatter3d": [
           {
            "line": {
             "colorbar": {
              "outlinewidth": 0,
              "ticks": ""
             }
            },
            "marker": {
             "colorbar": {
              "outlinewidth": 0,
              "ticks": ""
             }
            },
            "type": "scatter3d"
           }
          ],
          "scattercarpet": [
           {
            "marker": {
             "colorbar": {
              "outlinewidth": 0,
              "ticks": ""
             }
            },
            "type": "scattercarpet"
           }
          ],
          "scattergeo": [
           {
            "marker": {
             "colorbar": {
              "outlinewidth": 0,
              "ticks": ""
             }
            },
            "type": "scattergeo"
           }
          ],
          "scattergl": [
           {
            "marker": {
             "colorbar": {
              "outlinewidth": 0,
              "ticks": ""
             }
            },
            "type": "scattergl"
           }
          ],
          "scattermapbox": [
           {
            "marker": {
             "colorbar": {
              "outlinewidth": 0,
              "ticks": ""
             }
            },
            "type": "scattermapbox"
           }
          ],
          "scatterpolar": [
           {
            "marker": {
             "colorbar": {
              "outlinewidth": 0,
              "ticks": ""
             }
            },
            "type": "scatterpolar"
           }
          ],
          "scatterpolargl": [
           {
            "marker": {
             "colorbar": {
              "outlinewidth": 0,
              "ticks": ""
             }
            },
            "type": "scatterpolargl"
           }
          ],
          "scatterternary": [
           {
            "marker": {
             "colorbar": {
              "outlinewidth": 0,
              "ticks": ""
             }
            },
            "type": "scatterternary"
           }
          ],
          "surface": [
           {
            "colorbar": {
             "outlinewidth": 0,
             "ticks": ""
            },
            "colorscale": [
             [
              0,
              "#0d0887"
             ],
             [
              0.1111111111111111,
              "#46039f"
             ],
             [
              0.2222222222222222,
              "#7201a8"
             ],
             [
              0.3333333333333333,
              "#9c179e"
             ],
             [
              0.4444444444444444,
              "#bd3786"
             ],
             [
              0.5555555555555556,
              "#d8576b"
             ],
             [
              0.6666666666666666,
              "#ed7953"
             ],
             [
              0.7777777777777778,
              "#fb9f3a"
             ],
             [
              0.8888888888888888,
              "#fdca26"
             ],
             [
              1,
              "#f0f921"
             ]
            ],
            "type": "surface"
           }
          ],
          "table": [
           {
            "cells": {
             "fill": {
              "color": "#EBF0F8"
             },
             "line": {
              "color": "white"
             }
            },
            "header": {
             "fill": {
              "color": "#C8D4E3"
             },
             "line": {
              "color": "white"
             }
            },
            "type": "table"
           }
          ]
         },
         "layout": {
          "annotationdefaults": {
           "arrowcolor": "#2a3f5f",
           "arrowhead": 0,
           "arrowwidth": 1
          },
          "autotypenumbers": "strict",
          "coloraxis": {
           "colorbar": {
            "outlinewidth": 0,
            "ticks": ""
           }
          },
          "colorscale": {
           "diverging": [
            [
             0,
             "#8e0152"
            ],
            [
             0.1,
             "#c51b7d"
            ],
            [
             0.2,
             "#de77ae"
            ],
            [
             0.3,
             "#f1b6da"
            ],
            [
             0.4,
             "#fde0ef"
            ],
            [
             0.5,
             "#f7f7f7"
            ],
            [
             0.6,
             "#e6f5d0"
            ],
            [
             0.7,
             "#b8e186"
            ],
            [
             0.8,
             "#7fbc41"
            ],
            [
             0.9,
             "#4d9221"
            ],
            [
             1,
             "#276419"
            ]
           ],
           "sequential": [
            [
             0,
             "#0d0887"
            ],
            [
             0.1111111111111111,
             "#46039f"
            ],
            [
             0.2222222222222222,
             "#7201a8"
            ],
            [
             0.3333333333333333,
             "#9c179e"
            ],
            [
             0.4444444444444444,
             "#bd3786"
            ],
            [
             0.5555555555555556,
             "#d8576b"
            ],
            [
             0.6666666666666666,
             "#ed7953"
            ],
            [
             0.7777777777777778,
             "#fb9f3a"
            ],
            [
             0.8888888888888888,
             "#fdca26"
            ],
            [
             1,
             "#f0f921"
            ]
           ],
           "sequentialminus": [
            [
             0,
             "#0d0887"
            ],
            [
             0.1111111111111111,
             "#46039f"
            ],
            [
             0.2222222222222222,
             "#7201a8"
            ],
            [
             0.3333333333333333,
             "#9c179e"
            ],
            [
             0.4444444444444444,
             "#bd3786"
            ],
            [
             0.5555555555555556,
             "#d8576b"
            ],
            [
             0.6666666666666666,
             "#ed7953"
            ],
            [
             0.7777777777777778,
             "#fb9f3a"
            ],
            [
             0.8888888888888888,
             "#fdca26"
            ],
            [
             1,
             "#f0f921"
            ]
           ]
          },
          "colorway": [
           "#636efa",
           "#EF553B",
           "#00cc96",
           "#ab63fa",
           "#FFA15A",
           "#19d3f3",
           "#FF6692",
           "#B6E880",
           "#FF97FF",
           "#FECB52"
          ],
          "font": {
           "color": "#2a3f5f"
          },
          "geo": {
           "bgcolor": "white",
           "lakecolor": "white",
           "landcolor": "#E5ECF6",
           "showlakes": true,
           "showland": true,
           "subunitcolor": "white"
          },
          "hoverlabel": {
           "align": "left"
          },
          "hovermode": "closest",
          "mapbox": {
           "style": "light"
          },
          "paper_bgcolor": "white",
          "plot_bgcolor": "#E5ECF6",
          "polar": {
           "angularaxis": {
            "gridcolor": "white",
            "linecolor": "white",
            "ticks": ""
           },
           "bgcolor": "#E5ECF6",
           "radialaxis": {
            "gridcolor": "white",
            "linecolor": "white",
            "ticks": ""
           }
          },
          "scene": {
           "xaxis": {
            "backgroundcolor": "#E5ECF6",
            "gridcolor": "white",
            "gridwidth": 2,
            "linecolor": "white",
            "showbackground": true,
            "ticks": "",
            "zerolinecolor": "white"
           },
           "yaxis": {
            "backgroundcolor": "#E5ECF6",
            "gridcolor": "white",
            "gridwidth": 2,
            "linecolor": "white",
            "showbackground": true,
            "ticks": "",
            "zerolinecolor": "white"
           },
           "zaxis": {
            "backgroundcolor": "#E5ECF6",
            "gridcolor": "white",
            "gridwidth": 2,
            "linecolor": "white",
            "showbackground": true,
            "ticks": "",
            "zerolinecolor": "white"
           }
          },
          "shapedefaults": {
           "line": {
            "color": "#2a3f5f"
           }
          },
          "ternary": {
           "aaxis": {
            "gridcolor": "white",
            "linecolor": "white",
            "ticks": ""
           },
           "baxis": {
            "gridcolor": "white",
            "linecolor": "white",
            "ticks": ""
           },
           "bgcolor": "#E5ECF6",
           "caxis": {
            "gridcolor": "white",
            "linecolor": "white",
            "ticks": ""
           }
          },
          "title": {
           "x": 0.05
          },
          "xaxis": {
           "automargin": true,
           "gridcolor": "white",
           "linecolor": "white",
           "ticks": "",
           "title": {
            "standoff": 15
           },
           "zerolinecolor": "white",
           "zerolinewidth": 2
          },
          "yaxis": {
           "automargin": true,
           "gridcolor": "white",
           "linecolor": "white",
           "ticks": "",
           "title": {
            "standoff": 15
           },
           "zerolinecolor": "white",
           "zerolinewidth": 2
          }
         }
        }
       }
      },
      "text/html": [
       "<div>                            <div id=\"2bd00f0f-0ab4-4f1f-a379-2fc30deb94c8\" class=\"plotly-graph-div\" style=\"height:525px; width:100%;\"></div>            <script type=\"text/javascript\">                require([\"plotly\"], function(Plotly) {                    window.PLOTLYENV=window.PLOTLYENV || {};                                    if (document.getElementById(\"2bd00f0f-0ab4-4f1f-a379-2fc30deb94c8\")) {                    Plotly.newPlot(                        \"2bd00f0f-0ab4-4f1f-a379-2fc30deb94c8\",                        [{\"name\":\"Ath\\u00e8nes\",\"r\":[0.9389459968623816,0.8176788363391052,0.28790051378944587,0.8672184044640788,0.9389459968623816],\"theta\":[\"Total d'escales\",\"Distance\",\"Prix\",\"Duree de vol\",\"Total d'escales\"],\"type\":\"scatterpolar\",\"subplot\":\"polar\"},{\"name\":\"Londres\",\"r\":[0.0,0.0,0.0,0.0,0.0],\"theta\":[\"Total d'escales\",\"Distance\",\"Prix\",\"Duree de vol\",\"Total d'escales\"],\"type\":\"scatterpolar\",\"subplot\":\"polar\"},{\"name\":\"Madrid\",\"r\":[0.12038724832606584,0.33180007277550594,0.1984171919557443,0.2740114367547327,0.12038724832606584],\"theta\":[\"Total d'escales\",\"Distance\",\"Prix\",\"Duree de vol\",\"Total d'escales\"],\"type\":\"scatterpolar\",\"subplot\":\"polar\"},{\"name\":\"Moscou\",\"r\":[0.7537168461755989,1.0,1.0,1.0,0.7537168461755989],\"theta\":[\"Total d'escales\",\"Distance\",\"Prix\",\"Duree de vol\",\"Total d'escales\"],\"type\":\"scatterpolar\",\"subplot\":\"polar\"},{\"name\":\"Oslo\",\"r\":[0.9999999999999999,0.46708776905929406,0.09710866478817409,0.6003218197890695,0.9999999999999999],\"theta\":[\"Total d'escales\",\"Distance\",\"Prix\",\"Duree de vol\",\"Total d'escales\"],\"type\":\"scatterpolar\",\"subplot\":\"polar\"}],                        {\"template\":{\"data\":{\"bar\":[{\"error_x\":{\"color\":\"#2a3f5f\"},\"error_y\":{\"color\":\"#2a3f5f\"},\"marker\":{\"line\":{\"color\":\"#E5ECF6\",\"width\":0.5},\"pattern\":{\"fillmode\":\"overlay\",\"size\":10,\"solidity\":0.2}},\"type\":\"bar\"}],\"barpolar\":[{\"marker\":{\"line\":{\"color\":\"#E5ECF6\",\"width\":0.5},\"pattern\":{\"fillmode\":\"overlay\",\"size\":10,\"solidity\":0.2}},\"type\":\"barpolar\"}],\"carpet\":[{\"aaxis\":{\"endlinecolor\":\"#2a3f5f\",\"gridcolor\":\"white\",\"linecolor\":\"white\",\"minorgridcolor\":\"white\",\"startlinecolor\":\"#2a3f5f\"},\"baxis\":{\"endlinecolor\":\"#2a3f5f\",\"gridcolor\":\"white\",\"linecolor\":\"white\",\"minorgridcolor\":\"white\",\"startlinecolor\":\"#2a3f5f\"},\"type\":\"carpet\"}],\"choropleth\":[{\"colorbar\":{\"outlinewidth\":0,\"ticks\":\"\"},\"type\":\"choropleth\"}],\"contour\":[{\"colorbar\":{\"outlinewidth\":0,\"ticks\":\"\"},\"colorscale\":[[0.0,\"#0d0887\"],[0.1111111111111111,\"#46039f\"],[0.2222222222222222,\"#7201a8\"],[0.3333333333333333,\"#9c179e\"],[0.4444444444444444,\"#bd3786\"],[0.5555555555555556,\"#d8576b\"],[0.6666666666666666,\"#ed7953\"],[0.7777777777777778,\"#fb9f3a\"],[0.8888888888888888,\"#fdca26\"],[1.0,\"#f0f921\"]],\"type\":\"contour\"}],\"contourcarpet\":[{\"colorbar\":{\"outlinewidth\":0,\"ticks\":\"\"},\"type\":\"contourcarpet\"}],\"heatmap\":[{\"colorbar\":{\"outlinewidth\":0,\"ticks\":\"\"},\"colorscale\":[[0.0,\"#0d0887\"],[0.1111111111111111,\"#46039f\"],[0.2222222222222222,\"#7201a8\"],[0.3333333333333333,\"#9c179e\"],[0.4444444444444444,\"#bd3786\"],[0.5555555555555556,\"#d8576b\"],[0.6666666666666666,\"#ed7953\"],[0.7777777777777778,\"#fb9f3a\"],[0.8888888888888888,\"#fdca26\"],[1.0,\"#f0f921\"]],\"type\":\"heatmap\"}],\"heatmapgl\":[{\"colorbar\":{\"outlinewidth\":0,\"ticks\":\"\"},\"colorscale\":[[0.0,\"#0d0887\"],[0.1111111111111111,\"#46039f\"],[0.2222222222222222,\"#7201a8\"],[0.3333333333333333,\"#9c179e\"],[0.4444444444444444,\"#bd3786\"],[0.5555555555555556,\"#d8576b\"],[0.6666666666666666,\"#ed7953\"],[0.7777777777777778,\"#fb9f3a\"],[0.8888888888888888,\"#fdca26\"],[1.0,\"#f0f921\"]],\"type\":\"heatmapgl\"}],\"histogram\":[{\"marker\":{\"pattern\":{\"fillmode\":\"overlay\",\"size\":10,\"solidity\":0.2}},\"type\":\"histogram\"}],\"histogram2d\":[{\"colorbar\":{\"outlinewidth\":0,\"ticks\":\"\"},\"colorscale\":[[0.0,\"#0d0887\"],[0.1111111111111111,\"#46039f\"],[0.2222222222222222,\"#7201a8\"],[0.3333333333333333,\"#9c179e\"],[0.4444444444444444,\"#bd3786\"],[0.5555555555555556,\"#d8576b\"],[0.6666666666666666,\"#ed7953\"],[0.7777777777777778,\"#fb9f3a\"],[0.8888888888888888,\"#fdca26\"],[1.0,\"#f0f921\"]],\"type\":\"histogram2d\"}],\"histogram2dcontour\":[{\"colorbar\":{\"outlinewidth\":0,\"ticks\":\"\"},\"colorscale\":[[0.0,\"#0d0887\"],[0.1111111111111111,\"#46039f\"],[0.2222222222222222,\"#7201a8\"],[0.3333333333333333,\"#9c179e\"],[0.4444444444444444,\"#bd3786\"],[0.5555555555555556,\"#d8576b\"],[0.6666666666666666,\"#ed7953\"],[0.7777777777777778,\"#fb9f3a\"],[0.8888888888888888,\"#fdca26\"],[1.0,\"#f0f921\"]],\"type\":\"histogram2dcontour\"}],\"mesh3d\":[{\"colorbar\":{\"outlinewidth\":0,\"ticks\":\"\"},\"type\":\"mesh3d\"}],\"parcoords\":[{\"line\":{\"colorbar\":{\"outlinewidth\":0,\"ticks\":\"\"}},\"type\":\"parcoords\"}],\"pie\":[{\"automargin\":true,\"type\":\"pie\"}],\"scatter\":[{\"marker\":{\"colorbar\":{\"outlinewidth\":0,\"ticks\":\"\"}},\"type\":\"scatter\"}],\"scatter3d\":[{\"line\":{\"colorbar\":{\"outlinewidth\":0,\"ticks\":\"\"}},\"marker\":{\"colorbar\":{\"outlinewidth\":0,\"ticks\":\"\"}},\"type\":\"scatter3d\"}],\"scattercarpet\":[{\"marker\":{\"colorbar\":{\"outlinewidth\":0,\"ticks\":\"\"}},\"type\":\"scattercarpet\"}],\"scattergeo\":[{\"marker\":{\"colorbar\":{\"outlinewidth\":0,\"ticks\":\"\"}},\"type\":\"scattergeo\"}],\"scattergl\":[{\"marker\":{\"colorbar\":{\"outlinewidth\":0,\"ticks\":\"\"}},\"type\":\"scattergl\"}],\"scattermapbox\":[{\"marker\":{\"colorbar\":{\"outlinewidth\":0,\"ticks\":\"\"}},\"type\":\"scattermapbox\"}],\"scatterpolar\":[{\"marker\":{\"colorbar\":{\"outlinewidth\":0,\"ticks\":\"\"}},\"type\":\"scatterpolar\"}],\"scatterpolargl\":[{\"marker\":{\"colorbar\":{\"outlinewidth\":0,\"ticks\":\"\"}},\"type\":\"scatterpolargl\"}],\"scatterternary\":[{\"marker\":{\"colorbar\":{\"outlinewidth\":0,\"ticks\":\"\"}},\"type\":\"scatterternary\"}],\"surface\":[{\"colorbar\":{\"outlinewidth\":0,\"ticks\":\"\"},\"colorscale\":[[0.0,\"#0d0887\"],[0.1111111111111111,\"#46039f\"],[0.2222222222222222,\"#7201a8\"],[0.3333333333333333,\"#9c179e\"],[0.4444444444444444,\"#bd3786\"],[0.5555555555555556,\"#d8576b\"],[0.6666666666666666,\"#ed7953\"],[0.7777777777777778,\"#fb9f3a\"],[0.8888888888888888,\"#fdca26\"],[1.0,\"#f0f921\"]],\"type\":\"surface\"}],\"table\":[{\"cells\":{\"fill\":{\"color\":\"#EBF0F8\"},\"line\":{\"color\":\"white\"}},\"header\":{\"fill\":{\"color\":\"#C8D4E3\"},\"line\":{\"color\":\"white\"}},\"type\":\"table\"}]},\"layout\":{\"annotationdefaults\":{\"arrowcolor\":\"#2a3f5f\",\"arrowhead\":0,\"arrowwidth\":1},\"autotypenumbers\":\"strict\",\"coloraxis\":{\"colorbar\":{\"outlinewidth\":0,\"ticks\":\"\"}},\"colorscale\":{\"diverging\":[[0,\"#8e0152\"],[0.1,\"#c51b7d\"],[0.2,\"#de77ae\"],[0.3,\"#f1b6da\"],[0.4,\"#fde0ef\"],[0.5,\"#f7f7f7\"],[0.6,\"#e6f5d0\"],[0.7,\"#b8e186\"],[0.8,\"#7fbc41\"],[0.9,\"#4d9221\"],[1,\"#276419\"]],\"sequential\":[[0.0,\"#0d0887\"],[0.1111111111111111,\"#46039f\"],[0.2222222222222222,\"#7201a8\"],[0.3333333333333333,\"#9c179e\"],[0.4444444444444444,\"#bd3786\"],[0.5555555555555556,\"#d8576b\"],[0.6666666666666666,\"#ed7953\"],[0.7777777777777778,\"#fb9f3a\"],[0.8888888888888888,\"#fdca26\"],[1.0,\"#f0f921\"]],\"sequentialminus\":[[0.0,\"#0d0887\"],[0.1111111111111111,\"#46039f\"],[0.2222222222222222,\"#7201a8\"],[0.3333333333333333,\"#9c179e\"],[0.4444444444444444,\"#bd3786\"],[0.5555555555555556,\"#d8576b\"],[0.6666666666666666,\"#ed7953\"],[0.7777777777777778,\"#fb9f3a\"],[0.8888888888888888,\"#fdca26\"],[1.0,\"#f0f921\"]]},\"colorway\":[\"#636efa\",\"#EF553B\",\"#00cc96\",\"#ab63fa\",\"#FFA15A\",\"#19d3f3\",\"#FF6692\",\"#B6E880\",\"#FF97FF\",\"#FECB52\"],\"font\":{\"color\":\"#2a3f5f\"},\"geo\":{\"bgcolor\":\"white\",\"lakecolor\":\"white\",\"landcolor\":\"#E5ECF6\",\"showlakes\":true,\"showland\":true,\"subunitcolor\":\"white\"},\"hoverlabel\":{\"align\":\"left\"},\"hovermode\":\"closest\",\"mapbox\":{\"style\":\"light\"},\"paper_bgcolor\":\"white\",\"plot_bgcolor\":\"#E5ECF6\",\"polar\":{\"angularaxis\":{\"gridcolor\":\"white\",\"linecolor\":\"white\",\"ticks\":\"\"},\"bgcolor\":\"#E5ECF6\",\"radialaxis\":{\"gridcolor\":\"white\",\"linecolor\":\"white\",\"ticks\":\"\"}},\"scene\":{\"xaxis\":{\"backgroundcolor\":\"#E5ECF6\",\"gridcolor\":\"white\",\"gridwidth\":2,\"linecolor\":\"white\",\"showbackground\":true,\"ticks\":\"\",\"zerolinecolor\":\"white\"},\"yaxis\":{\"backgroundcolor\":\"#E5ECF6\",\"gridcolor\":\"white\",\"gridwidth\":2,\"linecolor\":\"white\",\"showbackground\":true,\"ticks\":\"\",\"zerolinecolor\":\"white\"},\"zaxis\":{\"backgroundcolor\":\"#E5ECF6\",\"gridcolor\":\"white\",\"gridwidth\":2,\"linecolor\":\"white\",\"showbackground\":true,\"ticks\":\"\",\"zerolinecolor\":\"white\"}},\"shapedefaults\":{\"line\":{\"color\":\"#2a3f5f\"}},\"ternary\":{\"aaxis\":{\"gridcolor\":\"white\",\"linecolor\":\"white\",\"ticks\":\"\"},\"baxis\":{\"gridcolor\":\"white\",\"linecolor\":\"white\",\"ticks\":\"\"},\"bgcolor\":\"#E5ECF6\",\"caxis\":{\"gridcolor\":\"white\",\"linecolor\":\"white\",\"ticks\":\"\"}},\"title\":{\"x\":0.05},\"xaxis\":{\"automargin\":true,\"gridcolor\":\"white\",\"linecolor\":\"white\",\"ticks\":\"\",\"title\":{\"standoff\":15},\"zerolinecolor\":\"white\",\"zerolinewidth\":2},\"yaxis\":{\"automargin\":true,\"gridcolor\":\"white\",\"linecolor\":\"white\",\"ticks\":\"\",\"title\":{\"standoff\":15},\"zerolinecolor\":\"white\",\"zerolinewidth\":2}}},\"polar\":{\"domain\":{\"x\":[0.0,1.0],\"y\":[0.0,1.0]}}},                        {\"responsive\": true}                    ).then(function(){\n",
       "                            \n",
       "var gd = document.getElementById('2bd00f0f-0ab4-4f1f-a379-2fc30deb94c8');\n",
       "var x = new MutationObserver(function (mutations, observer) {{\n",
       "        var display = window.getComputedStyle(gd).display;\n",
       "        if (!display || display === 'none') {{\n",
       "            console.log([gd, 'removed!']);\n",
       "            Plotly.purge(gd);\n",
       "            observer.disconnect();\n",
       "        }}\n",
       "}});\n",
       "\n",
       "// Listen for the removal of the full notebook cells\n",
       "var notebookContainer = gd.closest('#notebook-container');\n",
       "if (notebookContainer) {{\n",
       "    x.observe(notebookContainer, {childList: true});\n",
       "}}\n",
       "\n",
       "// Listen for the clearing of the current output cell\n",
       "var outputEl = gd.closest('.output');\n",
       "if (outputEl) {{\n",
       "    x.observe(outputEl, {childList: true});\n",
       "}}\n",
       "\n",
       "                        })                };                });            </script>        </div>"
      ]
     },
     "metadata": {},
     "output_type": "display_data"
    }
   ],
   "source": [
    "import plotly.graph_objects as go\n",
    "from plotly.subplots import make_subplots\n",
    "\n",
    "fig = make_subplots(rows=1, cols=1, specs=[[{'type': 'polar'}]])\n",
    "\n",
    "fig.add_trace(go.Scatterpolar(\n",
    "        r = list(df_normalized['Athènes'])+ [list(df_normalized['Athènes'])[0]],\n",
    "        theta = list(df_normalized['Caracteristiques'])+[\"Total d'escales\"],\n",
    "        name = \"Athènes\"\n",
    "        ), 1, 1)\n",
    "fig.add_trace(go.Scatterpolar(\n",
    "        r = list(df_normalized['Londres'])+ [list(df_normalized['Londres'])[0]],\n",
    "        theta = list(df_normalized['Caracteristiques'])+[\"Total d'escales\"],\n",
    "        name = \"Londres\"\n",
    "        ), 1, 1)\n",
    "fig.add_trace(go.Scatterpolar(\n",
    "        r = list(df_normalized['Madrid'])+ [list(df_normalized['Madrid'])[0]],\n",
    "        theta = list(df_normalized['Caracteristiques'])+[\"Total d'escales\"],\n",
    "        name = \"Madrid\"\n",
    "        ), 1, 1)\n",
    "fig.add_trace(go.Scatterpolar(\n",
    "        r = list(df_normalized['Moscou'])+ [list(df_normalized['Moscou'])[0]],\n",
    "        theta = list(df_normalized['Caracteristiques'])+[\"Total d'escales\"],\n",
    "        name = \"Moscou\"\n",
    "        ), 1, 1)\n",
    "fig.add_trace(go.Scatterpolar(\n",
    "        r = list(df_normalized['Oslo'])+ [list(df_normalized['Oslo'])[0]],\n",
    "        theta = list(df_normalized['Caracteristiques'])+[\"Total d'escales\"],\n",
    "        name = \"Oslo\"\n",
    "        ), 1, 1)\n",
    "fig.show()"
   ]
  },
  {
   "cell_type": "code",
   "execution_count": 136,
   "id": "a5920023",
   "metadata": {},
   "outputs": [],
   "source": [
    "df_compagnie= df.groupby(['Compagnie']).mean()"
   ]
  },
  {
   "cell_type": "code",
   "execution_count": 141,
   "id": "e68fa076",
   "metadata": {},
   "outputs": [],
   "source": [
    "df_compagnie= df_compagnie.sort_values(by = 'Prix')"
   ]
  },
  {
   "cell_type": "code",
   "execution_count": 145,
   "id": "a4ee2041",
   "metadata": {},
   "outputs": [
    {
     "data": {
      "text/plain": [
       "43"
      ]
     },
     "execution_count": 145,
     "metadata": {},
     "output_type": "execute_result"
    }
   ],
   "source": [
    "len(df_compagnie.index)"
   ]
  },
  {
   "cell_type": "code",
   "execution_count": 152,
   "id": "acd354ee",
   "metadata": {},
   "outputs": [],
   "source": [
    "from sklearn import preprocessing\n",
    "\n",
    "x = df_compagnie.values #returns a numpy array\n",
    "min_max_scaler = preprocessing.MinMaxScaler()\n",
    "x_scaled = min_max_scaler.fit_transform(x)\n",
    "df_compagnie= pd.DataFrame(x_scaled)"
   ]
  },
  {
   "cell_type": "code",
   "execution_count": 148,
   "id": "b3dce670",
   "metadata": {},
   "outputs": [],
   "source": [
    "compagnie_interet= list(df_compagnie.index[:3])+list(df_compagnie.index[len(df_compagnie.index)-3:])"
   ]
  },
  {
   "cell_type": "code",
   "execution_count": 153,
   "id": "d16395f9",
   "metadata": {},
   "outputs": [
    {
     "data": {
      "text/html": [
       "<div>\n",
       "<style scoped>\n",
       "    .dataframe tbody tr th:only-of-type {\n",
       "        vertical-align: middle;\n",
       "    }\n",
       "\n",
       "    .dataframe tbody tr th {\n",
       "        vertical-align: top;\n",
       "    }\n",
       "\n",
       "    .dataframe thead th {\n",
       "        text-align: right;\n",
       "    }\n",
       "</style>\n",
       "<table border=\"1\" class=\"dataframe\">\n",
       "  <thead>\n",
       "    <tr style=\"text-align: right;\">\n",
       "      <th></th>\n",
       "      <th>0</th>\n",
       "      <th>1</th>\n",
       "      <th>2</th>\n",
       "      <th>3</th>\n",
       "    </tr>\n",
       "  </thead>\n",
       "  <tbody>\n",
       "    <tr>\n",
       "      <th>0</th>\n",
       "      <td>0.181202</td>\n",
       "      <td>0.315259</td>\n",
       "      <td>0.000000</td>\n",
       "      <td>0.254002</td>\n",
       "    </tr>\n",
       "    <tr>\n",
       "      <th>1</th>\n",
       "      <td>0.020267</td>\n",
       "      <td>0.051312</td>\n",
       "      <td>0.006251</td>\n",
       "      <td>0.000000</td>\n",
       "    </tr>\n",
       "    <tr>\n",
       "      <th>2</th>\n",
       "      <td>0.023381</td>\n",
       "      <td>0.429085</td>\n",
       "      <td>0.022075</td>\n",
       "      <td>0.092918</td>\n",
       "    </tr>\n",
       "    <tr>\n",
       "      <th>3</th>\n",
       "      <td>1.000000</td>\n",
       "      <td>0.808374</td>\n",
       "      <td>0.034585</td>\n",
       "      <td>0.967531</td>\n",
       "    </tr>\n",
       "    <tr>\n",
       "      <th>4</th>\n",
       "      <td>0.518944</td>\n",
       "      <td>0.297699</td>\n",
       "      <td>0.034772</td>\n",
       "      <td>0.456210</td>\n",
       "    </tr>\n",
       "    <tr>\n",
       "      <th>5</th>\n",
       "      <td>0.168721</td>\n",
       "      <td>0.439891</td>\n",
       "      <td>0.041424</td>\n",
       "      <td>0.190011</td>\n",
       "    </tr>\n",
       "    <tr>\n",
       "      <th>6</th>\n",
       "      <td>0.500000</td>\n",
       "      <td>0.297699</td>\n",
       "      <td>0.041949</td>\n",
       "      <td>0.423683</td>\n",
       "    </tr>\n",
       "    <tr>\n",
       "      <th>7</th>\n",
       "      <td>0.000000</td>\n",
       "      <td>0.297699</td>\n",
       "      <td>0.045133</td>\n",
       "      <td>0.036985</td>\n",
       "    </tr>\n",
       "    <tr>\n",
       "      <th>8</th>\n",
       "      <td>0.000000</td>\n",
       "      <td>0.439891</td>\n",
       "      <td>0.049212</td>\n",
       "      <td>0.066528</td>\n",
       "    </tr>\n",
       "    <tr>\n",
       "      <th>9</th>\n",
       "      <td>0.500000</td>\n",
       "      <td>0.400300</td>\n",
       "      <td>0.051184</td>\n",
       "      <td>0.474742</td>\n",
       "    </tr>\n",
       "    <tr>\n",
       "      <th>10</th>\n",
       "      <td>0.500000</td>\n",
       "      <td>0.565289</td>\n",
       "      <td>0.055567</td>\n",
       "      <td>0.803008</td>\n",
       "    </tr>\n",
       "    <tr>\n",
       "      <th>11</th>\n",
       "      <td>0.500000</td>\n",
       "      <td>0.808374</td>\n",
       "      <td>0.058297</td>\n",
       "      <td>1.000000</td>\n",
       "    </tr>\n",
       "    <tr>\n",
       "      <th>12</th>\n",
       "      <td>0.508322</td>\n",
       "      <td>0.630795</td>\n",
       "      <td>0.064005</td>\n",
       "      <td>0.503481</td>\n",
       "    </tr>\n",
       "    <tr>\n",
       "      <th>13</th>\n",
       "      <td>0.058774</td>\n",
       "      <td>0.292757</td>\n",
       "      <td>0.065371</td>\n",
       "      <td>0.062881</td>\n",
       "    </tr>\n",
       "    <tr>\n",
       "      <th>14</th>\n",
       "      <td>0.518978</td>\n",
       "      <td>0.344006</td>\n",
       "      <td>0.069733</td>\n",
       "      <td>0.404396</td>\n",
       "    </tr>\n",
       "    <tr>\n",
       "      <th>15</th>\n",
       "      <td>0.175412</td>\n",
       "      <td>0.163455</td>\n",
       "      <td>0.070337</td>\n",
       "      <td>0.142281</td>\n",
       "    </tr>\n",
       "    <tr>\n",
       "      <th>16</th>\n",
       "      <td>0.500000</td>\n",
       "      <td>0.589206</td>\n",
       "      <td>0.077249</td>\n",
       "      <td>0.529522</td>\n",
       "    </tr>\n",
       "    <tr>\n",
       "      <th>17</th>\n",
       "      <td>0.500000</td>\n",
       "      <td>0.000000</td>\n",
       "      <td>0.082356</td>\n",
       "      <td>0.224713</td>\n",
       "    </tr>\n",
       "    <tr>\n",
       "      <th>18</th>\n",
       "      <td>0.500000</td>\n",
       "      <td>0.808374</td>\n",
       "      <td>0.084945</td>\n",
       "      <td>0.939838</td>\n",
       "    </tr>\n",
       "    <tr>\n",
       "      <th>19</th>\n",
       "      <td>0.021999</td>\n",
       "      <td>0.303336</td>\n",
       "      <td>0.090750</td>\n",
       "      <td>0.046041</td>\n",
       "    </tr>\n",
       "    <tr>\n",
       "      <th>20</th>\n",
       "      <td>0.060714</td>\n",
       "      <td>0.808374</td>\n",
       "      <td>0.097589</td>\n",
       "      <td>0.212608</td>\n",
       "    </tr>\n",
       "    <tr>\n",
       "      <th>21</th>\n",
       "      <td>0.496712</td>\n",
       "      <td>0.485178</td>\n",
       "      <td>0.106119</td>\n",
       "      <td>0.463896</td>\n",
       "    </tr>\n",
       "    <tr>\n",
       "      <th>22</th>\n",
       "      <td>0.122632</td>\n",
       "      <td>0.211088</td>\n",
       "      <td>0.109474</td>\n",
       "      <td>0.144903</td>\n",
       "    </tr>\n",
       "    <tr>\n",
       "      <th>23</th>\n",
       "      <td>0.000000</td>\n",
       "      <td>0.808374</td>\n",
       "      <td>0.113732</td>\n",
       "      <td>0.147349</td>\n",
       "    </tr>\n",
       "    <tr>\n",
       "      <th>24</th>\n",
       "      <td>0.299148</td>\n",
       "      <td>0.445203</td>\n",
       "      <td>0.115408</td>\n",
       "      <td>0.253222</td>\n",
       "    </tr>\n",
       "    <tr>\n",
       "      <th>25</th>\n",
       "      <td>0.500405</td>\n",
       "      <td>0.799086</td>\n",
       "      <td>0.122019</td>\n",
       "      <td>0.603081</td>\n",
       "    </tr>\n",
       "    <tr>\n",
       "      <th>26</th>\n",
       "      <td>0.500000</td>\n",
       "      <td>0.808374</td>\n",
       "      <td>0.126056</td>\n",
       "      <td>0.700342</td>\n",
       "    </tr>\n",
       "    <tr>\n",
       "      <th>27</th>\n",
       "      <td>0.500000</td>\n",
       "      <td>1.000000</td>\n",
       "      <td>0.128078</td>\n",
       "      <td>0.383097</td>\n",
       "    </tr>\n",
       "    <tr>\n",
       "      <th>28</th>\n",
       "      <td>0.500000</td>\n",
       "      <td>1.000000</td>\n",
       "      <td>0.135240</td>\n",
       "      <td>0.383097</td>\n",
       "    </tr>\n",
       "    <tr>\n",
       "      <th>29</th>\n",
       "      <td>0.500000</td>\n",
       "      <td>0.931562</td>\n",
       "      <td>0.138457</td>\n",
       "      <td>0.839440</td>\n",
       "    </tr>\n",
       "    <tr>\n",
       "      <th>30</th>\n",
       "      <td>0.326659</td>\n",
       "      <td>0.808374</td>\n",
       "      <td>0.165236</td>\n",
       "      <td>0.401869</td>\n",
       "    </tr>\n",
       "    <tr>\n",
       "      <th>31</th>\n",
       "      <td>0.048288</td>\n",
       "      <td>0.419095</td>\n",
       "      <td>0.165270</td>\n",
       "      <td>0.102404</td>\n",
       "    </tr>\n",
       "    <tr>\n",
       "      <th>32</th>\n",
       "      <td>0.500000</td>\n",
       "      <td>1.000000</td>\n",
       "      <td>0.194283</td>\n",
       "      <td>0.692901</td>\n",
       "    </tr>\n",
       "    <tr>\n",
       "      <th>33</th>\n",
       "      <td>0.499062</td>\n",
       "      <td>0.555560</td>\n",
       "      <td>0.198811</td>\n",
       "      <td>0.628637</td>\n",
       "    </tr>\n",
       "    <tr>\n",
       "      <th>34</th>\n",
       "      <td>0.503605</td>\n",
       "      <td>0.404415</td>\n",
       "      <td>0.208212</td>\n",
       "      <td>0.401271</td>\n",
       "    </tr>\n",
       "    <tr>\n",
       "      <th>35</th>\n",
       "      <td>0.375000</td>\n",
       "      <td>1.000000</td>\n",
       "      <td>0.208445</td>\n",
       "      <td>0.597187</td>\n",
       "    </tr>\n",
       "    <tr>\n",
       "      <th>36</th>\n",
       "      <td>0.500000</td>\n",
       "      <td>0.914715</td>\n",
       "      <td>0.236153</td>\n",
       "      <td>0.633664</td>\n",
       "    </tr>\n",
       "    <tr>\n",
       "      <th>37</th>\n",
       "      <td>0.397208</td>\n",
       "      <td>0.706767</td>\n",
       "      <td>0.315673</td>\n",
       "      <td>0.444512</td>\n",
       "    </tr>\n",
       "    <tr>\n",
       "      <th>38</th>\n",
       "      <td>0.233710</td>\n",
       "      <td>1.000000</td>\n",
       "      <td>0.345221</td>\n",
       "      <td>0.455816</td>\n",
       "    </tr>\n",
       "    <tr>\n",
       "      <th>39</th>\n",
       "      <td>0.000000</td>\n",
       "      <td>0.297699</td>\n",
       "      <td>0.549247</td>\n",
       "      <td>0.034060</td>\n",
       "    </tr>\n",
       "    <tr>\n",
       "      <th>40</th>\n",
       "      <td>0.000000</td>\n",
       "      <td>0.297699</td>\n",
       "      <td>0.591206</td>\n",
       "      <td>0.042177</td>\n",
       "    </tr>\n",
       "    <tr>\n",
       "      <th>41</th>\n",
       "      <td>0.500000</td>\n",
       "      <td>0.297699</td>\n",
       "      <td>0.872125</td>\n",
       "      <td>0.687490</td>\n",
       "    </tr>\n",
       "    <tr>\n",
       "      <th>42</th>\n",
       "      <td>0.500000</td>\n",
       "      <td>0.297699</td>\n",
       "      <td>1.000000</td>\n",
       "      <td>0.983766</td>\n",
       "    </tr>\n",
       "  </tbody>\n",
       "</table>\n",
       "</div>"
      ],
      "text/plain": [
       "           0         1         2         3\n",
       "0   0.181202  0.315259  0.000000  0.254002\n",
       "1   0.020267  0.051312  0.006251  0.000000\n",
       "2   0.023381  0.429085  0.022075  0.092918\n",
       "3   1.000000  0.808374  0.034585  0.967531\n",
       "4   0.518944  0.297699  0.034772  0.456210\n",
       "5   0.168721  0.439891  0.041424  0.190011\n",
       "6   0.500000  0.297699  0.041949  0.423683\n",
       "7   0.000000  0.297699  0.045133  0.036985\n",
       "8   0.000000  0.439891  0.049212  0.066528\n",
       "9   0.500000  0.400300  0.051184  0.474742\n",
       "10  0.500000  0.565289  0.055567  0.803008\n",
       "11  0.500000  0.808374  0.058297  1.000000\n",
       "12  0.508322  0.630795  0.064005  0.503481\n",
       "13  0.058774  0.292757  0.065371  0.062881\n",
       "14  0.518978  0.344006  0.069733  0.404396\n",
       "15  0.175412  0.163455  0.070337  0.142281\n",
       "16  0.500000  0.589206  0.077249  0.529522\n",
       "17  0.500000  0.000000  0.082356  0.224713\n",
       "18  0.500000  0.808374  0.084945  0.939838\n",
       "19  0.021999  0.303336  0.090750  0.046041\n",
       "20  0.060714  0.808374  0.097589  0.212608\n",
       "21  0.496712  0.485178  0.106119  0.463896\n",
       "22  0.122632  0.211088  0.109474  0.144903\n",
       "23  0.000000  0.808374  0.113732  0.147349\n",
       "24  0.299148  0.445203  0.115408  0.253222\n",
       "25  0.500405  0.799086  0.122019  0.603081\n",
       "26  0.500000  0.808374  0.126056  0.700342\n",
       "27  0.500000  1.000000  0.128078  0.383097\n",
       "28  0.500000  1.000000  0.135240  0.383097\n",
       "29  0.500000  0.931562  0.138457  0.839440\n",
       "30  0.326659  0.808374  0.165236  0.401869\n",
       "31  0.048288  0.419095  0.165270  0.102404\n",
       "32  0.500000  1.000000  0.194283  0.692901\n",
       "33  0.499062  0.555560  0.198811  0.628637\n",
       "34  0.503605  0.404415  0.208212  0.401271\n",
       "35  0.375000  1.000000  0.208445  0.597187\n",
       "36  0.500000  0.914715  0.236153  0.633664\n",
       "37  0.397208  0.706767  0.315673  0.444512\n",
       "38  0.233710  1.000000  0.345221  0.455816\n",
       "39  0.000000  0.297699  0.549247  0.034060\n",
       "40  0.000000  0.297699  0.591206  0.042177\n",
       "41  0.500000  0.297699  0.872125  0.687490\n",
       "42  0.500000  0.297699  1.000000  0.983766"
      ]
     },
     "execution_count": 153,
     "metadata": {},
     "output_type": "execute_result"
    }
   ],
   "source": [
    "df_compagnie"
   ]
  },
  {
   "cell_type": "code",
   "execution_count": 154,
   "id": "0472e165",
   "metadata": {},
   "outputs": [],
   "source": [
    "tableau = df_compagnie.to_numpy()\n",
    "tableau2= tableau.T\n",
    "df_compagnie_normalized = pd.DataFrame(tableau2)\n",
    "df_compagnie_normalized.columns=list(df_compagnie.index)\n",
    "df_compagnie_normalized ['Caracteristiques']=[\"Total d'escales\",\"Distance\",\"Prix\",\"Duree de vol\"]"
   ]
  },
  {
   "cell_type": "code",
   "execution_count": 155,
   "id": "0b0a855e",
   "metadata": {},
   "outputs": [
    {
     "data": {
      "text/html": [
       "<div>\n",
       "<style scoped>\n",
       "    .dataframe tbody tr th:only-of-type {\n",
       "        vertical-align: middle;\n",
       "    }\n",
       "\n",
       "    .dataframe tbody tr th {\n",
       "        vertical-align: top;\n",
       "    }\n",
       "\n",
       "    .dataframe thead th {\n",
       "        text-align: right;\n",
       "    }\n",
       "</style>\n",
       "<table border=\"1\" class=\"dataframe\">\n",
       "  <thead>\n",
       "    <tr style=\"text-align: right;\">\n",
       "      <th></th>\n",
       "      <th>0</th>\n",
       "      <th>1</th>\n",
       "      <th>2</th>\n",
       "      <th>3</th>\n",
       "      <th>4</th>\n",
       "      <th>5</th>\n",
       "      <th>6</th>\n",
       "      <th>7</th>\n",
       "      <th>8</th>\n",
       "      <th>9</th>\n",
       "      <th>...</th>\n",
       "      <th>34</th>\n",
       "      <th>35</th>\n",
       "      <th>36</th>\n",
       "      <th>37</th>\n",
       "      <th>38</th>\n",
       "      <th>39</th>\n",
       "      <th>40</th>\n",
       "      <th>41</th>\n",
       "      <th>42</th>\n",
       "      <th>Caracteristiques</th>\n",
       "    </tr>\n",
       "  </thead>\n",
       "  <tbody>\n",
       "    <tr>\n",
       "      <th>0</th>\n",
       "      <td>0.181202</td>\n",
       "      <td>0.020267</td>\n",
       "      <td>0.023381</td>\n",
       "      <td>1.000000</td>\n",
       "      <td>0.518944</td>\n",
       "      <td>0.168721</td>\n",
       "      <td>0.500000</td>\n",
       "      <td>0.000000</td>\n",
       "      <td>0.000000</td>\n",
       "      <td>0.500000</td>\n",
       "      <td>...</td>\n",
       "      <td>0.503605</td>\n",
       "      <td>0.375000</td>\n",
       "      <td>0.500000</td>\n",
       "      <td>0.397208</td>\n",
       "      <td>0.233710</td>\n",
       "      <td>0.000000</td>\n",
       "      <td>0.000000</td>\n",
       "      <td>0.500000</td>\n",
       "      <td>0.500000</td>\n",
       "      <td>Total d'escales</td>\n",
       "    </tr>\n",
       "    <tr>\n",
       "      <th>1</th>\n",
       "      <td>0.315259</td>\n",
       "      <td>0.051312</td>\n",
       "      <td>0.429085</td>\n",
       "      <td>0.808374</td>\n",
       "      <td>0.297699</td>\n",
       "      <td>0.439891</td>\n",
       "      <td>0.297699</td>\n",
       "      <td>0.297699</td>\n",
       "      <td>0.439891</td>\n",
       "      <td>0.400300</td>\n",
       "      <td>...</td>\n",
       "      <td>0.404415</td>\n",
       "      <td>1.000000</td>\n",
       "      <td>0.914715</td>\n",
       "      <td>0.706767</td>\n",
       "      <td>1.000000</td>\n",
       "      <td>0.297699</td>\n",
       "      <td>0.297699</td>\n",
       "      <td>0.297699</td>\n",
       "      <td>0.297699</td>\n",
       "      <td>Distance</td>\n",
       "    </tr>\n",
       "    <tr>\n",
       "      <th>2</th>\n",
       "      <td>0.000000</td>\n",
       "      <td>0.006251</td>\n",
       "      <td>0.022075</td>\n",
       "      <td>0.034585</td>\n",
       "      <td>0.034772</td>\n",
       "      <td>0.041424</td>\n",
       "      <td>0.041949</td>\n",
       "      <td>0.045133</td>\n",
       "      <td>0.049212</td>\n",
       "      <td>0.051184</td>\n",
       "      <td>...</td>\n",
       "      <td>0.208212</td>\n",
       "      <td>0.208445</td>\n",
       "      <td>0.236153</td>\n",
       "      <td>0.315673</td>\n",
       "      <td>0.345221</td>\n",
       "      <td>0.549247</td>\n",
       "      <td>0.591206</td>\n",
       "      <td>0.872125</td>\n",
       "      <td>1.000000</td>\n",
       "      <td>Prix</td>\n",
       "    </tr>\n",
       "    <tr>\n",
       "      <th>3</th>\n",
       "      <td>0.254002</td>\n",
       "      <td>0.000000</td>\n",
       "      <td>0.092918</td>\n",
       "      <td>0.967531</td>\n",
       "      <td>0.456210</td>\n",
       "      <td>0.190011</td>\n",
       "      <td>0.423683</td>\n",
       "      <td>0.036985</td>\n",
       "      <td>0.066528</td>\n",
       "      <td>0.474742</td>\n",
       "      <td>...</td>\n",
       "      <td>0.401271</td>\n",
       "      <td>0.597187</td>\n",
       "      <td>0.633664</td>\n",
       "      <td>0.444512</td>\n",
       "      <td>0.455816</td>\n",
       "      <td>0.034060</td>\n",
       "      <td>0.042177</td>\n",
       "      <td>0.687490</td>\n",
       "      <td>0.983766</td>\n",
       "      <td>Duree de vol</td>\n",
       "    </tr>\n",
       "  </tbody>\n",
       "</table>\n",
       "<p>4 rows × 44 columns</p>\n",
       "</div>"
      ],
      "text/plain": [
       "          0         1         2         3         4         5         6  \\\n",
       "0  0.181202  0.020267  0.023381  1.000000  0.518944  0.168721  0.500000   \n",
       "1  0.315259  0.051312  0.429085  0.808374  0.297699  0.439891  0.297699   \n",
       "2  0.000000  0.006251  0.022075  0.034585  0.034772  0.041424  0.041949   \n",
       "3  0.254002  0.000000  0.092918  0.967531  0.456210  0.190011  0.423683   \n",
       "\n",
       "          7         8         9  ...        34        35        36        37  \\\n",
       "0  0.000000  0.000000  0.500000  ...  0.503605  0.375000  0.500000  0.397208   \n",
       "1  0.297699  0.439891  0.400300  ...  0.404415  1.000000  0.914715  0.706767   \n",
       "2  0.045133  0.049212  0.051184  ...  0.208212  0.208445  0.236153  0.315673   \n",
       "3  0.036985  0.066528  0.474742  ...  0.401271  0.597187  0.633664  0.444512   \n",
       "\n",
       "         38        39        40        41        42  Caracteristiques  \n",
       "0  0.233710  0.000000  0.000000  0.500000  0.500000   Total d'escales  \n",
       "1  1.000000  0.297699  0.297699  0.297699  0.297699          Distance  \n",
       "2  0.345221  0.549247  0.591206  0.872125  1.000000              Prix  \n",
       "3  0.455816  0.034060  0.042177  0.687490  0.983766      Duree de vol  \n",
       "\n",
       "[4 rows x 44 columns]"
      ]
     },
     "execution_count": 155,
     "metadata": {},
     "output_type": "execute_result"
    }
   ],
   "source": [
    "df_compagnie_normalized"
   ]
  },
  {
   "cell_type": "code",
   "execution_count": null,
   "id": "93fe4d90",
   "metadata": {},
   "outputs": [],
   "source": [
    "fig = make_subplots(rows=1, cols=1, specs=[[{'type': 'polar'}]])\n",
    "\n",
    "for i in compagnie interet\n",
    "\n",
    "fig.add_trace(go.Scatterpolar(\n",
    "        r = list(df_normalized['Athènes'])+ [list(df_normalized['Athènes'])[0]],\n",
    "        theta = list(df_normalized['Caracteristiques'])+[\"Total d'escales\"],\n",
    "        name = \"Athènes\"\n",
    "        ), 1, 1)\n",
    "fig.add_trace(go.Scatterpolar(\n",
    "        r = list(df_normalized['Londres'])+ [list(df_normalized['Londres'])[0]],\n",
    "        theta = list(df_normalized['Caracteristiques'])+[\"Total d'escales\"],\n",
    "        name = \"Londres\"\n",
    "        ), 1, 1)\n",
    "fig.add_trace(go.Scatterpolar(\n",
    "        r = list(df_normalized['Madrid'])+ [list(df_normalized['Madrid'])[0]],\n",
    "        theta = list(df_normalized['Caracteristiques'])+[\"Total d'escales\"],\n",
    "        name = \"Madrid\"\n",
    "        ), 1, 1)\n",
    "fig.add_trace(go.Scatterpolar(\n",
    "        r = list(df_normalized['Moscou'])+ [list(df_normalized['Moscou'])[0]],\n",
    "        theta = list(df_normalized['Caracteristiques'])+[\"Total d'escales\"],\n",
    "        name = \"Moscou\"\n",
    "        ), 1, 1)\n",
    "fig.add_trace(go.Scatterpolar(\n",
    "        r = list(df_normalized['Oslo'])+ [list(df_normalized['Oslo'])[0]],\n",
    "        theta = list(df_normalized['Caracteristiques'])+[\"Total d'escales\"],\n",
    "        name = \"Oslo\"\n",
    "        ), 1, 1)\n",
    "fig.show()"
   ]
  }
 ],
 "metadata": {
  "kernelspec": {
   "display_name": "Python 3",
   "language": "python",
   "name": "python3"
  },
  "language_info": {
   "codemirror_mode": {
    "name": "ipython",
    "version": 3
   },
   "file_extension": ".py",
   "mimetype": "text/x-python",
   "name": "python",
   "nbconvert_exporter": "python",
   "pygments_lexer": "ipython3",
   "version": "3.8.8"
  }
 },
 "nbformat": 4,
 "nbformat_minor": 5
}
