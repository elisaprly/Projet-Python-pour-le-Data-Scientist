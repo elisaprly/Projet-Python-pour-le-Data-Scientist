{
 "cells": [
  {
   "cell_type": "code",
   "execution_count": 265,
   "metadata": {},
   "outputs": [],
   "source": [
    "from sklearn.linear_model import LinearRegression\n",
    "from sklearn.linear_model import LogisticRegression\n",
    "from sklearn.model_selection import train_test_split\n",
    "import sklearn.metrics\n",
    "import matplotlib.pyplot as plt\n",
    "import seaborn as sns\n",
    "import pandas as pd\n",
    "import numpy as np"
   ]
  },
  {
   "cell_type": "code",
   "execution_count": 233,
   "metadata": {},
   "outputs": [
    {
     "data": {
      "text/plain": [
       "Index(['Compagnie', 'Total d'escales', 'Destination', 'Distance', 'Date_aller',\n",
       "       'Date_retour', 'Prix', 'Duree de vol', 'Month', 'Week'],\n",
       "      dtype='object')"
      ]
     },
     "execution_count": 233,
     "metadata": {},
     "output_type": "execute_result"
    }
   ],
   "source": [
    "df = pd.read_excel(\"base_a_traiter.xlsx\")\n",
    "df = df[df[\"Compagnie\"] != \"SNCF\"]\n",
    "df[\"Month\"] = df[\"Date_aller\"].apply(lambda date:date.month)\n",
    "df[\"Week\"] = df[\"Date_aller\"].apply(lambda date:date.week)\n",
    "df.columns"
   ]
  },
  {
   "cell_type": "markdown",
   "metadata": {},
   "source": [
    "# Preprocessing"
   ]
  },
  {
   "cell_type": "code",
   "execution_count": 259,
   "metadata": {},
   "outputs": [
    {
     "name": "stderr",
     "output_type": "stream",
     "text": [
      "<ipython-input-259-ed80937f8877>:4: SettingWithCopyWarning: \n",
      "A value is trying to be set on a copy of a slice from a DataFrame.\n",
      "Try using .loc[row_indexer,col_indexer] = value instead\n",
      "\n",
      "See the caveats in the documentation: https://pandas.pydata.org/pandas-docs/stable/user_guide/indexing.html#returning-a-view-versus-a-copy\n",
      "  df_reg[\"y_standard\"] = preprocessing.scale(df_reg[\"Prix\"])\n"
     ]
    },
    {
     "data": {
      "text/plain": [
       "<matplotlib.axes._subplots.AxesSubplot at 0x219f3c28760>"
      ]
     },
     "execution_count": 259,
     "metadata": {},
     "output_type": "execute_result"
    },
    {
     "data": {
      "image/png": "[encoded data removed]",
      "text/plain": [
       "<Figure size 720x720 with 2 Axes>"
      ]
     },
     "metadata": {
      "needs_background": "light"
     },
     "output_type": "display_data"
    }
   ],
   "source": [
    "from sklearn import preprocessing\n",
    "xvars = [\"Distance\", \"Total d'escales\", \"Duree de vol\", \"Month\", \"Week\", \"Compagnie\"] # Variables explicatives\n",
    "df_reg = df[[\"Prix\"] + xvars]\n",
    "df_reg[\"y_standard\"] = preprocessing.scale(df_reg[\"Prix\"])\n",
    "df_reg.dropna(how = \"any\")\n",
    "f, axes = plt.subplots(2, figsize=(10, 10))\n",
    "sns.distplot(df_reg[\"Prix\"] , color=\"skyblue\", ax=axes[0])\n",
    "sns.distplot(df_reg[\"y_standard\"] , color=\"olive\", ax=axes[1]) #On vérifie que la distribution est centrée et que sa variamnce empirique vaut 1"
   ]
  },
  {
   "cell_type": "code",
   "execution_count": 260,
   "metadata": {},
   "outputs": [
    {
     "name": "stdout",
     "output_type": "stream",
     "text": [
      "[[ 0.09296303 -0.99070019 -0.72113654 -1.61865839 -1.89399015]\n",
      " [ 0.09296303 -0.99070019 -0.66487368 -1.61865839 -1.89399015]\n",
      " [ 0.09296303 -0.99070019 -0.69300511 -1.61865839 -1.89399015]\n",
      " ...\n",
      " [-1.40662309 -0.99070019 -1.0305823   1.25787309  1.42210998]\n",
      " [-1.40662309 -0.99070019 -1.05871373  1.25787309  1.42210998]\n",
      " [-1.40662309 -0.99070019 -1.08684516  1.25787309  1.42210998]] <class 'numpy.ndarray'>\n"
     ]
    }
   ],
   "source": [
    "df_regb = df[xvars].drop(columns = [\"Compagnie\"])\n",
    "scaler = preprocessing.StandardScaler().fit(df_regb)\n",
    "X1 = scaler.transform(df_regb)\n",
    "print(X1, type(X1))\n"
   ]
  },
  {
   "cell_type": "code",
   "execution_count": 261,
   "metadata": {},
   "outputs": [
    {
     "name": "stdout",
     "output_type": "stream",
     "text": [
      "[[ 8]\n",
      " [ 8]\n",
      " [20]\n",
      " ...\n",
      " [ 8]\n",
      " [14]\n",
      " [ 8]] <class 'numpy.ndarray'>\n"
     ]
    }
   ],
   "source": [
    "df_regc = df_reg[\"Compagnie\"].astype(str)\n",
    "df_regc.dropna(how = \"any\")\n",
    "\n",
    "\n",
    "label_enc = preprocessing.LabelEncoder().fit(df_regc)\n",
    "X2 = label_enc.transform(df_regc)\n",
    "X2 = np.array([X2]).T\n",
    "print(X2, type(X2))\n"
   ]
  },
  {
   "cell_type": "markdown",
   "metadata": {},
   "source": [
    "# Régression linéaire"
   ]
  },
  {
   "cell_type": "code",
   "execution_count": 246,
   "metadata": {},
   "outputs": [
    {
     "name": "stdout",
     "output_type": "stream",
     "text": [
      "0.20266604833900126 [ 0.31587899  0.08532973 -0.03126642 -0.01837672  0.09609179 -0.00891986] [-0.03994226 -0.09631807  0.38464678 ... -0.04703806 -0.07183009\n",
      " -0.20832092]\n"
     ]
    },
    {
     "name": "stderr",
     "output_type": "stream",
     "text": [
      "C:\\ProgramData\\Anaconda3\\lib\\site-packages\\pandas\\core\\frame.py:3990: SettingWithCopyWarning: \n",
      "A value is trying to be set on a copy of a slice from a DataFrame\n",
      "\n",
      "See the caveats in the documentation: https://pandas.pydata.org/pandas-docs/stable/user_guide/indexing.html#returning-a-view-versus-a-copy\n",
      "  return super().drop(\n"
     ]
    }
   ],
   "source": [
    "xvars = [\"Distance\", \"Total d'escales\", \"Duree de vol\", \"Month\", \"Week\", \"Compagnie\"] # Variables explicatives\n",
    "\n",
    "df_reg.drop(columns = [\"Compagnie\"], inplace = True)\n",
    "indices_to_keep = ~df_reg.isin([np.nan, np.inf, -np.inf]).any(axis = 1)\n",
    "df_reg = df_reg[indices_to_keep].astype(np.float64)\n",
    "X = np.concatenate((X1, X2), axis = 1)\n",
    "X_train, X_test, y_train, y_test = train_test_split(X, df_reg[[\"y_standard\"]].values.ravel(), test_size = 0.2, random_state = 0)\n",
    "ols = LinearRegression().fit(X_train, y_train)\n",
    "y_pred = ols.predict(X_test)\n",
    "y_pred[:10]\n",
    "print(ols.intercept_, ols.coef_, y_pred)"
   ]
  },
  {
   "cell_type": "code",
   "execution_count": 247,
   "metadata": {},
   "outputs": [
    {
     "name": "stdout",
     "output_type": "stream",
     "text": [
      "Mean squared error: 0.93\n",
      "Coefficient of determination: 0.11\n"
     ]
    }
   ],
   "source": [
    "rmse = sklearn.metrics.mean_squared_error(y_test, y_pred, squared = False)\n",
    "rsq = sklearn.metrics.r2_score(y_test, y_pred)\n",
    "print(\"Mean squared error: %.2f\" % rmse)\n",
    "print('Coefficient of determination: %.2f' % rsq)"
   ]
  },
  {
   "cell_type": "code",
   "execution_count": 248,
   "metadata": {},
   "outputs": [
    {
     "data": {
      "text/plain": [
       "[<matplotlib.lines.Line2D at 0x2198204f640>]"
      ]
     },
     "execution_count": 248,
     "metadata": {},
     "output_type": "execute_result"
    },
    {
     "data": {
      "image/png": "[encoded data removed]",
      "text/plain": [
       "<Figure size 432x288 with 1 Axes>"
      ]
     },
     "metadata": {
      "needs_background": "light"
     },
     "output_type": "display_data"
    }
   ],
   "source": [
    "tempdf = pd.DataFrame({\"prediction\" : y_pred, \"observed\": y_test})\n",
    "axes = plt.axes()\n",
    "axes.grid()\n",
    "plt.scatter(tempdf[\"prediction\"], tempdf[\"observed\"], color =\"red\")\n",
    "#ax = tempdf.plot.scatter(x = \"prediction\", y = \"observed\", color = \"skyblue\")\n",
    "plt.plot([x for x in range(20)], color = \"skyblue\")"
   ]
  },
  {
   "cell_type": "markdown",
   "metadata": {},
   "source": [
    "# Régression linéaire à l'aide du module statsmodels"
   ]
  },
  {
   "cell_type": "code",
   "execution_count": 205,
   "metadata": {},
   "outputs": [
    {
     "name": "stdout",
     "output_type": "stream",
     "text": [
      "[ 8  8 20 ...  8 14  8] <class 'numpy.ndarray'>\n",
      "                                 OLS Regression Results                                \n",
      "=======================================================================================\n",
      "Dep. Variable:                   Prix   R-squared (uncentered):                   0.504\n",
      "Model:                            OLS   Adj. R-squared (uncentered):              0.504\n",
      "Method:                 Least Squares   F-statistic:                          1.243e+04\n",
      "Date:                Mon, 27 Dec 2021   Prob (F-statistic):                        0.00\n",
      "Time:                        20:43:05   Log-Likelihood:                     -5.2064e+05\n",
      "No. Observations:               73278   AIC:                                  1.041e+06\n",
      "Df Residuals:                   73272   BIC:                                  1.041e+06\n",
      "Df Model:                           6                                                  \n",
      "Covariance Type:            nonrobust                                                  \n",
      "===================================================================================\n",
      "                      coef    std err          t      P>|t|      [0.025      0.975]\n",
      "-----------------------------------------------------------------------------------\n",
      "Distance            0.1560      0.002     87.031      0.000       0.152       0.159\n",
      "Total d'escales    47.0856      3.457     13.619      0.000      40.309      53.862\n",
      "Duree de vol       -2.4101      0.682     -3.534      0.000      -3.747      -1.073\n",
      "Month               6.0862      3.563      1.708      0.088      -0.898      13.070\n",
      "Week                2.8879      0.858      3.364      0.001       1.205       4.571\n",
      "Compagnie          -2.4989      0.091    -27.372      0.000      -2.678      -2.320\n",
      "==============================================================================\n",
      "Omnibus:                    93633.621   Durbin-Watson:                   0.113\n",
      "Prob(Omnibus):                  0.000   Jarque-Bera (JB):         16492657.818\n",
      "Skew:                           7.172   Prob(JB):                         0.00\n",
      "Kurtosis:                      75.083   Cond. No.                     4.87e+03\n",
      "==============================================================================\n",
      "\n",
      "Warnings:\n",
      "[1] Standard Errors assume that the covariance matrix of the errors is correctly specified.\n",
      "[2] The condition number is large, 4.87e+03. This might indicate that there are\n",
      "strong multicollinearity or other numerical problems.\n"
     ]
    }
   ],
   "source": [
    "from sklearn.preprocessing import StandardScaler\n",
    "import statsmodels.api as sm\n",
    "df = pd.read_excel(\"base_a_traiter.xlsx\")\n",
    "xvars = [\"Distance\", \"Total d'escales\", \"Duree de vol\", \"Month\", \"Week\", \"Compagnie\"] # Variables explicatives\n",
    "df = df[df[\"Compagnie\"] != \"SNCF\"]\n",
    "df[\"Month\"] = df[\"Date_aller\"].apply(lambda date:date.month)\n",
    "df[\"Week\"] = df[\"Date_aller\"].apply(lambda date:date.week)\n",
    "df.dropna(how = \"any\")\n",
    "df[\"Intercept\"] = [1 for i in range(len(df))]\n",
    "df_regc = df[\"Compagnie\"].astype(str)\n",
    "df_regc.dropna(how = \"any\")\n",
    "\n",
    "label_enc = preprocessing.LabelEncoder().fit(df_regc)\n",
    "X2 = label_enc.transform(df_regc)\n",
    "\n",
    "df[\"Compagnie\"] = X2\n",
    "print(X2, type(X2))\n",
    "# Récupérer l'ensemble des valeurs de la variable cible\n",
    "Y = df[\"Prix\"]\n",
    "# Récupérer les variables prédictives (on en a 2)\n",
    "X = df[xvars]\n",
    "scale = StandardScaler()\n",
    "X_scaled = scale.fit_transform(X[xvars])\n",
    "est = sm.OLS(Y, X).fit()\n",
    " \n",
    "print(est.summary())\n"
   ]
  },
  {
   "cell_type": "markdown",
   "metadata": {},
   "source": [
    "# Régression Logistique\n",
    "\n"
   ]
  },
  {
   "cell_type": "code",
   "execution_count": 262,
   "metadata": {},
   "outputs": [
    {
     "name": "stderr",
     "output_type": "stream",
     "text": [
      "C:\\ProgramData\\Anaconda3\\lib\\site-packages\\pandas\\core\\frame.py:3990: SettingWithCopyWarning: \n",
      "A value is trying to be set on a copy of a slice from a DataFrame\n",
      "\n",
      "See the caveats in the documentation: https://pandas.pydata.org/pandas-docs/stable/user_guide/indexing.html#returning-a-view-versus-a-copy\n",
      "  return super().drop(\n"
     ]
    },
    {
     "name": "stdout",
     "output_type": "stream",
     "text": [
      "[-1.50400019] [[ 1.02837088 -0.35029493  0.03331721 -0.31013538  0.5555547  -0.03886336]]\n"
     ]
    }
   ],
   "source": [
    "xvars = [\"Distance\", \"Total d'escales\", \"Duree de vol\", \"Month\", \"Week\", \"Compagnie\"] # Variables explicatives\n",
    "\n",
    "df_reg.drop(columns = [\"Compagnie\"], inplace = True)\n",
    "indices_to_keep = ~df_reg.isin([np.nan, np.inf, -np.inf]).any(axis = 1)\n",
    "df_reg = df_reg[indices_to_keep].astype(np.float64)\n",
    "\n",
    "df_reg['y'] = (df_reg['y_standard']>0.5).astype(int)\n",
    "\n",
    "X = np.concatenate((X1, X2), axis = 1)\n",
    "X_train, X_test, y_train, y_test = train_test_split(X, df_reg[[\"y\"]].values.ravel(), test_size = 0.2, random_state = 0)\n",
    "clf = LogisticRegression().fit(X_train, y_train)\n",
    "y_pred = clf.predict(X_test)\n",
    "y_pred[:10]\n",
    "print(clf.intercept_, clf.coef_)"
   ]
  },
  {
   "cell_type": "code",
   "execution_count": 263,
   "metadata": {},
   "outputs": [
    {
     "name": "stdout",
     "output_type": "stream",
     "text": [
      "0.8929448689956332\n",
      "0.39490937138449667\n",
      "0.7864823348694316\n",
      "0.26364572605561276\n"
     ]
    },
    {
     "data": {
      "image/png": "[encoded data removed]",
      "text/plain": [
       "<Figure size 432x288 with 2 Axes>"
      ]
     },
     "metadata": {
      "needs_background": "light"
     },
     "output_type": "display_data"
    }
   ],
   "source": [
    "sklearn.metrics.plot_confusion_matrix(clf, X_test, y_test)\n",
    "\n",
    "sc_accuracy = sklearn.metrics.accuracy_score(y_pred, y_test)\n",
    "sc_f1 = sklearn.metrics.f1_score(y_pred, y_test)\n",
    "sc_recall = sklearn.metrics.recall_score(y_pred, y_test)\n",
    "sc_precision = sklearn.metrics.precision_score(y_pred, y_test)\n",
    "\n",
    "print(sc_accuracy)\n",
    "print(sc_f1)\n",
    "print(sc_recall)\n",
    "print(sc_precision)"
   ]
  }
 ],
 "metadata": {
  "kernelspec": {
   "display_name": "Python 3",
   "language": "python",
   "name": "python3"
  },
  "language_info": {
   "codemirror_mode": {
    "name": "ipython",
    "version": 3
   },
   "file_extension": ".py",
   "mimetype": "text/x-python",
   "name": "python",
   "nbconvert_exporter": "python",
   "pygments_lexer": "ipython3",
   "version": "3.8.3"
  }
 },
 "nbformat": 4,
 "nbformat_minor": 4
}
