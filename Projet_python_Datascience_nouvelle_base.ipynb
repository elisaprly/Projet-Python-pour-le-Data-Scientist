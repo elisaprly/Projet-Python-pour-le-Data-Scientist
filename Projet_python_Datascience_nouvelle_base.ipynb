{
  "cells": [
    {
      "cell_type": "markdown",
      "source": [
        "# Analyse exploratoire de données"
      ],
      "metadata": {
        "id": "yjwTKumX_tTT"
      },
      "id": "yjwTKumX_tTT"
    },
    {
      "cell_type": "markdown",
      "source": [
        "Il s'agit de données de prix de billets d'avions entre Paris et 5 destinations (Londres, Moscou, Oslo, Madrid et Athènes) pour des allers-retours entre début avril et fin septembre 2022 pour lesquelles nous avons relévé 8 caractéristiques à savoir:\n",
        "\n",
        "• Le nom de la compagnie  \n",
        "• Le nombre d'escales\n",
        "\n",
        "• Le prix du billet d'avion\n",
        "\n",
        "• La durée du trajet\n",
        "\n",
        "• La destination\n",
        "\n",
        "• La distance entre Paris et la ville de destination\n",
        "\n",
        "• La date d'aller\n",
        "\n",
        "• Et enfin la date de retour"
      ],
      "metadata": {
        "id": "PbfwrLIYBmma"
      },
      "id": "PbfwrLIYBmma"
    },
    {
      "cell_type": "code",
      "source": [
        "import pandas as pd\n",
        "import numpy as np\n",
        "import matplotlib.pyplot as plt\n",
        "import seaborn as sns\n",
        "import statsmodels.api as sm\n"
      ],
      "metadata": {
        "id": "gvaerBhVGZDk"
      },
      "id": "gvaerBhVGZDk",
      "execution_count": 136,
      "outputs": []
    },
    {
      "cell_type": "code",
      "source": [
        "df = pd.read_excel('/content/base_a_traiter.xlsx')"
      ],
      "metadata": {
        "id": "rNM1NKEfksla"
      },
      "id": "rNM1NKEfksla",
      "execution_count": 137,
      "outputs": []
    },
    {
      "cell_type": "code",
      "source": [
        "df"
      ],
      "metadata": {
        "colab": {
          "base_uri": "https://localhost:8080/",
          "height": 423
        },
        "id": "f0V2ic3XkvVH",
        "outputId": "aaa4fb16-f209-47df-905b-4507f9ebe09a"
      },
      "id": "f0V2ic3XkvVH",
      "execution_count": 138,
      "outputs": [
        {
          "output_type": "execute_result",
          "data": {
            "text/html": [
              "\n",
              "  <div id=\"df-ad9f806e-daa1-4366-b0bd-b70bd9ed711a\">\n",
              "    <div class=\"colab-df-container\">\n",
              "      <div>\n",
              "<style scoped>\n",
              "    .dataframe tbody tr th:only-of-type {\n",
              "        vertical-align: middle;\n",
              "    }\n",
              "\n",
              "    .dataframe tbody tr th {\n",
              "        vertical-align: top;\n",
              "    }\n",
              "\n",
              "    .dataframe thead th {\n",
              "        text-align: right;\n",
              "    }\n",
              "</style>\n",
              "<table border=\"1\" class=\"dataframe\">\n",
              "  <thead>\n",
              "    <tr style=\"text-align: right;\">\n",
              "      <th></th>\n",
              "      <th>Compagnie</th>\n",
              "      <th>Total d'escales</th>\n",
              "      <th>Destination</th>\n",
              "      <th>Distance</th>\n",
              "      <th>Date_aller</th>\n",
              "      <th>Date_retour</th>\n",
              "      <th>Prix</th>\n",
              "      <th>Duree de vol</th>\n",
              "    </tr>\n",
              "  </thead>\n",
              "  <tbody>\n",
              "    <tr>\n",
              "      <th>0</th>\n",
              "      <td>Air France</td>\n",
              "      <td>0</td>\n",
              "      <td>Oslo</td>\n",
              "      <td>1344.00</td>\n",
              "      <td>2022-04-01</td>\n",
              "      <td>2022-04-08</td>\n",
              "      <td>204</td>\n",
              "      <td>2.333333</td>\n",
              "    </tr>\n",
              "    <tr>\n",
              "      <th>1</th>\n",
              "      <td>Air France</td>\n",
              "      <td>0</td>\n",
              "      <td>Oslo</td>\n",
              "      <td>1344.00</td>\n",
              "      <td>2022-04-01</td>\n",
              "      <td>2022-04-08</td>\n",
              "      <td>204</td>\n",
              "      <td>2.500000</td>\n",
              "    </tr>\n",
              "    <tr>\n",
              "      <th>2</th>\n",
              "      <td>Flyr AS</td>\n",
              "      <td>0</td>\n",
              "      <td>Oslo</td>\n",
              "      <td>1344.00</td>\n",
              "      <td>2022-04-01</td>\n",
              "      <td>2022-04-08</td>\n",
              "      <td>195</td>\n",
              "      <td>2.416667</td>\n",
              "    </tr>\n",
              "    <tr>\n",
              "      <th>3</th>\n",
              "      <td>Flyr AS</td>\n",
              "      <td>0</td>\n",
              "      <td>Oslo</td>\n",
              "      <td>1344.00</td>\n",
              "      <td>2022-04-01</td>\n",
              "      <td>2022-04-08</td>\n",
              "      <td>195</td>\n",
              "      <td>2.416667</td>\n",
              "    </tr>\n",
              "    <tr>\n",
              "      <th>4</th>\n",
              "      <td>Norwegian</td>\n",
              "      <td>0</td>\n",
              "      <td>Oslo</td>\n",
              "      <td>1344.00</td>\n",
              "      <td>2022-04-01</td>\n",
              "      <td>2022-04-08</td>\n",
              "      <td>186</td>\n",
              "      <td>2.333333</td>\n",
              "    </tr>\n",
              "    <tr>\n",
              "      <th>...</th>\n",
              "      <td>...</td>\n",
              "      <td>...</td>\n",
              "      <td>...</td>\n",
              "      <td>...</td>\n",
              "      <td>...</td>\n",
              "      <td>...</td>\n",
              "      <td>...</td>\n",
              "      <td>...</td>\n",
              "    </tr>\n",
              "    <tr>\n",
              "      <th>73273</th>\n",
              "      <td>Iberia</td>\n",
              "      <td>0</td>\n",
              "      <td>Londres</td>\n",
              "      <td>342.76</td>\n",
              "      <td>2022-09-23</td>\n",
              "      <td>2022-09-30</td>\n",
              "      <td>117</td>\n",
              "      <td>1.333333</td>\n",
              "    </tr>\n",
              "    <tr>\n",
              "      <th>73274</th>\n",
              "      <td>easyJet</td>\n",
              "      <td>0</td>\n",
              "      <td>Londres</td>\n",
              "      <td>342.76</td>\n",
              "      <td>2022-09-23</td>\n",
              "      <td>2022-09-30</td>\n",
              "      <td>153</td>\n",
              "      <td>1.166667</td>\n",
              "    </tr>\n",
              "    <tr>\n",
              "      <th>73275</th>\n",
              "      <td>Air France</td>\n",
              "      <td>0</td>\n",
              "      <td>Londres</td>\n",
              "      <td>342.76</td>\n",
              "      <td>2022-09-23</td>\n",
              "      <td>2022-09-30</td>\n",
              "      <td>153</td>\n",
              "      <td>1.416667</td>\n",
              "    </tr>\n",
              "    <tr>\n",
              "      <th>73276</th>\n",
              "      <td>British Airways</td>\n",
              "      <td>0</td>\n",
              "      <td>Londres</td>\n",
              "      <td>342.76</td>\n",
              "      <td>2022-09-23</td>\n",
              "      <td>2022-09-30</td>\n",
              "      <td>159</td>\n",
              "      <td>1.333333</td>\n",
              "    </tr>\n",
              "    <tr>\n",
              "      <th>73277</th>\n",
              "      <td>Air France</td>\n",
              "      <td>0</td>\n",
              "      <td>Londres</td>\n",
              "      <td>342.76</td>\n",
              "      <td>2022-09-23</td>\n",
              "      <td>2022-09-30</td>\n",
              "      <td>159</td>\n",
              "      <td>1.250000</td>\n",
              "    </tr>\n",
              "  </tbody>\n",
              "</table>\n",
              "<p>73278 rows × 8 columns</p>\n",
              "</div>\n",
              "      <button class=\"colab-df-convert\" onclick=\"convertToInteractive('df-ad9f806e-daa1-4366-b0bd-b70bd9ed711a')\"\n",
              "              title=\"Convert this dataframe to an interactive table.\"\n",
              "              style=\"display:none;\">\n",
              "        \n",
              "  <svg xmlns=\"http://www.w3.org/2000/svg\" height=\"24px\"viewBox=\"0 0 24 24\"\n",
              "       width=\"24px\">\n",
              "    <path d=\"M0 0h24v24H0V0z\" fill=\"none\"/>\n",
              "    <path d=\"M18.56 5.44l.94 2.06.94-2.06 2.06-.94-2.06-.94-.94-2.06-.94 2.06-2.06.94zm-11 1L8.5 8.5l.94-2.06 2.06-.94-2.06-.94L8.5 2.5l-.94 2.06-2.06.94zm10 10l.94 2.06.94-2.06 2.06-.94-2.06-.94-.94-2.06-.94 2.06-2.06.94z\"/><path d=\"M17.41 7.96l-1.37-1.37c-.4-.4-.92-.59-1.43-.59-.52 0-1.04.2-1.43.59L10.3 9.45l-7.72 7.72c-.78.78-.78 2.05 0 2.83L4 21.41c.39.39.9.59 1.41.59.51 0 1.02-.2 1.41-.59l7.78-7.78 2.81-2.81c.8-.78.8-2.07 0-2.86zM5.41 20L4 18.59l7.72-7.72 1.47 1.35L5.41 20z\"/>\n",
              "  </svg>\n",
              "      </button>\n",
              "      \n",
              "  <style>\n",
              "    .colab-df-container {\n",
              "      display:flex;\n",
              "      flex-wrap:wrap;\n",
              "      gap: 12px;\n",
              "    }\n",
              "\n",
              "    .colab-df-convert {\n",
              "      background-color: #E8F0FE;\n",
              "      border: none;\n",
              "      border-radius: 50%;\n",
              "      cursor: pointer;\n",
              "      display: none;\n",
              "      fill: #1967D2;\n",
              "      height: 32px;\n",
              "      padding: 0 0 0 0;\n",
              "      width: 32px;\n",
              "    }\n",
              "\n",
              "    .colab-df-convert:hover {\n",
              "      background-color: #E2EBFA;\n",
              "      box-shadow: 0px 1px 2px rgba(60, 64, 67, 0.3), 0px 1px 3px 1px rgba(60, 64, 67, 0.15);\n",
              "      fill: #174EA6;\n",
              "    }\n",
              "\n",
              "    [theme=dark] .colab-df-convert {\n",
              "      background-color: #3B4455;\n",
              "      fill: #D2E3FC;\n",
              "    }\n",
              "\n",
              "    [theme=dark] .colab-df-convert:hover {\n",
              "      background-color: #434B5C;\n",
              "      box-shadow: 0px 1px 3px 1px rgba(0, 0, 0, 0.15);\n",
              "      filter: drop-shadow(0px 1px 2px rgba(0, 0, 0, 0.3));\n",
              "      fill: #FFFFFF;\n",
              "    }\n",
              "  </style>\n",
              "\n",
              "      <script>\n",
              "        const buttonEl =\n",
              "          document.querySelector('#df-ad9f806e-daa1-4366-b0bd-b70bd9ed711a button.colab-df-convert');\n",
              "        buttonEl.style.display =\n",
              "          google.colab.kernel.accessAllowed ? 'block' : 'none';\n",
              "\n",
              "        async function convertToInteractive(key) {\n",
              "          const element = document.querySelector('#df-ad9f806e-daa1-4366-b0bd-b70bd9ed711a');\n",
              "          const dataTable =\n",
              "            await google.colab.kernel.invokeFunction('convertToInteractive',\n",
              "                                                     [key], {});\n",
              "          if (!dataTable) return;\n",
              "\n",
              "          const docLinkHtml = 'Like what you see? Visit the ' +\n",
              "            '<a target=\"_blank\" href=https://colab.research.google.com/notebooks/data_table.ipynb>data table notebook</a>'\n",
              "            + ' to learn more about interactive tables.';\n",
              "          element.innerHTML = '';\n",
              "          dataTable['output_type'] = 'display_data';\n",
              "          await google.colab.output.renderOutput(dataTable, element);\n",
              "          const docLink = document.createElement('div');\n",
              "          docLink.innerHTML = docLinkHtml;\n",
              "          element.appendChild(docLink);\n",
              "        }\n",
              "      </script>\n",
              "    </div>\n",
              "  </div>\n",
              "  "
            ],
            "text/plain": [
              "             Compagnie  Total d'escales  ... Prix  Duree de vol\n",
              "0           Air France                0  ...  204      2.333333\n",
              "1           Air France                0  ...  204      2.500000\n",
              "2              Flyr AS                0  ...  195      2.416667\n",
              "3              Flyr AS                0  ...  195      2.416667\n",
              "4            Norwegian                0  ...  186      2.333333\n",
              "...                ...              ...  ...  ...           ...\n",
              "73273           Iberia                0  ...  117      1.333333\n",
              "73274          easyJet                0  ...  153      1.166667\n",
              "73275       Air France                0  ...  153      1.416667\n",
              "73276  British Airways                0  ...  159      1.333333\n",
              "73277       Air France                0  ...  159      1.250000\n",
              "\n",
              "[73278 rows x 8 columns]"
            ]
          },
          "metadata": {},
          "execution_count": 138
        }
      ]
    },
    {
      "cell_type": "code",
      "source": [
        "#df = df.drop('Unnamed: 0',axis=1)"
      ],
      "metadata": {
        "id": "of_Px7AbjS9J"
      },
      "id": "of_Px7AbjS9J",
      "execution_count": null,
      "outputs": []
    },
    {
      "cell_type": "code",
      "source": [
        "#variables et types des données\n",
        "df.dtypes"
      ],
      "metadata": {
        "colab": {
          "base_uri": "https://localhost:8080/"
        },
        "id": "3P5f2foVJSJx",
        "outputId": "f135ce64-d741-48a9-bf4e-681a0a825528"
      },
      "id": "3P5f2foVJSJx",
      "execution_count": 139,
      "outputs": [
        {
          "output_type": "execute_result",
          "data": {
            "text/plain": [
              "Compagnie                  object\n",
              "Total d'escales             int64\n",
              "Destination                object\n",
              "Distance                  float64\n",
              "Date_aller         datetime64[ns]\n",
              "Date_retour        datetime64[ns]\n",
              "Prix                        int64\n",
              "Duree de vol              float64\n",
              "dtype: object"
            ]
          },
          "metadata": {},
          "execution_count": 139
        }
      ]
    },
    {
      "cell_type": "code",
      "source": [
        "df.isnull().sum()"
      ],
      "metadata": {
        "colab": {
          "base_uri": "https://localhost:8080/"
        },
        "id": "QxNrJBWU_62M",
        "outputId": "4ec3be3c-ab20-432a-faed-95fe8244fa2f"
      },
      "id": "QxNrJBWU_62M",
      "execution_count": 140,
      "outputs": [
        {
          "output_type": "execute_result",
          "data": {
            "text/plain": [
              "Compagnie          15\n",
              "Total d'escales     0\n",
              "Destination         0\n",
              "Distance            0\n",
              "Date_aller          0\n",
              "Date_retour         0\n",
              "Prix                0\n",
              "Duree de vol        0\n",
              "dtype: int64"
            ]
          },
          "metadata": {},
          "execution_count": 140
        }
      ]
    },
    {
      "cell_type": "markdown",
      "source": [
        "Il est normal qu'il n'y ait pas de données manquantes pour ce dataset particulier puisque ce dernier est constitué d'un ensemble de données de ventes de prix de billets d'avion. "
      ],
      "metadata": {
        "id": "_cwHNIA9ABkR"
      },
      "id": "_cwHNIA9ABkR"
    },
    {
      "cell_type": "code",
      "source": [
        "df.describe().transpose()"
      ],
      "metadata": {
        "colab": {
          "base_uri": "https://localhost:8080/",
          "height": 175
        },
        "id": "uamzmuohAphq",
        "outputId": "83669fee-4c8c-4269-f7c0-2cef28b4ef1f"
      },
      "id": "uamzmuohAphq",
      "execution_count": 22,
      "outputs": [
        {
          "output_type": "execute_result",
          "data": {
            "text/html": [
              "\n",
              "  <div id=\"df-650bc26f-9d2b-4fe7-8f3c-c189312713ca\">\n",
              "    <div class=\"colab-df-container\">\n",
              "      <div>\n",
              "<style scoped>\n",
              "    .dataframe tbody tr th:only-of-type {\n",
              "        vertical-align: middle;\n",
              "    }\n",
              "\n",
              "    .dataframe tbody tr th {\n",
              "        vertical-align: top;\n",
              "    }\n",
              "\n",
              "    .dataframe thead th {\n",
              "        text-align: right;\n",
              "    }\n",
              "</style>\n",
              "<table border=\"1\" class=\"dataframe\">\n",
              "  <thead>\n",
              "    <tr style=\"text-align: right;\">\n",
              "      <th></th>\n",
              "      <th>count</th>\n",
              "      <th>mean</th>\n",
              "      <th>std</th>\n",
              "      <th>min</th>\n",
              "      <th>25%</th>\n",
              "      <th>50%</th>\n",
              "      <th>75%</th>\n",
              "      <th>max</th>\n",
              "    </tr>\n",
              "  </thead>\n",
              "  <tbody>\n",
              "    <tr>\n",
              "      <th>Total d'escales</th>\n",
              "      <td>73278.0</td>\n",
              "      <td>0.516076</td>\n",
              "      <td>0.520924</td>\n",
              "      <td>0.000000</td>\n",
              "      <td>0.000000</td>\n",
              "      <td>1.0</td>\n",
              "      <td>1.00</td>\n",
              "      <td>2.00</td>\n",
              "    </tr>\n",
              "    <tr>\n",
              "      <th>Distance</th>\n",
              "      <td>73278.0</td>\n",
              "      <td>1281.930674</td>\n",
              "      <td>667.682119</td>\n",
              "      <td>342.760000</td>\n",
              "      <td>1054.000000</td>\n",
              "      <td>1054.0</td>\n",
              "      <td>2095.52</td>\n",
              "      <td>2486.34</td>\n",
              "    </tr>\n",
              "    <tr>\n",
              "      <th>Prix</th>\n",
              "      <td>73278.0</td>\n",
              "      <td>278.167663</td>\n",
              "      <td>312.885063</td>\n",
              "      <td>33.000000</td>\n",
              "      <td>148.000000</td>\n",
              "      <td>203.0</td>\n",
              "      <td>308.00</td>\n",
              "      <td>5355.00</td>\n",
              "    </tr>\n",
              "    <tr>\n",
              "      <th>Duree de vol</th>\n",
              "      <td>73278.0</td>\n",
              "      <td>4.469546</td>\n",
              "      <td>2.962306</td>\n",
              "      <td>1.083333</td>\n",
              "      <td>2.083333</td>\n",
              "      <td>4.0</td>\n",
              "      <td>6.00</td>\n",
              "      <td>28.25</td>\n",
              "    </tr>\n",
              "  </tbody>\n",
              "</table>\n",
              "</div>\n",
              "      <button class=\"colab-df-convert\" onclick=\"convertToInteractive('df-650bc26f-9d2b-4fe7-8f3c-c189312713ca')\"\n",
              "              title=\"Convert this dataframe to an interactive table.\"\n",
              "              style=\"display:none;\">\n",
              "        \n",
              "  <svg xmlns=\"http://www.w3.org/2000/svg\" height=\"24px\"viewBox=\"0 0 24 24\"\n",
              "       width=\"24px\">\n",
              "    <path d=\"M0 0h24v24H0V0z\" fill=\"none\"/>\n",
              "    <path d=\"M18.56 5.44l.94 2.06.94-2.06 2.06-.94-2.06-.94-.94-2.06-.94 2.06-2.06.94zm-11 1L8.5 8.5l.94-2.06 2.06-.94-2.06-.94L8.5 2.5l-.94 2.06-2.06.94zm10 10l.94 2.06.94-2.06 2.06-.94-2.06-.94-.94-2.06-.94 2.06-2.06.94z\"/><path d=\"M17.41 7.96l-1.37-1.37c-.4-.4-.92-.59-1.43-.59-.52 0-1.04.2-1.43.59L10.3 9.45l-7.72 7.72c-.78.78-.78 2.05 0 2.83L4 21.41c.39.39.9.59 1.41.59.51 0 1.02-.2 1.41-.59l7.78-7.78 2.81-2.81c.8-.78.8-2.07 0-2.86zM5.41 20L4 18.59l7.72-7.72 1.47 1.35L5.41 20z\"/>\n",
              "  </svg>\n",
              "      </button>\n",
              "      \n",
              "  <style>\n",
              "    .colab-df-container {\n",
              "      display:flex;\n",
              "      flex-wrap:wrap;\n",
              "      gap: 12px;\n",
              "    }\n",
              "\n",
              "    .colab-df-convert {\n",
              "      background-color: #E8F0FE;\n",
              "      border: none;\n",
              "      border-radius: 50%;\n",
              "      cursor: pointer;\n",
              "      display: none;\n",
              "      fill: #1967D2;\n",
              "      height: 32px;\n",
              "      padding: 0 0 0 0;\n",
              "      width: 32px;\n",
              "    }\n",
              "\n",
              "    .colab-df-convert:hover {\n",
              "      background-color: #E2EBFA;\n",
              "      box-shadow: 0px 1px 2px rgba(60, 64, 67, 0.3), 0px 1px 3px 1px rgba(60, 64, 67, 0.15);\n",
              "      fill: #174EA6;\n",
              "    }\n",
              "\n",
              "    [theme=dark] .colab-df-convert {\n",
              "      background-color: #3B4455;\n",
              "      fill: #D2E3FC;\n",
              "    }\n",
              "\n",
              "    [theme=dark] .colab-df-convert:hover {\n",
              "      background-color: #434B5C;\n",
              "      box-shadow: 0px 1px 3px 1px rgba(0, 0, 0, 0.15);\n",
              "      filter: drop-shadow(0px 1px 2px rgba(0, 0, 0, 0.3));\n",
              "      fill: #FFFFFF;\n",
              "    }\n",
              "  </style>\n",
              "\n",
              "      <script>\n",
              "        const buttonEl =\n",
              "          document.querySelector('#df-650bc26f-9d2b-4fe7-8f3c-c189312713ca button.colab-df-convert');\n",
              "        buttonEl.style.display =\n",
              "          google.colab.kernel.accessAllowed ? 'block' : 'none';\n",
              "\n",
              "        async function convertToInteractive(key) {\n",
              "          const element = document.querySelector('#df-650bc26f-9d2b-4fe7-8f3c-c189312713ca');\n",
              "          const dataTable =\n",
              "            await google.colab.kernel.invokeFunction('convertToInteractive',\n",
              "                                                     [key], {});\n",
              "          if (!dataTable) return;\n",
              "\n",
              "          const docLinkHtml = 'Like what you see? Visit the ' +\n",
              "            '<a target=\"_blank\" href=https://colab.research.google.com/notebooks/data_table.ipynb>data table notebook</a>'\n",
              "            + ' to learn more about interactive tables.';\n",
              "          element.innerHTML = '';\n",
              "          dataTable['output_type'] = 'display_data';\n",
              "          await google.colab.output.renderOutput(dataTable, element);\n",
              "          const docLink = document.createElement('div');\n",
              "          docLink.innerHTML = docLinkHtml;\n",
              "          element.appendChild(docLink);\n",
              "        }\n",
              "      </script>\n",
              "    </div>\n",
              "  </div>\n",
              "  "
            ],
            "text/plain": [
              "                   count         mean         std  ...     50%      75%      max\n",
              "Total d'escales  73278.0     0.516076    0.520924  ...     1.0     1.00     2.00\n",
              "Distance         73278.0  1281.930674  667.682119  ...  1054.0  2095.52  2486.34\n",
              "Prix             73278.0   278.167663  312.885063  ...   203.0   308.00  5355.00\n",
              "Duree de vol     73278.0     4.469546    2.962306  ...     4.0     6.00    28.25\n",
              "\n",
              "[4 rows x 8 columns]"
            ]
          },
          "metadata": {},
          "execution_count": 22
        }
      ]
    },
    {
      "cell_type": "markdown",
      "source": [
        "On obtient des éléments statistques (moyenne, écart-type, quartile, ...) pour la distance, le prix, la durée du vol et le nombre d'escales.  "
      ],
      "metadata": {
        "id": "tkHnU6IJCpWb"
      },
      "id": "tkHnU6IJCpWb"
    },
    {
      "cell_type": "markdown",
      "source": [
        "Commençons par tracer une distribution de notre variable cible (le prix):"
      ],
      "metadata": {
        "id": "MAEsHOY_FOCo"
      },
      "id": "MAEsHOY_FOCo"
    },
    {
      "cell_type": "code",
      "source": [
        "plt.figure(figsize=(12,8))\n",
        "sns.distplot(df['Prix']);"
      ],
      "metadata": {
        "colab": {
          "base_uri": "https://localhost:8080/",
          "height": 552
        },
        "id": "lUYmfpzMFNG4",
        "outputId": "8f1406d6-0613-4845-9c73-4e2d67465de3"
      },
      "id": "lUYmfpzMFNG4",
      "execution_count": 117,
      "outputs": [
        {
          "output_type": "stream",
          "name": "stderr",
          "text": [
            "/usr/local/lib/python3.7/dist-packages/seaborn/distributions.py:2619: FutureWarning: `distplot` is a deprecated function and will be removed in a future version. Please adapt your code to use either `displot` (a figure-level function with similar flexibility) or `histplot` (an axes-level function for histograms).\n",
            "  warnings.warn(msg, FutureWarning)\n"
          ]
        },
        {
          "output_type": "display_data",
          "data": {
            "image/png": "[encoded data removed]",
            "text/plain": [
              "<Figure size 864x576 with 1 Axes>"
            ]
          },
          "metadata": {
            "needs_background": "light"
          }
        }
      ]
    },
    {
      "cell_type": "markdown",
      "source": [
        "Les prix de billets d'avion sont en très grande majorité entre 0 et 1000 €.\n"
      ],
      "metadata": {
        "id": "qq2RX5EssReZ"
      },
      "id": "qq2RX5EssReZ"
    },
    {
      "cell_type": "code",
      "source": [
        "#Regardons les variables qui sont le plus corrélés au Prix\n",
        "\n",
        "df.corr()['Prix'].sort_values()"
      ],
      "metadata": {
        "colab": {
          "base_uri": "https://localhost:8080/"
        },
        "id": "fFLuTicAr5RK",
        "outputId": "65b443b8-d5ef-4959-bf48-d6ab0a6621c0"
      },
      "id": "fFLuTicAr5RK",
      "execution_count": 107,
      "outputs": [
        {
          "output_type": "execute_result",
          "data": {
            "text/plain": [
              "Total d'escales    0.122271\n",
              "Duree de vol       0.180079\n",
              "Distance           0.309332\n",
              "Prix               1.000000\n",
              "Name: Prix, dtype: float64"
            ]
          },
          "metadata": {},
          "execution_count": 107
        }
      ]
    },
    {
      "cell_type": "markdown",
      "source": [
        "Dans cette partie, nous proposons de regarder la relation affine entre le prix du billet d'avion et nos variables numériques:"
      ],
      "metadata": {
        "id": "QygMymGxJEKg"
      },
      "id": "QygMymGxJEKg"
    },
    {
      "cell_type": "code",
      "source": [
        "fig, axs = plt.subplots(3, 1, figsize=(10,15))\n",
        "fig.suptitle(\"Relation entre nos variables quantitatives et le Prix du billet d'avion\")\n",
        "\n",
        "test00=df.groupby('Distance',as_index=False).mean()\n",
        "axs[0].scatter(test00['Distance'], test00['Prix'])\n",
        "axs[0].set(xlabel='distance entre Paris et la ville de destination', ylabel='Prix selon la distance parcouru')\n",
        "\n",
        "test01=df.groupby('Duree de vol',as_index=False).mean()\n",
        "axs[1].scatter(test01['Duree de vol'], test01['Prix'])\n",
        "axs[1].set(xlabel='Duree du trajet', ylabel='Prix selon la duree du vol')\n",
        "\n",
        "test02=df.groupby(\"Total d'escales\",as_index=False).mean()\n",
        "axs[2].scatter(test02[\"Total d'escales\"], test02['Prix'])\n",
        "axs[2].set(xlabel=\"Nombre d'escales\", ylabel=\"Prix selon le nombre d'escales durant le trajet\")\n",
        "\n"
      ],
      "metadata": {
        "colab": {
          "base_uri": "https://localhost:8080/",
          "height": 1000
        },
        "id": "XaP1L_qxxDZe",
        "outputId": "7347018c-e47b-4d96-8b0b-8becc7603957"
      },
      "id": "XaP1L_qxxDZe",
      "execution_count": 108,
      "outputs": [
        {
          "output_type": "execute_result",
          "data": {
            "text/plain": [
              "[Text(0, 0.5, \"Prix selon le nombre d'escales durant le trajet\"),\n",
              " Text(0.5, 0, \"Nombre d'escales\")]"
            ]
          },
          "metadata": {},
          "execution_count": 108
        },
        {
          "output_type": "display_data",
          "data": {
            "image/png": "[encoded data removed]",
            "text/plain": [
              "<Figure size 720x1080 with 3 Axes>"
            ]
          },
          "metadata": {
            "needs_background": "light"
          }
        }
      ]
    },
    {
      "cell_type": "markdown",
      "source": [
        "Selon ces graphiques, nous pouvons constater que :\n",
        "\n",
        "• il semblerait que la distance qui sépare Paris et la ville de destination ait une influence sur le prix;\n",
        "\n",
        "• La durée du trajet et le nombre d'escales ne semblent pas beaucoup influencer le prix;\n"
      ],
      "metadata": {
        "id": "FU3JnMVD-WpW"
      },
      "id": "FU3JnMVD-WpW"
    },
    {
      "cell_type": "markdown",
      "source": [
        "Dans les prochaines sections nous poussons notre analyse avec la matrice de corrélation et l'analyse en composante principale (PCA)"
      ],
      "metadata": {
        "id": "457XaQpFH8Ul"
      },
      "id": "457XaQpFH8Ul"
    },
    {
      "cell_type": "markdown",
      "source": [
        "# Tableau de corrélation"
      ],
      "metadata": {
        "id": "bKkKVDLbJldD"
      },
      "id": "bKkKVDLbJldD"
    },
    {
      "cell_type": "code",
      "source": [
        "sns.heatmap(data=df.corr(), cmap = 'viridis', annot=True)\n",
        "plt.show()\n",
        "sns.heatmap"
      ],
      "metadata": {
        "colab": {
          "base_uri": "https://localhost:8080/",
          "height": 287
        },
        "id": "w-CH41fvJsED",
        "outputId": "67cac5c7-90f3-408a-936c-811abd1a4572"
      },
      "id": "w-CH41fvJsED",
      "execution_count": 109,
      "outputs": [
        {
          "output_type": "display_data",
          "data": {
            "image/png": "[encoded data removed]",
            "text/plain": [
              "<Figure size 432x288 with 2 Axes>"
            ]
          },
          "metadata": {
            "needs_background": "light"
          }
        },
        {
          "output_type": "execute_result",
          "data": {
            "text/plain": [
              "<function seaborn.matrix.heatmap>"
            ]
          },
          "metadata": {},
          "execution_count": 109
        }
      ]
    },
    {
      "cell_type": "markdown",
      "source": [
        "Cette matrice des corrélations linéaires entre les différentes variables quantitatives de notre jeu de données nous montre l'existence:\n",
        "\n",
        "• d'une très grande corrélation positive entre le nombre total d'escales et la durée du vol.\n",
        "\n",
        "• d'une corrélation positive entre le prix du billet d'avion et la distance du trajet.\n",
        "\n",
        "• d'une faible corrélation entre le prix du billet d'avion et la durée du vol.\n",
        "\n",
        "• d'une corrélation positive entre la distance et la durée du vol. \n",
        "\n"
      ],
      "metadata": {
        "id": "98cdTIFFpYOg"
      },
      "id": "98cdTIFFpYOg"
    },
    {
      "cell_type": "markdown",
      "source": [
        "Ensuite, nous reprenons la matrice de corrélation précédente en ayant supprimer au préalable les valeurs extrêmes du prix que nous avons fixé arbitrairement au top 1% des prix de billets d'avion les plus élévés. "
      ],
      "metadata": {
        "id": "xP0WUojdogOO"
      },
      "id": "xP0WUojdogOO"
    },
    {
      "cell_type": "code",
      "source": [
        "# Le top 1% des billets d'avion les plus chers\n",
        "len(df)*0.01"
      ],
      "metadata": {
        "colab": {
          "base_uri": "https://localhost:8080/"
        },
        "id": "9OHHEeL8od0K",
        "outputId": "75552b50-f672-4a71-aad2-461b1d8449ca"
      },
      "id": "9OHHEeL8od0K",
      "execution_count": 27,
      "outputs": [
        {
          "output_type": "execute_result",
          "data": {
            "text/plain": [
              "732.78"
            ]
          },
          "metadata": {},
          "execution_count": 27
        }
      ]
    },
    {
      "cell_type": "code",
      "source": [
        "len(df)*0.05"
      ],
      "metadata": {
        "colab": {
          "base_uri": "https://localhost:8080/"
        },
        "id": "qAdUaJK9Qfnc",
        "outputId": "5fa81c4c-2064-40bc-f9b0-9d1ba745de36"
      },
      "id": "qAdUaJK9Qfnc",
      "execution_count": 28,
      "outputs": [
        {
          "output_type": "execute_result",
          "data": {
            "text/plain": [
              "3663.9"
            ]
          },
          "metadata": {},
          "execution_count": 28
        }
      ]
    },
    {
      "cell_type": "code",
      "source": [
        "# on élimine de notre jeu de données les prix extrêmes \n",
        "non_top_5_perc= df.sort_values('Prix', ascending= False).iloc[3664:]\n",
        "non_top_5_perc.shape\n"
      ],
      "metadata": {
        "id": "4NB9Ge2HpRCx",
        "colab": {
          "base_uri": "https://localhost:8080/"
        },
        "outputId": "19a51466-1e6b-449d-95c8-4e5bde119a0e"
      },
      "id": "4NB9Ge2HpRCx",
      "execution_count": 53,
      "outputs": [
        {
          "output_type": "execute_result",
          "data": {
            "text/plain": [
              "(69614, 8)"
            ]
          },
          "metadata": {},
          "execution_count": 53
        }
      ]
    },
    {
      "cell_type": "code",
      "source": [
        "\n",
        "sns.heatmap(data=non_top_1_perc.corr(), cmap = 'viridis', annot=True)\n",
        "plt.show()"
      ],
      "metadata": {
        "colab": {
          "base_uri": "https://localhost:8080/",
          "height": 269
        },
        "id": "hG-mdbcw3Qg3",
        "outputId": "fec2502d-f3fc-4373-cb15-223b908c7615"
      },
      "id": "hG-mdbcw3Qg3",
      "execution_count": 110,
      "outputs": [
        {
          "output_type": "display_data",
          "data": {
            "image/png": "[encoded data removed]",
            "text/plain": [
              "<Figure size 432x288 with 2 Axes>"
            ]
          },
          "metadata": {
            "needs_background": "light"
          }
        }
      ]
    },
    {
      "cell_type": "markdown",
      "source": [
        "En éliminant ces valeurs extrêmes on obtient:\n",
        "\n",
        "• une diminution de la corrélation entre le nombre total d'escales et la durée du vol\n",
        "\n",
        "• une plus grande corrélation entre la distance et le prix du billet d'avion ce qui est assez intuitif!;\n",
        "\n",
        "• une corrélation négative mais certes faible entre la distance et le nombre total d'escales ;\n",
        "\n",
        "• d'une corrélation positive entre la durée du vol et la distance du trajet ce qui est normal;\n",
        "\n",
        "•d'une faible corrélation positive entre la durée du vol et le prix\n",
        "\n",
        "•d'une faible corrélation positive entre le nombre total d'escales et le prix\n"
      ],
      "metadata": {
        "id": "JoUyYkAEqLde"
      },
      "id": "JoUyYkAEqLde"
    },
    {
      "cell_type": "markdown",
      "source": [
        "#ACP"
      ],
      "metadata": {
        "id": "R4Uw1c9Nsfk5"
      },
      "id": "R4Uw1c9Nsfk5"
    },
    {
      "cell_type": "markdown",
      "source": [
        "Afin de visualiser en même temps tous nos variables quantitatives( Total d'escales, Duree de vol, Prix, Distance) sur un plan, la solution est d’effectuer une projection orthogonale. Malheureusement, quand on projette des points, on perd de l’information. \n",
        "\n",
        "C’est ici la clé de l’ACP : rechercher la projection pour laquelle l’inertie des points est maximale.\n",
        "\n",
        "Nous proposons d'afficher les cercles de corrélation pour regarder quels sont les variables qui sont le plus corrélés avec le prix du billet d'avion."
      ],
      "metadata": {
        "id": "x2GyqrAuFS4X"
      },
      "id": "x2GyqrAuFS4X"
    },
    {
      "cell_type": "code",
      "source": [
        "#Fonctions pour la représentation du cercle de corrélation\n",
        "\n",
        "def display_circles(pcs, n_comp, pca, axis_ranks, labels=None, label_rotation=0, varsup=None, lims=None):\n",
        "    for d1, d2 in axis_ranks: # On affiche les 2 premières composantes\n",
        "        if d2 < n_comp:\n",
        "\n",
        "            # initialisation de la figure\n",
        "            fig, ax = plt.subplots(figsize=(7,6))\n",
        "\n",
        "            # détermination des limites du graphique\n",
        "            if lims is not None :\n",
        "                xmin, xmax, ymin, ymax = lims\n",
        "            elif pcs.shape[1] < 30 :\n",
        "                xmin, xmax, ymin, ymax = -1, 1, -1, 1\n",
        "            else :\n",
        "                xmin, xmax, ymin, ymax = min(pcs[d1,:]), max(pcs[d1,:]), min(pcs[d2,:]), max(pcs[d2,:])\n",
        "\n",
        "            # affichage des flèches\n",
        "            # s'il y a plus de 30 flèches, on n'affiche pas le triangle à leur extrémité\n",
        "            if pcs.shape[1] < 30 :\n",
        "                plt.quiver(np.zeros(pcs.shape[1]), np.zeros(pcs.shape[1]),\n",
        "                   pcs[d1,:], pcs[d2,:], \n",
        "                   angles='xy', scale_units='xy', scale=1, color=\"grey\")\n",
        "                # (voir la doc : https://matplotlib.org/api/_as_gen/matplotlib.pyplot.quiver.html)\n",
        "            else:\n",
        "                lines = [[[0,0],[x,y]] for x,y in pcs[[d1,d2]].T]\n",
        "                ax.add_collection(LineCollection(lines, axes=ax, alpha=.1, color='black'))\n",
        "            \n",
        "            # affichage des noms des variables  \n",
        "            if labels is not None:  \n",
        "                for i,(x, y) in enumerate(pcs[[d1,d2]].T):\n",
        "                    if x >= xmin and x <= xmax and y >= ymin and y <= ymax :\n",
        "                        plt.text(x, y, labels[i], fontsize='14', ha='center', va='center', rotation=label_rotation, color=\"blue\", alpha=0.5)\n",
        "            \n",
        "            # affichage du cercle\n",
        "            circle = plt.Circle((0,0), 1, facecolor='none', edgecolor='b')\n",
        "            plt.gca().add_artist(circle)\n",
        "\n",
        "            #variables illustratives\n",
        "            if varsup is not None:\n",
        "               corsup = np.zeros(n_comp)\n",
        "               for j in range(n_comp):\n",
        "                  corsup[j] = np.corrcoef(varsup,X_projected[:,j])[0,1]\n",
        "               plt.annotate(varsup.name,(corsup[d1-1],corsup[d2-1]),color='g')\n",
        "  \n",
        "\n",
        "            # définition des limites du graphique\n",
        "            plt.xlim(xmin, xmax)\n",
        "            plt.ylim(ymin, ymax)\n",
        "        \n",
        "            # affichage des lignes horizontales et verticales\n",
        "            plt.plot([-1, 1], [0, 0], color='grey', ls='--')\n",
        "            plt.plot([0, 0], [-1, 1], color='grey', ls='--')\n",
        "\n",
        "            # nom des axes, avec le pourcentage d'inertie expliqué\n",
        "            plt.xlabel('F{} ({}%)'.format(d1+1, round(100*pca.explained_variance_ratio_[d1],1)))\n",
        "            plt.ylabel('F{} ({}%)'.format(d2+1, round(100*pca.explained_variance_ratio_[d2],1)))\n",
        "\n",
        "            plt.title(\"Cercle des corrélations (F{} et F{})\".format(d1+1, d2+1))\n",
        "            plt.show(block=False)"
      ],
      "metadata": {
        "id": "dMg7_GhXsjt3"
      },
      "id": "dMg7_GhXsjt3",
      "execution_count": 111,
      "outputs": []
    },
    {
      "cell_type": "code",
      "source": [
        "from sklearn.decomposition import PCA\n",
        "from sklearn import decomposition\n",
        "from sklearn.preprocessing import StandardScaler\n",
        "from sklearn import preprocessing\n",
        "# choix du nombre de composantes à calculer\n",
        "n_comp = 2\n",
        "\n",
        "mycolumns = [\"Total d'escales\" , 'Duree de vol', 'Distance']\n",
        "\n",
        "df_pca = df[mycolumns]\n",
        "\n",
        "# préparation des données pour l'ACP\n",
        "df_pca = df_pca.fillna(df_pca.mean()) # Il est fréquent de remplacer les valeurs inconnues par la moyenne de la variable\n",
        "X = df_pca.values\n",
        "names = df.index #pour avoir les intitulés\n",
        "\n",
        "#transformation – centrage-réduction\n",
        "sc = StandardScaler()\n",
        "Z = sc.fit_transform(X)\n",
        "\n",
        "# Calcul des composantes principales\n",
        "acp = PCA(svd_solver='full')\n",
        "coord = acp.fit_transform(Z)\n",
        "\n",
        "#vérification\n",
        "#moyenne\n",
        "print(np.mean(Z,axis=0))\n",
        "#écart-type\n",
        "print(np.std(Z,axis=0,ddof=0))\n"
      ],
      "metadata": {
        "colab": {
          "base_uri": "https://localhost:8080/"
        },
        "id": "dYFfQa9QNBh4",
        "outputId": "7ca7be16-1c83-4a46-b0f1-728160fcdcf6"
      },
      "id": "dYFfQa9QNBh4",
      "execution_count": 112,
      "outputs": [
        {
          "output_type": "stream",
          "name": "stdout",
          "text": [
            "[ 1.02395416e-16  4.96462623e-17 -2.23408180e-16]\n",
            "[1. 1. 1.]\n"
          ]
        }
      ]
    },
    {
      "cell_type": "code",
      "source": [
        "#Coordonnées de la varaible supplementaire\n",
        "varsup=df['Prix']\n",
        "corsup = np.zeros(X.shape[1])\n",
        "X_projected = acp.transform(Z)\n",
        "for j in range(X.shape[1]):\n",
        "  corsup[j] = np.corrcoef(varsup,X_projected[:,j])[0,1]\n",
        "\n",
        "#affichage des corrélations avec les axes\n",
        "print(corsup)"
      ],
      "metadata": {
        "colab": {
          "base_uri": "https://localhost:8080/"
        },
        "id": "aOF7-6wad-FS",
        "outputId": "875cbfef-923a-4d5b-a222-a440e278a8ec"
      },
      "id": "aOF7-6wad-FS",
      "execution_count": 113,
      "outputs": [
        {
          "output_type": "stream",
          "name": "stdout",
          "text": [
            "[ 0.2326989   0.20068072 -0.06018879]\n"
          ]
        }
      ]
    },
    {
      "cell_type": "code",
      "source": [
        "# Cercle des corrélations\n",
        "pcs = pca.components_\n",
        "\n",
        "display_circles(pcs, X.shape[1], acp, [(0,1)],labels = np.array(mycolumns),varsup=df['Prix'])"
      ],
      "metadata": {
        "colab": {
          "base_uri": "https://localhost:8080/",
          "height": 404
        },
        "id": "6_TI0yBbO1HP",
        "outputId": "37d523bc-7425-45e5-edf7-fd94a700fad5"
      },
      "id": "6_TI0yBbO1HP",
      "execution_count": 114,
      "outputs": [
        {
          "output_type": "display_data",
          "data": {
            "image/png": "[encoded data removed]",
            "text/plain": [
              "<Figure size 504x432 with 1 Axes>"
            ]
          },
          "metadata": {
            "needs_background": "light"
          }
        }
      ]
    },
    {
      "cell_type": "markdown",
      "source": [
        "Les variables les mieux représentées en deux dimensions sont ceux dont les flèches sont\n",
        "les plus longues. On en déduit donc que la varibable Distance est la mieux corrélée avec la variable Prix, ce qui confirme nos précédents résultats.\n",
        "\n",
        "Les variables Total d'escales et Duree de vol sont moins bien présentées dans les axes, elles sont moins corrélées avec le Prix.\n",
        "\n",
        "L'autre point à soulever ici est que les 2 premières dimension contiennent 93% de l'inertie totale (l’inertie est la variance totale du tableau de données, i.e. la trace de la matrice des corrélations)"
      ],
      "metadata": {
        "id": "_3crgDIYf1pQ"
      },
      "id": "_3crgDIYf1pQ"
    },
    {
      "cell_type": "code",
      "source": [
        "plt.figure(figsize=(10,6))\n",
        "sns.boxplot(x='Distance', y='Prix', data=df)"
      ],
      "metadata": {
        "colab": {
          "base_uri": "https://localhost:8080/",
          "height": 405
        },
        "id": "7sT4pTDAZzsz",
        "outputId": "f1edc6e2-1cc2-4771-94db-4fccc5c3fdae"
      },
      "id": "7sT4pTDAZzsz",
      "execution_count": 115,
      "outputs": [
        {
          "output_type": "execute_result",
          "data": {
            "text/plain": [
              "<matplotlib.axes._subplots.AxesSubplot at 0x7f757704ba90>"
            ]
          },
          "metadata": {},
          "execution_count": 115
        },
        {
          "output_type": "display_data",
          "data": {
            "image/png": "[encoded data removed]",
            "text/plain": [
              "<Figure size 720x432 with 1 Axes>"
            ]
          },
          "metadata": {
            "needs_background": "light"
          }
        }
      ]
    },
    {
      "cell_type": "markdown",
      "source": [
        "Les prix augmentent beaucoup à partir d'une distance supérieure à 1344 km."
      ],
      "metadata": {
        "id": "nAseGWHlboU-"
      },
      "id": "nAseGWHlboU-"
    },
    {
      "cell_type": "code",
      "source": [
        "\n",
        "# Regardons la distribution des prix par nombre d'escales \n",
        "\n",
        "plt.figure(figsize=(10,6))\n",
        "sns.boxplot(x=\"Total d'escales\", y='Prix', data=df)"
      ],
      "metadata": {
        "colab": {
          "base_uri": "https://localhost:8080/",
          "height": 405
        },
        "id": "6F0roOLtb7Pi",
        "outputId": "d4958f7c-2c68-4f7a-845f-742156faa10f"
      },
      "id": "6F0roOLtb7Pi",
      "execution_count": 116,
      "outputs": [
        {
          "output_type": "execute_result",
          "data": {
            "text/plain": [
              "<matplotlib.axes._subplots.AxesSubplot at 0x7f757cb43250>"
            ]
          },
          "metadata": {},
          "execution_count": 116
        },
        {
          "output_type": "display_data",
          "data": {
            "image/png": "[encoded data removed]",
            "text/plain": [
              "<Figure size 720x432 with 1 Axes>"
            ]
          },
          "metadata": {
            "needs_background": "light"
          }
        }
      ]
    },
    {
      "cell_type": "markdown",
      "source": [
        "# Ingiénérie des caractéristiques"
      ],
      "metadata": {
        "id": "ts6xROHy_FcN"
      },
      "id": "ts6xROHy_FcN"
    },
    {
      "cell_type": "markdown",
      "source": [
        "Nous allons extraire les mois de vente des billets afin de voir après s'il y une tendance de vente des billets d'avion qui se dégage (par exemple une montée des prix pendant la période estivale). \n",
        "\n",
        "Etant donné qu'une personne achète en même temps son billet(aller-retour), nous décidons de nous concentrer ici seulement sur la date aller"
      ],
      "metadata": {
        "id": "xIGLD_yCCjU5"
      },
      "id": "xIGLD_yCCjU5"
    },
    {
      "cell_type": "code",
      "source": [
        "df['month'] = df['Date_aller'].apply(lambda date:date.month)"
      ],
      "metadata": {
        "id": "bc9Syimw-535"
      },
      "id": "bc9Syimw-535",
      "execution_count": 143,
      "outputs": []
    },
    {
      "cell_type": "code",
      "source": [
        "df['year'] = df['Date_aller'].apply(lambda date:date.year)"
      ],
      "metadata": {
        "id": "LiWMpxsWORbC"
      },
      "id": "LiWMpxsWORbC",
      "execution_count": 144,
      "outputs": []
    },
    {
      "cell_type": "code",
      "source": [
        "# pour rappel\n",
        "plt.figure(figsize=(12,8))\n",
        "sns.distplot(df['Prix']);\n"
      ],
      "metadata": {
        "colab": {
          "base_uri": "https://localhost:8080/",
          "height": 552
        },
        "id": "FTiqU7P6kAZD",
        "outputId": "17ccf01f-fe6e-41a7-bb30-b09bfd581693"
      },
      "id": "FTiqU7P6kAZD",
      "execution_count": 118,
      "outputs": [
        {
          "output_type": "stream",
          "name": "stderr",
          "text": [
            "/usr/local/lib/python3.7/dist-packages/seaborn/distributions.py:2619: FutureWarning: `distplot` is a deprecated function and will be removed in a future version. Please adapt your code to use either `displot` (a figure-level function with similar flexibility) or `histplot` (an axes-level function for histograms).\n",
            "  warnings.warn(msg, FutureWarning)\n"
          ]
        },
        {
          "output_type": "display_data",
          "data": {
            "image/png": "[encoded data removed]",
            "text/plain": [
              "<Figure size 864x576 with 1 Axes>"
            ]
          },
          "metadata": {
            "needs_background": "light"
          }
        }
      ]
    },
    {
      "cell_type": "markdown",
      "source": [
        "Tous les billets dont les prix sont supérieurs à 1000€ sont extrêmes(peu fréquents), notre modèle ne sera pas les prédire. Donc:"
      ],
      "metadata": {
        "id": "blvb5NwokZbq"
      },
      "id": "blvb5NwokZbq"
    },
    {
      "cell_type": "code",
      "source": [
        "plt.figure(figsize=(12,8))\n",
        "sns.boxplot(x='month',y='Prix',data=df);"
      ],
      "metadata": {
        "colab": {
          "base_uri": "https://localhost:8080/",
          "height": 497
        },
        "id": "33pfPcMtEb6h",
        "outputId": "2658e8f1-df5d-4a78-b6f7-3a1d46989504"
      },
      "id": "33pfPcMtEb6h",
      "execution_count": 145,
      "outputs": [
        {
          "output_type": "display_data",
          "data": {
            "image/png": "[encoded data removed]",
            "text/plain": [
              "<Figure size 864x576 with 1 Axes>"
            ]
          },
          "metadata": {
            "needs_background": "light"
          }
        }
      ]
    },
    {
      "cell_type": "markdown",
      "source": [
        "Il est difficile de dire clairement s'il y a une tendance qui se dégage. "
      ],
      "metadata": {
        "id": "EnHgVmiUFHZH"
      },
      "id": "EnHgVmiUFHZH"
    },
    {
      "cell_type": "code",
      "source": [
        "df.groupby('month').mean()['Prix'].plot();"
      ],
      "metadata": {
        "colab": {
          "base_uri": "https://localhost:8080/",
          "height": 279
        },
        "id": "wxXx-S-XFOb3",
        "outputId": "c95ed79d-16e2-4c26-b180-bca95efa6046"
      },
      "id": "wxXx-S-XFOb3",
      "execution_count": 146,
      "outputs": [
        {
          "output_type": "display_data",
          "data": {
            "image/png": "[encoded data removed]",
            "text/plain": [
              "<Figure size 432x288 with 1 Axes>"
            ]
          },
          "metadata": {
            "needs_background": "light"
          }
        }
      ]
    },
    {
      "cell_type": "code",
      "source": [
        "df= non_top_5_perc"
      ],
      "metadata": {
        "id": "gLwFdOdPl5E1"
      },
      "id": "gLwFdOdPl5E1",
      "execution_count": 147,
      "outputs": []
    },
    {
      "cell_type": "code",
      "source": [
        "df=df[df['Prix'] <= 1000]"
      ],
      "metadata": {
        "id": "9VG892OXkqp6"
      },
      "id": "9VG892OXkqp6",
      "execution_count": 149,
      "outputs": []
    },
    {
      "cell_type": "markdown",
      "source": [
        "Il semble y avoir des différences de prix de ventes de billets d'avion entre les mois:\n",
        "\n",
        "• Les prix valent en moyenne environ 260€ alors qu'ils sont à 340€ au mois d'avril\n",
        "\n",
        "• Les prix des billets d'avion baissent drastiquement au mois de septembre."
      ],
      "metadata": {
        "id": "WJTRCCG7HSbc"
      },
      "id": "WJTRCCG7HSbc"
    },
    {
      "cell_type": "markdown",
      "source": [
        "Nous avons extrait de la variable \"Date_aller\" (\"Date_retour\") l'information qui nous intéressait, nous pouvons donc la supprimer."
      ],
      "metadata": {
        "id": "hZJ3PX6FNcke"
      },
      "id": "hZJ3PX6FNcke"
    },
    {
      "cell_type": "code",
      "source": [
        "df = df.drop('Date_aller',axis=1)\n",
        "df= df.drop('Date_retour', axis=1)"
      ],
      "metadata": {
        "id": "EJkMGS5iNWvZ"
      },
      "id": "EJkMGS5iNWvZ",
      "execution_count": 150,
      "outputs": []
    },
    {
      "cell_type": "code",
      "source": [
        "df.dtypes"
      ],
      "metadata": {
        "colab": {
          "base_uri": "https://localhost:8080/"
        },
        "id": "BL9pvAOTb4iE",
        "outputId": "49a3f962-456e-46e0-fa13-e5ef2015d8ac"
      },
      "id": "BL9pvAOTb4iE",
      "execution_count": 151,
      "outputs": [
        {
          "output_type": "execute_result",
          "data": {
            "text/plain": [
              "Compagnie           object\n",
              "Total d'escales      int64\n",
              "Destination         object\n",
              "Distance           float64\n",
              "Prix                 int64\n",
              "Duree de vol       float64\n",
              "month                int64\n",
              "year                 int64\n",
              "dtype: object"
            ]
          },
          "metadata": {},
          "execution_count": 151
        }
      ]
    },
    {
      "cell_type": "code",
      "source": [
        "df= df.drop('Compagnie', axis=1)"
      ],
      "metadata": {
        "id": "g6UECPwEOMk5"
      },
      "id": "g6UECPwEOMk5",
      "execution_count": 152,
      "outputs": []
    },
    {
      "cell_type": "code",
      "source": [
        "#\n",
        "df= df.drop('Destination', axis=1)"
      ],
      "metadata": {
        "id": "r6U9IGM0c82y"
      },
      "id": "r6U9IGM0c82y",
      "execution_count": 153,
      "outputs": []
    },
    {
      "cell_type": "markdown",
      "source": [
        "## Mise à l'échelle et Répartition Entraînement / Test"
      ],
      "metadata": {
        "id": "7TUHyJPHTSdA"
      },
      "id": "7TUHyJPHTSdA"
    },
    {
      "cell_type": "code",
      "source": [
        "X = df.drop('Prix',axis=1)\n",
        "y = df['Prix']"
      ],
      "metadata": {
        "id": "yKL6yc92TRYB"
      },
      "id": "yKL6yc92TRYB",
      "execution_count": 154,
      "outputs": []
    },
    {
      "cell_type": "code",
      "source": [
        "from sklearn.model_selection import train_test_split"
      ],
      "metadata": {
        "id": "0iPJMMQJVY6R"
      },
      "id": "0iPJMMQJVY6R",
      "execution_count": 155,
      "outputs": []
    },
    {
      "cell_type": "code",
      "source": [
        "#Répartition entraînement/test\n",
        "X_train, X_test, y_train, y_test = train_test_split(X,y,test_size=0.3,random_state=101)"
      ],
      "metadata": {
        "id": "7oUoxdxRVeGr"
      },
      "id": "7oUoxdxRVeGr",
      "execution_count": 156,
      "outputs": []
    },
    {
      "cell_type": "markdown",
      "source": [
        "Après avoir fait la répartition de nos données, nous pouvons faire la mise à l'échelle ou scaling. Pour rappel, cette mise à l'échelle est uniquement adaptée à nos données d'entraînement pour éviter toute fuite de données depuis le set de test."
      ],
      "metadata": {
        "id": "ITijVKikWEUL"
      },
      "id": "ITijVKikWEUL"
    },
    {
      "cell_type": "markdown",
      "source": [
        "### Mise à l'échelle (Scaling)"
      ],
      "metadata": {
        "id": "adiscfi0Yh1I"
      },
      "id": "adiscfi0Yh1I"
    },
    {
      "cell_type": "code",
      "source": [
        "from sklearn.preprocessing import MinMaxScaler"
      ],
      "metadata": {
        "id": "yVavrYm0YmO2"
      },
      "id": "yVavrYm0YmO2",
      "execution_count": 157,
      "outputs": []
    },
    {
      "cell_type": "code",
      "source": [
        "# On crée une instance de ce MinMaxScaler\n",
        "scaler = MinMaxScaler()"
      ],
      "metadata": {
        "id": "uAvQBugVYyIt"
      },
      "id": "uAvQBugVYyIt",
      "execution_count": 158,
      "outputs": []
    },
    {
      "cell_type": "code",
      "source": [
        "# On rédefinit notre set d'entraînement à échelle \n",
        "X_train= scaler.fit_transform(X_train) # adapter le set d'entraînement et le transformer en même temps"
      ],
      "metadata": {
        "id": "YFARwUOQZCBx"
      },
      "id": "YFARwUOQZCBx",
      "execution_count": 159,
      "outputs": []
    },
    {
      "cell_type": "code",
      "source": [
        "X_test = scaler.transform(X_test) # On adapte à partir de données de test donc pas de .fit qui ferait fuiter des informations"
      ],
      "metadata": {
        "id": "wUeP-jlrapDX"
      },
      "id": "wUeP-jlrapDX",
      "execution_count": 160,
      "outputs": []
    },
    {
      "cell_type": "code",
      "source": [
        "X_train.shape"
      ],
      "metadata": {
        "colab": {
          "base_uri": "https://localhost:8080/"
        },
        "id": "eYjZF_ukbUdZ",
        "outputId": "36dcb05a-0571-4ee2-baae-7b62fe456987"
      },
      "id": "eYjZF_ukbUdZ",
      "execution_count": 161,
      "outputs": [
        {
          "output_type": "execute_result",
          "data": {
            "text/plain": [
              "(48729, 5)"
            ]
          },
          "metadata": {},
          "execution_count": 161
        }
      ]
    },
    {
      "cell_type": "markdown",
      "source": [
        "On a 5 features d'entrée, ça serait donc une bonne chose d'avoir 5 neurones dans notre couche"
      ],
      "metadata": {
        "id": "aJZG2ezUnqFf"
      },
      "id": "aJZG2ezUnqFf"
    },
    {
      "cell_type": "code",
      "source": [
        "X_test.shape"
      ],
      "metadata": {
        "colab": {
          "base_uri": "https://localhost:8080/"
        },
        "id": "J0dX9a-WbVV-",
        "outputId": "67c98380-a0b1-46f8-dfcd-32195794ba3d"
      },
      "id": "J0dX9a-WbVV-",
      "execution_count": 162,
      "outputs": [
        {
          "output_type": "execute_result",
          "data": {
            "text/plain": [
              "(20885, 5)"
            ]
          },
          "metadata": {},
          "execution_count": 162
        }
      ]
    },
    {
      "cell_type": "markdown",
      "source": [
        "## Création du modèle"
      ],
      "metadata": {
        "id": "BJv09S4xlhV5"
      },
      "id": "BJv09S4xlhV5"
    },
    {
      "cell_type": "code",
      "source": [
        "from tensorflow.keras.models import Sequential   #on importe le modèle séquentiel\n",
        "from tensorflow.keras.layers import Dense, Activation  #on importe la couche dense\n",
        "from tensorflow.keras.optimizers import Adam"
      ],
      "metadata": {
        "id": "ZiXbAiT5ldwg"
      },
      "id": "ZiXbAiT5ldwg",
      "execution_count": 163,
      "outputs": []
    },
    {
      "cell_type": "code",
      "source": [
        "model = Sequential()\n",
        "\n",
        "model.add(Dense(5,activation='relu')) #On copie-colle ce code plusieurs fois pour avoir des couches cachées\n",
        "model.add(Dense(5,activation='relu')) # et obtenir un réseau de neurone de deep learning\n",
        "model.add(Dense(5,activation='relu'))\n",
        "model.add(Dense(5,activation='relu'))\n",
        "\n",
        "\n",
        "model.add(Dense(1)) # Couche final avec un seul neurone\n",
        "\n",
        "model.compile(optimizer='adam',loss='mse') #On utilise l'optimizer adam\n"
      ],
      "metadata": {
        "id": "OUCcFMCsoAOB"
      },
      "id": "OUCcFMCsoAOB",
      "execution_count": 164,
      "outputs": []
    },
    {
      "cell_type": "markdown",
      "source": [
        "## Entraînement du modèle"
      ],
      "metadata": {
        "id": "gF_lxi9LqFBb"
      },
      "id": "gF_lxi9LqFBb"
    },
    {
      "cell_type": "code",
      "source": [
        "model.fit(x=X_train,y=y_train.values,\n",
        "          validation_data=(X_test,y_test.values),\n",
        "          batch_size=128,epochs=400) #On nourrit notre data_set par batch de données d'entraînements\n",
        "                                     # On fixe les epochs à 400\n",
        "                                     #epoch=temps d'entraînement"
      ],
      "metadata": {
        "colab": {
          "base_uri": "https://localhost:8080/"
        },
        "id": "bTOjDlZYqGQ4",
        "outputId": "038cd6c8-e5f5-4e66-9031-2bc91e4350da"
      },
      "id": "bTOjDlZYqGQ4",
      "execution_count": 165,
      "outputs": [
        {
          "output_type": "stream",
          "name": "stdout",
          "text": [
            "Epoch 1/400\n",
            "381/381 [==============================] - 2s 3ms/step - loss: 63819.7617 - val_loss: 56833.2930\n",
            "Epoch 2/400\n",
            "381/381 [==============================] - 1s 3ms/step - loss: 31747.8301 - val_loss: 12032.8516\n",
            "Epoch 3/400\n",
            "381/381 [==============================] - 1s 3ms/step - loss: 11385.5518 - val_loss: 11111.4180\n",
            "Epoch 4/400\n",
            "381/381 [==============================] - 1s 3ms/step - loss: 10837.1455 - val_loss: 10633.1094\n",
            "Epoch 5/400\n",
            "381/381 [==============================] - 1s 3ms/step - loss: 10390.6152 - val_loss: 10238.8301\n",
            "Epoch 6/400\n",
            "381/381 [==============================] - 1s 3ms/step - loss: 10035.4248 - val_loss: 9935.0371\n",
            "Epoch 7/400\n",
            "381/381 [==============================] - 1s 2ms/step - loss: 9779.4248 - val_loss: 9728.3965\n",
            "Epoch 8/400\n",
            "381/381 [==============================] - 1s 3ms/step - loss: 9618.2832 - val_loss: 9618.2432\n",
            "Epoch 9/400\n",
            "381/381 [==============================] - 1s 3ms/step - loss: 9528.3867 - val_loss: 9546.2256\n",
            "Epoch 10/400\n",
            "381/381 [==============================] - 1s 3ms/step - loss: 9483.7070 - val_loss: 9514.8223\n",
            "Epoch 11/400\n",
            "381/381 [==============================] - 1s 3ms/step - loss: 9462.1855 - val_loss: 9499.3135\n",
            "Epoch 12/400\n",
            "381/381 [==============================] - 1s 3ms/step - loss: 9450.2656 - val_loss: 9490.7373\n",
            "Epoch 13/400\n",
            "381/381 [==============================] - 1s 3ms/step - loss: 9443.0508 - val_loss: 9479.5938\n",
            "Epoch 14/400\n",
            "381/381 [==============================] - 1s 3ms/step - loss: 9434.6035 - val_loss: 9473.7031\n",
            "Epoch 15/400\n",
            "381/381 [==============================] - 1s 2ms/step - loss: 9430.7217 - val_loss: 9467.7617\n",
            "Epoch 16/400\n",
            "381/381 [==============================] - 1s 3ms/step - loss: 9421.1768 - val_loss: 9449.5186\n",
            "Epoch 17/400\n",
            "381/381 [==============================] - 1s 3ms/step - loss: 9402.4678 - val_loss: 9434.3672\n",
            "Epoch 18/400\n",
            "381/381 [==============================] - 1s 3ms/step - loss: 9387.4854 - val_loss: 9413.0176\n",
            "Epoch 19/400\n",
            "381/381 [==============================] - 1s 3ms/step - loss: 9369.8525 - val_loss: 9402.1758\n",
            "Epoch 20/400\n",
            "381/381 [==============================] - 1s 3ms/step - loss: 9358.3154 - val_loss: 9385.8926\n",
            "Epoch 21/400\n",
            "381/381 [==============================] - 1s 3ms/step - loss: 9348.4033 - val_loss: 9383.3711\n",
            "Epoch 22/400\n",
            "381/381 [==============================] - 1s 3ms/step - loss: 9337.7568 - val_loss: 9365.4336\n",
            "Epoch 23/400\n",
            "381/381 [==============================] - 2s 5ms/step - loss: 9329.1758 - val_loss: 9356.1094\n",
            "Epoch 24/400\n",
            "381/381 [==============================] - 2s 4ms/step - loss: 9320.4805 - val_loss: 9345.4619\n",
            "Epoch 25/400\n",
            "381/381 [==============================] - 2s 4ms/step - loss: 9314.3008 - val_loss: 9337.4775\n",
            "Epoch 26/400\n",
            "381/381 [==============================] - 3s 8ms/step - loss: 9305.9004 - val_loss: 9341.2568\n",
            "Epoch 27/400\n",
            "381/381 [==============================] - 2s 4ms/step - loss: 9299.4580 - val_loss: 9344.7734\n",
            "Epoch 28/400\n",
            "381/381 [==============================] - 2s 4ms/step - loss: 9292.7910 - val_loss: 9316.6689\n",
            "Epoch 29/400\n",
            "381/381 [==============================] - 2s 4ms/step - loss: 9288.1768 - val_loss: 9313.9932\n",
            "Epoch 30/400\n",
            "381/381 [==============================] - 3s 8ms/step - loss: 9281.4424 - val_loss: 9303.9766\n",
            "Epoch 31/400\n",
            "381/381 [==============================] - 2s 4ms/step - loss: 9276.9971 - val_loss: 9302.0781\n",
            "Epoch 32/400\n",
            "381/381 [==============================] - 2s 4ms/step - loss: 9271.7285 - val_loss: 9302.1523\n",
            "Epoch 33/400\n",
            "381/381 [==============================] - 1s 3ms/step - loss: 9266.9395 - val_loss: 9289.3564\n",
            "Epoch 34/400\n",
            "381/381 [==============================] - 1s 2ms/step - loss: 9263.3467 - val_loss: 9286.4131\n",
            "Epoch 35/400\n",
            "381/381 [==============================] - 1s 3ms/step - loss: 9258.6631 - val_loss: 9285.0391\n",
            "Epoch 36/400\n",
            "381/381 [==============================] - 1s 3ms/step - loss: 9257.7285 - val_loss: 9277.6006\n",
            "Epoch 37/400\n",
            "381/381 [==============================] - 1s 3ms/step - loss: 9254.1396 - val_loss: 9274.4141\n",
            "Epoch 38/400\n",
            "381/381 [==============================] - 1s 3ms/step - loss: 9253.3232 - val_loss: 9271.4912\n",
            "Epoch 39/400\n",
            "381/381 [==============================] - 1s 3ms/step - loss: 9249.6787 - val_loss: 9270.5918\n",
            "Epoch 40/400\n",
            "381/381 [==============================] - 1s 3ms/step - loss: 9246.7168 - val_loss: 9277.0352\n",
            "Epoch 41/400\n",
            "381/381 [==============================] - 1s 3ms/step - loss: 9244.5449 - val_loss: 9270.9619\n",
            "Epoch 42/400\n",
            "381/381 [==============================] - 1s 3ms/step - loss: 9242.2861 - val_loss: 9262.0605\n",
            "Epoch 43/400\n",
            "381/381 [==============================] - 1s 3ms/step - loss: 9242.1504 - val_loss: 9260.6592\n",
            "Epoch 44/400\n",
            "381/381 [==============================] - 1s 3ms/step - loss: 9241.8857 - val_loss: 9260.0918\n",
            "Epoch 45/400\n",
            "381/381 [==============================] - 1s 3ms/step - loss: 9238.8867 - val_loss: 9257.3477\n",
            "Epoch 46/400\n",
            "381/381 [==============================] - 2s 5ms/step - loss: 9238.5000 - val_loss: 9256.2266\n",
            "Epoch 47/400\n",
            "381/381 [==============================] - 2s 6ms/step - loss: 9237.5449 - val_loss: 9258.6953\n",
            "Epoch 48/400\n",
            "381/381 [==============================] - 2s 5ms/step - loss: 9238.6318 - val_loss: 9266.5068\n",
            "Epoch 49/400\n",
            "381/381 [==============================] - 3s 7ms/step - loss: 9236.3848 - val_loss: 9254.1514\n",
            "Epoch 50/400\n",
            "381/381 [==============================] - 2s 5ms/step - loss: 9234.3359 - val_loss: 9253.3633\n",
            "Epoch 51/400\n",
            "381/381 [==============================] - 2s 5ms/step - loss: 9233.2832 - val_loss: 9255.7930\n",
            "Epoch 52/400\n",
            "381/381 [==============================] - 3s 8ms/step - loss: 9232.8652 - val_loss: 9251.4531\n",
            "Epoch 53/400\n",
            "381/381 [==============================] - 2s 5ms/step - loss: 9232.9834 - val_loss: 9251.0547\n",
            "Epoch 54/400\n",
            "381/381 [==============================] - 2s 5ms/step - loss: 9231.6729 - val_loss: 9250.0732\n",
            "Epoch 55/400\n",
            "381/381 [==============================] - 2s 4ms/step - loss: 9232.2383 - val_loss: 9250.2510\n",
            "Epoch 56/400\n",
            "381/381 [==============================] - 1s 3ms/step - loss: 9232.9326 - val_loss: 9249.7324\n",
            "Epoch 57/400\n",
            "381/381 [==============================] - 1s 3ms/step - loss: 9232.1426 - val_loss: 9254.2910\n",
            "Epoch 58/400\n",
            "381/381 [==============================] - 1s 3ms/step - loss: 9233.5479 - val_loss: 9248.7461\n",
            "Epoch 59/400\n",
            "381/381 [==============================] - 1s 3ms/step - loss: 9232.8018 - val_loss: 9248.6875\n",
            "Epoch 60/400\n",
            "381/381 [==============================] - 1s 3ms/step - loss: 9229.7158 - val_loss: 9249.7080\n",
            "Epoch 61/400\n",
            "381/381 [==============================] - 1s 3ms/step - loss: 9228.5771 - val_loss: 9251.0557\n",
            "Epoch 62/400\n",
            "381/381 [==============================] - 1s 3ms/step - loss: 9231.4688 - val_loss: 9249.6338\n",
            "Epoch 63/400\n",
            "381/381 [==============================] - 1s 3ms/step - loss: 9230.8262 - val_loss: 9248.8086\n",
            "Epoch 64/400\n",
            "381/381 [==============================] - 1s 3ms/step - loss: 9229.4385 - val_loss: 9251.7520\n",
            "Epoch 65/400\n",
            "381/381 [==============================] - 1s 3ms/step - loss: 9230.1191 - val_loss: 9248.4150\n",
            "Epoch 66/400\n",
            "381/381 [==============================] - 1s 3ms/step - loss: 9228.5225 - val_loss: 9250.0332\n",
            "Epoch 67/400\n",
            "381/381 [==============================] - 1s 3ms/step - loss: 9230.3916 - val_loss: 9247.2354\n",
            "Epoch 68/400\n",
            "381/381 [==============================] - 2s 6ms/step - loss: 9230.3740 - val_loss: 9247.8086\n",
            "Epoch 69/400\n",
            "381/381 [==============================] - 2s 6ms/step - loss: 9229.9180 - val_loss: 9253.7266\n",
            "Epoch 70/400\n",
            "381/381 [==============================] - 2s 5ms/step - loss: 9229.8682 - val_loss: 9247.0771\n",
            "Epoch 71/400\n",
            "381/381 [==============================] - 3s 7ms/step - loss: 9229.7871 - val_loss: 9267.4697\n",
            "Epoch 72/400\n",
            "381/381 [==============================] - 2s 5ms/step - loss: 9229.6953 - val_loss: 9249.1787\n",
            "Epoch 73/400\n",
            "381/381 [==============================] - 2s 5ms/step - loss: 9231.5479 - val_loss: 9250.5391\n",
            "Epoch 74/400\n",
            "381/381 [==============================] - 3s 8ms/step - loss: 9229.5264 - val_loss: 9247.1699\n",
            "Epoch 75/400\n",
            "381/381 [==============================] - 2s 5ms/step - loss: 9229.6465 - val_loss: 9247.4121\n",
            "Epoch 76/400\n",
            "381/381 [==============================] - 1s 3ms/step - loss: 9228.5596 - val_loss: 9248.7764\n",
            "Epoch 77/400\n",
            "381/381 [==============================] - 1s 3ms/step - loss: 9229.1006 - val_loss: 9257.5303\n",
            "Epoch 78/400\n",
            "381/381 [==============================] - 1s 3ms/step - loss: 9229.1387 - val_loss: 9247.4141\n",
            "Epoch 79/400\n",
            "381/381 [==============================] - 1s 3ms/step - loss: 9229.4756 - val_loss: 9246.7666\n",
            "Epoch 80/400\n",
            "381/381 [==============================] - 1s 3ms/step - loss: 9229.3662 - val_loss: 9248.0303\n",
            "Epoch 81/400\n",
            "381/381 [==============================] - 1s 3ms/step - loss: 9229.3809 - val_loss: 9251.7266\n",
            "Epoch 82/400\n",
            "381/381 [==============================] - 1s 3ms/step - loss: 9230.0986 - val_loss: 9252.5303\n",
            "Epoch 83/400\n",
            "381/381 [==============================] - 1s 3ms/step - loss: 9228.4756 - val_loss: 9246.5781\n",
            "Epoch 84/400\n",
            "381/381 [==============================] - 1s 3ms/step - loss: 9228.6719 - val_loss: 9247.9639\n",
            "Epoch 85/400\n",
            "381/381 [==============================] - 1s 3ms/step - loss: 9228.6377 - val_loss: 9247.7920\n",
            "Epoch 86/400\n",
            "381/381 [==============================] - 1s 3ms/step - loss: 9229.3848 - val_loss: 9248.4443\n",
            "Epoch 87/400\n",
            "381/381 [==============================] - 1s 3ms/step - loss: 9227.4346 - val_loss: 9247.3525\n",
            "Epoch 88/400\n",
            "381/381 [==============================] - 1s 3ms/step - loss: 9228.6064 - val_loss: 9248.3799\n",
            "Epoch 89/400\n",
            "381/381 [==============================] - 1s 4ms/step - loss: 9228.3369 - val_loss: 9247.2041\n",
            "Epoch 90/400\n",
            "381/381 [==============================] - 3s 7ms/step - loss: 9227.3418 - val_loss: 9252.4023\n",
            "Epoch 91/400\n",
            "381/381 [==============================] - 2s 6ms/step - loss: 9230.6748 - val_loss: 9247.5928\n",
            "Epoch 92/400\n",
            "381/381 [==============================] - 3s 8ms/step - loss: 9228.7939 - val_loss: 9246.2275\n",
            "Epoch 93/400\n",
            "381/381 [==============================] - 2s 5ms/step - loss: 9228.5234 - val_loss: 9249.5293\n",
            "Epoch 94/400\n",
            "381/381 [==============================] - 2s 6ms/step - loss: 9229.1680 - val_loss: 9263.6250\n",
            "Epoch 95/400\n",
            "381/381 [==============================] - 2s 6ms/step - loss: 9229.6943 - val_loss: 9251.1514\n",
            "Epoch 96/400\n",
            "381/381 [==============================] - 3s 7ms/step - loss: 9229.0225 - val_loss: 9247.2373\n",
            "Epoch 97/400\n",
            "381/381 [==============================] - 2s 5ms/step - loss: 9228.0947 - val_loss: 9263.7197\n",
            "Epoch 98/400\n",
            "381/381 [==============================] - 1s 3ms/step - loss: 9230.3262 - val_loss: 9251.6318\n",
            "Epoch 99/400\n",
            "381/381 [==============================] - 1s 3ms/step - loss: 9228.0508 - val_loss: 9246.9414\n",
            "Epoch 100/400\n",
            "381/381 [==============================] - 1s 3ms/step - loss: 9228.0137 - val_loss: 9267.7236\n",
            "Epoch 101/400\n",
            "381/381 [==============================] - 1s 3ms/step - loss: 9226.1299 - val_loss: 9246.4980\n",
            "Epoch 102/400\n",
            "381/381 [==============================] - 1s 3ms/step - loss: 9228.2812 - val_loss: 9247.6113\n",
            "Epoch 103/400\n",
            "381/381 [==============================] - 1s 3ms/step - loss: 9228.4492 - val_loss: 9251.1670\n",
            "Epoch 104/400\n",
            "381/381 [==============================] - 1s 3ms/step - loss: 9228.3115 - val_loss: 9246.0889\n",
            "Epoch 105/400\n",
            "381/381 [==============================] - 1s 3ms/step - loss: 9229.5693 - val_loss: 9246.2891\n",
            "Epoch 106/400\n",
            "381/381 [==============================] - 1s 3ms/step - loss: 9228.6016 - val_loss: 9251.6855\n",
            "Epoch 107/400\n",
            "381/381 [==============================] - 1s 3ms/step - loss: 9229.2012 - val_loss: 9249.9854\n",
            "Epoch 108/400\n",
            "381/381 [==============================] - 1s 3ms/step - loss: 9229.2451 - val_loss: 9247.8682\n",
            "Epoch 109/400\n",
            "381/381 [==============================] - 1s 3ms/step - loss: 9229.6777 - val_loss: 9248.2080\n",
            "Epoch 110/400\n",
            "381/381 [==============================] - 1s 4ms/step - loss: 9228.4873 - val_loss: 9249.4727\n",
            "Epoch 111/400\n",
            "381/381 [==============================] - 3s 7ms/step - loss: 9228.5684 - val_loss: 9245.6279\n",
            "Epoch 112/400\n",
            "381/381 [==============================] - 2s 6ms/step - loss: 9229.2236 - val_loss: 9249.6777\n",
            "Epoch 113/400\n",
            "381/381 [==============================] - 3s 7ms/step - loss: 9230.3857 - val_loss: 9250.1104\n",
            "Epoch 114/400\n",
            "381/381 [==============================] - 2s 5ms/step - loss: 9230.1416 - val_loss: 9246.2822\n",
            "Epoch 115/400\n",
            "381/381 [==============================] - 2s 4ms/step - loss: 9228.7676 - val_loss: 9250.9316\n",
            "Epoch 116/400\n",
            "381/381 [==============================] - 2s 5ms/step - loss: 9228.8936 - val_loss: 9247.8135\n",
            "Epoch 117/400\n",
            "381/381 [==============================] - 2s 5ms/step - loss: 9230.0117 - val_loss: 9249.6143\n",
            "Epoch 118/400\n",
            "381/381 [==============================] - 3s 8ms/step - loss: 9227.7197 - val_loss: 9253.0762\n",
            "Epoch 119/400\n",
            "381/381 [==============================] - 2s 5ms/step - loss: 9228.4531 - val_loss: 9246.3965\n",
            "Epoch 120/400\n",
            "381/381 [==============================] - 1s 3ms/step - loss: 9230.6592 - val_loss: 9246.3672\n",
            "Epoch 121/400\n",
            "381/381 [==============================] - 1s 3ms/step - loss: 9230.3184 - val_loss: 9250.6895\n",
            "Epoch 122/400\n",
            "381/381 [==============================] - 1s 3ms/step - loss: 9231.2041 - val_loss: 9263.0557\n",
            "Epoch 123/400\n",
            "381/381 [==============================] - 1s 3ms/step - loss: 9229.3818 - val_loss: 9246.7510\n",
            "Epoch 124/400\n",
            "381/381 [==============================] - 1s 3ms/step - loss: 9227.3145 - val_loss: 9250.5068\n",
            "Epoch 125/400\n",
            "381/381 [==============================] - 1s 3ms/step - loss: 9227.6963 - val_loss: 9250.4512\n",
            "Epoch 126/400\n",
            "381/381 [==============================] - 1s 3ms/step - loss: 9229.5566 - val_loss: 9246.9941\n",
            "Epoch 127/400\n",
            "381/381 [==============================] - 1s 3ms/step - loss: 9228.0811 - val_loss: 9253.9287\n",
            "Epoch 128/400\n",
            "381/381 [==============================] - 1s 3ms/step - loss: 9229.4619 - val_loss: 9245.7861\n",
            "Epoch 129/400\n",
            "381/381 [==============================] - 1s 3ms/step - loss: 9227.5596 - val_loss: 9251.0859\n",
            "Epoch 130/400\n",
            "381/381 [==============================] - 1s 3ms/step - loss: 9229.1592 - val_loss: 9246.3701\n",
            "Epoch 131/400\n",
            "381/381 [==============================] - 1s 2ms/step - loss: 9229.2949 - val_loss: 9254.5068\n",
            "Epoch 132/400\n",
            "381/381 [==============================] - 1s 4ms/step - loss: 9228.5674 - val_loss: 9251.6582\n",
            "Epoch 133/400\n",
            "381/381 [==============================] - 2s 4ms/step - loss: 9230.3018 - val_loss: 9246.8193\n",
            "Epoch 134/400\n",
            "381/381 [==============================] - 2s 5ms/step - loss: 9226.8096 - val_loss: 9255.8037\n",
            "Epoch 135/400\n",
            "381/381 [==============================] - 2s 6ms/step - loss: 9228.9287 - val_loss: 9247.0693\n",
            "Epoch 136/400\n",
            "381/381 [==============================] - 2s 4ms/step - loss: 9228.7705 - val_loss: 9246.9902\n",
            "Epoch 137/400\n",
            "381/381 [==============================] - 3s 8ms/step - loss: 9226.1123 - val_loss: 9252.4912\n",
            "Epoch 138/400\n",
            "381/381 [==============================] - 2s 5ms/step - loss: 9227.0996 - val_loss: 9247.3623\n",
            "Epoch 139/400\n",
            "381/381 [==============================] - 2s 5ms/step - loss: 9227.6689 - val_loss: 9245.7676\n",
            "Epoch 140/400\n",
            "381/381 [==============================] - 2s 6ms/step - loss: 9229.1426 - val_loss: 9245.9834\n",
            "Epoch 141/400\n",
            "381/381 [==============================] - 4s 9ms/step - loss: 9230.2002 - val_loss: 9245.9014\n",
            "Epoch 142/400\n",
            "381/381 [==============================] - 1s 3ms/step - loss: 9227.1699 - val_loss: 9245.6201\n",
            "Epoch 143/400\n",
            "381/381 [==============================] - 1s 3ms/step - loss: 9228.1006 - val_loss: 9248.6006\n",
            "Epoch 144/400\n",
            "381/381 [==============================] - 1s 2ms/step - loss: 9229.2910 - val_loss: 9245.5420\n",
            "Epoch 145/400\n",
            "381/381 [==============================] - 1s 2ms/step - loss: 9228.3662 - val_loss: 9245.8457\n",
            "Epoch 146/400\n",
            "381/381 [==============================] - 1s 3ms/step - loss: 9227.8145 - val_loss: 9252.0508\n",
            "Epoch 147/400\n",
            "381/381 [==============================] - 1s 3ms/step - loss: 9229.2842 - val_loss: 9245.8418\n",
            "Epoch 148/400\n",
            "381/381 [==============================] - 1s 3ms/step - loss: 9225.6523 - val_loss: 9245.5830\n",
            "Epoch 149/400\n",
            "381/381 [==============================] - 1s 3ms/step - loss: 9229.8564 - val_loss: 9253.9912\n",
            "Epoch 150/400\n",
            "381/381 [==============================] - 1s 3ms/step - loss: 9226.7773 - val_loss: 9265.9434\n",
            "Epoch 151/400\n",
            "381/381 [==============================] - 1s 3ms/step - loss: 9230.5078 - val_loss: 9247.3623\n",
            "Epoch 152/400\n",
            "381/381 [==============================] - 1s 3ms/step - loss: 9226.4844 - val_loss: 9259.1543\n",
            "Epoch 153/400\n",
            "381/381 [==============================] - 2s 4ms/step - loss: 9227.9697 - val_loss: 9246.6602\n",
            "Epoch 154/400\n",
            "381/381 [==============================] - 2s 5ms/step - loss: 9229.6865 - val_loss: 9245.6143\n",
            "Epoch 155/400\n",
            "381/381 [==============================] - 2s 4ms/step - loss: 9228.7803 - val_loss: 9249.7852\n",
            "Epoch 156/400\n",
            "381/381 [==============================] - 2s 4ms/step - loss: 9225.4521 - val_loss: 9250.6846\n",
            "Epoch 157/400\n",
            "381/381 [==============================] - 3s 7ms/step - loss: 9228.8604 - val_loss: 9251.1191\n",
            "Epoch 158/400\n",
            "381/381 [==============================] - 2s 4ms/step - loss: 9227.5029 - val_loss: 9246.5449\n",
            "Epoch 159/400\n",
            "381/381 [==============================] - 2s 4ms/step - loss: 9228.0459 - val_loss: 9248.3467\n",
            "Epoch 160/400\n",
            "381/381 [==============================] - 2s 4ms/step - loss: 9226.4180 - val_loss: 9247.4863\n",
            "Epoch 161/400\n",
            "381/381 [==============================] - 2s 6ms/step - loss: 9229.2520 - val_loss: 9253.2471\n",
            "Epoch 162/400\n",
            "381/381 [==============================] - 3s 8ms/step - loss: 9228.1807 - val_loss: 9247.5664\n",
            "Epoch 163/400\n",
            "381/381 [==============================] - 2s 4ms/step - loss: 9228.4209 - val_loss: 9246.2295\n",
            "Epoch 164/400\n",
            "381/381 [==============================] - 1s 3ms/step - loss: 9229.6602 - val_loss: 9248.6094\n",
            "Epoch 165/400\n",
            "381/381 [==============================] - 1s 3ms/step - loss: 9229.4492 - val_loss: 9246.6484\n",
            "Epoch 166/400\n",
            "381/381 [==============================] - 1s 3ms/step - loss: 9229.9541 - val_loss: 9247.2559\n",
            "Epoch 167/400\n",
            "381/381 [==============================] - 1s 3ms/step - loss: 9228.1826 - val_loss: 9246.5332\n",
            "Epoch 168/400\n",
            "381/381 [==============================] - 1s 3ms/step - loss: 9228.7441 - val_loss: 9257.0859\n",
            "Epoch 169/400\n",
            "381/381 [==============================] - 1s 3ms/step - loss: 9228.8809 - val_loss: 9245.6973\n",
            "Epoch 170/400\n",
            "381/381 [==============================] - 1s 3ms/step - loss: 9225.6553 - val_loss: 9270.7559\n",
            "Epoch 171/400\n",
            "381/381 [==============================] - 1s 3ms/step - loss: 9229.1494 - val_loss: 9245.6953\n",
            "Epoch 172/400\n",
            "381/381 [==============================] - 1s 3ms/step - loss: 9229.0205 - val_loss: 9245.6270\n",
            "Epoch 173/400\n",
            "381/381 [==============================] - 1s 3ms/step - loss: 9229.6982 - val_loss: 9246.7363\n",
            "Epoch 174/400\n",
            "381/381 [==============================] - 1s 3ms/step - loss: 9229.4453 - val_loss: 9244.9570\n",
            "Epoch 175/400\n",
            "381/381 [==============================] - 2s 5ms/step - loss: 9227.2783 - val_loss: 9252.1318\n",
            "Epoch 176/400\n",
            "381/381 [==============================] - 2s 5ms/step - loss: 9227.8789 - val_loss: 9253.0137\n",
            "Epoch 177/400\n",
            "381/381 [==============================] - 3s 7ms/step - loss: 9227.4873 - val_loss: 9262.2354\n",
            "Epoch 178/400\n",
            "381/381 [==============================] - 2s 4ms/step - loss: 9228.5986 - val_loss: 9245.6484\n",
            "Epoch 179/400\n",
            "381/381 [==============================] - 2s 4ms/step - loss: 9228.7324 - val_loss: 9257.1416\n",
            "Epoch 180/400\n",
            "381/381 [==============================] - 2s 5ms/step - loss: 9225.6855 - val_loss: 9247.2627\n",
            "Epoch 181/400\n",
            "381/381 [==============================] - 3s 8ms/step - loss: 9226.0518 - val_loss: 9247.6592\n",
            "Epoch 182/400\n",
            "381/381 [==============================] - 2s 5ms/step - loss: 9225.5967 - val_loss: 9246.6650\n",
            "Epoch 183/400\n",
            "381/381 [==============================] - 2s 5ms/step - loss: 9226.6348 - val_loss: 9246.6201\n",
            "Epoch 184/400\n",
            "381/381 [==============================] - 2s 4ms/step - loss: 9228.2305 - val_loss: 9252.0312\n",
            "Epoch 185/400\n",
            "381/381 [==============================] - 1s 3ms/step - loss: 9227.4961 - val_loss: 9247.1377\n",
            "Epoch 186/400\n",
            "381/381 [==============================] - 1s 3ms/step - loss: 9229.9727 - val_loss: 9254.0479\n",
            "Epoch 187/400\n",
            "381/381 [==============================] - 1s 3ms/step - loss: 9228.5234 - val_loss: 9246.8447\n",
            "Epoch 188/400\n",
            "381/381 [==============================] - 1s 3ms/step - loss: 9228.8105 - val_loss: 9244.9697\n",
            "Epoch 189/400\n",
            "381/381 [==============================] - 1s 3ms/step - loss: 9228.0840 - val_loss: 9253.2148\n",
            "Epoch 190/400\n",
            "381/381 [==============================] - 1s 3ms/step - loss: 9228.0342 - val_loss: 9245.9932\n",
            "Epoch 191/400\n",
            "381/381 [==============================] - 1s 3ms/step - loss: 9229.3291 - val_loss: 9247.3281\n",
            "Epoch 192/400\n",
            "381/381 [==============================] - 1s 3ms/step - loss: 9226.7852 - val_loss: 9246.7090\n",
            "Epoch 193/400\n",
            "381/381 [==============================] - 1s 3ms/step - loss: 9228.2510 - val_loss: 9247.1113\n",
            "Epoch 194/400\n",
            "381/381 [==============================] - 1s 2ms/step - loss: 9229.3184 - val_loss: 9245.5684\n",
            "Epoch 195/400\n",
            "381/381 [==============================] - 1s 3ms/step - loss: 9230.1211 - val_loss: 9246.2129\n",
            "Epoch 196/400\n",
            "381/381 [==============================] - 1s 3ms/step - loss: 9230.0850 - val_loss: 9249.9609\n",
            "Epoch 197/400\n",
            "381/381 [==============================] - 3s 7ms/step - loss: 9226.6895 - val_loss: 9250.8809\n",
            "Epoch 198/400\n",
            "381/381 [==============================] - 2s 5ms/step - loss: 9228.3291 - val_loss: 9249.8682\n",
            "Epoch 199/400\n",
            "381/381 [==============================] - 2s 6ms/step - loss: 9226.3848 - val_loss: 9247.2334\n",
            "Epoch 200/400\n",
            "381/381 [==============================] - 2s 5ms/step - loss: 9228.3867 - val_loss: 9246.1680\n",
            "Epoch 201/400\n",
            "381/381 [==============================] - 1s 3ms/step - loss: 9227.7012 - val_loss: 9247.5186\n",
            "Epoch 202/400\n",
            "381/381 [==============================] - 1s 2ms/step - loss: 9227.5566 - val_loss: 9245.1338\n",
            "Epoch 203/400\n",
            "381/381 [==============================] - 1s 2ms/step - loss: 9228.4023 - val_loss: 9245.7637\n",
            "Epoch 204/400\n",
            "381/381 [==============================] - 1s 2ms/step - loss: 9229.4961 - val_loss: 9244.7852\n",
            "Epoch 205/400\n",
            "381/381 [==============================] - 1s 3ms/step - loss: 9227.3516 - val_loss: 9251.0508\n",
            "Epoch 206/400\n",
            "381/381 [==============================] - 1s 3ms/step - loss: 9227.4961 - val_loss: 9245.9834\n",
            "Epoch 207/400\n",
            "381/381 [==============================] - 1s 3ms/step - loss: 9226.4395 - val_loss: 9250.0566\n",
            "Epoch 208/400\n",
            "381/381 [==============================] - 1s 3ms/step - loss: 9228.2598 - val_loss: 9246.2051\n",
            "Epoch 209/400\n",
            "381/381 [==============================] - 1s 3ms/step - loss: 9228.0977 - val_loss: 9245.4092\n",
            "Epoch 210/400\n",
            "381/381 [==============================] - 1s 2ms/step - loss: 9227.9160 - val_loss: 9253.2412\n",
            "Epoch 211/400\n",
            "381/381 [==============================] - 1s 2ms/step - loss: 9226.4473 - val_loss: 9245.4521\n",
            "Epoch 212/400\n",
            "381/381 [==============================] - 1s 3ms/step - loss: 9229.4375 - val_loss: 9250.3604\n",
            "Epoch 213/400\n",
            "381/381 [==============================] - 1s 3ms/step - loss: 9228.7432 - val_loss: 9246.7158\n",
            "Epoch 214/400\n",
            "381/381 [==============================] - 1s 2ms/step - loss: 9228.4639 - val_loss: 9245.2578\n",
            "Epoch 215/400\n",
            "381/381 [==============================] - 1s 3ms/step - loss: 9230.8066 - val_loss: 9248.7900\n",
            "Epoch 216/400\n",
            "381/381 [==============================] - 1s 2ms/step - loss: 9227.6016 - val_loss: 9258.6895\n",
            "Epoch 217/400\n",
            "381/381 [==============================] - 1s 3ms/step - loss: 9226.6445 - val_loss: 9248.4766\n",
            "Epoch 218/400\n",
            "381/381 [==============================] - 1s 3ms/step - loss: 9229.0762 - val_loss: 9251.3750\n",
            "Epoch 219/400\n",
            "381/381 [==============================] - 1s 3ms/step - loss: 9227.5850 - val_loss: 9246.7783\n",
            "Epoch 220/400\n",
            "381/381 [==============================] - 1s 2ms/step - loss: 9228.3721 - val_loss: 9252.6934\n",
            "Epoch 221/400\n",
            "381/381 [==============================] - 1s 2ms/step - loss: 9227.6885 - val_loss: 9253.1133\n",
            "Epoch 222/400\n",
            "381/381 [==============================] - 1s 3ms/step - loss: 9226.1973 - val_loss: 9246.3438\n",
            "Epoch 223/400\n",
            "381/381 [==============================] - 1s 3ms/step - loss: 9228.1172 - val_loss: 9245.8428\n",
            "Epoch 224/400\n",
            "381/381 [==============================] - 1s 3ms/step - loss: 9228.5137 - val_loss: 9246.5303\n",
            "Epoch 225/400\n",
            "381/381 [==============================] - 1s 3ms/step - loss: 9227.5537 - val_loss: 9245.3877\n",
            "Epoch 226/400\n",
            "381/381 [==============================] - 1s 3ms/step - loss: 9226.9736 - val_loss: 9247.1895\n",
            "Epoch 227/400\n",
            "381/381 [==============================] - 1s 3ms/step - loss: 9226.2217 - val_loss: 9247.1152\n",
            "Epoch 228/400\n",
            "381/381 [==============================] - 1s 3ms/step - loss: 9227.3984 - val_loss: 9246.9766\n",
            "Epoch 229/400\n",
            "381/381 [==============================] - 1s 3ms/step - loss: 9228.0586 - val_loss: 9244.6855\n",
            "Epoch 230/400\n",
            "381/381 [==============================] - 1s 3ms/step - loss: 9226.7705 - val_loss: 9246.1328\n",
            "Epoch 231/400\n",
            "381/381 [==============================] - 1s 3ms/step - loss: 9226.3486 - val_loss: 9250.6592\n",
            "Epoch 232/400\n",
            "381/381 [==============================] - 1s 3ms/step - loss: 9228.2500 - val_loss: 9261.3389\n",
            "Epoch 233/400\n",
            "381/381 [==============================] - 1s 3ms/step - loss: 9228.8555 - val_loss: 9247.5322\n",
            "Epoch 234/400\n",
            "381/381 [==============================] - 1s 3ms/step - loss: 9226.9473 - val_loss: 9244.8418\n",
            "Epoch 235/400\n",
            "381/381 [==============================] - 1s 2ms/step - loss: 9228.4355 - val_loss: 9245.8975\n",
            "Epoch 236/400\n",
            "381/381 [==============================] - 1s 2ms/step - loss: 9226.7490 - val_loss: 9255.3516\n",
            "Epoch 237/400\n",
            "381/381 [==============================] - 1s 3ms/step - loss: 9230.1875 - val_loss: 9244.8574\n",
            "Epoch 238/400\n",
            "381/381 [==============================] - 1s 2ms/step - loss: 9226.1709 - val_loss: 9247.0430\n",
            "Epoch 239/400\n",
            "381/381 [==============================] - 1s 3ms/step - loss: 9228.0430 - val_loss: 9246.0117\n",
            "Epoch 240/400\n",
            "381/381 [==============================] - 1s 3ms/step - loss: 9227.6504 - val_loss: 9244.4141\n",
            "Epoch 241/400\n",
            "381/381 [==============================] - 1s 3ms/step - loss: 9228.2822 - val_loss: 9255.9209\n",
            "Epoch 242/400\n",
            "381/381 [==============================] - 1s 3ms/step - loss: 9226.3896 - val_loss: 9247.4209\n",
            "Epoch 243/400\n",
            "381/381 [==============================] - 1s 3ms/step - loss: 9227.0166 - val_loss: 9246.1182\n",
            "Epoch 244/400\n",
            "381/381 [==============================] - 1s 2ms/step - loss: 9227.7988 - val_loss: 9247.9199\n",
            "Epoch 245/400\n",
            "381/381 [==============================] - 1s 2ms/step - loss: 9227.7266 - val_loss: 9245.5850\n",
            "Epoch 246/400\n",
            "381/381 [==============================] - 1s 3ms/step - loss: 9228.2607 - val_loss: 9246.2500\n",
            "Epoch 247/400\n",
            "381/381 [==============================] - 1s 3ms/step - loss: 9226.9307 - val_loss: 9263.2480\n",
            "Epoch 248/400\n",
            "381/381 [==============================] - 1s 3ms/step - loss: 9225.3457 - val_loss: 9244.9189\n",
            "Epoch 249/400\n",
            "381/381 [==============================] - 1s 3ms/step - loss: 9226.8799 - val_loss: 9244.7422\n",
            "Epoch 250/400\n",
            "381/381 [==============================] - 1s 2ms/step - loss: 9225.8408 - val_loss: 9244.6299\n",
            "Epoch 251/400\n",
            "381/381 [==============================] - 1s 2ms/step - loss: 9228.4336 - val_loss: 9244.6973\n",
            "Epoch 252/400\n",
            "381/381 [==============================] - 1s 3ms/step - loss: 9227.1162 - val_loss: 9244.9727\n",
            "Epoch 253/400\n",
            "381/381 [==============================] - 1s 2ms/step - loss: 9228.3330 - val_loss: 9245.2031\n",
            "Epoch 254/400\n",
            "381/381 [==============================] - 1s 2ms/step - loss: 9228.1768 - val_loss: 9245.0430\n",
            "Epoch 255/400\n",
            "381/381 [==============================] - 1s 2ms/step - loss: 9227.1240 - val_loss: 9244.4756\n",
            "Epoch 256/400\n",
            "381/381 [==============================] - 1s 3ms/step - loss: 9226.0020 - val_loss: 9244.7725\n",
            "Epoch 257/400\n",
            "381/381 [==============================] - 1s 3ms/step - loss: 9226.9619 - val_loss: 9244.3438\n",
            "Epoch 258/400\n",
            "381/381 [==============================] - 1s 3ms/step - loss: 9228.2227 - val_loss: 9249.9492\n",
            "Epoch 259/400\n",
            "381/381 [==============================] - 1s 3ms/step - loss: 9228.6973 - val_loss: 9245.0049\n",
            "Epoch 260/400\n",
            "381/381 [==============================] - 1s 2ms/step - loss: 9228.8701 - val_loss: 9254.0049\n",
            "Epoch 261/400\n",
            "381/381 [==============================] - 1s 2ms/step - loss: 9225.6924 - val_loss: 9265.9268\n",
            "Epoch 262/400\n",
            "381/381 [==============================] - 1s 2ms/step - loss: 9228.2471 - val_loss: 9245.9580\n",
            "Epoch 263/400\n",
            "381/381 [==============================] - 1s 2ms/step - loss: 9227.8154 - val_loss: 9245.6377\n",
            "Epoch 264/400\n",
            "381/381 [==============================] - 1s 3ms/step - loss: 9226.4971 - val_loss: 9250.6113\n",
            "Epoch 265/400\n",
            "381/381 [==============================] - 1s 3ms/step - loss: 9227.7227 - val_loss: 9245.6162\n",
            "Epoch 266/400\n",
            "381/381 [==============================] - 1s 3ms/step - loss: 9228.5439 - val_loss: 9254.1191\n",
            "Epoch 267/400\n",
            "381/381 [==============================] - 1s 2ms/step - loss: 9227.8779 - val_loss: 9248.4395\n",
            "Epoch 268/400\n",
            "381/381 [==============================] - 1s 2ms/step - loss: 9227.6885 - val_loss: 9249.4268\n",
            "Epoch 269/400\n",
            "381/381 [==============================] - 1s 3ms/step - loss: 9230.5928 - val_loss: 9249.6768\n",
            "Epoch 270/400\n",
            "381/381 [==============================] - 1s 2ms/step - loss: 9228.2393 - val_loss: 9245.8018\n",
            "Epoch 271/400\n",
            "381/381 [==============================] - 1s 3ms/step - loss: 9230.4209 - val_loss: 9245.1221\n",
            "Epoch 272/400\n",
            "381/381 [==============================] - 1s 2ms/step - loss: 9226.2471 - val_loss: 9244.9941\n",
            "Epoch 273/400\n",
            "381/381 [==============================] - 1s 3ms/step - loss: 9226.5127 - val_loss: 9245.7617\n",
            "Epoch 274/400\n",
            "381/381 [==============================] - 1s 2ms/step - loss: 9226.0820 - val_loss: 9244.4932\n",
            "Epoch 275/400\n",
            "381/381 [==============================] - 1s 3ms/step - loss: 9226.6006 - val_loss: 9247.9883\n",
            "Epoch 276/400\n",
            "381/381 [==============================] - 1s 2ms/step - loss: 9226.6455 - val_loss: 9244.4531\n",
            "Epoch 277/400\n",
            "381/381 [==============================] - 1s 2ms/step - loss: 9226.4951 - val_loss: 9247.8418\n",
            "Epoch 278/400\n",
            "381/381 [==============================] - 1s 3ms/step - loss: 9228.1318 - val_loss: 9253.5977\n",
            "Epoch 279/400\n",
            "381/381 [==============================] - 1s 3ms/step - loss: 9227.9277 - val_loss: 9247.7373\n",
            "Epoch 280/400\n",
            "381/381 [==============================] - 1s 3ms/step - loss: 9228.5254 - val_loss: 9251.5801\n",
            "Epoch 281/400\n",
            "381/381 [==============================] - 1s 2ms/step - loss: 9226.0400 - val_loss: 9244.0801\n",
            "Epoch 282/400\n",
            "381/381 [==============================] - 1s 3ms/step - loss: 9228.5352 - val_loss: 9256.3604\n",
            "Epoch 283/400\n",
            "381/381 [==============================] - 1s 3ms/step - loss: 9227.6426 - val_loss: 9267.3037\n",
            "Epoch 284/400\n",
            "381/381 [==============================] - 1s 2ms/step - loss: 9225.6670 - val_loss: 9247.4697\n",
            "Epoch 285/400\n",
            "381/381 [==============================] - 1s 3ms/step - loss: 9227.5752 - val_loss: 9245.8125\n",
            "Epoch 286/400\n",
            "381/381 [==============================] - 1s 2ms/step - loss: 9226.9131 - val_loss: 9249.1143\n",
            "Epoch 287/400\n",
            "381/381 [==============================] - 1s 3ms/step - loss: 9225.9814 - val_loss: 9247.3047\n",
            "Epoch 288/400\n",
            "381/381 [==============================] - 1s 3ms/step - loss: 9228.7666 - val_loss: 9246.3311\n",
            "Epoch 289/400\n",
            "381/381 [==============================] - 1s 3ms/step - loss: 9227.5049 - val_loss: 9245.0977\n",
            "Epoch 290/400\n",
            "381/381 [==============================] - 1s 3ms/step - loss: 9227.6748 - val_loss: 9245.0596\n",
            "Epoch 291/400\n",
            "381/381 [==============================] - 1s 3ms/step - loss: 9226.9199 - val_loss: 9246.4658\n",
            "Epoch 292/400\n",
            "381/381 [==============================] - 1s 3ms/step - loss: 9228.0068 - val_loss: 9253.4658\n",
            "Epoch 293/400\n",
            "381/381 [==============================] - 1s 3ms/step - loss: 9227.1865 - val_loss: 9249.3486\n",
            "Epoch 294/400\n",
            "381/381 [==============================] - 1s 3ms/step - loss: 9226.3506 - val_loss: 9249.3398\n",
            "Epoch 295/400\n",
            "381/381 [==============================] - 1s 3ms/step - loss: 9226.5947 - val_loss: 9243.6973\n",
            "Epoch 296/400\n",
            "381/381 [==============================] - 1s 3ms/step - loss: 9227.6172 - val_loss: 9244.8594\n",
            "Epoch 297/400\n",
            "381/381 [==============================] - 1s 2ms/step - loss: 9226.6738 - val_loss: 9249.0146\n",
            "Epoch 298/400\n",
            "381/381 [==============================] - 1s 3ms/step - loss: 9227.2627 - val_loss: 9247.7451\n",
            "Epoch 299/400\n",
            "381/381 [==============================] - 1s 3ms/step - loss: 9227.3008 - val_loss: 9244.4873\n",
            "Epoch 300/400\n",
            "381/381 [==============================] - 1s 3ms/step - loss: 9226.6729 - val_loss: 9248.7070\n",
            "Epoch 301/400\n",
            "381/381 [==============================] - 1s 3ms/step - loss: 9226.4199 - val_loss: 9249.1953\n",
            "Epoch 302/400\n",
            "381/381 [==============================] - 1s 2ms/step - loss: 9228.3311 - val_loss: 9246.6885\n",
            "Epoch 303/400\n",
            "381/381 [==============================] - 1s 3ms/step - loss: 9228.7393 - val_loss: 9245.7500\n",
            "Epoch 304/400\n",
            "381/381 [==============================] - 1s 2ms/step - loss: 9225.9385 - val_loss: 9248.9043\n",
            "Epoch 305/400\n",
            "381/381 [==============================] - 1s 3ms/step - loss: 9228.4570 - val_loss: 9251.9873\n",
            "Epoch 306/400\n",
            "381/381 [==============================] - 1s 2ms/step - loss: 9226.7988 - val_loss: 9245.1016\n",
            "Epoch 307/400\n",
            "381/381 [==============================] - 1s 2ms/step - loss: 9228.3271 - val_loss: 9245.9336\n",
            "Epoch 308/400\n",
            "381/381 [==============================] - 1s 3ms/step - loss: 9228.6602 - val_loss: 9259.1240\n",
            "Epoch 309/400\n",
            "381/381 [==============================] - 1s 2ms/step - loss: 9227.7461 - val_loss: 9243.9258\n",
            "Epoch 310/400\n",
            "381/381 [==============================] - 1s 2ms/step - loss: 9225.2998 - val_loss: 9249.8691\n",
            "Epoch 311/400\n",
            "381/381 [==============================] - 1s 2ms/step - loss: 9225.2373 - val_loss: 9244.0430\n",
            "Epoch 312/400\n",
            "381/381 [==============================] - 1s 2ms/step - loss: 9227.6094 - val_loss: 9244.0137\n",
            "Epoch 313/400\n",
            "381/381 [==============================] - 1s 3ms/step - loss: 9225.7539 - val_loss: 9251.4326\n",
            "Epoch 314/400\n",
            "381/381 [==============================] - 1s 2ms/step - loss: 9227.1719 - val_loss: 9245.0830\n",
            "Epoch 315/400\n",
            "381/381 [==============================] - 1s 3ms/step - loss: 9226.5381 - val_loss: 9243.9873\n",
            "Epoch 316/400\n",
            "381/381 [==============================] - 1s 3ms/step - loss: 9225.2549 - val_loss: 9245.4395\n",
            "Epoch 317/400\n",
            "381/381 [==============================] - 1s 3ms/step - loss: 9226.8936 - val_loss: 9249.2139\n",
            "Epoch 318/400\n",
            "381/381 [==============================] - 1s 3ms/step - loss: 9225.8486 - val_loss: 9244.0068\n",
            "Epoch 319/400\n",
            "381/381 [==============================] - 1s 3ms/step - loss: 9226.9053 - val_loss: 9248.4600\n",
            "Epoch 320/400\n",
            "381/381 [==============================] - 1s 3ms/step - loss: 9226.6523 - val_loss: 9244.7871\n",
            "Epoch 321/400\n",
            "381/381 [==============================] - 1s 3ms/step - loss: 9227.3584 - val_loss: 9250.8516\n",
            "Epoch 322/400\n",
            "381/381 [==============================] - 1s 3ms/step - loss: 9225.8789 - val_loss: 9245.5977\n",
            "Epoch 323/400\n",
            "381/381 [==============================] - 1s 3ms/step - loss: 9226.4277 - val_loss: 9244.6748\n",
            "Epoch 324/400\n",
            "381/381 [==============================] - 1s 3ms/step - loss: 9225.0625 - val_loss: 9246.2119\n",
            "Epoch 325/400\n",
            "381/381 [==============================] - 1s 2ms/step - loss: 9225.8848 - val_loss: 9244.4844\n",
            "Epoch 326/400\n",
            "381/381 [==============================] - 1s 2ms/step - loss: 9227.1758 - val_loss: 9252.4170\n",
            "Epoch 327/400\n",
            "381/381 [==============================] - 1s 3ms/step - loss: 9226.6348 - val_loss: 9246.9678\n",
            "Epoch 328/400\n",
            "381/381 [==============================] - 1s 3ms/step - loss: 9226.3174 - val_loss: 9256.5547\n",
            "Epoch 329/400\n",
            "381/381 [==============================] - 1s 2ms/step - loss: 9228.6201 - val_loss: 9247.5400\n",
            "Epoch 330/400\n",
            "381/381 [==============================] - 1s 3ms/step - loss: 9228.3438 - val_loss: 9247.0254\n",
            "Epoch 331/400\n",
            "381/381 [==============================] - 1s 2ms/step - loss: 9225.6143 - val_loss: 9257.7549\n",
            "Epoch 332/400\n",
            "381/381 [==============================] - 1s 3ms/step - loss: 9228.7373 - val_loss: 9246.2549\n",
            "Epoch 333/400\n",
            "381/381 [==============================] - 1s 2ms/step - loss: 9226.8916 - val_loss: 9259.1455\n",
            "Epoch 334/400\n",
            "381/381 [==============================] - 1s 3ms/step - loss: 9226.5693 - val_loss: 9245.2676\n",
            "Epoch 335/400\n",
            "381/381 [==============================] - 1s 3ms/step - loss: 9228.6016 - val_loss: 9245.3027\n",
            "Epoch 336/400\n",
            "381/381 [==============================] - 1s 3ms/step - loss: 9226.4102 - val_loss: 9244.7461\n",
            "Epoch 337/400\n",
            "381/381 [==============================] - 1s 3ms/step - loss: 9228.3711 - val_loss: 9245.2188\n",
            "Epoch 338/400\n",
            "381/381 [==============================] - 1s 2ms/step - loss: 9227.3379 - val_loss: 9243.7988\n",
            "Epoch 339/400\n",
            "381/381 [==============================] - 1s 3ms/step - loss: 9225.1143 - val_loss: 9245.2207\n",
            "Epoch 340/400\n",
            "381/381 [==============================] - 1s 2ms/step - loss: 9226.2119 - val_loss: 9244.2637\n",
            "Epoch 341/400\n",
            "381/381 [==============================] - 1s 3ms/step - loss: 9226.3838 - val_loss: 9253.0498\n",
            "Epoch 342/400\n",
            "381/381 [==============================] - 1s 3ms/step - loss: 9228.8281 - val_loss: 9245.6152\n",
            "Epoch 343/400\n",
            "381/381 [==============================] - 1s 3ms/step - loss: 9225.2236 - val_loss: 9253.6494\n",
            "Epoch 344/400\n",
            "381/381 [==============================] - 1s 3ms/step - loss: 9229.5283 - val_loss: 9247.8906\n",
            "Epoch 345/400\n",
            "381/381 [==============================] - 1s 3ms/step - loss: 9225.4688 - val_loss: 9243.5928\n",
            "Epoch 346/400\n",
            "381/381 [==============================] - 1s 3ms/step - loss: 9226.6914 - val_loss: 9248.2217\n",
            "Epoch 347/400\n",
            "381/381 [==============================] - 1s 2ms/step - loss: 9226.6406 - val_loss: 9245.0439\n",
            "Epoch 348/400\n",
            "381/381 [==============================] - 1s 3ms/step - loss: 9227.7539 - val_loss: 9243.7041\n",
            "Epoch 349/400\n",
            "381/381 [==============================] - 1s 3ms/step - loss: 9224.8926 - val_loss: 9243.5049\n",
            "Epoch 350/400\n",
            "381/381 [==============================] - 1s 3ms/step - loss: 9226.3057 - val_loss: 9254.3633\n",
            "Epoch 351/400\n",
            "381/381 [==============================] - 1s 3ms/step - loss: 9227.2090 - val_loss: 9244.0635\n",
            "Epoch 352/400\n",
            "381/381 [==============================] - 1s 3ms/step - loss: 9224.8848 - val_loss: 9244.6152\n",
            "Epoch 353/400\n",
            "381/381 [==============================] - 1s 3ms/step - loss: 9227.4463 - val_loss: 9243.9189\n",
            "Epoch 354/400\n",
            "381/381 [==============================] - 1s 3ms/step - loss: 9226.2734 - val_loss: 9244.0410\n",
            "Epoch 355/400\n",
            "381/381 [==============================] - 1s 3ms/step - loss: 9225.9258 - val_loss: 9250.8027\n",
            "Epoch 356/400\n",
            "381/381 [==============================] - 1s 2ms/step - loss: 9230.2676 - val_loss: 9258.8154\n",
            "Epoch 357/400\n",
            "381/381 [==============================] - 1s 3ms/step - loss: 9225.9131 - val_loss: 9246.7480\n",
            "Epoch 358/400\n",
            "381/381 [==============================] - 1s 2ms/step - loss: 9227.4053 - val_loss: 9246.4814\n",
            "Epoch 359/400\n",
            "381/381 [==============================] - 1s 3ms/step - loss: 9227.0996 - val_loss: 9262.0156\n",
            "Epoch 360/400\n",
            "381/381 [==============================] - 1s 3ms/step - loss: 9227.8516 - val_loss: 9243.9277\n",
            "Epoch 361/400\n",
            "381/381 [==============================] - 1s 3ms/step - loss: 9224.3779 - val_loss: 9244.2305\n",
            "Epoch 362/400\n",
            "381/381 [==============================] - 1s 3ms/step - loss: 9227.0176 - val_loss: 9243.5859\n",
            "Epoch 363/400\n",
            "381/381 [==============================] - 1s 3ms/step - loss: 9227.6934 - val_loss: 9250.3066\n",
            "Epoch 364/400\n",
            "381/381 [==============================] - 1s 3ms/step - loss: 9228.0107 - val_loss: 9244.3135\n",
            "Epoch 365/400\n",
            "381/381 [==============================] - 1s 3ms/step - loss: 9224.5723 - val_loss: 9243.3955\n",
            "Epoch 366/400\n",
            "381/381 [==============================] - 1s 3ms/step - loss: 9228.2324 - val_loss: 9244.9121\n",
            "Epoch 367/400\n",
            "381/381 [==============================] - 1s 3ms/step - loss: 9227.3857 - val_loss: 9249.2832\n",
            "Epoch 368/400\n",
            "381/381 [==============================] - 1s 3ms/step - loss: 9225.7617 - val_loss: 9244.7188\n",
            "Epoch 369/400\n",
            "381/381 [==============================] - 1s 3ms/step - loss: 9226.6846 - val_loss: 9250.5049\n",
            "Epoch 370/400\n",
            "381/381 [==============================] - 1s 3ms/step - loss: 9224.8594 - val_loss: 9243.6719\n",
            "Epoch 371/400\n",
            "381/381 [==============================] - 1s 3ms/step - loss: 9227.4551 - val_loss: 9247.8223\n",
            "Epoch 372/400\n",
            "381/381 [==============================] - 1s 3ms/step - loss: 9227.4570 - val_loss: 9244.1670\n",
            "Epoch 373/400\n",
            "381/381 [==============================] - 1s 3ms/step - loss: 9225.7979 - val_loss: 9243.9209\n",
            "Epoch 374/400\n",
            "381/381 [==============================] - 1s 3ms/step - loss: 9225.6455 - val_loss: 9247.7529\n",
            "Epoch 375/400\n",
            "381/381 [==============================] - 1s 3ms/step - loss: 9226.6123 - val_loss: 9244.9629\n",
            "Epoch 376/400\n",
            "381/381 [==============================] - 1s 3ms/step - loss: 9226.6279 - val_loss: 9254.7646\n",
            "Epoch 377/400\n",
            "381/381 [==============================] - 1s 3ms/step - loss: 9226.1074 - val_loss: 9243.5703\n",
            "Epoch 378/400\n",
            "381/381 [==============================] - 1s 2ms/step - loss: 9227.1787 - val_loss: 9243.1924\n",
            "Epoch 379/400\n",
            "381/381 [==============================] - 1s 3ms/step - loss: 9224.9229 - val_loss: 9244.4609\n",
            "Epoch 380/400\n",
            "381/381 [==============================] - 1s 2ms/step - loss: 9227.4414 - val_loss: 9244.3135\n",
            "Epoch 381/400\n",
            "381/381 [==============================] - 1s 2ms/step - loss: 9225.4502 - val_loss: 9243.1621\n",
            "Epoch 382/400\n",
            "381/381 [==============================] - 1s 2ms/step - loss: 9226.9287 - val_loss: 9246.8633\n",
            "Epoch 383/400\n",
            "381/381 [==============================] - 1s 3ms/step - loss: 9226.3350 - val_loss: 9252.8994\n",
            "Epoch 384/400\n",
            "381/381 [==============================] - 1s 3ms/step - loss: 9227.7900 - val_loss: 9258.0283\n",
            "Epoch 385/400\n",
            "381/381 [==============================] - 1s 3ms/step - loss: 9226.5986 - val_loss: 9248.8818\n",
            "Epoch 386/400\n",
            "381/381 [==============================] - 1s 2ms/step - loss: 9225.1006 - val_loss: 9244.1113\n",
            "Epoch 387/400\n",
            "381/381 [==============================] - 1s 3ms/step - loss: 9225.7549 - val_loss: 9245.1670\n",
            "Epoch 388/400\n",
            "381/381 [==============================] - 1s 2ms/step - loss: 9227.0273 - val_loss: 9244.6035\n",
            "Epoch 389/400\n",
            "381/381 [==============================] - 1s 3ms/step - loss: 9227.0771 - val_loss: 9247.4951\n",
            "Epoch 390/400\n",
            "381/381 [==============================] - 1s 2ms/step - loss: 9225.3154 - val_loss: 9245.4980\n",
            "Epoch 391/400\n",
            "381/381 [==============================] - 1s 3ms/step - loss: 9225.1270 - val_loss: 9246.3125\n",
            "Epoch 392/400\n",
            "381/381 [==============================] - 1s 3ms/step - loss: 9227.3545 - val_loss: 9245.3535\n",
            "Epoch 393/400\n",
            "381/381 [==============================] - 1s 2ms/step - loss: 9226.0273 - val_loss: 9265.5391\n",
            "Epoch 394/400\n",
            "381/381 [==============================] - 1s 3ms/step - loss: 9228.0723 - val_loss: 9243.8711\n",
            "Epoch 395/400\n",
            "381/381 [==============================] - 1s 3ms/step - loss: 9226.3994 - val_loss: 9244.1025\n",
            "Epoch 396/400\n",
            "381/381 [==============================] - 1s 2ms/step - loss: 9224.6494 - val_loss: 9243.7217\n",
            "Epoch 397/400\n",
            "381/381 [==============================] - 1s 2ms/step - loss: 9226.4229 - val_loss: 9243.8350\n",
            "Epoch 398/400\n",
            "381/381 [==============================] - 1s 2ms/step - loss: 9227.0654 - val_loss: 9247.7715\n",
            "Epoch 399/400\n",
            "381/381 [==============================] - 1s 2ms/step - loss: 9225.8750 - val_loss: 9251.9746\n",
            "Epoch 400/400\n",
            "381/381 [==============================] - 1s 3ms/step - loss: 9225.6221 - val_loss: 9245.8965\n"
          ]
        },
        {
          "output_type": "execute_result",
          "data": {
            "text/plain": [
              "<keras.callbacks.History at 0x7f757a129710>"
            ]
          },
          "metadata": {},
          "execution_count": 165
        }
      ]
    },
    {
      "cell_type": "code",
      "source": [
        "#Nous explorons l'historique de notre model\n",
        "model.history.history"
      ],
      "metadata": {
        "colab": {
          "base_uri": "https://localhost:8080/"
        },
        "id": "Jl0x86CnumpT",
        "outputId": "fa516fad-be87-4042-dde7-93782eee66fd"
      },
      "id": "Jl0x86CnumpT",
      "execution_count": 166,
      "outputs": [
        {
          "output_type": "execute_result",
          "data": {
            "text/plain": [
              "{'loss': [63819.76171875,\n",
              "  31747.830078125,\n",
              "  11385.5517578125,\n",
              "  10837.1455078125,\n",
              "  10390.615234375,\n",
              "  10035.4248046875,\n",
              "  9779.4248046875,\n",
              "  9618.283203125,\n",
              "  9528.38671875,\n",
              "  9483.70703125,\n",
              "  9462.185546875,\n",
              "  9450.265625,\n",
              "  9443.05078125,\n",
              "  9434.603515625,\n",
              "  9430.7216796875,\n",
              "  9421.1767578125,\n",
              "  9402.4677734375,\n",
              "  9387.4853515625,\n",
              "  9369.8525390625,\n",
              "  9358.3154296875,\n",
              "  9348.4033203125,\n",
              "  9337.7568359375,\n",
              "  9329.17578125,\n",
              "  9320.48046875,\n",
              "  9314.30078125,\n",
              "  9305.900390625,\n",
              "  9299.4580078125,\n",
              "  9292.791015625,\n",
              "  9288.1767578125,\n",
              "  9281.4423828125,\n",
              "  9276.9970703125,\n",
              "  9271.728515625,\n",
              "  9266.939453125,\n",
              "  9263.3466796875,\n",
              "  9258.6630859375,\n",
              "  9257.728515625,\n",
              "  9254.1396484375,\n",
              "  9253.3232421875,\n",
              "  9249.6787109375,\n",
              "  9246.716796875,\n",
              "  9244.544921875,\n",
              "  9242.2861328125,\n",
              "  9242.150390625,\n",
              "  9241.8857421875,\n",
              "  9238.88671875,\n",
              "  9238.5,\n",
              "  9237.544921875,\n",
              "  9238.6318359375,\n",
              "  9236.384765625,\n",
              "  9234.3359375,\n",
              "  9233.283203125,\n",
              "  9232.865234375,\n",
              "  9232.9833984375,\n",
              "  9231.6728515625,\n",
              "  9232.23828125,\n",
              "  9232.9326171875,\n",
              "  9232.142578125,\n",
              "  9233.5478515625,\n",
              "  9232.8017578125,\n",
              "  9229.7158203125,\n",
              "  9228.5771484375,\n",
              "  9231.46875,\n",
              "  9230.826171875,\n",
              "  9229.4384765625,\n",
              "  9230.119140625,\n",
              "  9228.5224609375,\n",
              "  9230.3916015625,\n",
              "  9230.3740234375,\n",
              "  9229.91796875,\n",
              "  9229.8681640625,\n",
              "  9229.787109375,\n",
              "  9229.6953125,\n",
              "  9231.5478515625,\n",
              "  9229.5263671875,\n",
              "  9229.646484375,\n",
              "  9228.5595703125,\n",
              "  9229.1005859375,\n",
              "  9229.138671875,\n",
              "  9229.4755859375,\n",
              "  9229.3662109375,\n",
              "  9229.380859375,\n",
              "  9230.0986328125,\n",
              "  9228.4755859375,\n",
              "  9228.671875,\n",
              "  9228.6376953125,\n",
              "  9229.384765625,\n",
              "  9227.4345703125,\n",
              "  9228.6064453125,\n",
              "  9228.3369140625,\n",
              "  9227.341796875,\n",
              "  9230.6748046875,\n",
              "  9228.7939453125,\n",
              "  9228.5234375,\n",
              "  9229.16796875,\n",
              "  9229.6943359375,\n",
              "  9229.0224609375,\n",
              "  9228.0947265625,\n",
              "  9230.326171875,\n",
              "  9228.05078125,\n",
              "  9228.013671875,\n",
              "  9226.1298828125,\n",
              "  9228.28125,\n",
              "  9228.44921875,\n",
              "  9228.3115234375,\n",
              "  9229.5693359375,\n",
              "  9228.6015625,\n",
              "  9229.201171875,\n",
              "  9229.2451171875,\n",
              "  9229.677734375,\n",
              "  9228.4873046875,\n",
              "  9228.568359375,\n",
              "  9229.2236328125,\n",
              "  9230.3857421875,\n",
              "  9230.1416015625,\n",
              "  9228.767578125,\n",
              "  9228.8935546875,\n",
              "  9230.01171875,\n",
              "  9227.7197265625,\n",
              "  9228.453125,\n",
              "  9230.6591796875,\n",
              "  9230.318359375,\n",
              "  9231.2041015625,\n",
              "  9229.3818359375,\n",
              "  9227.314453125,\n",
              "  9227.6962890625,\n",
              "  9229.556640625,\n",
              "  9228.0810546875,\n",
              "  9229.4619140625,\n",
              "  9227.5595703125,\n",
              "  9229.1591796875,\n",
              "  9229.294921875,\n",
              "  9228.5673828125,\n",
              "  9230.3017578125,\n",
              "  9226.8095703125,\n",
              "  9228.9287109375,\n",
              "  9228.7705078125,\n",
              "  9226.1123046875,\n",
              "  9227.099609375,\n",
              "  9227.6689453125,\n",
              "  9229.142578125,\n",
              "  9230.2001953125,\n",
              "  9227.169921875,\n",
              "  9228.1005859375,\n",
              "  9229.291015625,\n",
              "  9228.3662109375,\n",
              "  9227.814453125,\n",
              "  9229.2841796875,\n",
              "  9225.65234375,\n",
              "  9229.8564453125,\n",
              "  9226.77734375,\n",
              "  9230.5078125,\n",
              "  9226.484375,\n",
              "  9227.9697265625,\n",
              "  9229.6865234375,\n",
              "  9228.7802734375,\n",
              "  9225.4521484375,\n",
              "  9228.8603515625,\n",
              "  9227.5029296875,\n",
              "  9228.0458984375,\n",
              "  9226.41796875,\n",
              "  9229.251953125,\n",
              "  9228.1806640625,\n",
              "  9228.4208984375,\n",
              "  9229.66015625,\n",
              "  9229.44921875,\n",
              "  9229.9541015625,\n",
              "  9228.1826171875,\n",
              "  9228.744140625,\n",
              "  9228.880859375,\n",
              "  9225.6552734375,\n",
              "  9229.1494140625,\n",
              "  9229.0205078125,\n",
              "  9229.6982421875,\n",
              "  9229.4453125,\n",
              "  9227.2783203125,\n",
              "  9227.87890625,\n",
              "  9227.4873046875,\n",
              "  9228.5986328125,\n",
              "  9228.732421875,\n",
              "  9225.685546875,\n",
              "  9226.0517578125,\n",
              "  9225.5966796875,\n",
              "  9226.634765625,\n",
              "  9228.23046875,\n",
              "  9227.49609375,\n",
              "  9229.97265625,\n",
              "  9228.5234375,\n",
              "  9228.810546875,\n",
              "  9228.083984375,\n",
              "  9228.0341796875,\n",
              "  9229.3291015625,\n",
              "  9226.78515625,\n",
              "  9228.2509765625,\n",
              "  9229.318359375,\n",
              "  9230.12109375,\n",
              "  9230.0849609375,\n",
              "  9226.689453125,\n",
              "  9228.3291015625,\n",
              "  9226.384765625,\n",
              "  9228.38671875,\n",
              "  9227.701171875,\n",
              "  9227.556640625,\n",
              "  9228.40234375,\n",
              "  9229.49609375,\n",
              "  9227.3515625,\n",
              "  9227.49609375,\n",
              "  9226.439453125,\n",
              "  9228.259765625,\n",
              "  9228.09765625,\n",
              "  9227.916015625,\n",
              "  9226.447265625,\n",
              "  9229.4375,\n",
              "  9228.7431640625,\n",
              "  9228.4638671875,\n",
              "  9230.806640625,\n",
              "  9227.6015625,\n",
              "  9226.64453125,\n",
              "  9229.076171875,\n",
              "  9227.5849609375,\n",
              "  9228.3720703125,\n",
              "  9227.6884765625,\n",
              "  9226.197265625,\n",
              "  9228.1171875,\n",
              "  9228.513671875,\n",
              "  9227.5537109375,\n",
              "  9226.9736328125,\n",
              "  9226.2216796875,\n",
              "  9227.3984375,\n",
              "  9228.05859375,\n",
              "  9226.7705078125,\n",
              "  9226.3486328125,\n",
              "  9228.25,\n",
              "  9228.85546875,\n",
              "  9226.947265625,\n",
              "  9228.435546875,\n",
              "  9226.7490234375,\n",
              "  9230.1875,\n",
              "  9226.1708984375,\n",
              "  9228.04296875,\n",
              "  9227.650390625,\n",
              "  9228.2822265625,\n",
              "  9226.3896484375,\n",
              "  9227.0166015625,\n",
              "  9227.798828125,\n",
              "  9227.7265625,\n",
              "  9228.2607421875,\n",
              "  9226.9306640625,\n",
              "  9225.345703125,\n",
              "  9226.8798828125,\n",
              "  9225.8408203125,\n",
              "  9228.43359375,\n",
              "  9227.1162109375,\n",
              "  9228.3330078125,\n",
              "  9228.1767578125,\n",
              "  9227.1240234375,\n",
              "  9226.001953125,\n",
              "  9226.9619140625,\n",
              "  9228.22265625,\n",
              "  9228.697265625,\n",
              "  9228.8701171875,\n",
              "  9225.6923828125,\n",
              "  9228.2470703125,\n",
              "  9227.8154296875,\n",
              "  9226.4970703125,\n",
              "  9227.72265625,\n",
              "  9228.5439453125,\n",
              "  9227.8779296875,\n",
              "  9227.6884765625,\n",
              "  9230.5927734375,\n",
              "  9228.2392578125,\n",
              "  9230.4208984375,\n",
              "  9226.2470703125,\n",
              "  9226.5126953125,\n",
              "  9226.08203125,\n",
              "  9226.6005859375,\n",
              "  9226.6455078125,\n",
              "  9226.4951171875,\n",
              "  9228.1318359375,\n",
              "  9227.927734375,\n",
              "  9228.525390625,\n",
              "  9226.0400390625,\n",
              "  9228.53515625,\n",
              "  9227.642578125,\n",
              "  9225.6669921875,\n",
              "  9227.5751953125,\n",
              "  9226.9130859375,\n",
              "  9225.9814453125,\n",
              "  9228.7666015625,\n",
              "  9227.5048828125,\n",
              "  9227.6748046875,\n",
              "  9226.919921875,\n",
              "  9228.0068359375,\n",
              "  9227.1865234375,\n",
              "  9226.3505859375,\n",
              "  9226.5947265625,\n",
              "  9227.6171875,\n",
              "  9226.673828125,\n",
              "  9227.2626953125,\n",
              "  9227.30078125,\n",
              "  9226.6728515625,\n",
              "  9226.419921875,\n",
              "  9228.3310546875,\n",
              "  9228.7392578125,\n",
              "  9225.9384765625,\n",
              "  9228.45703125,\n",
              "  9226.798828125,\n",
              "  9228.3271484375,\n",
              "  9228.66015625,\n",
              "  9227.74609375,\n",
              "  9225.2998046875,\n",
              "  9225.2373046875,\n",
              "  9227.609375,\n",
              "  9225.75390625,\n",
              "  9227.171875,\n",
              "  9226.5380859375,\n",
              "  9225.2548828125,\n",
              "  9226.8935546875,\n",
              "  9225.8486328125,\n",
              "  9226.9052734375,\n",
              "  9226.65234375,\n",
              "  9227.3583984375,\n",
              "  9225.87890625,\n",
              "  9226.427734375,\n",
              "  9225.0625,\n",
              "  9225.884765625,\n",
              "  9227.17578125,\n",
              "  9226.634765625,\n",
              "  9226.3173828125,\n",
              "  9228.6201171875,\n",
              "  9228.34375,\n",
              "  9225.6142578125,\n",
              "  9228.7373046875,\n",
              "  9226.8916015625,\n",
              "  9226.5693359375,\n",
              "  9228.6015625,\n",
              "  9226.41015625,\n",
              "  9228.37109375,\n",
              "  9227.337890625,\n",
              "  9225.1142578125,\n",
              "  9226.2119140625,\n",
              "  9226.3837890625,\n",
              "  9228.828125,\n",
              "  9225.2236328125,\n",
              "  9229.5283203125,\n",
              "  9225.46875,\n",
              "  9226.69140625,\n",
              "  9226.640625,\n",
              "  9227.75390625,\n",
              "  9224.892578125,\n",
              "  9226.3056640625,\n",
              "  9227.208984375,\n",
              "  9224.884765625,\n",
              "  9227.4462890625,\n",
              "  9226.2734375,\n",
              "  9225.92578125,\n",
              "  9230.267578125,\n",
              "  9225.9130859375,\n",
              "  9227.4052734375,\n",
              "  9227.099609375,\n",
              "  9227.8515625,\n",
              "  9224.3779296875,\n",
              "  9227.017578125,\n",
              "  9227.693359375,\n",
              "  9228.0107421875,\n",
              "  9224.572265625,\n",
              "  9228.232421875,\n",
              "  9227.3857421875,\n",
              "  9225.76171875,\n",
              "  9226.6845703125,\n",
              "  9224.859375,\n",
              "  9227.455078125,\n",
              "  9227.45703125,\n",
              "  9225.7978515625,\n",
              "  9225.6455078125,\n",
              "  9226.6123046875,\n",
              "  9226.6279296875,\n",
              "  9226.107421875,\n",
              "  9227.1787109375,\n",
              "  9224.9228515625,\n",
              "  9227.44140625,\n",
              "  9225.4501953125,\n",
              "  9226.9287109375,\n",
              "  9226.3349609375,\n",
              "  9227.7900390625,\n",
              "  9226.5986328125,\n",
              "  9225.1005859375,\n",
              "  9225.7548828125,\n",
              "  9227.02734375,\n",
              "  9227.0771484375,\n",
              "  9225.3154296875,\n",
              "  9225.126953125,\n",
              "  9227.3544921875,\n",
              "  9226.02734375,\n",
              "  9228.072265625,\n",
              "  9226.3994140625,\n",
              "  9224.6494140625,\n",
              "  9226.4228515625,\n",
              "  9227.0654296875,\n",
              "  9225.875,\n",
              "  9225.6220703125],\n",
              " 'val_loss': [56833.29296875,\n",
              "  12032.8515625,\n",
              "  11111.41796875,\n",
              "  10633.109375,\n",
              "  10238.830078125,\n",
              "  9935.037109375,\n",
              "  9728.396484375,\n",
              "  9618.2431640625,\n",
              "  9546.2255859375,\n",
              "  9514.822265625,\n",
              "  9499.3134765625,\n",
              "  9490.7373046875,\n",
              "  9479.59375,\n",
              "  9473.703125,\n",
              "  9467.76171875,\n",
              "  9449.5185546875,\n",
              "  9434.3671875,\n",
              "  9413.017578125,\n",
              "  9402.17578125,\n",
              "  9385.892578125,\n",
              "  9383.37109375,\n",
              "  9365.43359375,\n",
              "  9356.109375,\n",
              "  9345.4619140625,\n",
              "  9337.4775390625,\n",
              "  9341.2568359375,\n",
              "  9344.7734375,\n",
              "  9316.6689453125,\n",
              "  9313.9931640625,\n",
              "  9303.9765625,\n",
              "  9302.078125,\n",
              "  9302.15234375,\n",
              "  9289.3564453125,\n",
              "  9286.4130859375,\n",
              "  9285.0390625,\n",
              "  9277.6005859375,\n",
              "  9274.4140625,\n",
              "  9271.4912109375,\n",
              "  9270.591796875,\n",
              "  9277.03515625,\n",
              "  9270.9619140625,\n",
              "  9262.060546875,\n",
              "  9260.6591796875,\n",
              "  9260.091796875,\n",
              "  9257.34765625,\n",
              "  9256.2265625,\n",
              "  9258.6953125,\n",
              "  9266.5068359375,\n",
              "  9254.1513671875,\n",
              "  9253.36328125,\n",
              "  9255.79296875,\n",
              "  9251.453125,\n",
              "  9251.0546875,\n",
              "  9250.0732421875,\n",
              "  9250.2509765625,\n",
              "  9249.732421875,\n",
              "  9254.291015625,\n",
              "  9248.74609375,\n",
              "  9248.6875,\n",
              "  9249.7080078125,\n",
              "  9251.0556640625,\n",
              "  9249.6337890625,\n",
              "  9248.80859375,\n",
              "  9251.751953125,\n",
              "  9248.4150390625,\n",
              "  9250.033203125,\n",
              "  9247.2353515625,\n",
              "  9247.80859375,\n",
              "  9253.7265625,\n",
              "  9247.0771484375,\n",
              "  9267.4697265625,\n",
              "  9249.1787109375,\n",
              "  9250.5390625,\n",
              "  9247.169921875,\n",
              "  9247.412109375,\n",
              "  9248.7763671875,\n",
              "  9257.5302734375,\n",
              "  9247.4140625,\n",
              "  9246.7666015625,\n",
              "  9248.0302734375,\n",
              "  9251.7265625,\n",
              "  9252.5302734375,\n",
              "  9246.578125,\n",
              "  9247.9638671875,\n",
              "  9247.7919921875,\n",
              "  9248.4443359375,\n",
              "  9247.3525390625,\n",
              "  9248.3798828125,\n",
              "  9247.2041015625,\n",
              "  9252.40234375,\n",
              "  9247.5927734375,\n",
              "  9246.2275390625,\n",
              "  9249.529296875,\n",
              "  9263.625,\n",
              "  9251.1513671875,\n",
              "  9247.2373046875,\n",
              "  9263.7197265625,\n",
              "  9251.6318359375,\n",
              "  9246.94140625,\n",
              "  9267.7236328125,\n",
              "  9246.498046875,\n",
              "  9247.611328125,\n",
              "  9251.1669921875,\n",
              "  9246.0888671875,\n",
              "  9246.2890625,\n",
              "  9251.685546875,\n",
              "  9249.9853515625,\n",
              "  9247.8681640625,\n",
              "  9248.2080078125,\n",
              "  9249.47265625,\n",
              "  9245.6279296875,\n",
              "  9249.677734375,\n",
              "  9250.1103515625,\n",
              "  9246.2822265625,\n",
              "  9250.931640625,\n",
              "  9247.8134765625,\n",
              "  9249.6142578125,\n",
              "  9253.076171875,\n",
              "  9246.396484375,\n",
              "  9246.3671875,\n",
              "  9250.689453125,\n",
              "  9263.0556640625,\n",
              "  9246.7509765625,\n",
              "  9250.5068359375,\n",
              "  9250.451171875,\n",
              "  9246.994140625,\n",
              "  9253.9287109375,\n",
              "  9245.7861328125,\n",
              "  9251.0859375,\n",
              "  9246.3701171875,\n",
              "  9254.5068359375,\n",
              "  9251.658203125,\n",
              "  9246.8193359375,\n",
              "  9255.8037109375,\n",
              "  9247.0693359375,\n",
              "  9246.990234375,\n",
              "  9252.4912109375,\n",
              "  9247.3623046875,\n",
              "  9245.767578125,\n",
              "  9245.9833984375,\n",
              "  9245.9013671875,\n",
              "  9245.6201171875,\n",
              "  9248.6005859375,\n",
              "  9245.5419921875,\n",
              "  9245.845703125,\n",
              "  9252.05078125,\n",
              "  9245.841796875,\n",
              "  9245.5830078125,\n",
              "  9253.9912109375,\n",
              "  9265.943359375,\n",
              "  9247.3623046875,\n",
              "  9259.154296875,\n",
              "  9246.66015625,\n",
              "  9245.6142578125,\n",
              "  9249.78515625,\n",
              "  9250.6845703125,\n",
              "  9251.119140625,\n",
              "  9246.544921875,\n",
              "  9248.3466796875,\n",
              "  9247.486328125,\n",
              "  9253.2470703125,\n",
              "  9247.56640625,\n",
              "  9246.2294921875,\n",
              "  9248.609375,\n",
              "  9246.6484375,\n",
              "  9247.255859375,\n",
              "  9246.533203125,\n",
              "  9257.0859375,\n",
              "  9245.697265625,\n",
              "  9270.755859375,\n",
              "  9245.6953125,\n",
              "  9245.626953125,\n",
              "  9246.736328125,\n",
              "  9244.95703125,\n",
              "  9252.1318359375,\n",
              "  9253.013671875,\n",
              "  9262.2353515625,\n",
              "  9245.6484375,\n",
              "  9257.1416015625,\n",
              "  9247.2626953125,\n",
              "  9247.6591796875,\n",
              "  9246.6650390625,\n",
              "  9246.6201171875,\n",
              "  9252.03125,\n",
              "  9247.1376953125,\n",
              "  9254.0478515625,\n",
              "  9246.8447265625,\n",
              "  9244.9697265625,\n",
              "  9253.21484375,\n",
              "  9245.9931640625,\n",
              "  9247.328125,\n",
              "  9246.708984375,\n",
              "  9247.111328125,\n",
              "  9245.568359375,\n",
              "  9246.212890625,\n",
              "  9249.9609375,\n",
              "  9250.880859375,\n",
              "  9249.8681640625,\n",
              "  9247.2333984375,\n",
              "  9246.16796875,\n",
              "  9247.5185546875,\n",
              "  9245.1337890625,\n",
              "  9245.763671875,\n",
              "  9244.78515625,\n",
              "  9251.05078125,\n",
              "  9245.9833984375,\n",
              "  9250.056640625,\n",
              "  9246.205078125,\n",
              "  9245.4091796875,\n",
              "  9253.2412109375,\n",
              "  9245.4521484375,\n",
              "  9250.3603515625,\n",
              "  9246.7158203125,\n",
              "  9245.2578125,\n",
              "  9248.7900390625,\n",
              "  9258.689453125,\n",
              "  9248.4765625,\n",
              "  9251.375,\n",
              "  9246.7783203125,\n",
              "  9252.693359375,\n",
              "  9253.11328125,\n",
              "  9246.34375,\n",
              "  9245.8427734375,\n",
              "  9246.5302734375,\n",
              "  9245.3876953125,\n",
              "  9247.189453125,\n",
              "  9247.115234375,\n",
              "  9246.9765625,\n",
              "  9244.685546875,\n",
              "  9246.1328125,\n",
              "  9250.6591796875,\n",
              "  9261.3388671875,\n",
              "  9247.5322265625,\n",
              "  9244.841796875,\n",
              "  9245.8974609375,\n",
              "  9255.3515625,\n",
              "  9244.857421875,\n",
              "  9247.04296875,\n",
              "  9246.01171875,\n",
              "  9244.4140625,\n",
              "  9255.9208984375,\n",
              "  9247.4208984375,\n",
              "  9246.1181640625,\n",
              "  9247.919921875,\n",
              "  9245.5849609375,\n",
              "  9246.25,\n",
              "  9263.248046875,\n",
              "  9244.9189453125,\n",
              "  9244.7421875,\n",
              "  9244.6298828125,\n",
              "  9244.697265625,\n",
              "  9244.97265625,\n",
              "  9245.203125,\n",
              "  9245.04296875,\n",
              "  9244.4755859375,\n",
              "  9244.7724609375,\n",
              "  9244.34375,\n",
              "  9249.94921875,\n",
              "  9245.0048828125,\n",
              "  9254.0048828125,\n",
              "  9265.9267578125,\n",
              "  9245.9580078125,\n",
              "  9245.6376953125,\n",
              "  9250.611328125,\n",
              "  9245.6162109375,\n",
              "  9254.119140625,\n",
              "  9248.439453125,\n",
              "  9249.4267578125,\n",
              "  9249.6767578125,\n",
              "  9245.8017578125,\n",
              "  9245.1220703125,\n",
              "  9244.994140625,\n",
              "  9245.76171875,\n",
              "  9244.4931640625,\n",
              "  9247.98828125,\n",
              "  9244.453125,\n",
              "  9247.841796875,\n",
              "  9253.59765625,\n",
              "  9247.7373046875,\n",
              "  9251.580078125,\n",
              "  9244.080078125,\n",
              "  9256.3603515625,\n",
              "  9267.3037109375,\n",
              "  9247.4697265625,\n",
              "  9245.8125,\n",
              "  9249.1142578125,\n",
              "  9247.3046875,\n",
              "  9246.3310546875,\n",
              "  9245.09765625,\n",
              "  9245.0595703125,\n",
              "  9246.4658203125,\n",
              "  9253.4658203125,\n",
              "  9249.3486328125,\n",
              "  9249.33984375,\n",
              "  9243.697265625,\n",
              "  9244.859375,\n",
              "  9249.0146484375,\n",
              "  9247.7451171875,\n",
              "  9244.4873046875,\n",
              "  9248.70703125,\n",
              "  9249.1953125,\n",
              "  9246.6884765625,\n",
              "  9245.75,\n",
              "  9248.904296875,\n",
              "  9251.9873046875,\n",
              "  9245.1015625,\n",
              "  9245.93359375,\n",
              "  9259.1240234375,\n",
              "  9243.92578125,\n",
              "  9249.869140625,\n",
              "  9244.04296875,\n",
              "  9244.013671875,\n",
              "  9251.4326171875,\n",
              "  9245.0830078125,\n",
              "  9243.9873046875,\n",
              "  9245.439453125,\n",
              "  9249.2138671875,\n",
              "  9244.0068359375,\n",
              "  9248.4599609375,\n",
              "  9244.787109375,\n",
              "  9250.8515625,\n",
              "  9245.59765625,\n",
              "  9244.6748046875,\n",
              "  9246.2119140625,\n",
              "  9244.484375,\n",
              "  9252.4169921875,\n",
              "  9246.9677734375,\n",
              "  9256.5546875,\n",
              "  9247.5400390625,\n",
              "  9247.025390625,\n",
              "  9257.7548828125,\n",
              "  9246.2548828125,\n",
              "  9259.1455078125,\n",
              "  9245.267578125,\n",
              "  9245.302734375,\n",
              "  9244.74609375,\n",
              "  9245.21875,\n",
              "  9243.798828125,\n",
              "  9245.220703125,\n",
              "  9244.263671875,\n",
              "  9253.0498046875,\n",
              "  9245.615234375,\n",
              "  9253.6494140625,\n",
              "  9247.890625,\n",
              "  9243.5927734375,\n",
              "  9248.2216796875,\n",
              "  9245.0439453125,\n",
              "  9243.7041015625,\n",
              "  9243.5048828125,\n",
              "  9254.36328125,\n",
              "  9244.0634765625,\n",
              "  9244.615234375,\n",
              "  9243.9189453125,\n",
              "  9244.041015625,\n",
              "  9250.802734375,\n",
              "  9258.8154296875,\n",
              "  9246.748046875,\n",
              "  9246.4814453125,\n",
              "  9262.015625,\n",
              "  9243.927734375,\n",
              "  9244.23046875,\n",
              "  9243.5859375,\n",
              "  9250.306640625,\n",
              "  9244.3134765625,\n",
              "  9243.3955078125,\n",
              "  9244.912109375,\n",
              "  9249.283203125,\n",
              "  9244.71875,\n",
              "  9250.5048828125,\n",
              "  9243.671875,\n",
              "  9247.822265625,\n",
              "  9244.1669921875,\n",
              "  9243.9208984375,\n",
              "  9247.7529296875,\n",
              "  9244.962890625,\n",
              "  9254.7646484375,\n",
              "  9243.5703125,\n",
              "  9243.1923828125,\n",
              "  9244.4609375,\n",
              "  9244.3134765625,\n",
              "  9243.162109375,\n",
              "  9246.86328125,\n",
              "  9252.8994140625,\n",
              "  9258.0283203125,\n",
              "  9248.8818359375,\n",
              "  9244.111328125,\n",
              "  9245.1669921875,\n",
              "  9244.603515625,\n",
              "  9247.4951171875,\n",
              "  9245.498046875,\n",
              "  9246.3125,\n",
              "  9245.353515625,\n",
              "  9265.5390625,\n",
              "  9243.87109375,\n",
              "  9244.1025390625,\n",
              "  9243.7216796875,\n",
              "  9243.8349609375,\n",
              "  9247.771484375,\n",
              "  9251.974609375,\n",
              "  9245.896484375]}"
            ]
          },
          "metadata": {},
          "execution_count": 166
        }
      ]
    },
    {
      "cell_type": "code",
      "source": [
        "losses = pd.DataFrame(model.history.history)"
      ],
      "metadata": {
        "id": "_plOnQnqvQEL"
      },
      "id": "_plOnQnqvQEL",
      "execution_count": 167,
      "outputs": []
    },
    {
      "cell_type": "code",
      "source": [
        "losses\n",
        "#donne en même temps ma perte sur mes données d'entraînements et mes données de test"
      ],
      "metadata": {
        "colab": {
          "base_uri": "https://localhost:8080/",
          "height": 423
        },
        "id": "ksx7M8MZvbOP",
        "outputId": "fce0d4db-2a36-45ef-c582-874ffd18532f"
      },
      "id": "ksx7M8MZvbOP",
      "execution_count": 168,
      "outputs": [
        {
          "output_type": "execute_result",
          "data": {
            "text/html": [
              "\n",
              "  <div id=\"df-25154321-09ea-4ca1-ad8a-0e208828e32b\">\n",
              "    <div class=\"colab-df-container\">\n",
              "      <div>\n",
              "<style scoped>\n",
              "    .dataframe tbody tr th:only-of-type {\n",
              "        vertical-align: middle;\n",
              "    }\n",
              "\n",
              "    .dataframe tbody tr th {\n",
              "        vertical-align: top;\n",
              "    }\n",
              "\n",
              "    .dataframe thead th {\n",
              "        text-align: right;\n",
              "    }\n",
              "</style>\n",
              "<table border=\"1\" class=\"dataframe\">\n",
              "  <thead>\n",
              "    <tr style=\"text-align: right;\">\n",
              "      <th></th>\n",
              "      <th>loss</th>\n",
              "      <th>val_loss</th>\n",
              "    </tr>\n",
              "  </thead>\n",
              "  <tbody>\n",
              "    <tr>\n",
              "      <th>0</th>\n",
              "      <td>63819.761719</td>\n",
              "      <td>56833.292969</td>\n",
              "    </tr>\n",
              "    <tr>\n",
              "      <th>1</th>\n",
              "      <td>31747.830078</td>\n",
              "      <td>12032.851562</td>\n",
              "    </tr>\n",
              "    <tr>\n",
              "      <th>2</th>\n",
              "      <td>11385.551758</td>\n",
              "      <td>11111.417969</td>\n",
              "    </tr>\n",
              "    <tr>\n",
              "      <th>3</th>\n",
              "      <td>10837.145508</td>\n",
              "      <td>10633.109375</td>\n",
              "    </tr>\n",
              "    <tr>\n",
              "      <th>4</th>\n",
              "      <td>10390.615234</td>\n",
              "      <td>10238.830078</td>\n",
              "    </tr>\n",
              "    <tr>\n",
              "      <th>...</th>\n",
              "      <td>...</td>\n",
              "      <td>...</td>\n",
              "    </tr>\n",
              "    <tr>\n",
              "      <th>395</th>\n",
              "      <td>9224.649414</td>\n",
              "      <td>9243.721680</td>\n",
              "    </tr>\n",
              "    <tr>\n",
              "      <th>396</th>\n",
              "      <td>9226.422852</td>\n",
              "      <td>9243.834961</td>\n",
              "    </tr>\n",
              "    <tr>\n",
              "      <th>397</th>\n",
              "      <td>9227.065430</td>\n",
              "      <td>9247.771484</td>\n",
              "    </tr>\n",
              "    <tr>\n",
              "      <th>398</th>\n",
              "      <td>9225.875000</td>\n",
              "      <td>9251.974609</td>\n",
              "    </tr>\n",
              "    <tr>\n",
              "      <th>399</th>\n",
              "      <td>9225.622070</td>\n",
              "      <td>9245.896484</td>\n",
              "    </tr>\n",
              "  </tbody>\n",
              "</table>\n",
              "<p>400 rows × 2 columns</p>\n",
              "</div>\n",
              "      <button class=\"colab-df-convert\" onclick=\"convertToInteractive('df-25154321-09ea-4ca1-ad8a-0e208828e32b')\"\n",
              "              title=\"Convert this dataframe to an interactive table.\"\n",
              "              style=\"display:none;\">\n",
              "        \n",
              "  <svg xmlns=\"http://www.w3.org/2000/svg\" height=\"24px\"viewBox=\"0 0 24 24\"\n",
              "       width=\"24px\">\n",
              "    <path d=\"M0 0h24v24H0V0z\" fill=\"none\"/>\n",
              "    <path d=\"M18.56 5.44l.94 2.06.94-2.06 2.06-.94-2.06-.94-.94-2.06-.94 2.06-2.06.94zm-11 1L8.5 8.5l.94-2.06 2.06-.94-2.06-.94L8.5 2.5l-.94 2.06-2.06.94zm10 10l.94 2.06.94-2.06 2.06-.94-2.06-.94-.94-2.06-.94 2.06-2.06.94z\"/><path d=\"M17.41 7.96l-1.37-1.37c-.4-.4-.92-.59-1.43-.59-.52 0-1.04.2-1.43.59L10.3 9.45l-7.72 7.72c-.78.78-.78 2.05 0 2.83L4 21.41c.39.39.9.59 1.41.59.51 0 1.02-.2 1.41-.59l7.78-7.78 2.81-2.81c.8-.78.8-2.07 0-2.86zM5.41 20L4 18.59l7.72-7.72 1.47 1.35L5.41 20z\"/>\n",
              "  </svg>\n",
              "      </button>\n",
              "      \n",
              "  <style>\n",
              "    .colab-df-container {\n",
              "      display:flex;\n",
              "      flex-wrap:wrap;\n",
              "      gap: 12px;\n",
              "    }\n",
              "\n",
              "    .colab-df-convert {\n",
              "      background-color: #E8F0FE;\n",
              "      border: none;\n",
              "      border-radius: 50%;\n",
              "      cursor: pointer;\n",
              "      display: none;\n",
              "      fill: #1967D2;\n",
              "      height: 32px;\n",
              "      padding: 0 0 0 0;\n",
              "      width: 32px;\n",
              "    }\n",
              "\n",
              "    .colab-df-convert:hover {\n",
              "      background-color: #E2EBFA;\n",
              "      box-shadow: 0px 1px 2px rgba(60, 64, 67, 0.3), 0px 1px 3px 1px rgba(60, 64, 67, 0.15);\n",
              "      fill: #174EA6;\n",
              "    }\n",
              "\n",
              "    [theme=dark] .colab-df-convert {\n",
              "      background-color: #3B4455;\n",
              "      fill: #D2E3FC;\n",
              "    }\n",
              "\n",
              "    [theme=dark] .colab-df-convert:hover {\n",
              "      background-color: #434B5C;\n",
              "      box-shadow: 0px 1px 3px 1px rgba(0, 0, 0, 0.15);\n",
              "      filter: drop-shadow(0px 1px 2px rgba(0, 0, 0, 0.3));\n",
              "      fill: #FFFFFF;\n",
              "    }\n",
              "  </style>\n",
              "\n",
              "      <script>\n",
              "        const buttonEl =\n",
              "          document.querySelector('#df-25154321-09ea-4ca1-ad8a-0e208828e32b button.colab-df-convert');\n",
              "        buttonEl.style.display =\n",
              "          google.colab.kernel.accessAllowed ? 'block' : 'none';\n",
              "\n",
              "        async function convertToInteractive(key) {\n",
              "          const element = document.querySelector('#df-25154321-09ea-4ca1-ad8a-0e208828e32b');\n",
              "          const dataTable =\n",
              "            await google.colab.kernel.invokeFunction('convertToInteractive',\n",
              "                                                     [key], {});\n",
              "          if (!dataTable) return;\n",
              "\n",
              "          const docLinkHtml = 'Like what you see? Visit the ' +\n",
              "            '<a target=\"_blank\" href=https://colab.research.google.com/notebooks/data_table.ipynb>data table notebook</a>'\n",
              "            + ' to learn more about interactive tables.';\n",
              "          element.innerHTML = '';\n",
              "          dataTable['output_type'] = 'display_data';\n",
              "          await google.colab.output.renderOutput(dataTable, element);\n",
              "          const docLink = document.createElement('div');\n",
              "          docLink.innerHTML = docLinkHtml;\n",
              "          element.appendChild(docLink);\n",
              "        }\n",
              "      </script>\n",
              "    </div>\n",
              "  </div>\n",
              "  "
            ],
            "text/plain": [
              "             loss      val_loss\n",
              "0    63819.761719  56833.292969\n",
              "1    31747.830078  12032.851562\n",
              "2    11385.551758  11111.417969\n",
              "3    10837.145508  10633.109375\n",
              "4    10390.615234  10238.830078\n",
              "..            ...           ...\n",
              "395   9224.649414   9243.721680\n",
              "396   9226.422852   9243.834961\n",
              "397   9227.065430   9247.771484\n",
              "398   9225.875000   9251.974609\n",
              "399   9225.622070   9245.896484\n",
              "\n",
              "[400 rows x 2 columns]"
            ]
          },
          "metadata": {},
          "execution_count": 168
        }
      ]
    },
    {
      "cell_type": "code",
      "source": [
        "losses.plot()\n",
        "\n",
        "#On peut comparer directement le comportement de ma fonction de perte d'entraînement et de test"
      ],
      "metadata": {
        "colab": {
          "base_uri": "https://localhost:8080/",
          "height": 283
        },
        "id": "0WUAq6yLvzR4",
        "outputId": "1dda5fa6-2ced-42b6-fb65-b655efadd72b"
      },
      "id": "0WUAq6yLvzR4",
      "execution_count": 169,
      "outputs": [
        {
          "output_type": "execute_result",
          "data": {
            "text/plain": [
              "<matplotlib.axes._subplots.AxesSubplot at 0x7f7576398410>"
            ]
          },
          "metadata": {},
          "execution_count": 169
        },
        {
          "output_type": "display_data",
          "data": {
            "image/png": "[encoded data removed]",
            "text/plain": [
              "<Figure size 432x288 with 1 Axes>"
            ]
          },
          "metadata": {
            "needs_background": "light"
          }
        }
      ]
    },
    {
      "cell_type": "markdown",
      "source": [
        "Nous observons un même comportement du set de test (d'entraînement) et du set de validation, donc on est pas en surapprentissage( overfitting)"
      ],
      "metadata": {
        "id": "_niMiDPd_Rh2"
      },
      "id": "_niMiDPd_Rh2"
    },
    {
      "cell_type": "markdown",
      "source": [
        "## Évaluation sur les données Test"
      ],
      "metadata": {
        "id": "IEBx2jy3BkYy"
      },
      "id": "IEBx2jy3BkYy"
    },
    {
      "cell_type": "code",
      "source": [
        "from sklearn.metrics import mean_squared_error,mean_absolute_error,explained_variance_score"
      ],
      "metadata": {
        "id": "lZp4GOOOBjxV"
      },
      "id": "lZp4GOOOBjxV",
      "execution_count": 170,
      "outputs": []
    },
    {
      "cell_type": "markdown",
      "source": [
        "### Prédiction sur de toutes nouvelles données"
      ],
      "metadata": {
        "id": "FM7UM_-CB91c"
      },
      "id": "FM7UM_-CB91c"
    },
    {
      "cell_type": "code",
      "source": [
        "X_test"
      ],
      "metadata": {
        "colab": {
          "base_uri": "https://localhost:8080/"
        },
        "id": "X4J0nnlaB-3O",
        "outputId": "c98f185b-3ae0-44cd-b8e7-3c967ed09008"
      },
      "id": "X4J0nnlaB-3O",
      "execution_count": 171,
      "outputs": [
        {
          "output_type": "execute_result",
          "data": {
            "text/plain": [
              "array([[0.        , 0.33180007, 0.03680982, 0.2       , 0.        ],\n",
              "       [0.        , 0.33180007, 0.03680982, 0.6       , 0.        ],\n",
              "       [0.5       , 0.33180007, 0.2208589 , 0.6       , 0.        ],\n",
              "       ...,\n",
              "       [0.        , 0.33180007, 0.0398773 , 0.6       , 0.        ],\n",
              "       [0.5       , 0.46708777, 0.17791411, 0.8       , 0.        ],\n",
              "       [0.5       , 0.81767884, 0.27607362, 0.4       , 0.        ]])"
            ]
          },
          "metadata": {},
          "execution_count": 171
        }
      ]
    },
    {
      "cell_type": "code",
      "source": [
        "# On prédit sur le set de test\n",
        "predictions = model.predict(X_test)"
      ],
      "metadata": {
        "id": "wSoFE37pCCms"
      },
      "id": "wSoFE37pCCms",
      "execution_count": 172,
      "outputs": []
    },
    {
      "cell_type": "code",
      "source": [
        "predictions"
      ],
      "metadata": {
        "colab": {
          "base_uri": "https://localhost:8080/"
        },
        "id": "YJcnfeQuCVbm",
        "outputId": "d9468777-3c4c-4237-840c-5ff297430940"
      },
      "id": "YJcnfeQuCVbm",
      "execution_count": 173,
      "outputs": [
        {
          "output_type": "execute_result",
          "data": {
            "text/plain": [
              "array([[181.77283],\n",
              "       [203.35504],\n",
              "       [221.25926],\n",
              "       ...,\n",
              "       [203.8316 ],\n",
              "       [257.69412],\n",
              "       [304.25446]], dtype=float32)"
            ]
          },
          "metadata": {},
          "execution_count": 173
        }
      ]
    },
    {
      "cell_type": "markdown",
      "source": [
        "On a une liste de prédictions et nous allons maintenant comparer cette liste avec une liste de prix réels."
      ],
      "metadata": {
        "id": "HIsTu0WOCkTt"
      },
      "id": "HIsTu0WOCkTt"
    },
    {
      "cell_type": "code",
      "source": [
        "mean_absolute_error(y_test,predictions)"
      ],
      "metadata": {
        "colab": {
          "base_uri": "https://localhost:8080/"
        },
        "id": "b8V4YY-FC7Pc",
        "outputId": "af94e69b-9c00-4bb7-bf7e-d160f3abf6f6"
      },
      "id": "b8V4YY-FC7Pc",
      "execution_count": 174,
      "outputs": [
        {
          "output_type": "execute_result",
          "data": {
            "text/plain": [
              "73.15964807789378"
            ]
          },
          "metadata": {},
          "execution_count": 174
        }
      ]
    },
    {
      "cell_type": "code",
      "source": [
        "np.sqrt(mean_squared_error(y_test,predictions))"
      ],
      "metadata": {
        "colab": {
          "base_uri": "https://localhost:8080/"
        },
        "id": "t9Gn8-zIDEzk",
        "outputId": "a86e7c8b-db42-4154-88ff-91e6f9f3b734"
      },
      "id": "t9Gn8-zIDEzk",
      "execution_count": 175,
      "outputs": [
        {
          "output_type": "execute_result",
          "data": {
            "text/plain": [
              "96.15557659889495"
            ]
          },
          "metadata": {},
          "execution_count": 175
        }
      ]
    },
    {
      "cell_type": "markdown",
      "source": [
        "Il semble qu'en moyenne on a un écart de 97€ sur tous les prix de billets d'avion. Pour savoir s'il s'agit d'une bonne ou mauvaise erreur,nous devons prendre en compte notre dataframe:"
      ],
      "metadata": {
        "id": "Y1HeAD8sDl_O"
      },
      "id": "Y1HeAD8sDl_O"
    },
    {
      "cell_type": "code",
      "source": [
        "df['Prix'].describe()"
      ],
      "metadata": {
        "colab": {
          "base_uri": "https://localhost:8080/"
        },
        "id": "9LKV2LLfEOKl",
        "outputId": "433efbf5-0b3e-48a0-8591-255fa2c1dba3"
      },
      "id": "9LKV2LLfEOKl",
      "execution_count": 176,
      "outputs": [
        {
          "output_type": "execute_result",
          "data": {
            "text/plain": [
              "count    69614.000000\n",
              "mean       228.208349\n",
              "std        116.683917\n",
              "min         33.000000\n",
              "25%        146.000000\n",
              "50%        196.000000\n",
              "75%        287.000000\n",
              "max        580.000000\n",
              "Name: Prix, dtype: float64"
            ]
          },
          "metadata": {},
          "execution_count": 176
        }
      ]
    },
    {
      "cell_type": "code",
      "source": [
        "# Part de la variance expliquée par le modèle\n",
        "explained_variance_score(y_test,predictions)"
      ],
      "metadata": {
        "colab": {
          "base_uri": "https://localhost:8080/"
        },
        "id": "DBNN0TUPErkL",
        "outputId": "8681d9b4-e6e9-411f-c870-e8bdcbd7dbf1"
      },
      "id": "DBNN0TUPErkL",
      "execution_count": 177,
      "outputs": [
        {
          "output_type": "execute_result",
          "data": {
            "text/plain": [
              "0.31813859916357434"
            ]
          },
          "metadata": {},
          "execution_count": 177
        }
      ]
    }
  ],
  "metadata": {
    "kernelspec": {
      "display_name": "Python 3",
      "language": "python",
      "name": "python3"
    },
    "language_info": {
      "codemirror_mode": {
        "name": "ipython",
        "version": 3
      },
      "file_extension": ".py",
      "mimetype": "text/x-python",
      "name": "python",
      "nbconvert_exporter": "python",
      "pygments_lexer": "ipython3",
      "version": "3.8.3"
    },
    "colab": {
      "name": "Projet_python_Datascience_nouvelle base.ipynb",
      "provenance": [],
      "collapsed_sections": []
    }
  },
  "nbformat": 4,
  "nbformat_minor": 5
}