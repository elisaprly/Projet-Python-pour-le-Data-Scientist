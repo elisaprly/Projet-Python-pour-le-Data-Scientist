{
 "cells": [
  {
   "cell_type": "code",
   "execution_count": 1,
   "metadata": {},
   "outputs": [],
   "source": [
    "import pandas as pd\n",
    "from selenium import webdriver\n",
    "from selenium.webdriver.common.keys import Keys\n",
    "from bs4 import BeautifulSoup\n",
    "import numpy as np\n",
    "import datetime\n",
    "from time import sleep"
   ]
  },
  {
   "cell_type": "markdown",
   "metadata": {},
   "source": [
    "### Ouverture d'un navigateur chrome controlé par Python"
   ]
  },
  {
   "cell_type": "code",
   "execution_count": 2,
   "metadata": {},
   "outputs": [],
   "source": [
    "chromedriver_path = \"C:/Users/elisa/Projet Python/chromedriver_win32/chromedriver.exe\"\n",
    "#chromedriver_path = 'C:/Users/José/Documents/ENSAE Paris/2A/Python Pour le Data Scientist/chromedriver_win32/chromedriver.exe'"
   ]
  },
  {
   "cell_type": "code",
   "execution_count": 3,
   "metadata": {},
   "outputs": [],
   "source": [
    "driver = webdriver.Chrome(chromedriver_path)"
   ]
  },
  {
   "cell_type": "markdown",
   "metadata": {},
   "source": [
    "### Fonctions permettant de récupérer la compagnie aérienne, le nombre d'escales, le prix et la durée de vol"
   ]
  },
  {
   "cell_type": "code",
   "execution_count": null,
   "metadata": {},
   "outputs": [],
   "source": [
    "def get_airlines(soup):\n",
    "    airline = []\n",
    "    airlines = soup.find_all('span',class_='codeshares-airline-names',text=True)\n",
    "    for i in airlines:\n",
    "        airline.append(i.text)\n",
    "    return airline\n",
    "    \n",
    "def get_total_stops(soup):\n",
    "    stops_list = []\n",
    "    stops = soup.find_all('div',class_='section stops')\n",
    "\n",
    "    for i in stops:\n",
    "        for j in i.find_all('span',class_='stops-text'):\n",
    "               stops_list.append(j.text)\n",
    "    return stops_list\n",
    "\n",
    "def get_price(soup):\n",
    "    prices = []\n",
    "    price = soup.find_all('div',class_='Flights-Results-FlightPriceSection right-alignment sleek')\n",
    "\n",
    "    for i in price:\n",
    "        for j in i.find_all('span', class_='price-text'):\n",
    "            prices.append(j.text)\n",
    "    return prices\n",
    "\n",
    "def get_duration(soup):\n",
    "    duration_list = []\n",
    "    duration = soup.find_all('div' , class_='section duration allow-multi-modal-icons')\n",
    "    for i in duration:\n",
    "        for j in i.find_all('div',class_='top'):\n",
    "            duration_list.append(j.text)\n",
    "    return duration_list"
   ]
  },
  {
   "cell_type": "markdown",
   "metadata": {},
   "source": [
    "Pour un vol, la fonction get_airlines va récupérer \"compagnie1\" si la compagnie est identique à l'aller et au retour et \"compagnie1, compagnie2\" si elles sont différentes. La fonction remanier permet de récupérer pour un vol \"compgnie1\", \"compagnie1\" si on est dans le premier cas et \"compagnie1\", \"compagnie2\" dans le second cas"
   ]
  },
  {
   "cell_type": "code",
   "execution_count": 5,
   "metadata": {},
   "outputs": [],
   "source": [
    "def remanier(compagnie):\n",
    "    liste = []\n",
    "    for i in range(len(compagnie)):\n",
    "        if  ',' in compagnie[i] : \n",
    "            j= 0\n",
    "            while compagnie[i][j]!=',' :\n",
    "                j+=1\n",
    "            liste.append(compagnie[i][:j])\n",
    "            liste.append(compagnie[i][j+1:])\n",
    "        else :\n",
    "            liste.append(compagnie[i])\n",
    "            liste.append(compagnie[i])\n",
    "    return liste"
   ]
  },
  {
   "cell_type": "markdown",
   "metadata": {},
   "source": [
    "La fonction remanier_2 permet de dédoubler le prix pour l'aller et le retour afin qu'il n'y ait pas de problème de longueur d'array et que le DataFrame puisse bien se former au fur et à mesure du scrapping."
   ]
  },
  {
   "cell_type": "code",
   "execution_count": 6,
   "metadata": {},
   "outputs": [],
   "source": [
    "def remanier_2(prix):\n",
    "    liste = []\n",
    "    for i in range(len(prix)):\n",
    "        liste.append(prix[i])\n",
    "        liste.append(prix[i])\n",
    "    return liste"
   ]
  },
  {
   "cell_type": "markdown",
   "metadata": {},
   "source": [
    "### Place au Scrapping"
   ]
  },
  {
   "cell_type": "code",
   "execution_count": 7,
   "metadata": {},
   "outputs": [],
   "source": [
    "depart = [\"PAR\"]\n",
    "Destinations = [\"MAD\", \"SVO\", \"ATH\", \"OSL\", \"LON\"]\n",
    "date_aller = [\"04/01/2022\"]\n",
    "date_retour = [\"04/08/2022\"]\n",
    "date_a = pd.to_datetime(date_aller)\n",
    "date_r = pd.to_datetime(date_retour)\n",
    "result = pd.DataFrame([])\n",
    "\n",
    "for k in range(1): \n",
    "    new_date_a = date_a + datetime.timedelta(days = 7*k)\n",
    "    new_date_r = date_r + datetime.timedelta(days = 7*k)\n",
    "    date_time_a = new_date_a.astype(str)\n",
    "    date_time_r = new_date_r.astype(str)\n",
    "    destination = [\"SVO\"]\n",
    "    date_aller = [date_time_a]        \n",
    "    date_retour = [date_time_r]\n",
    "    url = f\"https://www.kayak.fr/flights/{depart[0]}-{destination[0]}/{date_aller[0]}/{date_retour[0]}\"\n",
    "    driver.get(url)\n",
    "    sleep(15)\n",
    "    \n",
    "    try:\n",
    "        show_more_button = driver.find_element_by_xpath('//a[@class = \"moreButton\"]')\n",
    "    except:\n",
    "        input(\"Please solve the captcha then enter anything here to resume scraping.\")\n",
    "\n",
    "    while True:\n",
    "        try:\n",
    "            show_more_button.click()\n",
    "            driver.implicitly_wait(10)\n",
    "        except:\n",
    "            break\n",
    "\n",
    "\n",
    "    soup = BeautifulSoup(driver.page_source, 'html.parser')\n",
    "    compagnie = remanier(get_airlines(soup))\n",
    "    total_escales = get_total_stops(soup)\n",
    "    prix = remanier_2(get_price(soup))\n",
    "    duree = get_duration(soup)\n",
    "    df = pd.DataFrame({'Compagnie':compagnie, \"Total d'escales\":total_escales , 'Prix': prix, 'Duree': duree}, \n",
    "                        columns = ['Compagnie', \"Total d'escales\", 'Prix', 'Duree'])\n",
    "    df[\"Destination\"] = \"Moscou\"\n",
    "    df[\"Distance\"] = 2486.34\n",
    "    df[\"Date_aller\"] = 20220401\n",
    "    df[\"Date_retour\"] = 20220408\n",
    "    df[\"Date_aller\"] = pd.to_datetime(df[\"Date_aller\"], format = '%Y%m%d') + datetime.timedelta(days = 7*k)\n",
    "    df[\"Date_retour\"] = pd.to_datetime(df[\"Date_retour\"], format = '%Y%m%d') + datetime.timedelta(days = 7*k)\n",
    "    result = pd.concat([result, df], axis = 0)"
   ]
  },
  {
   "cell_type": "markdown",
   "metadata": {},
   "source": [
    "Pour une semaine et pour Paris-Moscou on obtient le DataFrame suivant"
   ]
  },
  {
   "cell_type": "code",
   "execution_count": 9,
   "metadata": {},
   "outputs": [
    {
     "data": {
      "text/html": [
       "<div>\n",
       "<style scoped>\n",
       "    .dataframe tbody tr th:only-of-type {\n",
       "        vertical-align: middle;\n",
       "    }\n",
       "\n",
       "    .dataframe tbody tr th {\n",
       "        vertical-align: top;\n",
       "    }\n",
       "\n",
       "    .dataframe thead th {\n",
       "        text-align: right;\n",
       "    }\n",
       "</style>\n",
       "<table border=\"1\" class=\"dataframe\">\n",
       "  <thead>\n",
       "    <tr style=\"text-align: right;\">\n",
       "      <th></th>\n",
       "      <th>Compagnie</th>\n",
       "      <th>Total d'escales</th>\n",
       "      <th>Prix</th>\n",
       "      <th>Duree</th>\n",
       "      <th>Destination</th>\n",
       "      <th>Distance</th>\n",
       "      <th>Date_aller</th>\n",
       "      <th>Date_retour</th>\n",
       "    </tr>\n",
       "  </thead>\n",
       "  <tbody>\n",
       "    <tr>\n",
       "      <th>0</th>\n",
       "      <td>Aeroflot</td>\n",
       "      <td>\\ndirect</td>\n",
       "      <td>\\n427 €</td>\n",
       "      <td>\\n3h 50min</td>\n",
       "      <td>Moscou</td>\n",
       "      <td>2486.34</td>\n",
       "      <td>2022-04-01</td>\n",
       "      <td>2022-04-08</td>\n",
       "    </tr>\n",
       "    <tr>\n",
       "      <th>1</th>\n",
       "      <td>Air France</td>\n",
       "      <td>\\ndirect</td>\n",
       "      <td>\\n427 €</td>\n",
       "      <td>\\n4h 05min</td>\n",
       "      <td>Moscou</td>\n",
       "      <td>2486.34</td>\n",
       "      <td>2022-04-01</td>\n",
       "      <td>2022-04-08</td>\n",
       "    </tr>\n",
       "    <tr>\n",
       "      <th>2</th>\n",
       "      <td>LOT</td>\n",
       "      <td>\\n1 escale</td>\n",
       "      <td>\\n228 €</td>\n",
       "      <td>\\n5h 40min</td>\n",
       "      <td>Moscou</td>\n",
       "      <td>2486.34</td>\n",
       "      <td>2022-04-01</td>\n",
       "      <td>2022-04-08</td>\n",
       "    </tr>\n",
       "    <tr>\n",
       "      <th>3</th>\n",
       "      <td>Finnair</td>\n",
       "      <td>\\n1 escale</td>\n",
       "      <td>\\n228 €</td>\n",
       "      <td>\\n5h 35min</td>\n",
       "      <td>Moscou</td>\n",
       "      <td>2486.34</td>\n",
       "      <td>2022-04-01</td>\n",
       "      <td>2022-04-08</td>\n",
       "    </tr>\n",
       "    <tr>\n",
       "      <th>4</th>\n",
       "      <td>Aeroflot</td>\n",
       "      <td>\\ndirect</td>\n",
       "      <td>\\n427 €</td>\n",
       "      <td>\\n4h 00min</td>\n",
       "      <td>Moscou</td>\n",
       "      <td>2486.34</td>\n",
       "      <td>2022-04-01</td>\n",
       "      <td>2022-04-08</td>\n",
       "    </tr>\n",
       "    <tr>\n",
       "      <th>...</th>\n",
       "      <td>...</td>\n",
       "      <td>...</td>\n",
       "      <td>...</td>\n",
       "      <td>...</td>\n",
       "      <td>...</td>\n",
       "      <td>...</td>\n",
       "      <td>...</td>\n",
       "      <td>...</td>\n",
       "    </tr>\n",
       "    <tr>\n",
       "      <th>435</th>\n",
       "      <td>Aeroflot</td>\n",
       "      <td>\\n1 escale</td>\n",
       "      <td>\\n3 171 €</td>\n",
       "      <td>\\n7h 15min</td>\n",
       "      <td>Moscou</td>\n",
       "      <td>2486.34</td>\n",
       "      <td>2022-04-01</td>\n",
       "      <td>2022-04-08</td>\n",
       "    </tr>\n",
       "    <tr>\n",
       "      <th>436</th>\n",
       "      <td>Brussels Airlines</td>\n",
       "      <td>\\n1 escale</td>\n",
       "      <td>\\n329 €</td>\n",
       "      <td>\\n5h 55min</td>\n",
       "      <td>Moscou</td>\n",
       "      <td>2486.34</td>\n",
       "      <td>2022-04-01</td>\n",
       "      <td>2022-04-08</td>\n",
       "    </tr>\n",
       "    <tr>\n",
       "      <th>437</th>\n",
       "      <td>LOT</td>\n",
       "      <td>\\n1 escale</td>\n",
       "      <td>\\n329 €</td>\n",
       "      <td>\\n14h 15min</td>\n",
       "      <td>Moscou</td>\n",
       "      <td>2486.34</td>\n",
       "      <td>2022-04-01</td>\n",
       "      <td>2022-04-08</td>\n",
       "    </tr>\n",
       "    <tr>\n",
       "      <th>438</th>\n",
       "      <td>Plusieurs compagnies</td>\n",
       "      <td>\\n1 escale</td>\n",
       "      <td>\\n1 584 €</td>\n",
       "      <td>\\n5h 55min</td>\n",
       "      <td>Moscou</td>\n",
       "      <td>2486.34</td>\n",
       "      <td>2022-04-01</td>\n",
       "      <td>2022-04-08</td>\n",
       "    </tr>\n",
       "    <tr>\n",
       "      <th>439</th>\n",
       "      <td>Plusieurs compagnies</td>\n",
       "      <td>\\n1 escale</td>\n",
       "      <td>\\n1 584 €</td>\n",
       "      <td>\\n7h 50min</td>\n",
       "      <td>Moscou</td>\n",
       "      <td>2486.34</td>\n",
       "      <td>2022-04-01</td>\n",
       "      <td>2022-04-08</td>\n",
       "    </tr>\n",
       "  </tbody>\n",
       "</table>\n",
       "<p>440 rows × 8 columns</p>\n",
       "</div>"
      ],
      "text/plain": [
       "                Compagnie Total d'escales        Prix         Duree  \\\n",
       "0                Aeroflot       \\ndirect     \\n427 €    \\n3h 50min    \n",
       "1              Air France       \\ndirect     \\n427 €    \\n4h 05min    \n",
       "2                     LOT     \\n1 escale     \\n228 €    \\n5h 40min    \n",
       "3                 Finnair     \\n1 escale     \\n228 €    \\n5h 35min    \n",
       "4                Aeroflot       \\ndirect     \\n427 €    \\n4h 00min    \n",
       "..                    ...             ...         ...           ...   \n",
       "435              Aeroflot     \\n1 escale   \\n3 171 €    \\n7h 15min    \n",
       "436     Brussels Airlines     \\n1 escale     \\n329 €    \\n5h 55min    \n",
       "437                   LOT     \\n1 escale     \\n329 €   \\n14h 15min    \n",
       "438  Plusieurs compagnies     \\n1 escale   \\n1 584 €    \\n5h 55min    \n",
       "439  Plusieurs compagnies     \\n1 escale   \\n1 584 €    \\n7h 50min    \n",
       "\n",
       "    Destination  Distance Date_aller Date_retour  \n",
       "0        Moscou   2486.34 2022-04-01  2022-04-08  \n",
       "1        Moscou   2486.34 2022-04-01  2022-04-08  \n",
       "2        Moscou   2486.34 2022-04-01  2022-04-08  \n",
       "3        Moscou   2486.34 2022-04-01  2022-04-08  \n",
       "4        Moscou   2486.34 2022-04-01  2022-04-08  \n",
       "..          ...       ...        ...         ...  \n",
       "435      Moscou   2486.34 2022-04-01  2022-04-08  \n",
       "436      Moscou   2486.34 2022-04-01  2022-04-08  \n",
       "437      Moscou   2486.34 2022-04-01  2022-04-08  \n",
       "438      Moscou   2486.34 2022-04-01  2022-04-08  \n",
       "439      Moscou   2486.34 2022-04-01  2022-04-08  \n",
       "\n",
       "[440 rows x 8 columns]"
      ]
     },
     "execution_count": 9,
     "metadata": {},
     "output_type": "execute_result"
    }
   ],
   "source": [
    "#result.to_excel('moscou.xlsx', index = False) \n",
    "result"
   ]
  },
  {
   "cell_type": "markdown",
   "metadata": {},
   "source": [
    "### Combinaison de tous les fichiers excel récupérés"
   ]
  },
  {
   "cell_type": "code",
   "execution_count": null,
   "metadata": {},
   "outputs": [],
   "source": [
    "fichiers = [\"C:/Users/bombi/OneDrive/Documents/Fichiers_Scrappes/oslo.xlsx\", \"C:/Users/bombi/OneDrive/Documents/Fichiers_Scrappes/oslo_2.xlsx\",\n",
    "            \"C:/Users/bombi/OneDrive/Documents/Fichiers_Scrappes/moscou.xlsx\",\"C:/Users/bombi/OneDrive/Documents/Fichiers_Scrappes/madrid.xlsx\",\n",
    "            \"C:/Users/bombi/OneDrive/Documents/Fichiers_Scrappes/madrid_2.xlsx\", \"C:/Users/bombi/OneDrive/Documents/Fichiers_Scrappes/londres_1.xlsx\",\n",
    "            \"C:/Users/bombi/OneDrive/Documents/Fichiers_Scrappes/londres_2.xlsx\", \"C:/Users/bombi/OneDrive/Documents/Fichiers_Scrappes/athenes.xlsx\"]\n",
    "data_combined= pd.DataFrame()\n",
    "\n",
    "for fichier in fichiers:\n",
    "    df=pd.read_excel(fichier)\n",
    "    data_combined= data_combined.append(df, ignore_index= True)"
   ]
  },
  {
   "cell_type": "code",
   "execution_count": 1,
   "metadata": {},
   "outputs": [],
   "source": [
    "#data_combined"
   ]
  },
  {
   "cell_type": "code",
   "execution_count": 2,
   "metadata": {},
   "outputs": [],
   "source": [
    "#data_combined.to_excel('data_combined.xlsx')"
   ]
  }
 ],
 "metadata": {
  "kernelspec": {
   "display_name": "Python 3",
   "language": "python",
   "name": "python3"
  },
  "language_info": {
   "codemirror_mode": {
    "name": "ipython",
    "version": 3
   },
   "file_extension": ".py",
   "mimetype": "text/x-python",
   "name": "python",
   "nbconvert_exporter": "python",
   "pygments_lexer": "ipython3",
   "version": "3.8.8"
  }
 },
 "nbformat": 4,
 "nbformat_minor": 4
}
