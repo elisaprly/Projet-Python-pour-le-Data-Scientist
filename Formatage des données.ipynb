{
 "cells": [
  {
   "cell_type": "code",
   "execution_count": 1,
   "id": "4fc1cf37",
   "metadata": {},
   "outputs": [],
   "source": [
    "import pandas as pd\n",
    "import numpy as np"
   ]
  },
  {
   "cell_type": "code",
   "execution_count": 29,
   "id": "a7f718f5",
   "metadata": {},
   "outputs": [],
   "source": [
    "df = pd.read_excel('data-combined.xlsx')"
   ]
  },
  {
   "cell_type": "code",
   "execution_count": 30,
   "id": "15b42409",
   "metadata": {},
   "outputs": [
    {
     "data": {
      "text/html": [
       "<div>\n",
       "<style scoped>\n",
       "    .dataframe tbody tr th:only-of-type {\n",
       "        vertical-align: middle;\n",
       "    }\n",
       "\n",
       "    .dataframe tbody tr th {\n",
       "        vertical-align: top;\n",
       "    }\n",
       "\n",
       "    .dataframe thead th {\n",
       "        text-align: right;\n",
       "    }\n",
       "</style>\n",
       "<table border=\"1\" class=\"dataframe\">\n",
       "  <thead>\n",
       "    <tr style=\"text-align: right;\">\n",
       "      <th></th>\n",
       "      <th>Compagnie</th>\n",
       "      <th>Total d'escales</th>\n",
       "      <th>Prix</th>\n",
       "      <th>Duree</th>\n",
       "      <th>Destination</th>\n",
       "      <th>Distance</th>\n",
       "      <th>Date_aller</th>\n",
       "      <th>Date_retour</th>\n",
       "    </tr>\n",
       "  </thead>\n",
       "  <tbody>\n",
       "    <tr>\n",
       "      <th>0</th>\n",
       "      <td>Air France</td>\n",
       "      <td>\\ndirect</td>\n",
       "      <td>\\n204 €</td>\n",
       "      <td>\\n2h 20min</td>\n",
       "      <td>Oslo</td>\n",
       "      <td>1344.0</td>\n",
       "      <td>2022-04-01</td>\n",
       "      <td>2022-04-08</td>\n",
       "    </tr>\n",
       "    <tr>\n",
       "      <th>1</th>\n",
       "      <td>Air France</td>\n",
       "      <td>\\ndirect</td>\n",
       "      <td>\\n204 €</td>\n",
       "      <td>\\n2h 30min</td>\n",
       "      <td>Oslo</td>\n",
       "      <td>1344.0</td>\n",
       "      <td>2022-04-01</td>\n",
       "      <td>2022-04-08</td>\n",
       "    </tr>\n",
       "    <tr>\n",
       "      <th>2</th>\n",
       "      <td>Flyr AS</td>\n",
       "      <td>\\ndirect</td>\n",
       "      <td>\\n195 €</td>\n",
       "      <td>\\n2h 25min</td>\n",
       "      <td>Oslo</td>\n",
       "      <td>1344.0</td>\n",
       "      <td>2022-04-01</td>\n",
       "      <td>2022-04-08</td>\n",
       "    </tr>\n",
       "    <tr>\n",
       "      <th>3</th>\n",
       "      <td>Flyr AS</td>\n",
       "      <td>\\ndirect</td>\n",
       "      <td>\\n195 €</td>\n",
       "      <td>\\n2h 25min</td>\n",
       "      <td>Oslo</td>\n",
       "      <td>1344.0</td>\n",
       "      <td>2022-04-01</td>\n",
       "      <td>2022-04-08</td>\n",
       "    </tr>\n",
       "    <tr>\n",
       "      <th>4</th>\n",
       "      <td>Norwegian</td>\n",
       "      <td>\\ndirect</td>\n",
       "      <td>\\n186 €</td>\n",
       "      <td>\\n2h 20min</td>\n",
       "      <td>Oslo</td>\n",
       "      <td>1344.0</td>\n",
       "      <td>2022-04-01</td>\n",
       "      <td>2022-04-08</td>\n",
       "    </tr>\n",
       "  </tbody>\n",
       "</table>\n",
       "</div>"
      ],
      "text/plain": [
       "    Compagnie Total d'escales      Prix        Duree Destination  Distance  \\\n",
       "0  Air France       \\ndirect   \\n204 €   \\n2h 20min         Oslo    1344.0   \n",
       "1  Air France       \\ndirect   \\n204 €   \\n2h 30min         Oslo    1344.0   \n",
       "2     Flyr AS       \\ndirect   \\n195 €   \\n2h 25min         Oslo    1344.0   \n",
       "3     Flyr AS       \\ndirect   \\n195 €   \\n2h 25min         Oslo    1344.0   \n",
       "4   Norwegian       \\ndirect   \\n186 €   \\n2h 20min         Oslo    1344.0   \n",
       "\n",
       "  Date_aller Date_retour  \n",
       "0 2022-04-01  2022-04-08  \n",
       "1 2022-04-01  2022-04-08  \n",
       "2 2022-04-01  2022-04-08  \n",
       "3 2022-04-01  2022-04-08  \n",
       "4 2022-04-01  2022-04-08  "
      ]
     },
     "execution_count": 30,
     "metadata": {},
     "output_type": "execute_result"
    }
   ],
   "source": [
    "df.head()"
   ]
  },
  {
   "cell_type": "markdown",
   "id": "7ad4d760",
   "metadata": {},
   "source": [
    "On va retire les \\n de tout le dataframe"
   ]
  },
  {
   "cell_type": "code",
   "execution_count": 31,
   "id": "b1650e40",
   "metadata": {},
   "outputs": [],
   "source": [
    "df = df.replace('\\n','', regex=True)"
   ]
  },
  {
   "cell_type": "code",
   "execution_count": 32,
   "id": "f0c3deba",
   "metadata": {},
   "outputs": [
    {
     "data": {
      "text/html": [
       "<div>\n",
       "<style scoped>\n",
       "    .dataframe tbody tr th:only-of-type {\n",
       "        vertical-align: middle;\n",
       "    }\n",
       "\n",
       "    .dataframe tbody tr th {\n",
       "        vertical-align: top;\n",
       "    }\n",
       "\n",
       "    .dataframe thead th {\n",
       "        text-align: right;\n",
       "    }\n",
       "</style>\n",
       "<table border=\"1\" class=\"dataframe\">\n",
       "  <thead>\n",
       "    <tr style=\"text-align: right;\">\n",
       "      <th></th>\n",
       "      <th>Compagnie</th>\n",
       "      <th>Total d'escales</th>\n",
       "      <th>Prix</th>\n",
       "      <th>Duree</th>\n",
       "      <th>Destination</th>\n",
       "      <th>Distance</th>\n",
       "      <th>Date_aller</th>\n",
       "      <th>Date_retour</th>\n",
       "    </tr>\n",
       "  </thead>\n",
       "  <tbody>\n",
       "    <tr>\n",
       "      <th>0</th>\n",
       "      <td>Air France</td>\n",
       "      <td>direct</td>\n",
       "      <td>204 €</td>\n",
       "      <td>2h 20min</td>\n",
       "      <td>Oslo</td>\n",
       "      <td>1344.0</td>\n",
       "      <td>2022-04-01</td>\n",
       "      <td>2022-04-08</td>\n",
       "    </tr>\n",
       "    <tr>\n",
       "      <th>1</th>\n",
       "      <td>Air France</td>\n",
       "      <td>direct</td>\n",
       "      <td>204 €</td>\n",
       "      <td>2h 30min</td>\n",
       "      <td>Oslo</td>\n",
       "      <td>1344.0</td>\n",
       "      <td>2022-04-01</td>\n",
       "      <td>2022-04-08</td>\n",
       "    </tr>\n",
       "    <tr>\n",
       "      <th>2</th>\n",
       "      <td>Flyr AS</td>\n",
       "      <td>direct</td>\n",
       "      <td>195 €</td>\n",
       "      <td>2h 25min</td>\n",
       "      <td>Oslo</td>\n",
       "      <td>1344.0</td>\n",
       "      <td>2022-04-01</td>\n",
       "      <td>2022-04-08</td>\n",
       "    </tr>\n",
       "    <tr>\n",
       "      <th>3</th>\n",
       "      <td>Flyr AS</td>\n",
       "      <td>direct</td>\n",
       "      <td>195 €</td>\n",
       "      <td>2h 25min</td>\n",
       "      <td>Oslo</td>\n",
       "      <td>1344.0</td>\n",
       "      <td>2022-04-01</td>\n",
       "      <td>2022-04-08</td>\n",
       "    </tr>\n",
       "    <tr>\n",
       "      <th>4</th>\n",
       "      <td>Norwegian</td>\n",
       "      <td>direct</td>\n",
       "      <td>186 €</td>\n",
       "      <td>2h 20min</td>\n",
       "      <td>Oslo</td>\n",
       "      <td>1344.0</td>\n",
       "      <td>2022-04-01</td>\n",
       "      <td>2022-04-08</td>\n",
       "    </tr>\n",
       "  </tbody>\n",
       "</table>\n",
       "</div>"
      ],
      "text/plain": [
       "    Compagnie Total d'escales    Prix      Duree Destination  Distance  \\\n",
       "0  Air France         direct   204 €   2h 20min         Oslo    1344.0   \n",
       "1  Air France         direct   204 €   2h 30min         Oslo    1344.0   \n",
       "2     Flyr AS         direct   195 €   2h 25min         Oslo    1344.0   \n",
       "3     Flyr AS         direct   195 €   2h 25min         Oslo    1344.0   \n",
       "4   Norwegian         direct   186 €   2h 20min         Oslo    1344.0   \n",
       "\n",
       "  Date_aller Date_retour  \n",
       "0 2022-04-01  2022-04-08  \n",
       "1 2022-04-01  2022-04-08  \n",
       "2 2022-04-01  2022-04-08  \n",
       "3 2022-04-01  2022-04-08  \n",
       "4 2022-04-01  2022-04-08  "
      ]
     },
     "execution_count": 32,
     "metadata": {},
     "output_type": "execute_result"
    }
   ],
   "source": [
    "df.head()"
   ]
  },
  {
   "cell_type": "markdown",
   "id": "bc89fd74",
   "metadata": {},
   "source": [
    "On enlève les lignes ayant scrappé des voyages en train"
   ]
  },
  {
   "cell_type": "code",
   "execution_count": 33,
   "id": "9c5c693d",
   "metadata": {},
   "outputs": [],
   "source": [
    "df = df[df['Compagnie'] != 'SNCF']\n",
    "df = df[df['Compagnie'] != 'Eurostar']\n",
    "df = df[df['Compagnie'] != 'Renfe']"
   ]
  },
  {
   "cell_type": "markdown",
   "id": "8e5dd94c",
   "metadata": {},
   "source": [
    "Ensuite on remarque que le nom pour certaines compagnies aériennes sont précédées d'un espace. Donc pandas distingue \" Air France\" et \"Air France\" :"
   ]
  },
  {
   "cell_type": "code",
   "execution_count": 34,
   "id": "dd85af7a",
   "metadata": {},
   "outputs": [
    {
     "data": {
      "text/plain": [
       "array(['Air France', 'Flyr AS', 'Norwegian', ' Flyr AS', ' SAS', 'SAS',\n",
       "       ' Air France', ' Norwegian', ' airBaltic', ' Eurowings',\n",
       "       'Plusieurs compagnies', ' Ryanair', ' KLM', 'KLM',\n",
       "       'Austrian Airlines', ' Lufthansa', 'Lufthansa', ' LOT', ' Finnair',\n",
       "       ' SWISS', ' Austrian Airlines', 'SWISS', 'airBaltic',\n",
       "       ' Air Serbia', ' Transavia France', 'Brussels Airlines', 'Finnair',\n",
       "       ' Transavia', 'Vueling', 'British Airways', 'LOT', 'Ryanair',\n",
       "       'easyJet', ' Vueling', 'Transavia France', ' easyJet', 'Eurowings',\n",
       "       'Iberia', ' Brussels Airlines', ' British Airways', 'Aeroflot',\n",
       "       ' Aeroflot', 'Air Serbia', 'Bulgaria Air', 'ITA Airways',\n",
       "       ' Nordwind Airlines', ' Bulgaria Air', ' Czech Airlines',\n",
       "       ' Smartwings', ' TAP AIR PORTUGAL', 'Air Europa', ' Air Europa',\n",
       "       ' Iberia', 'Iberia Express', ' Iberia Express', 'TAP AIR PORTUGAL',\n",
       "       'Aer Lingus', ' Air Mauritius', ' Air Malta',\n",
       "       'Aerolineas Argentinas', ' Royal Air Maroc', 'Royal Air Maroc',\n",
       "       'Luxair', ' ITA Airways', 'Aegean Airlines', 'Sky Express',\n",
       "       ' Aegean Airlines', ' Sky Express', 'Turkish Airlines',\n",
       "       ' Turkish Airlines', ' Volotea', 'Pegasus Airlines',\n",
       "       ' Pegasus Airlines', ' AnadoluJet'], dtype=object)"
      ]
     },
     "execution_count": 34,
     "metadata": {},
     "output_type": "execute_result"
    }
   ],
   "source": [
    "df['Compagnie'].unique()"
   ]
  },
  {
   "cell_type": "code",
   "execution_count": 36,
   "id": "9075f61e",
   "metadata": {},
   "outputs": [],
   "source": [
    "df['Compagnie'] = df['Compagnie'].map({'Air France':'Air France', 'Flyr AS':'Flyr AS', 'Norwegian':'Norwegian', \n",
    "                                       ' Flyr AS':'Flyr AS' , ' SAS':'SAS', 'SAS':'SAS',' Air France':'Air France', \n",
    "                                       ' Norwegian':'Norwegian', ' airBaltic':'airBaltic', ' Eurowings':'Eurowings',\n",
    "                                       'Plusieurs compagnies':'Plusieurs compagnies', ' Ryanair':'Ryanair', ' KLM':'KLM', \n",
    "                                       'KLM':'KLM','Austrian Airlines':'Austrian Airlines','Austrian Airlines':'Austrian Airlines',\n",
    "                                       ' Lufthansa':'Lufthansa', 'Lufthansa':'Lufthansa', ' LOT':'LOT', ' Finnair':'Finnair',\n",
    "                                       ' SWISS':'SWISS', ' Austrian Airlines': 'Austrian Airlines', 'SWISS':'SWISS', 'airBaltic':'airBaltic',\n",
    "                                       ' Air Serbia':'Air Serbia', ' Transavia France':'Transavia', 'Brussels Airlines':'Brussels Airlines', \n",
    "                                       'Finnair':'Finnair',' Transavia':'Transavia', 'Vueling':'Vueling', 'British Airways':'British Airways',\n",
    "                                       'LOT':'LOT', 'Ryanair':'Ryanair','easyJet':'easyJet', ' Vueling':'Vueling', 'Transavia France':'Transavia',\n",
    "                                       ' easyJet':'easyJet', 'Eurowings':'Eurowings','Iberia':'Iberia', ' Brussels Airlines':'Brussels Airlines',\n",
    "                                       ' British Airways':'British Airways', 'Aeroflot':'Aeroflot',' Aeroflot':'Aeroflot',\n",
    "                                       'Air Serbia':'Air Serbia', 'Bulgaria Air':'Bulgaria Air', 'ITA Airways':'ITA Airways',\n",
    "                                       ' Nordwind Airlines':' Nordwind Airlines', ' Bulgaria Air': 'Bulgaria Air', ' Czech Airlines':'Czech Airlines',\n",
    "                                       ' Smartwings':'Smartwings', ' TAP AIR PORTUGAL':'TAP AIR PORTUGAL', 'Air Europa':'Air Europa', ' Air Europa':'Air Europa',\n",
    "                                       ' Iberia':'Iberia', 'Iberia Express': ' Iberia Express', 'TAP AIR PORTUGAL':'TAP AIR PORTUGAL',\n",
    "                                       'Aer Lingus':'Aer Lingus', ' Air Mauritius':'Air Mauritius', ' Air Malta':'Air Malta',\n",
    "                                       'Aerolineas Argentinas':'Aerolineas Argentinas', ' Royal Air Maroc':'Royal Air Maroc', 'Royal Air Maroc':'Royal Air Maroc',\n",
    "                                       'Luxair':'Luxair', ' ITA Airways':'ITA Airways', 'Aegean Airlines':'Aegean Airlines', 'Sky Express':'Sky Express',\n",
    "                                       ' Aegean Airlines':' Aegean Airlines', ' Sky Express':'Sky Express', 'Turkish Airlines':'Turkish Airlines',\n",
    "                                       ' Turkish Airlines':'Turkish Airlines', ' Volotea':'Volotea', 'Pegasus Airlines':'Pegasus Airlines',\n",
    "                                       ' Pegasus Airlines':'Pegasus Airlines', ' AnadoluJet':'AnadoluJet'}, na_action=None)"
   ]
  },
  {
   "cell_type": "code",
   "execution_count": 38,
   "id": "fb37b421",
   "metadata": {},
   "outputs": [
    {
     "data": {
      "text/plain": [
       "array(['Air France', 'Flyr AS', 'Norwegian', 'SAS', 'airBaltic',\n",
       "       'Eurowings', 'Plusieurs compagnies', 'Ryanair', 'KLM',\n",
       "       'Austrian Airlines', 'Lufthansa', 'LOT', 'Finnair', 'SWISS',\n",
       "       'Air Serbia', 'Transavia', 'Brussels Airlines', 'Vueling',\n",
       "       'British Airways', 'easyJet', 'Iberia', 'Aeroflot', 'Bulgaria Air',\n",
       "       'ITA Airways', ' Nordwind Airlines', 'Czech Airlines',\n",
       "       'Smartwings', 'TAP AIR PORTUGAL', 'Air Europa', ' Iberia Express',\n",
       "       nan, 'Aer Lingus', 'Air Mauritius', 'Air Malta',\n",
       "       'Aerolineas Argentinas', 'Royal Air Maroc', 'Luxair',\n",
       "       'Aegean Airlines', 'Sky Express', ' Aegean Airlines',\n",
       "       'Turkish Airlines', 'Volotea', 'Pegasus Airlines', 'AnadoluJet'],\n",
       "      dtype=object)"
      ]
     },
     "execution_count": 38,
     "metadata": {},
     "output_type": "execute_result"
    }
   ],
   "source": [
    "df['Compagnie'].unique()"
   ]
  },
  {
   "cell_type": "code",
   "execution_count": 39,
   "id": "a2fedd49",
   "metadata": {},
   "outputs": [],
   "source": [
    "price = list(df['Prix'])\n",
    "duration = list(df ['Duree'])"
   ]
  },
  {
   "cell_type": "code",
   "execution_count": 40,
   "id": "e96b7c2e",
   "metadata": {},
   "outputs": [],
   "source": [
    "def formatage_prix(liste):\n",
    "    l=[]\n",
    "    for i in range (len(liste)):\n",
    "        c=''\n",
    "        if len(liste[i]) == 6 :\n",
    "            c = float(liste[i][0]+liste[i][1]+price[i][2])\n",
    "        elif len(liste[i]) == 5 : \n",
    "            c = float(liste[i][0]+liste[i][1])\n",
    "        elif len(liste[i]) == 8:\n",
    "            c = float(liste[i][0]+liste[i][2]+liste[i][3]+ liste[i][4])\n",
    "        else:\n",
    "            c = 'NaN'\n",
    "        l.append(c)\n",
    "    return l"
   ]
  },
  {
   "cell_type": "code",
   "execution_count": 41,
   "id": "5e915720",
   "metadata": {},
   "outputs": [],
   "source": [
    "prix = formatage_prix(price)"
   ]
  },
  {
   "cell_type": "code",
   "execution_count": 42,
   "id": "1a205a02",
   "metadata": {},
   "outputs": [],
   "source": [
    "def formatage_duree(liste):\n",
    "    l=[]\n",
    "    for i in range (len(liste)):\n",
    "        l.append(float(duration[i].split('h')[0])+float(duration[i].split('h')[1][1:3])/60)\n",
    "    return l   "
   ]
  },
  {
   "cell_type": "code",
   "execution_count": 43,
   "id": "557c799c",
   "metadata": {},
   "outputs": [],
   "source": [
    "duree = formatage_duree(duration)"
   ]
  },
  {
   "cell_type": "code",
   "execution_count": 44,
   "id": "486cebf8",
   "metadata": {},
   "outputs": [],
   "source": [
    "del df['Prix']"
   ]
  },
  {
   "cell_type": "code",
   "execution_count": 45,
   "id": "1bfafe69",
   "metadata": {},
   "outputs": [],
   "source": [
    "del df['Duree']"
   ]
  },
  {
   "cell_type": "code",
   "execution_count": 46,
   "id": "3beded9d",
   "metadata": {},
   "outputs": [],
   "source": [
    "df['Prix'] = prix"
   ]
  },
  {
   "cell_type": "code",
   "execution_count": 47,
   "id": "9c51d780",
   "metadata": {},
   "outputs": [],
   "source": [
    "df['Duree de vol'] = duree"
   ]
  },
  {
   "cell_type": "code",
   "execution_count": 48,
   "id": "ca972383",
   "metadata": {},
   "outputs": [
    {
     "data": {
      "text/html": [
       "<div>\n",
       "<style scoped>\n",
       "    .dataframe tbody tr th:only-of-type {\n",
       "        vertical-align: middle;\n",
       "    }\n",
       "\n",
       "    .dataframe tbody tr th {\n",
       "        vertical-align: top;\n",
       "    }\n",
       "\n",
       "    .dataframe thead th {\n",
       "        text-align: right;\n",
       "    }\n",
       "</style>\n",
       "<table border=\"1\" class=\"dataframe\">\n",
       "  <thead>\n",
       "    <tr style=\"text-align: right;\">\n",
       "      <th></th>\n",
       "      <th>Compagnie</th>\n",
       "      <th>Total d'escales</th>\n",
       "      <th>Destination</th>\n",
       "      <th>Distance</th>\n",
       "      <th>Date_aller</th>\n",
       "      <th>Date_retour</th>\n",
       "      <th>Prix</th>\n",
       "      <th>Duree de vol</th>\n",
       "    </tr>\n",
       "  </thead>\n",
       "  <tbody>\n",
       "    <tr>\n",
       "      <th>0</th>\n",
       "      <td>Air France</td>\n",
       "      <td>direct</td>\n",
       "      <td>Oslo</td>\n",
       "      <td>1344.00</td>\n",
       "      <td>2022-04-01</td>\n",
       "      <td>2022-04-08</td>\n",
       "      <td>204.0</td>\n",
       "      <td>2.333333</td>\n",
       "    </tr>\n",
       "    <tr>\n",
       "      <th>1</th>\n",
       "      <td>Air France</td>\n",
       "      <td>direct</td>\n",
       "      <td>Oslo</td>\n",
       "      <td>1344.00</td>\n",
       "      <td>2022-04-01</td>\n",
       "      <td>2022-04-08</td>\n",
       "      <td>204.0</td>\n",
       "      <td>2.500000</td>\n",
       "    </tr>\n",
       "    <tr>\n",
       "      <th>2</th>\n",
       "      <td>Flyr AS</td>\n",
       "      <td>direct</td>\n",
       "      <td>Oslo</td>\n",
       "      <td>1344.00</td>\n",
       "      <td>2022-04-01</td>\n",
       "      <td>2022-04-08</td>\n",
       "      <td>195.0</td>\n",
       "      <td>2.416667</td>\n",
       "    </tr>\n",
       "    <tr>\n",
       "      <th>3</th>\n",
       "      <td>Flyr AS</td>\n",
       "      <td>direct</td>\n",
       "      <td>Oslo</td>\n",
       "      <td>1344.00</td>\n",
       "      <td>2022-04-01</td>\n",
       "      <td>2022-04-08</td>\n",
       "      <td>195.0</td>\n",
       "      <td>2.416667</td>\n",
       "    </tr>\n",
       "    <tr>\n",
       "      <th>4</th>\n",
       "      <td>Norwegian</td>\n",
       "      <td>direct</td>\n",
       "      <td>Oslo</td>\n",
       "      <td>1344.00</td>\n",
       "      <td>2022-04-01</td>\n",
       "      <td>2022-04-08</td>\n",
       "      <td>186.0</td>\n",
       "      <td>2.333333</td>\n",
       "    </tr>\n",
       "    <tr>\n",
       "      <th>...</th>\n",
       "      <td>...</td>\n",
       "      <td>...</td>\n",
       "      <td>...</td>\n",
       "      <td>...</td>\n",
       "      <td>...</td>\n",
       "      <td>...</td>\n",
       "      <td>...</td>\n",
       "      <td>...</td>\n",
       "    </tr>\n",
       "    <tr>\n",
       "      <th>61343</th>\n",
       "      <td>Turkish Airlines</td>\n",
       "      <td>1 escale</td>\n",
       "      <td>Athenes</td>\n",
       "      <td>2095.52</td>\n",
       "      <td>2022-06-10</td>\n",
       "      <td>2022-06-17</td>\n",
       "      <td>294.0</td>\n",
       "      <td>7.333333</td>\n",
       "    </tr>\n",
       "    <tr>\n",
       "      <th>61344</th>\n",
       "      <td>Sky Express</td>\n",
       "      <td>direct</td>\n",
       "      <td>Athenes</td>\n",
       "      <td>2095.52</td>\n",
       "      <td>2022-06-10</td>\n",
       "      <td>2022-06-17</td>\n",
       "      <td>1874.0</td>\n",
       "      <td>3.000000</td>\n",
       "    </tr>\n",
       "    <tr>\n",
       "      <th>61345</th>\n",
       "      <td>SWISS</td>\n",
       "      <td>1 escale</td>\n",
       "      <td>Athenes</td>\n",
       "      <td>2095.52</td>\n",
       "      <td>2022-06-10</td>\n",
       "      <td>2022-06-17</td>\n",
       "      <td>1874.0</td>\n",
       "      <td>5.500000</td>\n",
       "    </tr>\n",
       "    <tr>\n",
       "      <th>61346</th>\n",
       "      <td>Sky Express</td>\n",
       "      <td>direct</td>\n",
       "      <td>Athenes</td>\n",
       "      <td>2095.52</td>\n",
       "      <td>2022-06-10</td>\n",
       "      <td>2022-06-17</td>\n",
       "      <td>1879.0</td>\n",
       "      <td>3.000000</td>\n",
       "    </tr>\n",
       "    <tr>\n",
       "      <th>61347</th>\n",
       "      <td>Lufthansa</td>\n",
       "      <td>1 escale</td>\n",
       "      <td>Athenes</td>\n",
       "      <td>2095.52</td>\n",
       "      <td>2022-06-10</td>\n",
       "      <td>2022-06-17</td>\n",
       "      <td>1879.0</td>\n",
       "      <td>4.916667</td>\n",
       "    </tr>\n",
       "  </tbody>\n",
       "</table>\n",
       "<p>61334 rows × 8 columns</p>\n",
       "</div>"
      ],
      "text/plain": [
       "              Compagnie Total d'escales Destination  Distance Date_aller  \\\n",
       "0            Air France         direct         Oslo   1344.00 2022-04-01   \n",
       "1            Air France         direct         Oslo   1344.00 2022-04-01   \n",
       "2               Flyr AS         direct         Oslo   1344.00 2022-04-01   \n",
       "3               Flyr AS         direct         Oslo   1344.00 2022-04-01   \n",
       "4             Norwegian         direct         Oslo   1344.00 2022-04-01   \n",
       "...                 ...             ...         ...       ...        ...   \n",
       "61343  Turkish Airlines       1 escale      Athenes   2095.52 2022-06-10   \n",
       "61344       Sky Express         direct      Athenes   2095.52 2022-06-10   \n",
       "61345             SWISS       1 escale      Athenes   2095.52 2022-06-10   \n",
       "61346       Sky Express         direct      Athenes   2095.52 2022-06-10   \n",
       "61347         Lufthansa       1 escale      Athenes   2095.52 2022-06-10   \n",
       "\n",
       "      Date_retour    Prix  Duree de vol  \n",
       "0      2022-04-08   204.0      2.333333  \n",
       "1      2022-04-08   204.0      2.500000  \n",
       "2      2022-04-08   195.0      2.416667  \n",
       "3      2022-04-08   195.0      2.416667  \n",
       "4      2022-04-08   186.0      2.333333  \n",
       "...           ...     ...           ...  \n",
       "61343  2022-06-17   294.0      7.333333  \n",
       "61344  2022-06-17  1874.0      3.000000  \n",
       "61345  2022-06-17  1874.0      5.500000  \n",
       "61346  2022-06-17  1879.0      3.000000  \n",
       "61347  2022-06-17  1879.0      4.916667  \n",
       "\n",
       "[61334 rows x 8 columns]"
      ]
     },
     "execution_count": 48,
     "metadata": {},
     "output_type": "execute_result"
    }
   ],
   "source": [
    "df"
   ]
  },
  {
   "cell_type": "code",
   "execution_count": 49,
   "id": "228c4d0e",
   "metadata": {},
   "outputs": [],
   "source": [
    "def formatage_escale(df1):\n",
    "    a = pd.DataFrame([df1[\"Total d'escales\"] != \"direct \", df1[\"Total d'escales\"] != \"O changement \"])\n",
    "    df2 = df1.copy()\n",
    "    df1[\"Total d'escales\"] = a.all().astype(np.int64) + (df2[\"Total d'escales\"] == \"2 escales \").astype(np.int64) + (df1[\"Total d'escales\"] == \"3 escales \").astype(np.int64)\n",
    "    return(df1)\n",
    "\n",
    "df1 = formatage_escale(df)"
   ]
  },
  {
   "cell_type": "code",
   "execution_count": 52,
   "id": "f0667996",
   "metadata": {},
   "outputs": [],
   "source": [
    "df1.to_excel('base_a_traiter.xlsx')"
   ]
  }
 ],
 "metadata": {
  "kernelspec": {
   "display_name": "Python 3",
   "language": "python",
   "name": "python3"
  },
  "language_info": {
   "codemirror_mode": {
    "name": "ipython",
    "version": 3
   },
   "file_extension": ".py",
   "mimetype": "text/x-python",
   "name": "python",
   "nbconvert_exporter": "python",
   "pygments_lexer": "ipython3",
   "version": "3.8.8"
  }
 },
 "nbformat": 4,
 "nbformat_minor": 5
}
